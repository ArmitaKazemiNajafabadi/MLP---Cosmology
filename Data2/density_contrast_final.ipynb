{
  "nbformat": 4,
  "nbformat_minor": 0,
  "metadata": {
    "colab": {
      "name": "Copy of density_contrast.ipynb",
      "provenance": [],
      "collapsed_sections": [],
      "toc_visible": true,
      "mount_file_id": "1qcV7u5qFAKQjt58YPk3VRm8eTrZfwJle",
      "authorship_tag": "ABX9TyNC2tCeKeobagF3GXO/6ibS",
      "include_colab_link": true
    },
    "kernelspec": {
      "name": "python3",
      "display_name": "Python 3"
    },
    "language_info": {
      "name": "python"
    }
  },
  "cells": [
    {
      "cell_type": "markdown",
      "metadata": {
        "id": "view-in-github",
        "colab_type": "text"
      },
      "source": [
        "<a href=\"https://colab.research.google.com/github/as2c/MLP---Cosmology/blob/main/Data2/density_contrast_final.ipynb\" target=\"_parent\"><img src=\"https://colab.research.google.com/assets/colab-badge.svg\" alt=\"Open In Colab\"/></a>"
      ]
    },
    {
      "cell_type": "code",
      "metadata": {
        "colab": {
          "base_uri": "https://localhost:8080/"
        },
        "id": "7cA0UEjOPWi-",
        "outputId": "5cf8c293-a30c-4e11-beeb-ed2512a7168d"
      },
      "source": [
        "import pandas as pd\n",
        "import numpy as np\n",
        "!git clone https://github.com/jveitchmichaelis/pygadgetreader"
      ],
      "execution_count": 1,
      "outputs": [
        {
          "output_type": "stream",
          "name": "stdout",
          "text": [
            "fatal: destination path 'pygadgetreader' already exists and is not an empty directory.\n"
          ]
        }
      ]
    },
    {
      "cell_type": "code",
      "metadata": {
        "colab": {
          "base_uri": "https://localhost:8080/"
        },
        "id": "CyAvRzOqMDbH",
        "outputId": "6d40f432-d9bb-4c08-e855-968ac6e449dd"
      },
      "source": [
        "from google.colab import drive\n",
        "drive.mount('/content/drive')"
      ],
      "execution_count": 2,
      "outputs": [
        {
          "output_type": "stream",
          "name": "stdout",
          "text": [
            "Drive already mounted at /content/drive; to attempt to forcibly remount, call drive.mount(\"/content/drive\", force_remount=True).\n"
          ]
        }
      ]
    },
    {
      "cell_type": "code",
      "metadata": {
        "id": "6mP2uUIrwbCP",
        "colab": {
          "base_uri": "https://localhost:8080/"
        },
        "outputId": "ab82b0cd-7252-40c7-b388-02d0b63cb3c2"
      },
      "source": [
        "%cd /content/pygadgetreader\n",
        "!python setup.py build\n",
        "!python setup.py install"
      ],
      "execution_count": 3,
      "outputs": [
        {
          "output_type": "stream",
          "name": "stdout",
          "text": [
            "/content/pygadgetreader\n",
            "running build\n",
            "running build_py\n",
            "running install\n",
            "running bdist_egg\n",
            "running egg_info\n",
            "writing pyGadgetReader.egg-info/PKG-INFO\n",
            "writing dependency_links to pyGadgetReader.egg-info/dependency_links.txt\n",
            "writing requirements to pyGadgetReader.egg-info/requires.txt\n",
            "writing top-level names to pyGadgetReader.egg-info/top_level.txt\n",
            "adding license file 'LICENSE'\n",
            "writing manifest file 'pyGadgetReader.egg-info/SOURCES.txt'\n",
            "installing library code to build/bdist.linux-x86_64/egg\n",
            "running install_lib\n",
            "running build_py\n",
            "creating build/bdist.linux-x86_64/egg\n",
            "creating build/bdist.linux-x86_64/egg/pygadgetreader\n",
            "copying build/lib/pygadgetreader/__init__.py -> build/bdist.linux-x86_64/egg/pygadgetreader\n",
            "creating build/bdist.linux-x86_64/egg/readgadget\n",
            "copying build/lib/readgadget/readrockstar.py -> build/bdist.linux-x86_64/egg/readgadget\n",
            "copying build/lib/readgadget/readpstar.py -> build/bdist.linux-x86_64/egg/readgadget\n",
            "copying build/lib/readgadget/readgadget.py -> build/bdist.linux-x86_64/egg/readgadget\n",
            "creating build/bdist.linux-x86_64/egg/readgadget/modules\n",
            "copying build/lib/readgadget/modules/tipsy.py -> build/bdist.linux-x86_64/egg/readgadget/modules\n",
            "copying build/lib/readgadget/modules/gadget2.py -> build/bdist.linux-x86_64/egg/readgadget/modules\n",
            "copying build/lib/readgadget/modules/hdf5.py -> build/bdist.linux-x86_64/egg/readgadget/modules\n",
            "copying build/lib/readgadget/modules/header.py -> build/bdist.linux-x86_64/egg/readgadget/modules\n",
            "copying build/lib/readgadget/modules/common.py -> build/bdist.linux-x86_64/egg/readgadget/modules\n",
            "copying build/lib/readgadget/modules/names.py -> build/bdist.linux-x86_64/egg/readgadget/modules\n",
            "copying build/lib/readgadget/modules/rs_structs.py -> build/bdist.linux-x86_64/egg/readgadget/modules\n",
            "copying build/lib/readgadget/modules/gadget_blockordering.py -> build/bdist.linux-x86_64/egg/readgadget/modules\n",
            "copying build/lib/readgadget/modules/__init__.py -> build/bdist.linux-x86_64/egg/readgadget/modules\n",
            "copying build/lib/readgadget/modules/gadget1.py -> build/bdist.linux-x86_64/egg/readgadget/modules\n",
            "copying build/lib/readgadget/readfofspecial.py -> build/bdist.linux-x86_64/egg/readgadget\n",
            "copying build/lib/readgadget/__init__.py -> build/bdist.linux-x86_64/egg/readgadget\n",
            "byte-compiling build/bdist.linux-x86_64/egg/pygadgetreader/__init__.py to __init__.cpython-37.pyc\n",
            "byte-compiling build/bdist.linux-x86_64/egg/readgadget/readrockstar.py to readrockstar.cpython-37.pyc\n",
            "byte-compiling build/bdist.linux-x86_64/egg/readgadget/readpstar.py to readpstar.cpython-37.pyc\n",
            "byte-compiling build/bdist.linux-x86_64/egg/readgadget/readgadget.py to readgadget.cpython-37.pyc\n",
            "byte-compiling build/bdist.linux-x86_64/egg/readgadget/modules/tipsy.py to tipsy.cpython-37.pyc\n",
            "byte-compiling build/bdist.linux-x86_64/egg/readgadget/modules/gadget2.py to gadget2.cpython-37.pyc\n",
            "byte-compiling build/bdist.linux-x86_64/egg/readgadget/modules/hdf5.py to hdf5.cpython-37.pyc\n",
            "byte-compiling build/bdist.linux-x86_64/egg/readgadget/modules/header.py to header.cpython-37.pyc\n",
            "byte-compiling build/bdist.linux-x86_64/egg/readgadget/modules/common.py to common.cpython-37.pyc\n",
            "byte-compiling build/bdist.linux-x86_64/egg/readgadget/modules/names.py to names.cpython-37.pyc\n",
            "byte-compiling build/bdist.linux-x86_64/egg/readgadget/modules/rs_structs.py to rs_structs.cpython-37.pyc\n",
            "byte-compiling build/bdist.linux-x86_64/egg/readgadget/modules/gadget_blockordering.py to gadget_blockordering.cpython-37.pyc\n",
            "byte-compiling build/bdist.linux-x86_64/egg/readgadget/modules/__init__.py to __init__.cpython-37.pyc\n",
            "byte-compiling build/bdist.linux-x86_64/egg/readgadget/modules/gadget1.py to gadget1.cpython-37.pyc\n",
            "byte-compiling build/bdist.linux-x86_64/egg/readgadget/readfofspecial.py to readfofspecial.cpython-37.pyc\n",
            "byte-compiling build/bdist.linux-x86_64/egg/readgadget/__init__.py to __init__.cpython-37.pyc\n",
            "creating build/bdist.linux-x86_64/egg/EGG-INFO\n",
            "copying pyGadgetReader.egg-info/PKG-INFO -> build/bdist.linux-x86_64/egg/EGG-INFO\n",
            "copying pyGadgetReader.egg-info/SOURCES.txt -> build/bdist.linux-x86_64/egg/EGG-INFO\n",
            "copying pyGadgetReader.egg-info/dependency_links.txt -> build/bdist.linux-x86_64/egg/EGG-INFO\n",
            "copying pyGadgetReader.egg-info/requires.txt -> build/bdist.linux-x86_64/egg/EGG-INFO\n",
            "copying pyGadgetReader.egg-info/top_level.txt -> build/bdist.linux-x86_64/egg/EGG-INFO\n",
            "zip_safe flag not set; analyzing archive contents...\n",
            "creating 'dist/pyGadgetReader-2.6-py3.7.egg' and adding 'build/bdist.linux-x86_64/egg' to it\n",
            "removing 'build/bdist.linux-x86_64/egg' (and everything under it)\n",
            "Processing pyGadgetReader-2.6-py3.7.egg\n",
            "Removing /usr/local/lib/python3.7/dist-packages/pyGadgetReader-2.6-py3.7.egg\n",
            "Copying pyGadgetReader-2.6-py3.7.egg to /usr/local/lib/python3.7/dist-packages\n",
            "pyGadgetReader 2.6 is already the active version in easy-install.pth\n",
            "\n",
            "Installed /usr/local/lib/python3.7/dist-packages/pyGadgetReader-2.6-py3.7.egg\n",
            "Processing dependencies for pyGadgetReader==2.6\n",
            "Searching for numpy==1.19.5\n",
            "Best match: numpy 1.19.5\n",
            "Adding numpy 1.19.5 to easy-install.pth file\n",
            "Installing f2py script to /usr/local/bin\n",
            "Installing f2py3 script to /usr/local/bin\n",
            "Installing f2py3.7 script to /usr/local/bin\n",
            "\n",
            "Using /usr/local/lib/python3.7/dist-packages\n",
            "Searching for h5py==3.1.0\n",
            "Best match: h5py 3.1.0\n",
            "Adding h5py 3.1.0 to easy-install.pth file\n",
            "\n",
            "Using /usr/local/lib/python3.7/dist-packages\n",
            "Searching for cached-property==1.5.2\n",
            "Best match: cached-property 1.5.2\n",
            "Adding cached-property 1.5.2 to easy-install.pth file\n",
            "\n",
            "Using /usr/local/lib/python3.7/dist-packages\n",
            "Finished processing dependencies for pyGadgetReader==2.6\n"
          ]
        }
      ]
    },
    {
      "cell_type": "code",
      "metadata": {
        "id": "XnK3AaPmxZ_s"
      },
      "source": [
        "from pygadgetreader import *"
      ],
      "execution_count": 4,
      "outputs": []
    },
    {
      "cell_type": "code",
      "metadata": {
        "id": "8UPWYJGWxgSD",
        "colab": {
          "base_uri": "https://localhost:8080/"
        },
        "outputId": "298dc1d3-7460-4899-ca1b-061784f512e6"
      },
      "source": [
        "# vel = readsnap('/content/drive/MyDrive/ML/n1lcdmML_snap000_cdm','vel','dm')\n",
        "# vx = vel[:,0].tolist()\n",
        "# vy = vel[:,1].tolist()\n",
        "# vz = vel[:,2].tolist()\n",
        "# mass = readsnap('/content/drive/MyDrive/ML/n1lcdmML_snap000_cdm','mass','dm').tolist()\n",
        "# particle_id = readsnap('/content/drive/MyDrive/ML/n1lcdmML_snap000_cdm','pid','dm').tolist()\n",
        "# position = readsnap('/content/drive/MyDrive/ML/n1lcdmML_snap000_cdm','pos','dm')\n",
        "# x = position[:,0].tolist()\n",
        "# y = position[:,1].tolist()\n",
        "# z = position[:,2].tolist()\n",
        "# data = {'particle_id': particle_id,\n",
        "#         'x': x,\n",
        "#         'y': y,\n",
        "#         'z': z,\n",
        "#         'vx': vx,\n",
        "#         'vy': vy,\n",
        "#         'vz': vz,\n",
        "#         'mass': mass}\n",
        "# df = pd.DataFrame(data)from pygadgetreader import *\n",
        "\n",
        "# seed = int(input(\"Enter the seed:\"))\n",
        "halopath = '/content/drive/MyDrive/ML/Project/halos_0'\n",
        "initial_snap_path = '/content/drive/MyDrive/ML/n1lcdmML_snap000_cdm'\n",
        "\n",
        "# print(\"The seed is \", seed, \" Now the code just started\")\n",
        "#Reading the halo particles \n",
        "\n",
        "particles = readrockstar(halopath,'particles')\n",
        "halo_particles = pd.DataFrame()\n",
        "halo_particles['id'] = particles[:,0]\n",
        "halo_particles['haloID'] = particles[:,1]\n",
        "\n",
        "#Reading the halo masses\n",
        "halo_num = pd.DataFrame() \n",
        "halos = readrockstar(halopath, 'halos') \n",
        "halo_num['haloID'] = halos['id']\n",
        "halo_num['np'] = halos['num_p']\n",
        "\n",
        "#a dataframe containing the subhalo id and sub halo mass for each particle\n",
        "halo_particles = pd.merge(halo_particles, halo_num , right_on = 'haloID', left_on = 'haloID', how = 'outer')\n",
        "\n",
        "print(halo_particles.describe())"
      ],
      "execution_count": 5,
      "outputs": [
        {
          "output_type": "stream",
          "name": "stdout",
          "text": [
            "                 id        haloID            np\n",
            "count  2.214619e+06  2.214619e+06  2.214619e+06\n",
            "mean   8.946561e+06  6.562720e+02  4.008056e+03\n",
            "std    4.967033e+06  3.655899e+02  5.164701e+03\n",
            "min    1.000000e+01  0.000000e+00  2.020000e+02\n",
            "25%    4.549009e+06  3.370000e+02  1.218000e+03\n",
            "50%    9.372965e+06  6.610000e+02  2.190000e+03\n",
            "75%    1.337186e+07  9.760000e+02  4.205000e+03\n",
            "max    1.677717e+07  1.272000e+03  3.125200e+04\n"
          ]
        }
      ]
    },
    {
      "cell_type": "code",
      "metadata": {
        "colab": {
          "base_uri": "https://localhost:8080/"
        },
        "id": "eevV-VpWdBkp",
        "outputId": "d7914546-3d7d-481b-ffa4-43ddaf7650a0"
      },
      "source": [
        "particle_data = pd.DataFrame()\n",
        "\n",
        "particle_data['id'] = np.array(readsnap(initial_snap_path, 'pid', 'dm'))\n",
        "\n",
        "particle_data['x'] = np.array(readsnap(initial_snap_path, 'pos', 'dm'))[:,0]\n",
        "particle_data['y'] = np.array(readsnap(initial_snap_path, 'pos', 'dm'))[:,1]\n",
        "particle_data['z'] = np.array(readsnap(initial_snap_path, 'pos', 'dm'))[:,2]\n",
        "\n",
        "particle_data['vx'] = np.array(readsnap(initial_snap_path, 'vel', 'dm'))[:,0]\n",
        "particle_data['vy'] = np.array(readsnap(initial_snap_path, 'vel', 'dm'))[:,1]\n",
        "particle_data['vz'] = np.array(readsnap(initial_snap_path, 'vel', 'dm'))[:,2]"
      ],
      "execution_count": 6,
      "outputs": [
        {
          "output_type": "stream",
          "name": "stdout",
          "text": [
            "Returning DM    Particle IDs\n",
            "Returning DM    Positions\n",
            "Returning DM    Positions\n",
            "Returning DM    Positions\n",
            "Returning DM    Velocities\n",
            "Returning DM    Velocities\n",
            "Returning DM    Velocities\n"
          ]
        }
      ]
    },
    {
      "cell_type": "code",
      "metadata": {
        "id": "YfRXJTfNdbBx"
      },
      "source": [
        "data = pd.merge(particle_data, halo_particles, left_on = 'id', right_on = 'id', how = 'outer')\n",
        "data['haloID'] = data['haloID'].fillna(0)\n",
        "data['halo_mass'] = data['np'].fillna(0)\n",
        "data = data[['id','x','y','z','vx','vy','vz','haloID','halo_mass']]"
      ],
      "execution_count": 58,
      "outputs": []
    },
    {
      "cell_type": "code",
      "metadata": {
        "colab": {
          "base_uri": "https://localhost:8080/"
        },
        "id": "Gfu82RBGd5dA",
        "outputId": "a5e415e5-41b4-47b7-e806-efa973d608df"
      },
      "source": [
        "#converting the postion from kpc to Mpc\n",
        "data['x'] = data['x']/1000\n",
        "data['y'] = data['y']/1000\n",
        "data['z'] = data['z']/1000\n",
        "data = data.astype({'haloID':'int64'})\n",
        "data = data.sort_values(by = 'x')"
      ],
      "execution_count": 59,
      "outputs": [
        {
          "output_type": "stream",
          "name": "stderr",
          "text": [
            "/usr/local/lib/python3.7/dist-packages/ipykernel_launcher.py:2: SettingWithCopyWarning: \n",
            "A value is trying to be set on a copy of a slice from a DataFrame.\n",
            "Try using .loc[row_indexer,col_indexer] = value instead\n",
            "\n",
            "See the caveats in the documentation: https://pandas.pydata.org/pandas-docs/stable/user_guide/indexing.html#returning-a-view-versus-a-copy\n",
            "  \n",
            "/usr/local/lib/python3.7/dist-packages/ipykernel_launcher.py:3: SettingWithCopyWarning: \n",
            "A value is trying to be set on a copy of a slice from a DataFrame.\n",
            "Try using .loc[row_indexer,col_indexer] = value instead\n",
            "\n",
            "See the caveats in the documentation: https://pandas.pydata.org/pandas-docs/stable/user_guide/indexing.html#returning-a-view-versus-a-copy\n",
            "  This is separate from the ipykernel package so we can avoid doing imports until\n"
          ]
        }
      ]
    },
    {
      "cell_type": "code",
      "metadata": {
        "colab": {
          "base_uri": "https://localhost:8080/",
          "height": 419
        },
        "id": "0K3K2tYrevN-",
        "outputId": "ecaf93a1-1973-4827-caa2-6d54fa32c261"
      },
      "source": [
        "data"
      ],
      "execution_count": 60,
      "outputs": [
        {
          "output_type": "execute_result",
          "data": {
            "text/html": [
              "<div>\n",
              "<style scoped>\n",
              "    .dataframe tbody tr th:only-of-type {\n",
              "        vertical-align: middle;\n",
              "    }\n",
              "\n",
              "    .dataframe tbody tr th {\n",
              "        vertical-align: top;\n",
              "    }\n",
              "\n",
              "    .dataframe thead th {\n",
              "        text-align: right;\n",
              "    }\n",
              "</style>\n",
              "<table border=\"1\" class=\"dataframe\">\n",
              "  <thead>\n",
              "    <tr style=\"text-align: right;\">\n",
              "      <th></th>\n",
              "      <th>id</th>\n",
              "      <th>x</th>\n",
              "      <th>y</th>\n",
              "      <th>z</th>\n",
              "      <th>vx</th>\n",
              "      <th>vy</th>\n",
              "      <th>vz</th>\n",
              "      <th>haloID</th>\n",
              "      <th>halo_mass</th>\n",
              "    </tr>\n",
              "  </thead>\n",
              "  <tbody>\n",
              "    <tr>\n",
              "      <th>2573056</th>\n",
              "      <td>3702803</td>\n",
              "      <td>0.104388</td>\n",
              "      <td>22.108690</td>\n",
              "      <td>36.533001</td>\n",
              "      <td>-1147.799561</td>\n",
              "      <td>-421.298645</td>\n",
              "      <td>-159.373352</td>\n",
              "      <td>0</td>\n",
              "      <td>0.0</td>\n",
              "    </tr>\n",
              "    <tr>\n",
              "      <th>2630144</th>\n",
              "      <td>4227097</td>\n",
              "      <td>0.106355</td>\n",
              "      <td>21.492632</td>\n",
              "      <td>40.919411</td>\n",
              "      <td>-1127.608154</td>\n",
              "      <td>-401.552826</td>\n",
              "      <td>-111.468544</td>\n",
              "      <td>0</td>\n",
              "      <td>0.0</td>\n",
              "    </tr>\n",
              "    <tr>\n",
              "      <th>11749888</th>\n",
              "      <td>10133520</td>\n",
              "      <td>0.107426</td>\n",
              "      <td>106.582535</td>\n",
              "      <td>96.523911</td>\n",
              "      <td>-1146.397827</td>\n",
              "      <td>135.866959</td>\n",
              "      <td>-227.624420</td>\n",
              "      <td>0</td>\n",
              "      <td>0.0</td>\n",
              "    </tr>\n",
              "    <tr>\n",
              "      <th>11750144</th>\n",
              "      <td>10133523</td>\n",
              "      <td>0.108411</td>\n",
              "      <td>107.197701</td>\n",
              "      <td>96.523987</td>\n",
              "      <td>-1141.314331</td>\n",
              "      <td>48.016113</td>\n",
              "      <td>-231.397110</td>\n",
              "      <td>0</td>\n",
              "      <td>0.0</td>\n",
              "    </tr>\n",
              "    <tr>\n",
              "      <th>2654464</th>\n",
              "      <td>4489219</td>\n",
              "      <td>0.108463</td>\n",
              "      <td>20.844633</td>\n",
              "      <td>42.775684</td>\n",
              "      <td>-1133.096680</td>\n",
              "      <td>-515.861816</td>\n",
              "      <td>-212.447449</td>\n",
              "      <td>0</td>\n",
              "      <td>0.0</td>\n",
              "    </tr>\n",
              "    <tr>\n",
              "      <th>...</th>\n",
              "      <td>...</td>\n",
              "      <td>...</td>\n",
              "      <td>...</td>\n",
              "      <td>...</td>\n",
              "      <td>...</td>\n",
              "      <td>...</td>\n",
              "      <td>...</td>\n",
              "      <td>...</td>\n",
              "      <td>...</td>\n",
              "    </tr>\n",
              "    <tr>\n",
              "      <th>10339839</th>\n",
              "      <td>15605748</td>\n",
              "      <td>159.840271</td>\n",
              "      <td>83.402657</td>\n",
              "      <td>148.985031</td>\n",
              "      <td>844.709229</td>\n",
              "      <td>-175.208862</td>\n",
              "      <td>-443.182190</td>\n",
              "      <td>915</td>\n",
              "      <td>5946.0</td>\n",
              "    </tr>\n",
              "    <tr>\n",
              "      <th>10348031</th>\n",
              "      <td>15605749</td>\n",
              "      <td>159.842987</td>\n",
              "      <td>83.417397</td>\n",
              "      <td>149.611725</td>\n",
              "      <td>859.852356</td>\n",
              "      <td>-94.854485</td>\n",
              "      <td>-464.136230</td>\n",
              "      <td>915</td>\n",
              "      <td>5946.0</td>\n",
              "    </tr>\n",
              "    <tr>\n",
              "      <th>10340351</th>\n",
              "      <td>15605740</td>\n",
              "      <td>159.844254</td>\n",
              "      <td>84.639664</td>\n",
              "      <td>149.009415</td>\n",
              "      <td>869.186951</td>\n",
              "      <td>-289.623627</td>\n",
              "      <td>-300.264465</td>\n",
              "      <td>915</td>\n",
              "      <td>5946.0</td>\n",
              "    </tr>\n",
              "    <tr>\n",
              "      <th>10348287</th>\n",
              "      <td>15605742</td>\n",
              "      <td>159.845825</td>\n",
              "      <td>84.053123</td>\n",
              "      <td>149.621384</td>\n",
              "      <td>885.247620</td>\n",
              "      <td>-69.581429</td>\n",
              "      <td>-391.406372</td>\n",
              "      <td>916</td>\n",
              "      <td>7980.0</td>\n",
              "    </tr>\n",
              "    <tr>\n",
              "      <th>10340095</th>\n",
              "      <td>15605743</td>\n",
              "      <td>159.846771</td>\n",
              "      <td>84.050972</td>\n",
              "      <td>148.992264</td>\n",
              "      <td>881.997192</td>\n",
              "      <td>-113.599411</td>\n",
              "      <td>-383.108978</td>\n",
              "      <td>915</td>\n",
              "      <td>5946.0</td>\n",
              "    </tr>\n",
              "  </tbody>\n",
              "</table>\n",
              "<p>16777216 rows × 9 columns</p>\n",
              "</div>"
            ],
            "text/plain": [
              "                id           x           y  ...          vz  haloID  halo_mass\n",
              "2573056    3702803    0.104388   22.108690  ... -159.373352       0        0.0\n",
              "2630144    4227097    0.106355   21.492632  ... -111.468544       0        0.0\n",
              "11749888  10133520    0.107426  106.582535  ... -227.624420       0        0.0\n",
              "11750144  10133523    0.108411  107.197701  ... -231.397110       0        0.0\n",
              "2654464    4489219    0.108463   20.844633  ... -212.447449       0        0.0\n",
              "...            ...         ...         ...  ...         ...     ...        ...\n",
              "10339839  15605748  159.840271   83.402657  ... -443.182190     915     5946.0\n",
              "10348031  15605749  159.842987   83.417397  ... -464.136230     915     5946.0\n",
              "10340351  15605740  159.844254   84.639664  ... -300.264465     915     5946.0\n",
              "10348287  15605742  159.845825   84.053123  ... -391.406372     916     7980.0\n",
              "10340095  15605743  159.846771   84.050972  ... -383.108978     915     5946.0\n",
              "\n",
              "[16777216 rows x 9 columns]"
            ]
          },
          "metadata": {},
          "execution_count": 60
        }
      ]
    },
    {
      "cell_type": "code",
      "metadata": {
        "id": "Jq9o_uEAMY4B"
      },
      "source": [
        "box_size = 159\n",
        "boundary = 20\n",
        "\n",
        "d = data[data.x > boundary]\n",
        "\n",
        "d = d[d.x < box_size - boundary]\n",
        "\n",
        "d = d[d.y > boundary]\n",
        "\n",
        "d = d[d.y < box_size - boundary]\n",
        "\n",
        "d = d[d.z > boundary]\n",
        "\n",
        "d = d[d.z < box_size - boundary]"
      ],
      "execution_count": 61,
      "outputs": []
    },
    {
      "cell_type": "code",
      "metadata": {
        "colab": {
          "base_uri": "https://localhost:8080/"
        },
        "id": "z677wvWLfVjw",
        "outputId": "a5c91cde-c6e3-4f56-aafb-03f653028194"
      },
      "source": [
        "d.shape"
      ],
      "execution_count": 62,
      "outputs": [
        {
          "output_type": "execute_result",
          "data": {
            "text/plain": [
              "(6873748, 9)"
            ]
          },
          "metadata": {},
          "execution_count": 62
        }
      ]
    },
    {
      "cell_type": "code",
      "metadata": {
        "id": "he0AiJKrvONk"
      },
      "source": [
        "from tqdm import tqdm\n",
        "def box_mass(r_cutoff, data, sample):\n",
        "    m = len(sample)\n",
        "    mass = pd.DataFrame(np.zeros(m),columns=['den_contrast'])\n",
        "    for i in tqdm(range(m)):\n",
        "        wx=sample.iloc[i]['x']\n",
        "        wy=sample.iloc[i]['y']\n",
        "        wz=sample.iloc[i]['z']\n",
        "        ix = np.searchsorted(data[:,2] , wx-r_cutoff)\n",
        "        jx = np.searchsorted(data[:,2] , wx+r_cutoff)\n",
        "\n",
        "        temp = np.where((data[ix:jx,3] < wy+r_cutoff) & (data[ix:jx,3] > wy-r_cutoff) & (data[ix:jx,4] < wz+r_cutoff) & (data[ix:jx,4] > wz-r_cutoff))\n",
        "    \n",
        "        mass.den_contrast[i] = len(temp[0])\n",
        "    return mass"
      ],
      "execution_count": 63,
      "outputs": []
    },
    {
      "cell_type": "code",
      "metadata": {
        "id": "GSTQB_T34Oe4"
      },
      "source": [
        "n = 100000\n",
        "\n",
        "sample = d.sample(n, random_state = 42)\n",
        "sample_density = sample[['id', 'haloID']]\n",
        "sample_density.reset_index(drop = True, inplace = True)"
      ],
      "execution_count": 64,
      "outputs": []
    },
    {
      "cell_type": "code",
      "metadata": {
        "colab": {
          "base_uri": "https://localhost:8080/",
          "height": 204
        },
        "id": "eiDXojRngkTE",
        "outputId": "4c3fbcf6-70f4-4ae0-c77b-6a261cfa11c9"
      },
      "source": [
        "sample_density.head()"
      ],
      "execution_count": 65,
      "outputs": [
        {
          "output_type": "execute_result",
          "data": {
            "text/html": [
              "<div>\n",
              "<style scoped>\n",
              "    .dataframe tbody tr th:only-of-type {\n",
              "        vertical-align: middle;\n",
              "    }\n",
              "\n",
              "    .dataframe tbody tr th {\n",
              "        vertical-align: top;\n",
              "    }\n",
              "\n",
              "    .dataframe thead th {\n",
              "        text-align: right;\n",
              "    }\n",
              "</style>\n",
              "<table border=\"1\" class=\"dataframe\">\n",
              "  <thead>\n",
              "    <tr style=\"text-align: right;\">\n",
              "      <th></th>\n",
              "      <th>id</th>\n",
              "      <th>haloID</th>\n",
              "    </tr>\n",
              "  </thead>\n",
              "  <tbody>\n",
              "    <tr>\n",
              "      <th>0</th>\n",
              "      <td>12445545</td>\n",
              "      <td>460</td>\n",
              "    </tr>\n",
              "    <tr>\n",
              "      <th>1</th>\n",
              "      <td>9757813</td>\n",
              "      <td>0</td>\n",
              "    </tr>\n",
              "    <tr>\n",
              "      <th>2</th>\n",
              "      <td>4364083</td>\n",
              "      <td>0</td>\n",
              "    </tr>\n",
              "    <tr>\n",
              "      <th>3</th>\n",
              "      <td>9111430</td>\n",
              "      <td>0</td>\n",
              "    </tr>\n",
              "    <tr>\n",
              "      <th>4</th>\n",
              "      <td>2698019</td>\n",
              "      <td>0</td>\n",
              "    </tr>\n",
              "  </tbody>\n",
              "</table>\n",
              "</div>"
            ],
            "text/plain": [
              "         id  haloID\n",
              "0  12445545     460\n",
              "1   9757813       0\n",
              "2   4364083       0\n",
              "3   9111430       0\n",
              "4   2698019       0"
            ]
          },
          "metadata": {},
          "execution_count": 65
        }
      ]
    },
    {
      "cell_type": "code",
      "metadata": {
        "id": "mh52VHrRImIJ",
        "colab": {
          "base_uri": "https://localhost:8080/"
        },
        "outputId": "3a3b571c-486f-4fb9-ca9e-c0a55329850f"
      },
      "source": [
        "print(data)"
      ],
      "execution_count": 66,
      "outputs": [
        {
          "output_type": "stream",
          "name": "stdout",
          "text": [
            "                id           x           y  ...          vz  haloID  halo_mass\n",
            "2573056    3702803    0.104388   22.108690  ... -159.373352       0        0.0\n",
            "2630144    4227097    0.106355   21.492632  ... -111.468544       0        0.0\n",
            "11749888  10133520    0.107426  106.582535  ... -227.624420       0        0.0\n",
            "11750144  10133523    0.108411  107.197701  ... -231.397110       0        0.0\n",
            "2654464    4489219    0.108463   20.844633  ... -212.447449       0        0.0\n",
            "...            ...         ...         ...  ...         ...     ...        ...\n",
            "10339839  15605748  159.840271   83.402657  ... -443.182190     915     5946.0\n",
            "10348031  15605749  159.842987   83.417397  ... -464.136230     915     5946.0\n",
            "10340351  15605740  159.844254   84.639664  ... -300.264465     915     5946.0\n",
            "10348287  15605742  159.845825   84.053123  ... -391.406372     916     7980.0\n",
            "10340095  15605743  159.846771   84.050972  ... -383.108978     915     5946.0\n",
            "\n",
            "[16777216 rows x 9 columns]\n"
          ]
        }
      ]
    },
    {
      "cell_type": "code",
      "metadata": {
        "id": "DGwdyj0GMtEM"
      },
      "source": [
        "data = data.to_numpy()"
      ],
      "execution_count": 67,
      "outputs": []
    },
    {
      "cell_type": "code",
      "metadata": {
        "id": "5QPsp3KF6afc",
        "colab": {
          "base_uri": "https://localhost:8080/",
          "height": 374
        },
        "outputId": "9b5845a3-d0e8-431e-d405-adfb081d3879"
      },
      "source": [
        "rc = np.array([])\n",
        "for i in range(20, 30, 1):\n",
        "  r =  0.6 * i + 0.4\n",
        "  rc = np.append(rc, r)\n",
        "  density = box_mass(r , data, sample)\n",
        "  density = density.div((2*r)**3)\n",
        "  sample_density = pd.concat([sample_density, density], axis = 1)\n",
        "  sample_density = sample_density.rename(columns={'den_contrast': 'dc for {0:.1f}'.format(r)})\n",
        "sample_density.head()"
      ],
      "execution_count": 68,
      "outputs": [
        {
          "output_type": "stream",
          "name": "stderr",
          "text": [
            "100%|██████████| 100000/100000 [28:22<00:00, 58.73it/s]\n",
            "100%|██████████| 100000/100000 [29:25<00:00, 56.63it/s]\n",
            "100%|██████████| 100000/100000 [30:35<00:00, 54.48it/s]\n",
            "100%|██████████| 100000/100000 [31:46<00:00, 52.46it/s]\n",
            "100%|██████████| 100000/100000 [32:35<00:00, 51.14it/s]\n",
            "100%|██████████| 100000/100000 [33:54<00:00, 49.16it/s]\n",
            "100%|██████████| 100000/100000 [35:30<00:00, 46.93it/s]\n",
            "100%|██████████| 100000/100000 [36:58<00:00, 45.08it/s]\n",
            "100%|██████████| 100000/100000 [38:35<00:00, 43.18it/s]\n",
            "100%|██████████| 100000/100000 [40:17<00:00, 41.36it/s]\n"
          ]
        },
        {
          "output_type": "execute_result",
          "data": {
            "text/html": [
              "<div>\n",
              "<style scoped>\n",
              "    .dataframe tbody tr th:only-of-type {\n",
              "        vertical-align: middle;\n",
              "    }\n",
              "\n",
              "    .dataframe tbody tr th {\n",
              "        vertical-align: top;\n",
              "    }\n",
              "\n",
              "    .dataframe thead th {\n",
              "        text-align: right;\n",
              "    }\n",
              "</style>\n",
              "<table border=\"1\" class=\"dataframe\">\n",
              "  <thead>\n",
              "    <tr style=\"text-align: right;\">\n",
              "      <th></th>\n",
              "      <th>id</th>\n",
              "      <th>haloID</th>\n",
              "      <th>dc for 12.4</th>\n",
              "      <th>dc for 13.0</th>\n",
              "      <th>dc for 13.6</th>\n",
              "      <th>dc for 14.2</th>\n",
              "      <th>dc for 14.8</th>\n",
              "      <th>dc for 15.4</th>\n",
              "      <th>dc for 16.0</th>\n",
              "      <th>dc for 16.6</th>\n",
              "      <th>dc for 17.2</th>\n",
              "      <th>dc for 17.8</th>\n",
              "    </tr>\n",
              "  </thead>\n",
              "  <tbody>\n",
              "    <tr>\n",
              "      <th>0</th>\n",
              "      <td>12445545</td>\n",
              "      <td>460</td>\n",
              "      <td>0.000000</td>\n",
              "      <td>0.000000</td>\n",
              "      <td>0.000000</td>\n",
              "      <td>0.000000</td>\n",
              "      <td>0.000000</td>\n",
              "      <td>0.000000</td>\n",
              "      <td>0.000000</td>\n",
              "      <td>0.000000</td>\n",
              "      <td>0.007689</td>\n",
              "      <td>0.007292</td>\n",
              "    </tr>\n",
              "    <tr>\n",
              "      <th>1</th>\n",
              "      <td>9757813</td>\n",
              "      <td>0</td>\n",
              "      <td>0.065233</td>\n",
              "      <td>0.069356</td>\n",
              "      <td>0.065893</td>\n",
              "      <td>0.063258</td>\n",
              "      <td>0.059651</td>\n",
              "      <td>0.057054</td>\n",
              "      <td>0.054413</td>\n",
              "      <td>0.051975</td>\n",
              "      <td>0.049794</td>\n",
              "      <td>0.047874</td>\n",
              "    </tr>\n",
              "    <tr>\n",
              "      <th>2</th>\n",
              "      <td>4364083</td>\n",
              "      <td>0</td>\n",
              "      <td>0.000000</td>\n",
              "      <td>0.000000</td>\n",
              "      <td>0.000000</td>\n",
              "      <td>0.000000</td>\n",
              "      <td>0.007056</td>\n",
              "      <td>0.007050</td>\n",
              "      <td>0.007751</td>\n",
              "      <td>0.008089</td>\n",
              "      <td>0.008033</td>\n",
              "      <td>0.008156</td>\n",
              "    </tr>\n",
              "    <tr>\n",
              "      <th>3</th>\n",
              "      <td>9111430</td>\n",
              "      <td>0</td>\n",
              "      <td>0.000000</td>\n",
              "      <td>0.000000</td>\n",
              "      <td>0.000000</td>\n",
              "      <td>0.000000</td>\n",
              "      <td>0.000000</td>\n",
              "      <td>0.000000</td>\n",
              "      <td>0.000000</td>\n",
              "      <td>0.000000</td>\n",
              "      <td>0.000000</td>\n",
              "      <td>0.000000</td>\n",
              "    </tr>\n",
              "    <tr>\n",
              "      <th>4</th>\n",
              "      <td>2698019</td>\n",
              "      <td>0</td>\n",
              "      <td>3.437948</td>\n",
              "      <td>3.293411</td>\n",
              "      <td>3.157777</td>\n",
              "      <td>3.045101</td>\n",
              "      <td>2.937072</td>\n",
              "      <td>2.829307</td>\n",
              "      <td>2.735870</td>\n",
              "      <td>2.650381</td>\n",
              "      <td>2.567777</td>\n",
              "      <td>2.490225</td>\n",
              "    </tr>\n",
              "  </tbody>\n",
              "</table>\n",
              "</div>"
            ],
            "text/plain": [
              "         id  haloID  dc for 12.4  ...  dc for 16.6  dc for 17.2  dc for 17.8\n",
              "0  12445545     460     0.000000  ...     0.000000     0.007689     0.007292\n",
              "1   9757813       0     0.065233  ...     0.051975     0.049794     0.047874\n",
              "2   4364083       0     0.000000  ...     0.008089     0.008033     0.008156\n",
              "3   9111430       0     0.000000  ...     0.000000     0.000000     0.000000\n",
              "4   2698019       0     3.437948  ...     2.650381     2.567777     2.490225\n",
              "\n",
              "[5 rows x 12 columns]"
            ]
          },
          "metadata": {},
          "execution_count": 68
        }
      ]
    },
    {
      "cell_type": "code",
      "metadata": {
        "id": "APst9mf55-2j"
      },
      "source": [
        "sample_density.to_csv('/content/drive/MyDrive/sample_density_final.csv', index=False)"
      ],
      "execution_count": 69,
      "outputs": []
    },
    {
      "cell_type": "code",
      "metadata": {
        "id": "Z1TYX3q_zYN0",
        "colab": {
          "base_uri": "https://localhost:8080/"
        },
        "outputId": "b47a19bf-183c-4c15-d5b1-76f0b1e223b1"
      },
      "source": [
        "rho_bar = len(data) / (159.8**3)\n",
        "sample_density.iloc[:,2:] -= rho_bar\n",
        "sample_density.iloc[:,2:] /= rho_bar\n",
        "print(sample_density)"
      ],
      "execution_count": 71,
      "outputs": [
        {
          "output_type": "stream",
          "name": "stdout",
          "text": [
            "             id  haloID  dc for 12.4  ...  dc for 16.6  dc for 17.2  dc for 17.8\n",
            "0      12445545     460    -1.000000  ...    -1.000000    -0.998130    -0.998226\n",
            "1       9757813       0    -0.984134  ...    -0.987358    -0.987889    -0.988356\n",
            "2       4364083       0    -1.000000  ...    -0.998033    -0.998046    -0.998016\n",
            "3       9111430       0    -1.000000  ...    -1.000000    -1.000000    -1.000000\n",
            "4       2698019       0    -0.163801  ...    -0.355358    -0.375449    -0.394312\n",
            "...         ...     ...          ...  ...          ...          ...          ...\n",
            "99995   5727559       0    -0.993510  ...    -0.976757    -0.977379    -0.978048\n",
            "99996  13779938       0    -0.995918  ...    -0.996098    -0.996027    -0.995892\n",
            "99997   5313693       0    -0.980673  ...    -0.986321    -0.986873    -0.987472\n",
            "99998   7482364       0    -1.000000  ...    -1.000000    -1.000000    -1.000000\n",
            "99999   8333714       0    -0.046437  ...    -0.277434    -0.300888    -0.322414\n",
            "\n",
            "[100000 rows x 12 columns]\n"
          ]
        }
      ]
    },
    {
      "cell_type": "code",
      "metadata": {
        "id": "_fB5tSzn7On1"
      },
      "source": [
        "sample_density.to_csv('/content/drive/MyDrive/density_contrast_final.csv', index=False)"
      ],
      "execution_count": 72,
      "outputs": []
    },
    {
      "cell_type": "markdown",
      "metadata": {
        "id": "rzsN5sWNz_ZM"
      },
      "source": [
        "The above gives the physical properties that we were looking for, namely the density contrasts for each particle encompassed by boxes of different sizes."
      ]
    }
  ]
}