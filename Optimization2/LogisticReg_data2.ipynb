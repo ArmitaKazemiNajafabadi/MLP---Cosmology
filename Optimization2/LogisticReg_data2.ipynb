{
  "cells": [
    {
      "cell_type": "markdown",
      "metadata": {
        "id": "view-in-github",
        "colab_type": "text"
      },
      "source": [
        "<a href=\"https://colab.research.google.com/github/as2c/MLP---Cosmology/blob/NewData/Optimization2/LogisticReg_data2.ipynb\" target=\"_parent\"><img src=\"https://colab.research.google.com/assets/colab-badge.svg\" alt=\"Open In Colab\"/></a>"
      ]
    },
    {
      "cell_type": "markdown",
      "metadata": {
        "id": "jwLDDwkEvixQ"
      },
      "source": [
        "In this code, our objective is to train some classic models such as SVM, KNN, RandomForest, etc on our test data, and try to evaluate their efficiency by plotting confusion matrixes, learning curves, validation curves, and measuring the prediction time. "
      ]
    },
    {
      "cell_type": "markdown",
      "metadata": {
        "id": "3v_SxfiDvixY"
      },
      "source": [
        "# Import phase I data"
      ]
    },
    {
      "cell_type": "markdown",
      "metadata": {
        "id": "U4iafM7UvixV"
      },
      "source": [
        "Import required libraries"
      ]
    },
    {
      "cell_type": "code",
      "execution_count": 2,
      "metadata": {
        "colab": {
          "base_uri": "https://localhost:8080/"
        },
        "id": "Mx7soy-MvixW",
        "outputId": "a601ba2f-38af-4f53-916b-a9bd535465fa"
      },
      "outputs": [
        {
          "output_type": "stream",
          "name": "stdout",
          "text": [
            "Created `%t` as an alias for `%timeit`.\n",
            "Created `%%t` as an alias for `%%timeit`.\n"
          ]
        }
      ],
      "source": [
        "import pandas as pd\n",
        "import numpy as np\n",
        "import matplotlib.pyplot as plt\n",
        "import matplotlib.cm as cm\n",
        "from sklearn.model_selection import learning_curve, validation_curve\n",
        "from sklearn.preprocessing import PolynomialFeatures\n",
        "from sklearn.pipeline import Pipeline\n",
        "from sklearn.utils import shuffle\n",
        "from sklearn.model_selection import train_test_split\n",
        "from sklearn.linear_model import RidgeClassifier\n",
        "from sklearn.metrics import confusion_matrix, plot_confusion_matrix\n",
        "import timeit\n",
        "import time\n",
        "%alias_magic t timeit\n",
        "# import warnings filter\n",
        "from warnings import simplefilter\n",
        "# ignore all future warnings\n",
        "simplefilter(action='ignore', category=FutureWarning)"
      ]
    },
    {
      "cell_type": "code",
      "execution_count": 2,
      "metadata": {
        "colab": {
          "base_uri": "https://localhost:8080/"
        },
        "outputId": "7aa02725-049b-450e-b8e6-dfdd0a4ee5d4",
        "id": "nTp2S46b-8kT"
      },
      "outputs": [
        {
          "output_type": "stream",
          "name": "stdout",
          "text": [
            "Drive already mounted at /content/drive; to attempt to forcibly remount, call drive.mount(\"/content/drive\", force_remount=True).\n"
          ]
        }
      ],
      "source": [
        "from google.colab import drive\n",
        "drive.mount('/content/drive')"
      ]
    },
    {
      "cell_type": "markdown",
      "source": [
        "## Gadget 2 Data / with Neutrino"
      ],
      "metadata": {
        "id": "xVLNS5KyItAF"
      }
    },
    {
      "cell_type": "code",
      "execution_count": 3,
      "metadata": {
        "colab": {
          "base_uri": "https://localhost:8080/",
          "height": 0
        },
        "outputId": "fbeacedc-64f0-49ec-fba9-2e6afc9153c3",
        "id": "wpc_eXP0-8kb"
      },
      "outputs": [
        {
          "output_type": "execute_result",
          "data": {
            "text/html": [
              "\n",
              "  <div id=\"df-45a6c331-0fb4-48b2-b232-68e210bed080\">\n",
              "    <div class=\"colab-df-container\">\n",
              "      <div>\n",
              "<style scoped>\n",
              "    .dataframe tbody tr th:only-of-type {\n",
              "        vertical-align: middle;\n",
              "    }\n",
              "\n",
              "    .dataframe tbody tr th {\n",
              "        vertical-align: top;\n",
              "    }\n",
              "\n",
              "    .dataframe thead th {\n",
              "        text-align: right;\n",
              "    }\n",
              "</style>\n",
              "<table border=\"1\" class=\"dataframe\">\n",
              "  <thead>\n",
              "    <tr style=\"text-align: right;\">\n",
              "      <th></th>\n",
              "      <th>id</th>\n",
              "      <th>haloID</th>\n",
              "      <th>halo_mass</th>\n",
              "      <th>vx</th>\n",
              "      <th>vy</th>\n",
              "      <th>vz</th>\n",
              "      <th>dc for 4.9</th>\n",
              "      <th>dc for 6.8</th>\n",
              "      <th>dc for 8.7</th>\n",
              "      <th>dc for 10.6</th>\n",
              "      <th>dc for 12.4</th>\n",
              "      <th>dc for 14.3</th>\n",
              "      <th>dc for 16.2</th>\n",
              "      <th>dc for 18.1</th>\n",
              "      <th>dc for 20.0</th>\n",
              "      <th>in_halo</th>\n",
              "    </tr>\n",
              "  </thead>\n",
              "  <tbody>\n",
              "    <tr>\n",
              "      <th>0</th>\n",
              "      <td>10156552</td>\n",
              "      <td>755</td>\n",
              "      <td>2280.0</td>\n",
              "      <td>171.21194</td>\n",
              "      <td>220.56293</td>\n",
              "      <td>-274.228700</td>\n",
              "      <td>-0.084922</td>\n",
              "      <td>-0.052028</td>\n",
              "      <td>-0.042415</td>\n",
              "      <td>-0.028087</td>\n",
              "      <td>-0.024984</td>\n",
              "      <td>-0.018675</td>\n",
              "      <td>-0.016231</td>\n",
              "      <td>-0.011940</td>\n",
              "      <td>-0.010111</td>\n",
              "      <td>1</td>\n",
              "    </tr>\n",
              "    <tr>\n",
              "      <th>1</th>\n",
              "      <td>11068486</td>\n",
              "      <td>85</td>\n",
              "      <td>1539.0</td>\n",
              "      <td>-129.84116</td>\n",
              "      <td>92.60424</td>\n",
              "      <td>212.125500</td>\n",
              "      <td>-0.127820</td>\n",
              "      <td>-0.081099</td>\n",
              "      <td>-0.051217</td>\n",
              "      <td>-0.028345</td>\n",
              "      <td>-0.013751</td>\n",
              "      <td>-0.013991</td>\n",
              "      <td>-0.012344</td>\n",
              "      <td>-0.011500</td>\n",
              "      <td>-0.012220</td>\n",
              "      <td>0</td>\n",
              "    </tr>\n",
              "    <tr>\n",
              "      <th>2</th>\n",
              "      <td>9530036</td>\n",
              "      <td>654</td>\n",
              "      <td>1944.0</td>\n",
              "      <td>-290.99210</td>\n",
              "      <td>-885.49430</td>\n",
              "      <td>468.255040</td>\n",
              "      <td>-0.078978</td>\n",
              "      <td>-0.052806</td>\n",
              "      <td>-0.030027</td>\n",
              "      <td>-0.011704</td>\n",
              "      <td>0.001295</td>\n",
              "      <td>0.003803</td>\n",
              "      <td>0.005131</td>\n",
              "      <td>0.005231</td>\n",
              "      <td>0.003787</td>\n",
              "      <td>1</td>\n",
              "    </tr>\n",
              "    <tr>\n",
              "      <th>3</th>\n",
              "      <td>11455022</td>\n",
              "      <td>752</td>\n",
              "      <td>1394.0</td>\n",
              "      <td>-60.35258</td>\n",
              "      <td>422.43716</td>\n",
              "      <td>79.394300</td>\n",
              "      <td>-0.109989</td>\n",
              "      <td>-0.079155</td>\n",
              "      <td>-0.054663</td>\n",
              "      <td>-0.037685</td>\n",
              "      <td>-0.026670</td>\n",
              "      <td>-0.017901</td>\n",
              "      <td>-0.009227</td>\n",
              "      <td>-0.000868</td>\n",
              "      <td>0.001568</td>\n",
              "      <td>0</td>\n",
              "    </tr>\n",
              "    <tr>\n",
              "      <th>4</th>\n",
              "      <td>8591034</td>\n",
              "      <td>356</td>\n",
              "      <td>1649.0</td>\n",
              "      <td>403.66608</td>\n",
              "      <td>345.88077</td>\n",
              "      <td>9.231552</td>\n",
              "      <td>-0.084405</td>\n",
              "      <td>-0.019068</td>\n",
              "      <td>-0.009396</td>\n",
              "      <td>-0.001539</td>\n",
              "      <td>0.002288</td>\n",
              "      <td>0.005629</td>\n",
              "      <td>0.011288</td>\n",
              "      <td>0.013111</td>\n",
              "      <td>0.013433</td>\n",
              "      <td>1</td>\n",
              "    </tr>\n",
              "    <tr>\n",
              "      <th>...</th>\n",
              "      <td>...</td>\n",
              "      <td>...</td>\n",
              "      <td>...</td>\n",
              "      <td>...</td>\n",
              "      <td>...</td>\n",
              "      <td>...</td>\n",
              "      <td>...</td>\n",
              "      <td>...</td>\n",
              "      <td>...</td>\n",
              "      <td>...</td>\n",
              "      <td>...</td>\n",
              "      <td>...</td>\n",
              "      <td>...</td>\n",
              "      <td>...</td>\n",
              "      <td>...</td>\n",
              "      <td>...</td>\n",
              "    </tr>\n",
              "    <tr>\n",
              "      <th>99995</th>\n",
              "      <td>2160800</td>\n",
              "      <td>451</td>\n",
              "      <td>2634.0</td>\n",
              "      <td>654.82430</td>\n",
              "      <td>210.78130</td>\n",
              "      <td>255.344150</td>\n",
              "      <td>-0.094225</td>\n",
              "      <td>-0.076043</td>\n",
              "      <td>-0.060624</td>\n",
              "      <td>-0.040368</td>\n",
              "      <td>-0.020840</td>\n",
              "      <td>-0.016261</td>\n",
              "      <td>-0.011803</td>\n",
              "      <td>-0.005002</td>\n",
              "      <td>0.000918</td>\n",
              "      <td>1</td>\n",
              "    </tr>\n",
              "    <tr>\n",
              "      <th>99996</th>\n",
              "      <td>3257728</td>\n",
              "      <td>43</td>\n",
              "      <td>1112.0</td>\n",
              "      <td>-154.27774</td>\n",
              "      <td>488.65564</td>\n",
              "      <td>-779.558400</td>\n",
              "      <td>-0.127045</td>\n",
              "      <td>-0.076529</td>\n",
              "      <td>-0.056246</td>\n",
              "      <td>-0.038201</td>\n",
              "      <td>-0.027520</td>\n",
              "      <td>-0.016374</td>\n",
              "      <td>-0.008045</td>\n",
              "      <td>0.002627</td>\n",
              "      <td>0.006124</td>\n",
              "      <td>0</td>\n",
              "    </tr>\n",
              "    <tr>\n",
              "      <th>99997</th>\n",
              "      <td>6101605</td>\n",
              "      <td>484</td>\n",
              "      <td>1198.0</td>\n",
              "      <td>-113.51735</td>\n",
              "      <td>68.44336</td>\n",
              "      <td>275.964000</td>\n",
              "      <td>-0.122135</td>\n",
              "      <td>-0.091794</td>\n",
              "      <td>-0.063465</td>\n",
              "      <td>-0.032060</td>\n",
              "      <td>-0.017973</td>\n",
              "      <td>-0.016684</td>\n",
              "      <td>-0.017740</td>\n",
              "      <td>-0.017154</td>\n",
              "      <td>-0.012600</td>\n",
              "      <td>0</td>\n",
              "    </tr>\n",
              "    <tr>\n",
              "      <th>99998</th>\n",
              "      <td>4576456</td>\n",
              "      <td>44</td>\n",
              "      <td>1058.0</td>\n",
              "      <td>-130.21120</td>\n",
              "      <td>292.63483</td>\n",
              "      <td>-754.563000</td>\n",
              "      <td>-0.097585</td>\n",
              "      <td>-0.076140</td>\n",
              "      <td>-0.061788</td>\n",
              "      <td>-0.054584</td>\n",
              "      <td>-0.043055</td>\n",
              "      <td>-0.032415</td>\n",
              "      <td>-0.021591</td>\n",
              "      <td>-0.007463</td>\n",
              "      <td>0.004673</td>\n",
              "      <td>0</td>\n",
              "    </tr>\n",
              "    <tr>\n",
              "      <th>99999</th>\n",
              "      <td>13755625</td>\n",
              "      <td>374</td>\n",
              "      <td>3436.0</td>\n",
              "      <td>-403.48090</td>\n",
              "      <td>360.35940</td>\n",
              "      <td>341.696500</td>\n",
              "      <td>-0.107922</td>\n",
              "      <td>-0.042597</td>\n",
              "      <td>-0.005298</td>\n",
              "      <td>0.006846</td>\n",
              "      <td>0.011993</td>\n",
              "      <td>0.019019</td>\n",
              "      <td>0.014505</td>\n",
              "      <td>0.013776</td>\n",
              "      <td>0.014595</td>\n",
              "      <td>1</td>\n",
              "    </tr>\n",
              "  </tbody>\n",
              "</table>\n",
              "<p>100000 rows × 16 columns</p>\n",
              "</div>\n",
              "      <button class=\"colab-df-convert\" onclick=\"convertToInteractive('df-45a6c331-0fb4-48b2-b232-68e210bed080')\"\n",
              "              title=\"Convert this dataframe to an interactive table.\"\n",
              "              style=\"display:none;\">\n",
              "        \n",
              "  <svg xmlns=\"http://www.w3.org/2000/svg\" height=\"24px\"viewBox=\"0 0 24 24\"\n",
              "       width=\"24px\">\n",
              "    <path d=\"M0 0h24v24H0V0z\" fill=\"none\"/>\n",
              "    <path d=\"M18.56 5.44l.94 2.06.94-2.06 2.06-.94-2.06-.94-.94-2.06-.94 2.06-2.06.94zm-11 1L8.5 8.5l.94-2.06 2.06-.94-2.06-.94L8.5 2.5l-.94 2.06-2.06.94zm10 10l.94 2.06.94-2.06 2.06-.94-2.06-.94-.94-2.06-.94 2.06-2.06.94z\"/><path d=\"M17.41 7.96l-1.37-1.37c-.4-.4-.92-.59-1.43-.59-.52 0-1.04.2-1.43.59L10.3 9.45l-7.72 7.72c-.78.78-.78 2.05 0 2.83L4 21.41c.39.39.9.59 1.41.59.51 0 1.02-.2 1.41-.59l7.78-7.78 2.81-2.81c.8-.78.8-2.07 0-2.86zM5.41 20L4 18.59l7.72-7.72 1.47 1.35L5.41 20z\"/>\n",
              "  </svg>\n",
              "      </button>\n",
              "      \n",
              "  <style>\n",
              "    .colab-df-container {\n",
              "      display:flex;\n",
              "      flex-wrap:wrap;\n",
              "      gap: 12px;\n",
              "    }\n",
              "\n",
              "    .colab-df-convert {\n",
              "      background-color: #E8F0FE;\n",
              "      border: none;\n",
              "      border-radius: 50%;\n",
              "      cursor: pointer;\n",
              "      display: none;\n",
              "      fill: #1967D2;\n",
              "      height: 32px;\n",
              "      padding: 0 0 0 0;\n",
              "      width: 32px;\n",
              "    }\n",
              "\n",
              "    .colab-df-convert:hover {\n",
              "      background-color: #E2EBFA;\n",
              "      box-shadow: 0px 1px 2px rgba(60, 64, 67, 0.3), 0px 1px 3px 1px rgba(60, 64, 67, 0.15);\n",
              "      fill: #174EA6;\n",
              "    }\n",
              "\n",
              "    [theme=dark] .colab-df-convert {\n",
              "      background-color: #3B4455;\n",
              "      fill: #D2E3FC;\n",
              "    }\n",
              "\n",
              "    [theme=dark] .colab-df-convert:hover {\n",
              "      background-color: #434B5C;\n",
              "      box-shadow: 0px 1px 3px 1px rgba(0, 0, 0, 0.15);\n",
              "      filter: drop-shadow(0px 1px 2px rgba(0, 0, 0, 0.3));\n",
              "      fill: #FFFFFF;\n",
              "    }\n",
              "  </style>\n",
              "\n",
              "      <script>\n",
              "        const buttonEl =\n",
              "          document.querySelector('#df-45a6c331-0fb4-48b2-b232-68e210bed080 button.colab-df-convert');\n",
              "        buttonEl.style.display =\n",
              "          google.colab.kernel.accessAllowed ? 'block' : 'none';\n",
              "\n",
              "        async function convertToInteractive(key) {\n",
              "          const element = document.querySelector('#df-45a6c331-0fb4-48b2-b232-68e210bed080');\n",
              "          const dataTable =\n",
              "            await google.colab.kernel.invokeFunction('convertToInteractive',\n",
              "                                                     [key], {});\n",
              "          if (!dataTable) return;\n",
              "\n",
              "          const docLinkHtml = 'Like what you see? Visit the ' +\n",
              "            '<a target=\"_blank\" href=https://colab.research.google.com/notebooks/data_table.ipynb>data table notebook</a>'\n",
              "            + ' to learn more about interactive tables.';\n",
              "          element.innerHTML = '';\n",
              "          dataTable['output_type'] = 'display_data';\n",
              "          await google.colab.output.renderOutput(dataTable, element);\n",
              "          const docLink = document.createElement('div');\n",
              "          docLink.innerHTML = docLinkHtml;\n",
              "          element.appendChild(docLink);\n",
              "        }\n",
              "      </script>\n",
              "    </div>\n",
              "  </div>\n",
              "  "
            ],
            "text/plain": [
              "             id  haloID  halo_mass  ...  dc for 18.1  dc for 20.0  in_halo\n",
              "0      10156552     755     2280.0  ...    -0.011940    -0.010111        1\n",
              "1      11068486      85     1539.0  ...    -0.011500    -0.012220        0\n",
              "2       9530036     654     1944.0  ...     0.005231     0.003787        1\n",
              "3      11455022     752     1394.0  ...    -0.000868     0.001568        0\n",
              "4       8591034     356     1649.0  ...     0.013111     0.013433        1\n",
              "...         ...     ...        ...  ...          ...          ...      ...\n",
              "99995   2160800     451     2634.0  ...    -0.005002     0.000918        1\n",
              "99996   3257728      43     1112.0  ...     0.002627     0.006124        0\n",
              "99997   6101605     484     1198.0  ...    -0.017154    -0.012600        0\n",
              "99998   4576456      44     1058.0  ...    -0.007463     0.004673        0\n",
              "99999  13755625     374     3436.0  ...     0.013776     0.014595        1\n",
              "\n",
              "[100000 rows x 16 columns]"
            ]
          },
          "metadata": {},
          "execution_count": 3
        }
      ],
      "source": [
        "data = pd.read_csv(r'/content/drive/MyDrive/denc_Neutrino')\n",
        "# data['in_halo'] = (data['haloID']>0).astype('int')\n",
        "data['in_halo'] = (data['halo_mass']>1600).astype('int32')\n",
        "data"
      ]
    },
    {
      "cell_type": "code",
      "source": [
        "data.describe()"
      ],
      "metadata": {
        "colab": {
          "base_uri": "https://localhost:8080/",
          "height": 0
        },
        "outputId": "5942cec4-f4fb-4ee3-94c5-ebb2d078ca61",
        "id": "5o6ASG2V-8kc"
      },
      "execution_count": 4,
      "outputs": [
        {
          "output_type": "execute_result",
          "data": {
            "text/html": [
              "\n",
              "  <div id=\"df-ad226cb0-3dd5-4811-81db-0a3c1f6e29b5\">\n",
              "    <div class=\"colab-df-container\">\n",
              "      <div>\n",
              "<style scoped>\n",
              "    .dataframe tbody tr th:only-of-type {\n",
              "        vertical-align: middle;\n",
              "    }\n",
              "\n",
              "    .dataframe tbody tr th {\n",
              "        vertical-align: top;\n",
              "    }\n",
              "\n",
              "    .dataframe thead th {\n",
              "        text-align: right;\n",
              "    }\n",
              "</style>\n",
              "<table border=\"1\" class=\"dataframe\">\n",
              "  <thead>\n",
              "    <tr style=\"text-align: right;\">\n",
              "      <th></th>\n",
              "      <th>id</th>\n",
              "      <th>haloID</th>\n",
              "      <th>halo_mass</th>\n",
              "      <th>vx</th>\n",
              "      <th>vy</th>\n",
              "      <th>vz</th>\n",
              "      <th>dc for 4.9</th>\n",
              "      <th>dc for 6.8</th>\n",
              "      <th>dc for 8.7</th>\n",
              "      <th>dc for 10.6</th>\n",
              "      <th>dc for 12.4</th>\n",
              "      <th>dc for 14.3</th>\n",
              "      <th>dc for 16.2</th>\n",
              "      <th>dc for 18.1</th>\n",
              "      <th>dc for 20.0</th>\n",
              "      <th>in_halo</th>\n",
              "    </tr>\n",
              "  </thead>\n",
              "  <tbody>\n",
              "    <tr>\n",
              "      <th>count</th>\n",
              "      <td>1.000000e+05</td>\n",
              "      <td>100000.000000</td>\n",
              "      <td>100000.000000</td>\n",
              "      <td>100000.000000</td>\n",
              "      <td>100000.000000</td>\n",
              "      <td>100000.000000</td>\n",
              "      <td>100000.000000</td>\n",
              "      <td>100000.000000</td>\n",
              "      <td>100000.000000</td>\n",
              "      <td>100000.000000</td>\n",
              "      <td>100000.000000</td>\n",
              "      <td>100000.000000</td>\n",
              "      <td>100000.000000</td>\n",
              "      <td>100000.000000</td>\n",
              "      <td>100000.000000</td>\n",
              "      <td>100000.000000</td>\n",
              "    </tr>\n",
              "    <tr>\n",
              "      <th>mean</th>\n",
              "      <td>8.716004e+06</td>\n",
              "      <td>424.627710</td>\n",
              "      <td>2369.299450</td>\n",
              "      <td>35.207601</td>\n",
              "      <td>-13.728656</td>\n",
              "      <td>97.821939</td>\n",
              "      <td>-0.107338</td>\n",
              "      <td>-0.062074</td>\n",
              "      <td>-0.038666</td>\n",
              "      <td>-0.025951</td>\n",
              "      <td>-0.017900</td>\n",
              "      <td>-0.011968</td>\n",
              "      <td>-0.007224</td>\n",
              "      <td>-0.003341</td>\n",
              "      <td>-0.000224</td>\n",
              "      <td>0.557930</td>\n",
              "    </tr>\n",
              "    <tr>\n",
              "      <th>std</th>\n",
              "      <td>3.549230e+06</td>\n",
              "      <td>230.962533</td>\n",
              "      <td>1856.527585</td>\n",
              "      <td>364.820655</td>\n",
              "      <td>369.919751</td>\n",
              "      <td>373.578625</td>\n",
              "      <td>0.020301</td>\n",
              "      <td>0.020965</td>\n",
              "      <td>0.019921</td>\n",
              "      <td>0.018106</td>\n",
              "      <td>0.015956</td>\n",
              "      <td>0.013969</td>\n",
              "      <td>0.012346</td>\n",
              "      <td>0.011069</td>\n",
              "      <td>0.010084</td>\n",
              "      <td>0.496635</td>\n",
              "    </tr>\n",
              "    <tr>\n",
              "      <th>min</th>\n",
              "      <td>2.131444e+06</td>\n",
              "      <td>16.000000</td>\n",
              "      <td>241.000000</td>\n",
              "      <td>-1247.932500</td>\n",
              "      <td>-1462.806300</td>\n",
              "      <td>-1250.519700</td>\n",
              "      <td>-0.127820</td>\n",
              "      <td>-0.099572</td>\n",
              "      <td>-0.083351</td>\n",
              "      <td>-0.072824</td>\n",
              "      <td>-0.065316</td>\n",
              "      <td>-0.058751</td>\n",
              "      <td>-0.050519</td>\n",
              "      <td>-0.043771</td>\n",
              "      <td>-0.038371</td>\n",
              "      <td>0.000000</td>\n",
              "    </tr>\n",
              "    <tr>\n",
              "      <th>25%</th>\n",
              "      <td>5.953820e+06</td>\n",
              "      <td>238.000000</td>\n",
              "      <td>1194.000000</td>\n",
              "      <td>-226.284345</td>\n",
              "      <td>-254.656135</td>\n",
              "      <td>-145.829085</td>\n",
              "      <td>-0.124202</td>\n",
              "      <td>-0.077891</td>\n",
              "      <td>-0.052474</td>\n",
              "      <td>-0.038510</td>\n",
              "      <td>-0.028860</td>\n",
              "      <td>-0.021233</td>\n",
              "      <td>-0.015384</td>\n",
              "      <td>-0.010712</td>\n",
              "      <td>-0.006964</td>\n",
              "      <td>0.000000</td>\n",
              "    </tr>\n",
              "    <tr>\n",
              "      <th>50%</th>\n",
              "      <td>9.043250e+06</td>\n",
              "      <td>418.000000</td>\n",
              "      <td>1791.000000</td>\n",
              "      <td>32.857450</td>\n",
              "      <td>-4.815737</td>\n",
              "      <td>101.883413</td>\n",
              "      <td>-0.113607</td>\n",
              "      <td>-0.063404</td>\n",
              "      <td>-0.039434</td>\n",
              "      <td>-0.026100</td>\n",
              "      <td>-0.017784</td>\n",
              "      <td>-0.011980</td>\n",
              "      <td>-0.007369</td>\n",
              "      <td>-0.003743</td>\n",
              "      <td>-0.000713</td>\n",
              "      <td>1.000000</td>\n",
              "    </tr>\n",
              "    <tr>\n",
              "      <th>75%</th>\n",
              "      <td>1.176120e+07</td>\n",
              "      <td>619.000000</td>\n",
              "      <td>2945.000000</td>\n",
              "      <td>284.168098</td>\n",
              "      <td>238.543252</td>\n",
              "      <td>350.062135</td>\n",
              "      <td>-0.095776</td>\n",
              "      <td>-0.048722</td>\n",
              "      <td>-0.025370</td>\n",
              "      <td>-0.013587</td>\n",
              "      <td>-0.006677</td>\n",
              "      <td>-0.002087</td>\n",
              "      <td>0.001081</td>\n",
              "      <td>0.004249</td>\n",
              "      <td>0.006694</td>\n",
              "      <td>1.000000</td>\n",
              "    </tr>\n",
              "    <tr>\n",
              "      <th>max</th>\n",
              "      <td>1.464652e+07</td>\n",
              "      <td>870.000000</td>\n",
              "      <td>10101.000000</td>\n",
              "      <td>1314.092800</td>\n",
              "      <td>1256.822900</td>\n",
              "      <td>1355.984900</td>\n",
              "      <td>0.017155</td>\n",
              "      <td>0.032463</td>\n",
              "      <td>0.044346</td>\n",
              "      <td>0.040490</td>\n",
              "      <td>0.042179</td>\n",
              "      <td>0.036009</td>\n",
              "      <td>0.033482</td>\n",
              "      <td>0.034145</td>\n",
              "      <td>0.032602</td>\n",
              "      <td>1.000000</td>\n",
              "    </tr>\n",
              "  </tbody>\n",
              "</table>\n",
              "</div>\n",
              "      <button class=\"colab-df-convert\" onclick=\"convertToInteractive('df-ad226cb0-3dd5-4811-81db-0a3c1f6e29b5')\"\n",
              "              title=\"Convert this dataframe to an interactive table.\"\n",
              "              style=\"display:none;\">\n",
              "        \n",
              "  <svg xmlns=\"http://www.w3.org/2000/svg\" height=\"24px\"viewBox=\"0 0 24 24\"\n",
              "       width=\"24px\">\n",
              "    <path d=\"M0 0h24v24H0V0z\" fill=\"none\"/>\n",
              "    <path d=\"M18.56 5.44l.94 2.06.94-2.06 2.06-.94-2.06-.94-.94-2.06-.94 2.06-2.06.94zm-11 1L8.5 8.5l.94-2.06 2.06-.94-2.06-.94L8.5 2.5l-.94 2.06-2.06.94zm10 10l.94 2.06.94-2.06 2.06-.94-2.06-.94-.94-2.06-.94 2.06-2.06.94z\"/><path d=\"M17.41 7.96l-1.37-1.37c-.4-.4-.92-.59-1.43-.59-.52 0-1.04.2-1.43.59L10.3 9.45l-7.72 7.72c-.78.78-.78 2.05 0 2.83L4 21.41c.39.39.9.59 1.41.59.51 0 1.02-.2 1.41-.59l7.78-7.78 2.81-2.81c.8-.78.8-2.07 0-2.86zM5.41 20L4 18.59l7.72-7.72 1.47 1.35L5.41 20z\"/>\n",
              "  </svg>\n",
              "      </button>\n",
              "      \n",
              "  <style>\n",
              "    .colab-df-container {\n",
              "      display:flex;\n",
              "      flex-wrap:wrap;\n",
              "      gap: 12px;\n",
              "    }\n",
              "\n",
              "    .colab-df-convert {\n",
              "      background-color: #E8F0FE;\n",
              "      border: none;\n",
              "      border-radius: 50%;\n",
              "      cursor: pointer;\n",
              "      display: none;\n",
              "      fill: #1967D2;\n",
              "      height: 32px;\n",
              "      padding: 0 0 0 0;\n",
              "      width: 32px;\n",
              "    }\n",
              "\n",
              "    .colab-df-convert:hover {\n",
              "      background-color: #E2EBFA;\n",
              "      box-shadow: 0px 1px 2px rgba(60, 64, 67, 0.3), 0px 1px 3px 1px rgba(60, 64, 67, 0.15);\n",
              "      fill: #174EA6;\n",
              "    }\n",
              "\n",
              "    [theme=dark] .colab-df-convert {\n",
              "      background-color: #3B4455;\n",
              "      fill: #D2E3FC;\n",
              "    }\n",
              "\n",
              "    [theme=dark] .colab-df-convert:hover {\n",
              "      background-color: #434B5C;\n",
              "      box-shadow: 0px 1px 3px 1px rgba(0, 0, 0, 0.15);\n",
              "      filter: drop-shadow(0px 1px 2px rgba(0, 0, 0, 0.3));\n",
              "      fill: #FFFFFF;\n",
              "    }\n",
              "  </style>\n",
              "\n",
              "      <script>\n",
              "        const buttonEl =\n",
              "          document.querySelector('#df-ad226cb0-3dd5-4811-81db-0a3c1f6e29b5 button.colab-df-convert');\n",
              "        buttonEl.style.display =\n",
              "          google.colab.kernel.accessAllowed ? 'block' : 'none';\n",
              "\n",
              "        async function convertToInteractive(key) {\n",
              "          const element = document.querySelector('#df-ad226cb0-3dd5-4811-81db-0a3c1f6e29b5');\n",
              "          const dataTable =\n",
              "            await google.colab.kernel.invokeFunction('convertToInteractive',\n",
              "                                                     [key], {});\n",
              "          if (!dataTable) return;\n",
              "\n",
              "          const docLinkHtml = 'Like what you see? Visit the ' +\n",
              "            '<a target=\"_blank\" href=https://colab.research.google.com/notebooks/data_table.ipynb>data table notebook</a>'\n",
              "            + ' to learn more about interactive tables.';\n",
              "          element.innerHTML = '';\n",
              "          dataTable['output_type'] = 'display_data';\n",
              "          await google.colab.output.renderOutput(dataTable, element);\n",
              "          const docLink = document.createElement('div');\n",
              "          docLink.innerHTML = docLinkHtml;\n",
              "          element.appendChild(docLink);\n",
              "        }\n",
              "      </script>\n",
              "    </div>\n",
              "  </div>\n",
              "  "
            ],
            "text/plain": [
              "                 id         haloID  ...    dc for 20.0        in_halo\n",
              "count  1.000000e+05  100000.000000  ...  100000.000000  100000.000000\n",
              "mean   8.716004e+06     424.627710  ...      -0.000224       0.557930\n",
              "std    3.549230e+06     230.962533  ...       0.010084       0.496635\n",
              "min    2.131444e+06      16.000000  ...      -0.038371       0.000000\n",
              "25%    5.953820e+06     238.000000  ...      -0.006964       0.000000\n",
              "50%    9.043250e+06     418.000000  ...      -0.000713       1.000000\n",
              "75%    1.176120e+07     619.000000  ...       0.006694       1.000000\n",
              "max    1.464652e+07     870.000000  ...       0.032602       1.000000\n",
              "\n",
              "[8 rows x 16 columns]"
            ]
          },
          "metadata": {},
          "execution_count": 4
        }
      ]
    },
    {
      "cell_type": "markdown",
      "source": [
        "### Define Datasets"
      ],
      "metadata": {
        "id": "X8_LRUefB_zV"
      }
    },
    {
      "cell_type": "code",
      "source": [
        "## Neutrino\n",
        "X = data.iloc[:,3:15].astype('float32').values\n",
        "Y = data.in_halo.astype('int32').values"
      ],
      "metadata": {
        "id": "or4kY4WWMucw"
      },
      "execution_count": 5,
      "outputs": []
    },
    {
      "cell_type": "code",
      "source": [
        "## Scale / Neutrino\n",
        "X = (X - np.mean(X))/np.std(X)"
      ],
      "metadata": {
        "id": "lXcWbPziPvLh"
      },
      "execution_count": 6,
      "outputs": []
    },
    {
      "cell_type": "code",
      "source": [
        "## Split into test and train / Neutrino\n",
        "\n",
        "tst_size = 0.2\n",
        "ns, nf = np.shape(X) \n",
        "X_train, X_test, Y_train, Y_test = train_test_split(*shuffle(X, Y, n_samples = ns, random_state=0) , random_state=0, test_size =tst_size )\n",
        "print('X_train :',len(X_train),'   X_test :',len(X_test))"
      ],
      "metadata": {
        "colab": {
          "base_uri": "https://localhost:8080/"
        },
        "id": "nwUV_V0rP2SM",
        "outputId": "680a979c-fe20-466d-9d6f-2f45d437d178"
      },
      "execution_count": 7,
      "outputs": [
        {
          "output_type": "stream",
          "name": "stdout",
          "text": [
            "X_train : 80000    X_test : 20000\n"
          ]
        }
      ]
    },
    {
      "cell_type": "code",
      "source": [
        "# Frequency of 1-class / Neutrino\n",
        "print(\"{} % of the stored data has class 1 \".format(100*Y.sum()/len(Y)))"
      ],
      "metadata": {
        "colab": {
          "base_uri": "https://localhost:8080/"
        },
        "id": "da58eyduR_5c",
        "outputId": "b58e83e5-3406-4db7-a37c-48727c790f1b"
      },
      "execution_count": 8,
      "outputs": [
        {
          "output_type": "stream",
          "name": "stdout",
          "text": [
            "55.793 % of the stored data has class 1 \n"
          ]
        }
      ]
    },
    {
      "cell_type": "markdown",
      "source": [
        "## Gadget 2 Data / without Neutrino"
      ],
      "metadata": {
        "id": "oXABFDLNI2qo"
      }
    },
    {
      "cell_type": "code",
      "source": [
        "data_cdm = pd.read_csv(r'/content/drive/MyDrive/denc_CDM')\n",
        "data_cdm['in_halo'] = (data_cdm['halo_mass']>1600).astype('int32')\n",
        "data_cdm"
      ],
      "metadata": {
        "colab": {
          "base_uri": "https://localhost:8080/",
          "height": 505
        },
        "id": "a8TQpPtYI-oz",
        "outputId": "7a3cd903-1c6e-48dc-f572-df746ff1d3e2"
      },
      "execution_count": 5,
      "outputs": [
        {
          "output_type": "execute_result",
          "data": {
            "text/html": [
              "\n",
              "  <div id=\"df-b4e42d55-c25f-44fe-bb7d-ae58b7942cce\">\n",
              "    <div class=\"colab-df-container\">\n",
              "      <div>\n",
              "<style scoped>\n",
              "    .dataframe tbody tr th:only-of-type {\n",
              "        vertical-align: middle;\n",
              "    }\n",
              "\n",
              "    .dataframe tbody tr th {\n",
              "        vertical-align: top;\n",
              "    }\n",
              "\n",
              "    .dataframe thead th {\n",
              "        text-align: right;\n",
              "    }\n",
              "</style>\n",
              "<table border=\"1\" class=\"dataframe\">\n",
              "  <thead>\n",
              "    <tr style=\"text-align: right;\">\n",
              "      <th></th>\n",
              "      <th>id</th>\n",
              "      <th>haloID</th>\n",
              "      <th>halo_mass</th>\n",
              "      <th>vx</th>\n",
              "      <th>vy</th>\n",
              "      <th>vz</th>\n",
              "      <th>dc for 4.9</th>\n",
              "      <th>dc for 6.8</th>\n",
              "      <th>dc for 8.7</th>\n",
              "      <th>dc for 10.6</th>\n",
              "      <th>dc for 12.4</th>\n",
              "      <th>dc for 14.3</th>\n",
              "      <th>dc for 16.2</th>\n",
              "      <th>dc for 18.1</th>\n",
              "      <th>dc for 20.0</th>\n",
              "      <th>in_halo</th>\n",
              "    </tr>\n",
              "  </thead>\n",
              "  <tbody>\n",
              "    <tr>\n",
              "      <th>0</th>\n",
              "      <td>8981131</td>\n",
              "      <td>414</td>\n",
              "      <td>1504.0</td>\n",
              "      <td>252.710050</td>\n",
              "      <td>-464.239500</td>\n",
              "      <td>509.94550</td>\n",
              "      <td>2.817576</td>\n",
              "      <td>2.780794</td>\n",
              "      <td>2.746420</td>\n",
              "      <td>2.446413</td>\n",
              "      <td>2.000415</td>\n",
              "      <td>1.533108</td>\n",
              "      <td>1.083378</td>\n",
              "      <td>0.691070</td>\n",
              "      <td>0.457584</td>\n",
              "      <td>0</td>\n",
              "    </tr>\n",
              "    <tr>\n",
              "      <th>1</th>\n",
              "      <td>9901676</td>\n",
              "      <td>1026</td>\n",
              "      <td>1013.0</td>\n",
              "      <td>-167.701370</td>\n",
              "      <td>499.161740</td>\n",
              "      <td>156.32635</td>\n",
              "      <td>2.690323</td>\n",
              "      <td>2.102417</td>\n",
              "      <td>1.805493</td>\n",
              "      <td>1.485764</td>\n",
              "      <td>1.267945</td>\n",
              "      <td>1.083753</td>\n",
              "      <td>0.849938</td>\n",
              "      <td>0.617267</td>\n",
              "      <td>0.431845</td>\n",
              "      <td>0</td>\n",
              "    </tr>\n",
              "    <tr>\n",
              "      <th>2</th>\n",
              "      <td>8288987</td>\n",
              "      <td>1079</td>\n",
              "      <td>727.0</td>\n",
              "      <td>46.129280</td>\n",
              "      <td>19.954561</td>\n",
              "      <td>164.61870</td>\n",
              "      <td>1.010590</td>\n",
              "      <td>0.821528</td>\n",
              "      <td>0.559744</td>\n",
              "      <td>0.220796</td>\n",
              "      <td>0.003400</td>\n",
              "      <td>-0.094805</td>\n",
              "      <td>-0.074599</td>\n",
              "      <td>0.003315</td>\n",
              "      <td>0.076079</td>\n",
              "      <td>0</td>\n",
              "    </tr>\n",
              "    <tr>\n",
              "      <th>3</th>\n",
              "      <td>4842631</td>\n",
              "      <td>675</td>\n",
              "      <td>1268.0</td>\n",
              "      <td>-234.629320</td>\n",
              "      <td>349.021400</td>\n",
              "      <td>-690.46674</td>\n",
              "      <td>1.889611</td>\n",
              "      <td>1.180236</td>\n",
              "      <td>0.495534</td>\n",
              "      <td>0.064434</td>\n",
              "      <td>-0.232441</td>\n",
              "      <td>-0.389582</td>\n",
              "      <td>-0.407908</td>\n",
              "      <td>-0.334146</td>\n",
              "      <td>-0.231578</td>\n",
              "      <td>0</td>\n",
              "    </tr>\n",
              "    <tr>\n",
              "      <th>4</th>\n",
              "      <td>12884124</td>\n",
              "      <td>437</td>\n",
              "      <td>6128.0</td>\n",
              "      <td>146.780670</td>\n",
              "      <td>-180.209270</td>\n",
              "      <td>-558.39777</td>\n",
              "      <td>2.676619</td>\n",
              "      <td>1.734870</td>\n",
              "      <td>0.906903</td>\n",
              "      <td>0.464721</td>\n",
              "      <td>0.187801</td>\n",
              "      <td>0.057663</td>\n",
              "      <td>0.029529</td>\n",
              "      <td>0.049055</td>\n",
              "      <td>0.101472</td>\n",
              "      <td>1</td>\n",
              "    </tr>\n",
              "    <tr>\n",
              "      <th>...</th>\n",
              "      <td>...</td>\n",
              "      <td>...</td>\n",
              "      <td>...</td>\n",
              "      <td>...</td>\n",
              "      <td>...</td>\n",
              "      <td>...</td>\n",
              "      <td>...</td>\n",
              "      <td>...</td>\n",
              "      <td>...</td>\n",
              "      <td>...</td>\n",
              "      <td>...</td>\n",
              "      <td>...</td>\n",
              "      <td>...</td>\n",
              "      <td>...</td>\n",
              "      <td>...</td>\n",
              "      <td>...</td>\n",
              "    </tr>\n",
              "    <tr>\n",
              "      <th>99995</th>\n",
              "      <td>12466311</td>\n",
              "      <td>1085</td>\n",
              "      <td>5542.0</td>\n",
              "      <td>25.253933</td>\n",
              "      <td>-580.586850</td>\n",
              "      <td>113.06337</td>\n",
              "      <td>1.482403</td>\n",
              "      <td>1.068278</td>\n",
              "      <td>0.857863</td>\n",
              "      <td>0.583947</td>\n",
              "      <td>0.327563</td>\n",
              "      <td>0.212553</td>\n",
              "      <td>0.139374</td>\n",
              "      <td>0.103515</td>\n",
              "      <td>0.090791</td>\n",
              "      <td>1</td>\n",
              "    </tr>\n",
              "    <tr>\n",
              "      <th>99996</th>\n",
              "      <td>11857185</td>\n",
              "      <td>491</td>\n",
              "      <td>691.0</td>\n",
              "      <td>-423.371550</td>\n",
              "      <td>138.109020</td>\n",
              "      <td>-300.80450</td>\n",
              "      <td>-0.209077</td>\n",
              "      <td>-0.534490</td>\n",
              "      <td>-0.724460</td>\n",
              "      <td>-0.749430</td>\n",
              "      <td>-0.743152</td>\n",
              "      <td>-0.663805</td>\n",
              "      <td>-0.511928</td>\n",
              "      <td>-0.347015</td>\n",
              "      <td>-0.253660</td>\n",
              "      <td>0</td>\n",
              "    </tr>\n",
              "    <tr>\n",
              "      <th>99997</th>\n",
              "      <td>9340191</td>\n",
              "      <td>947</td>\n",
              "      <td>868.0</td>\n",
              "      <td>225.385210</td>\n",
              "      <td>-9.085627</td>\n",
              "      <td>318.22006</td>\n",
              "      <td>1.086942</td>\n",
              "      <td>0.492283</td>\n",
              "      <td>0.114506</td>\n",
              "      <td>-0.050883</td>\n",
              "      <td>-0.161068</td>\n",
              "      <td>-0.168421</td>\n",
              "      <td>-0.159639</td>\n",
              "      <td>-0.175261</td>\n",
              "      <td>-0.202931</td>\n",
              "      <td>0</td>\n",
              "    </tr>\n",
              "    <tr>\n",
              "      <th>99998</th>\n",
              "      <td>13317963</td>\n",
              "      <td>1034</td>\n",
              "      <td>1175.0</td>\n",
              "      <td>-55.431606</td>\n",
              "      <td>16.332230</td>\n",
              "      <td>-898.90326</td>\n",
              "      <td>0.339088</td>\n",
              "      <td>-0.085185</td>\n",
              "      <td>-0.248881</td>\n",
              "      <td>-0.328230</td>\n",
              "      <td>-0.343797</td>\n",
              "      <td>-0.306353</td>\n",
              "      <td>-0.275684</td>\n",
              "      <td>-0.282089</td>\n",
              "      <td>-0.284524</td>\n",
              "      <td>0</td>\n",
              "    </tr>\n",
              "    <tr>\n",
              "      <th>99999</th>\n",
              "      <td>5325551</td>\n",
              "      <td>45</td>\n",
              "      <td>818.0</td>\n",
              "      <td>532.078060</td>\n",
              "      <td>372.133540</td>\n",
              "      <td>80.98245</td>\n",
              "      <td>0.448721</td>\n",
              "      <td>0.860566</td>\n",
              "      <td>0.864566</td>\n",
              "      <td>0.717441</td>\n",
              "      <td>0.626662</td>\n",
              "      <td>0.508189</td>\n",
              "      <td>0.307618</td>\n",
              "      <td>0.096964</td>\n",
              "      <td>-0.043834</td>\n",
              "      <td>0</td>\n",
              "    </tr>\n",
              "  </tbody>\n",
              "</table>\n",
              "<p>100000 rows × 16 columns</p>\n",
              "</div>\n",
              "      <button class=\"colab-df-convert\" onclick=\"convertToInteractive('df-b4e42d55-c25f-44fe-bb7d-ae58b7942cce')\"\n",
              "              title=\"Convert this dataframe to an interactive table.\"\n",
              "              style=\"display:none;\">\n",
              "        \n",
              "  <svg xmlns=\"http://www.w3.org/2000/svg\" height=\"24px\"viewBox=\"0 0 24 24\"\n",
              "       width=\"24px\">\n",
              "    <path d=\"M0 0h24v24H0V0z\" fill=\"none\"/>\n",
              "    <path d=\"M18.56 5.44l.94 2.06.94-2.06 2.06-.94-2.06-.94-.94-2.06-.94 2.06-2.06.94zm-11 1L8.5 8.5l.94-2.06 2.06-.94-2.06-.94L8.5 2.5l-.94 2.06-2.06.94zm10 10l.94 2.06.94-2.06 2.06-.94-2.06-.94-.94-2.06-.94 2.06-2.06.94z\"/><path d=\"M17.41 7.96l-1.37-1.37c-.4-.4-.92-.59-1.43-.59-.52 0-1.04.2-1.43.59L10.3 9.45l-7.72 7.72c-.78.78-.78 2.05 0 2.83L4 21.41c.39.39.9.59 1.41.59.51 0 1.02-.2 1.41-.59l7.78-7.78 2.81-2.81c.8-.78.8-2.07 0-2.86zM5.41 20L4 18.59l7.72-7.72 1.47 1.35L5.41 20z\"/>\n",
              "  </svg>\n",
              "      </button>\n",
              "      \n",
              "  <style>\n",
              "    .colab-df-container {\n",
              "      display:flex;\n",
              "      flex-wrap:wrap;\n",
              "      gap: 12px;\n",
              "    }\n",
              "\n",
              "    .colab-df-convert {\n",
              "      background-color: #E8F0FE;\n",
              "      border: none;\n",
              "      border-radius: 50%;\n",
              "      cursor: pointer;\n",
              "      display: none;\n",
              "      fill: #1967D2;\n",
              "      height: 32px;\n",
              "      padding: 0 0 0 0;\n",
              "      width: 32px;\n",
              "    }\n",
              "\n",
              "    .colab-df-convert:hover {\n",
              "      background-color: #E2EBFA;\n",
              "      box-shadow: 0px 1px 2px rgba(60, 64, 67, 0.3), 0px 1px 3px 1px rgba(60, 64, 67, 0.15);\n",
              "      fill: #174EA6;\n",
              "    }\n",
              "\n",
              "    [theme=dark] .colab-df-convert {\n",
              "      background-color: #3B4455;\n",
              "      fill: #D2E3FC;\n",
              "    }\n",
              "\n",
              "    [theme=dark] .colab-df-convert:hover {\n",
              "      background-color: #434B5C;\n",
              "      box-shadow: 0px 1px 3px 1px rgba(0, 0, 0, 0.15);\n",
              "      filter: drop-shadow(0px 1px 2px rgba(0, 0, 0, 0.3));\n",
              "      fill: #FFFFFF;\n",
              "    }\n",
              "  </style>\n",
              "\n",
              "      <script>\n",
              "        const buttonEl =\n",
              "          document.querySelector('#df-b4e42d55-c25f-44fe-bb7d-ae58b7942cce button.colab-df-convert');\n",
              "        buttonEl.style.display =\n",
              "          google.colab.kernel.accessAllowed ? 'block' : 'none';\n",
              "\n",
              "        async function convertToInteractive(key) {\n",
              "          const element = document.querySelector('#df-b4e42d55-c25f-44fe-bb7d-ae58b7942cce');\n",
              "          const dataTable =\n",
              "            await google.colab.kernel.invokeFunction('convertToInteractive',\n",
              "                                                     [key], {});\n",
              "          if (!dataTable) return;\n",
              "\n",
              "          const docLinkHtml = 'Like what you see? Visit the ' +\n",
              "            '<a target=\"_blank\" href=https://colab.research.google.com/notebooks/data_table.ipynb>data table notebook</a>'\n",
              "            + ' to learn more about interactive tables.';\n",
              "          element.innerHTML = '';\n",
              "          dataTable['output_type'] = 'display_data';\n",
              "          await google.colab.output.renderOutput(dataTable, element);\n",
              "          const docLink = document.createElement('div');\n",
              "          docLink.innerHTML = docLinkHtml;\n",
              "          element.appendChild(docLink);\n",
              "        }\n",
              "      </script>\n",
              "    </div>\n",
              "  </div>\n",
              "  "
            ],
            "text/plain": [
              "             id  haloID  halo_mass  ...  dc for 18.1  dc for 20.0  in_halo\n",
              "0       8981131     414     1504.0  ...     0.691070     0.457584        0\n",
              "1       9901676    1026     1013.0  ...     0.617267     0.431845        0\n",
              "2       8288987    1079      727.0  ...     0.003315     0.076079        0\n",
              "3       4842631     675     1268.0  ...    -0.334146    -0.231578        0\n",
              "4      12884124     437     6128.0  ...     0.049055     0.101472        1\n",
              "...         ...     ...        ...  ...          ...          ...      ...\n",
              "99995  12466311    1085     5542.0  ...     0.103515     0.090791        1\n",
              "99996  11857185     491      691.0  ...    -0.347015    -0.253660        0\n",
              "99997   9340191     947      868.0  ...    -0.175261    -0.202931        0\n",
              "99998  13317963    1034     1175.0  ...    -0.282089    -0.284524        0\n",
              "99999   5325551      45      818.0  ...     0.096964    -0.043834        0\n",
              "\n",
              "[100000 rows x 16 columns]"
            ]
          },
          "metadata": {},
          "execution_count": 5
        }
      ]
    },
    {
      "cell_type": "code",
      "source": [
        "data_cdm.describe()"
      ],
      "metadata": {
        "id": "6bMfGLnOAZV3",
        "outputId": "48525514-9356-4250-ef02-21444fbe8ce4",
        "colab": {
          "base_uri": "https://localhost:8080/",
          "height": 364
        }
      },
      "execution_count": 6,
      "outputs": [
        {
          "output_type": "execute_result",
          "data": {
            "text/html": [
              "\n",
              "  <div id=\"df-1499464d-0467-485a-a930-e6d23414efdc\">\n",
              "    <div class=\"colab-df-container\">\n",
              "      <div>\n",
              "<style scoped>\n",
              "    .dataframe tbody tr th:only-of-type {\n",
              "        vertical-align: middle;\n",
              "    }\n",
              "\n",
              "    .dataframe tbody tr th {\n",
              "        vertical-align: top;\n",
              "    }\n",
              "\n",
              "    .dataframe thead th {\n",
              "        text-align: right;\n",
              "    }\n",
              "</style>\n",
              "<table border=\"1\" class=\"dataframe\">\n",
              "  <thead>\n",
              "    <tr style=\"text-align: right;\">\n",
              "      <th></th>\n",
              "      <th>id</th>\n",
              "      <th>haloID</th>\n",
              "      <th>halo_mass</th>\n",
              "      <th>vx</th>\n",
              "      <th>vy</th>\n",
              "      <th>vz</th>\n",
              "      <th>dc for 4.9</th>\n",
              "      <th>dc for 6.8</th>\n",
              "      <th>dc for 8.7</th>\n",
              "      <th>dc for 10.6</th>\n",
              "      <th>dc for 12.4</th>\n",
              "      <th>dc for 14.3</th>\n",
              "      <th>dc for 16.2</th>\n",
              "      <th>dc for 18.1</th>\n",
              "      <th>dc for 20.0</th>\n",
              "      <th>in_halo</th>\n",
              "    </tr>\n",
              "  </thead>\n",
              "  <tbody>\n",
              "    <tr>\n",
              "      <th>count</th>\n",
              "      <td>1.000000e+05</td>\n",
              "      <td>100000.000000</td>\n",
              "      <td>100000.000000</td>\n",
              "      <td>100000.000000</td>\n",
              "      <td>100000.000000</td>\n",
              "      <td>100000.000000</td>\n",
              "      <td>100000.000000</td>\n",
              "      <td>100000.000000</td>\n",
              "      <td>100000.000000</td>\n",
              "      <td>100000.000000</td>\n",
              "      <td>100000.000000</td>\n",
              "      <td>100000.000000</td>\n",
              "      <td>100000.000000</td>\n",
              "      <td>100000.000000</td>\n",
              "      <td>100000.000000</td>\n",
              "      <td>100000.000000</td>\n",
              "    </tr>\n",
              "    <tr>\n",
              "      <th>mean</th>\n",
              "      <td>8.533738e+06</td>\n",
              "      <td>633.075900</td>\n",
              "      <td>3004.391080</td>\n",
              "      <td>32.287533</td>\n",
              "      <td>-13.697343</td>\n",
              "      <td>89.574071</td>\n",
              "      <td>1.423915</td>\n",
              "      <td>1.032233</td>\n",
              "      <td>0.712873</td>\n",
              "      <td>0.480862</td>\n",
              "      <td>0.322917</td>\n",
              "      <td>0.216223</td>\n",
              "      <td>0.144046</td>\n",
              "      <td>0.096634</td>\n",
              "      <td>0.066060</td>\n",
              "      <td>0.589200</td>\n",
              "    </tr>\n",
              "    <tr>\n",
              "      <th>std</th>\n",
              "      <td>3.598448e+06</td>\n",
              "      <td>358.496156</td>\n",
              "      <td>2802.876192</td>\n",
              "      <td>359.880883</td>\n",
              "      <td>364.383569</td>\n",
              "      <td>374.571567</td>\n",
              "      <td>1.023549</td>\n",
              "      <td>0.920945</td>\n",
              "      <td>0.807251</td>\n",
              "      <td>0.689640</td>\n",
              "      <td>0.585773</td>\n",
              "      <td>0.502089</td>\n",
              "      <td>0.436403</td>\n",
              "      <td>0.384151</td>\n",
              "      <td>0.341271</td>\n",
              "      <td>0.491981</td>\n",
              "    </tr>\n",
              "    <tr>\n",
              "      <th>min</th>\n",
              "      <td>2.131195e+06</td>\n",
              "      <td>3.000000</td>\n",
              "      <td>271.000000</td>\n",
              "      <td>-1234.874100</td>\n",
              "      <td>-1571.376600</td>\n",
              "      <td>-1311.024700</td>\n",
              "      <td>-0.994127</td>\n",
              "      <td>-0.912349</td>\n",
              "      <td>-0.878283</td>\n",
              "      <td>-0.891915</td>\n",
              "      <td>-0.933043</td>\n",
              "      <td>-0.935449</td>\n",
              "      <td>-0.868262</td>\n",
              "      <td>-0.815454</td>\n",
              "      <td>-0.787467</td>\n",
              "      <td>0.000000</td>\n",
              "    </tr>\n",
              "    <tr>\n",
              "      <th>25%</th>\n",
              "      <td>5.640789e+06</td>\n",
              "      <td>368.000000</td>\n",
              "      <td>1181.000000</td>\n",
              "      <td>-223.982345</td>\n",
              "      <td>-249.685410</td>\n",
              "      <td>-148.388917</td>\n",
              "      <td>0.660156</td>\n",
              "      <td>0.354545</td>\n",
              "      <td>0.122621</td>\n",
              "      <td>-0.026842</td>\n",
              "      <td>-0.107359</td>\n",
              "      <td>-0.161173</td>\n",
              "      <td>-0.183527</td>\n",
              "      <td>-0.186967</td>\n",
              "      <td>-0.181568</td>\n",
              "      <td>0.000000</td>\n",
              "    </tr>\n",
              "    <tr>\n",
              "      <th>50%</th>\n",
              "      <td>8.790886e+06</td>\n",
              "      <td>676.000000</td>\n",
              "      <td>2020.000000</td>\n",
              "      <td>28.124724</td>\n",
              "      <td>-4.978945</td>\n",
              "      <td>97.944227</td>\n",
              "      <td>1.269011</td>\n",
              "      <td>0.890765</td>\n",
              "      <td>0.589027</td>\n",
              "      <td>0.370513</td>\n",
              "      <td>0.223129</td>\n",
              "      <td>0.134561</td>\n",
              "      <td>0.074502</td>\n",
              "      <td>0.037988</td>\n",
              "      <td>0.011761</td>\n",
              "      <td>1.000000</td>\n",
              "    </tr>\n",
              "    <tr>\n",
              "      <th>75%</th>\n",
              "      <td>1.143724e+07</td>\n",
              "      <td>970.000000</td>\n",
              "      <td>3662.000000</td>\n",
              "      <td>277.156240</td>\n",
              "      <td>231.618633</td>\n",
              "      <td>341.305498</td>\n",
              "      <td>2.057976</td>\n",
              "      <td>1.549992</td>\n",
              "      <td>1.162333</td>\n",
              "      <td>0.872826</td>\n",
              "      <td>0.674880</td>\n",
              "      <td>0.526476</td>\n",
              "      <td>0.422276</td>\n",
              "      <td>0.353801</td>\n",
              "      <td>0.294427</td>\n",
              "      <td>1.000000</td>\n",
              "    </tr>\n",
              "    <tr>\n",
              "      <th>max</th>\n",
              "      <td>1.464654e+07</td>\n",
              "      <td>1251.000000</td>\n",
              "      <td>31252.000000</td>\n",
              "      <td>1362.093800</td>\n",
              "      <td>1185.835400</td>\n",
              "      <td>1349.211900</td>\n",
              "      <td>5.624963</td>\n",
              "      <td>4.721646</td>\n",
              "      <td>3.972765</td>\n",
              "      <td>3.400808</td>\n",
              "      <td>2.783131</td>\n",
              "      <td>2.163220</td>\n",
              "      <td>1.888203</td>\n",
              "      <td>1.618024</td>\n",
              "      <td>1.364662</td>\n",
              "      <td>1.000000</td>\n",
              "    </tr>\n",
              "  </tbody>\n",
              "</table>\n",
              "</div>\n",
              "      <button class=\"colab-df-convert\" onclick=\"convertToInteractive('df-1499464d-0467-485a-a930-e6d23414efdc')\"\n",
              "              title=\"Convert this dataframe to an interactive table.\"\n",
              "              style=\"display:none;\">\n",
              "        \n",
              "  <svg xmlns=\"http://www.w3.org/2000/svg\" height=\"24px\"viewBox=\"0 0 24 24\"\n",
              "       width=\"24px\">\n",
              "    <path d=\"M0 0h24v24H0V0z\" fill=\"none\"/>\n",
              "    <path d=\"M18.56 5.44l.94 2.06.94-2.06 2.06-.94-2.06-.94-.94-2.06-.94 2.06-2.06.94zm-11 1L8.5 8.5l.94-2.06 2.06-.94-2.06-.94L8.5 2.5l-.94 2.06-2.06.94zm10 10l.94 2.06.94-2.06 2.06-.94-2.06-.94-.94-2.06-.94 2.06-2.06.94z\"/><path d=\"M17.41 7.96l-1.37-1.37c-.4-.4-.92-.59-1.43-.59-.52 0-1.04.2-1.43.59L10.3 9.45l-7.72 7.72c-.78.78-.78 2.05 0 2.83L4 21.41c.39.39.9.59 1.41.59.51 0 1.02-.2 1.41-.59l7.78-7.78 2.81-2.81c.8-.78.8-2.07 0-2.86zM5.41 20L4 18.59l7.72-7.72 1.47 1.35L5.41 20z\"/>\n",
              "  </svg>\n",
              "      </button>\n",
              "      \n",
              "  <style>\n",
              "    .colab-df-container {\n",
              "      display:flex;\n",
              "      flex-wrap:wrap;\n",
              "      gap: 12px;\n",
              "    }\n",
              "\n",
              "    .colab-df-convert {\n",
              "      background-color: #E8F0FE;\n",
              "      border: none;\n",
              "      border-radius: 50%;\n",
              "      cursor: pointer;\n",
              "      display: none;\n",
              "      fill: #1967D2;\n",
              "      height: 32px;\n",
              "      padding: 0 0 0 0;\n",
              "      width: 32px;\n",
              "    }\n",
              "\n",
              "    .colab-df-convert:hover {\n",
              "      background-color: #E2EBFA;\n",
              "      box-shadow: 0px 1px 2px rgba(60, 64, 67, 0.3), 0px 1px 3px 1px rgba(60, 64, 67, 0.15);\n",
              "      fill: #174EA6;\n",
              "    }\n",
              "\n",
              "    [theme=dark] .colab-df-convert {\n",
              "      background-color: #3B4455;\n",
              "      fill: #D2E3FC;\n",
              "    }\n",
              "\n",
              "    [theme=dark] .colab-df-convert:hover {\n",
              "      background-color: #434B5C;\n",
              "      box-shadow: 0px 1px 3px 1px rgba(0, 0, 0, 0.15);\n",
              "      filter: drop-shadow(0px 1px 2px rgba(0, 0, 0, 0.3));\n",
              "      fill: #FFFFFF;\n",
              "    }\n",
              "  </style>\n",
              "\n",
              "      <script>\n",
              "        const buttonEl =\n",
              "          document.querySelector('#df-1499464d-0467-485a-a930-e6d23414efdc button.colab-df-convert');\n",
              "        buttonEl.style.display =\n",
              "          google.colab.kernel.accessAllowed ? 'block' : 'none';\n",
              "\n",
              "        async function convertToInteractive(key) {\n",
              "          const element = document.querySelector('#df-1499464d-0467-485a-a930-e6d23414efdc');\n",
              "          const dataTable =\n",
              "            await google.colab.kernel.invokeFunction('convertToInteractive',\n",
              "                                                     [key], {});\n",
              "          if (!dataTable) return;\n",
              "\n",
              "          const docLinkHtml = 'Like what you see? Visit the ' +\n",
              "            '<a target=\"_blank\" href=https://colab.research.google.com/notebooks/data_table.ipynb>data table notebook</a>'\n",
              "            + ' to learn more about interactive tables.';\n",
              "          element.innerHTML = '';\n",
              "          dataTable['output_type'] = 'display_data';\n",
              "          await google.colab.output.renderOutput(dataTable, element);\n",
              "          const docLink = document.createElement('div');\n",
              "          docLink.innerHTML = docLinkHtml;\n",
              "          element.appendChild(docLink);\n",
              "        }\n",
              "      </script>\n",
              "    </div>\n",
              "  </div>\n",
              "  "
            ],
            "text/plain": [
              "                 id         haloID  ...    dc for 20.0        in_halo\n",
              "count  1.000000e+05  100000.000000  ...  100000.000000  100000.000000\n",
              "mean   8.533738e+06     633.075900  ...       0.066060       0.589200\n",
              "std    3.598448e+06     358.496156  ...       0.341271       0.491981\n",
              "min    2.131195e+06       3.000000  ...      -0.787467       0.000000\n",
              "25%    5.640789e+06     368.000000  ...      -0.181568       0.000000\n",
              "50%    8.790886e+06     676.000000  ...       0.011761       1.000000\n",
              "75%    1.143724e+07     970.000000  ...       0.294427       1.000000\n",
              "max    1.464654e+07    1251.000000  ...       1.364662       1.000000\n",
              "\n",
              "[8 rows x 16 columns]"
            ]
          },
          "metadata": {},
          "execution_count": 6
        }
      ]
    },
    {
      "cell_type": "markdown",
      "source": [
        "### Define Datasets"
      ],
      "metadata": {
        "id": "T3j7w19QMtr6"
      }
    },
    {
      "cell_type": "code",
      "source": [
        "X2 = data_cdm.iloc[:,3:15].astype('float32').values\n",
        "Y2 = data_cdm.in_halo.astype('int32').values"
      ],
      "metadata": {
        "id": "wZ-HpA6NM8Q2"
      },
      "execution_count": 8,
      "outputs": []
    },
    {
      "cell_type": "code",
      "source": [
        "## Scale\n",
        "X2 = (X2 - np.mean(X2))/np.std(X2)"
      ],
      "metadata": {
        "id": "rWlWvyHiPwW2"
      },
      "execution_count": 10,
      "outputs": []
    },
    {
      "cell_type": "code",
      "source": [
        "## Split into test and train\n",
        "\n",
        "tst_size = 0.2\n",
        "ns, nf = np.shape(X) \n",
        "X2_train, X2_test, Y2_train, Y2_test = train_test_split(*shuffle(X, Y, n_samples = ns, random_state=0) , random_state=0, test_size =tst_size )\n",
        "print('X2_train :',len(X2_train),'   X2_test :',len(X2_test))"
      ],
      "metadata": {
        "colab": {
          "base_uri": "https://localhost:8080/"
        },
        "id": "9apbXZgBQBdC",
        "outputId": "c79aa84a-5b3a-4567-9329-60ff0fc487c0"
      },
      "execution_count": 12,
      "outputs": [
        {
          "output_type": "stream",
          "name": "stdout",
          "text": [
            "X2_train : 80000    X2_test : 20000\n"
          ]
        }
      ]
    },
    {
      "cell_type": "code",
      "source": [
        "# Frequency of 1-class / CDM\n",
        "print(\"{} % of the stored data has class 1 \".format(100*Y2.sum()/len(Y2)))"
      ],
      "metadata": {
        "id": "cab_Ut9DApBC",
        "outputId": "23c5df32-119b-40fd-a1af-542741fd9d59",
        "colab": {
          "base_uri": "https://localhost:8080/"
        }
      },
      "execution_count": 14,
      "outputs": [
        {
          "output_type": "stream",
          "name": "stdout",
          "text": [
            "58.92 % of the stored data has class 1 \n"
          ]
        }
      ]
    },
    {
      "cell_type": "markdown",
      "metadata": {
        "id": "ckUaCbULvixn"
      },
      "source": [
        "# Logistic Regression"
      ]
    },
    {
      "cell_type": "markdown",
      "source": [
        "Training a linear logistic regression with intercepts on a 1st degree polynpmial of sample data, in pipeline."
      ],
      "metadata": {
        "id": "T-Ogq8Sk7JRD"
      }
    },
    {
      "cell_type": "code",
      "source": [
        "from sklearn.linear_model import LogisticRegression\n",
        "from sklearn.pipeline import Pipeline\n",
        "from sklearn.preprocessing import StandardScaler, PolynomialFeatures\n",
        "\n",
        "deg = 3\n",
        "\n",
        "lrg = LogisticRegression(fit_intercept=True, penalty='l2', max_iter=300, C = 1, tol=.01, solver='lbfgs')\n",
        "clf = Pipeline([('scaler', StandardScaler() ), \n",
        "                        ('p_transformer', PolynomialFeatures(degree = deg)), \n",
        "                        ('clf', lrg)])\n",
        "\n",
        "clf.fit(X_train, Y_train)\n",
        "Y_predict = clf.predict(X_test)"
      ],
      "metadata": {
        "id": "K8gtorbixqfI",
        "colab": {
          "base_uri": "https://localhost:8080/"
        },
        "outputId": "3a3edc7e-5019-45df-da0d-ed6bf28a94e3"
      },
      "execution_count": 14,
      "outputs": [
        {
          "output_type": "stream",
          "name": "stderr",
          "text": [
            "/usr/local/lib/python3.7/dist-packages/sklearn/linear_model/_logistic.py:818: ConvergenceWarning: lbfgs failed to converge (status=1):\n",
            "STOP: TOTAL NO. of ITERATIONS REACHED LIMIT.\n",
            "\n",
            "Increase the number of iterations (max_iter) or scale the data as shown in:\n",
            "    https://scikit-learn.org/stable/modules/preprocessing.html\n",
            "Please also refer to the documentation for alternative solver options:\n",
            "    https://scikit-learn.org/stable/modules/linear_model.html#logistic-regression\n",
            "  extra_warning_msg=_LOGISTIC_SOLVER_CONVERGENCE_MSG,\n"
          ]
        }
      ]
    },
    {
      "cell_type": "code",
      "source": [
        "# F1 score on the test set\n",
        "from sklearn.metrics import f1_score\n",
        "\n",
        "f1_score(Y_test, Y_predict, average='macro')"
      ],
      "metadata": {
        "colab": {
          "base_uri": "https://localhost:8080/"
        },
        "id": "ihOUBr9L6hvp",
        "outputId": "3da0464a-fd45-415b-f982-99e9fe9a6d31"
      },
      "execution_count": 15,
      "outputs": [
        {
          "output_type": "execute_result",
          "data": {
            "text/plain": [
              "0.7292486713109956"
            ]
          },
          "metadata": {},
          "execution_count": 15
        }
      ]
    },
    {
      "cell_type": "markdown",
      "metadata": {
        "id": "V-3OIsjJzcEc"
      },
      "source": [
        "### Fine Tuning The Hyperparameter"
      ]
    },
    {
      "cell_type": "code",
      "source": [
        "clf.get_params().keys()"
      ],
      "metadata": {
        "colab": {
          "base_uri": "https://localhost:8080/"
        },
        "id": "-JgU4LK2GSoc",
        "outputId": "19ad47c9-7162-4ff9-8823-c0ec854087e3"
      },
      "execution_count": 41,
      "outputs": [
        {
          "output_type": "execute_result",
          "data": {
            "text/plain": [
              "dict_keys(['memory', 'steps', 'verbose', 'scaler', 'p_transformer', 'clf', 'scaler__copy', 'scaler__with_mean', 'scaler__with_std', 'p_transformer__degree', 'p_transformer__include_bias', 'p_transformer__interaction_only', 'p_transformer__order', 'clf__C', 'clf__class_weight', 'clf__dual', 'clf__fit_intercept', 'clf__intercept_scaling', 'clf__l1_ratio', 'clf__max_iter', 'clf__multi_class', 'clf__n_jobs', 'clf__penalty', 'clf__random_state', 'clf__solver', 'clf__tol', 'clf__verbose', 'clf__warm_start'])"
            ]
          },
          "metadata": {},
          "execution_count": 41
        }
      ]
    },
    {
      "cell_type": "code",
      "execution_count": 24,
      "metadata": {
        "colab": {
          "base_uri": "https://localhost:8080/"
        },
        "outputId": "6e54cd8f-7f5d-4a03-9019-c2fc9de3631e",
        "id": "9e-F3pUdzcEc"
      },
      "outputs": [
        {
          "output_type": "stream",
          "name": "stdout",
          "text": [
            "{'clf__solver': ['lbfgs', 'saga'], 'clf__C': [0.1, 1], 'clf__tol': array([0.001, 0.01 , 0.1  ])}\n"
          ]
        }
      ],
      "source": [
        "from sklearn.model_selection import GridSearchCV\n",
        "\n",
        "# deg_list = [1,2,3]\n",
        "\n",
        "tol = np.logspace(-3,-1, num=3)\n",
        "\n",
        "# penalty = ['l1', 'l2']\n",
        "\n",
        "# class_weight = [{0: 5, 1:1}, {0: 3, 1:1}, None]\n",
        "\n",
        "C = [.1,1]\n",
        "\n",
        "solver = ['lbfgs', 'saga']\n",
        "\n",
        "random_grid_lrg = {\n",
        "                # 'clf__class_weight': class_weight,\n",
        "                'clf__solver': solver,\n",
        "                # 'p_transformer__degree' : deg_list,\n",
        "                'clf__C': C,\n",
        "                'clf__tol': tol\n",
        "                  }\n",
        "\n",
        "print(random_grid_lrg)"
      ]
    },
    {
      "cell_type": "code",
      "execution_count": null,
      "metadata": {
        "id": "kw1xPX7NzcEc"
      },
      "outputs": [],
      "source": [
        "scoring = 'f1'\n",
        "best_params= []\n",
        "print('start')\n",
        "\n",
        "lrg_grid = GridSearchCV(estimator = clf, param_grid = random_grid_lrg, scoring= scoring, cv = 4, verbose=2, pre_dispatch=2)\n",
        "\n",
        "\n",
        "lrg_grid.fit(X_train, Y_train)\n",
        "\n",
        "best_params += [lrg_grid.best_params_]\n",
        "print(best_params)"
      ]
    },
    {
      "cell_type": "code",
      "source": [
        "# Other best_params we got:\n",
        "# accuracy:\n",
        "## {'clf__C': 0.1, 'clf__penalty': 'l2', 'clf__solver': 'saga', 'p_transformer__degree': 1}\n",
        "## {'clf__C': 1, 'clf__solver': 'liblinear', 'p_transformer__degree': 1}\n",
        "## {'clf__C': 0.1,'clf__class_weight': None,'clf__solver': 'liblinear','p_transformer__degree': 1}\n",
        "#  f1:\n",
        "## [{'clf__C': 0.1, 'clf__solver': 'lbfgs', 'clf__tol': 0.001}]\n",
        "## [{'clf__C': 1, 'clf__class_weight': {0: 1, 1: 3}, 'clf__solver': 'lbfgs', 'p_transformer__degree': 2}]\n",
        "## {'clf__C': 1, 'clf__class_weight': {0: 1, 1: 5}, 'clf__solver': 'liblinear', 'p_transformer__degree': 1}"
      ],
      "metadata": {
        "id": "VALjKnpirVwE"
      },
      "execution_count": null,
      "outputs": []
    },
    {
      "cell_type": "markdown",
      "source": [
        "Best Model:"
      ],
      "metadata": {
        "id": "bNSwZJnRwyyy"
      }
    },
    {
      "cell_type": "code",
      "execution_count": 9,
      "metadata": {
        "id": "LOl9g5ZTvixn"
      },
      "outputs": [],
      "source": [
        "from sklearn.linear_model import LogisticRegression\n",
        "from sklearn.pipeline import Pipeline\n",
        "from sklearn.preprocessing import StandardScaler, PolynomialFeatures\n",
        "deg = 4\n",
        "\n",
        "lrg = LogisticRegression(fit_intercept=True, penalty='l2', max_iter=400, C=.1, tol=.001, solver='lbfgs')\n",
        "clf = Pipeline([('scaler', StandardScaler() ), \n",
        "                        ('p_transformer', PolynomialFeatures(degree = deg)), \n",
        "                        ('clf', lrg)])"
      ]
    },
    {
      "cell_type": "code",
      "source": [
        "clf.fit(X_train, Y_train)\n",
        "Y_predict = clf.predict(X_test)\n",
        "\n",
        "# F1 score on the test set\n",
        "from sklearn.metrics import f1_score\n",
        "f1_score(Y_test, Y_predict, average='macro')"
      ],
      "metadata": {
        "colab": {
          "base_uri": "https://localhost:8080/"
        },
        "id": "V_aXOlYn4VCR",
        "outputId": "a91bfd98-fb85-4280-c505-fbebb5a96737"
      },
      "execution_count": 10,
      "outputs": [
        {
          "output_type": "stream",
          "name": "stderr",
          "text": [
            "/usr/local/lib/python3.7/dist-packages/sklearn/linear_model/_logistic.py:818: ConvergenceWarning: lbfgs failed to converge (status=1):\n",
            "STOP: TOTAL NO. of ITERATIONS REACHED LIMIT.\n",
            "\n",
            "Increase the number of iterations (max_iter) or scale the data as shown in:\n",
            "    https://scikit-learn.org/stable/modules/preprocessing.html\n",
            "Please also refer to the documentation for alternative solver options:\n",
            "    https://scikit-learn.org/stable/modules/linear_model.html#logistic-regression\n",
            "  extra_warning_msg=_LOGISTIC_SOLVER_CONVERGENCE_MSG,\n"
          ]
        },
        {
          "output_type": "execute_result",
          "data": {
            "text/plain": [
              "0.7542484503763625"
            ]
          },
          "metadata": {},
          "execution_count": 10
        }
      ]
    },
    {
      "cell_type": "markdown",
      "metadata": {
        "id": "8h2D5sNBxjOz"
      },
      "source": [
        "### Learning Curve"
      ]
    },
    {
      "cell_type": "code",
      "execution_count": 32,
      "metadata": {
        "id": "GO7mkbIjxkiE",
        "colab": {
          "base_uri": "https://localhost:8080/",
          "height": 839
        },
        "outputId": "21c517b3-1f1c-4a8f-c816-0bbafb10a48d"
      },
      "outputs": [
        {
          "output_type": "stream",
          "name": "stderr",
          "text": [
            "/usr/local/lib/python3.7/dist-packages/joblib/externals/loky/process_executor.py:705: UserWarning: A worker stopped while some jobs were given to the executor. This can be caused by a too short worker timeout or by a memory leak.\n",
            "  \"timeout or by a memory leak.\", UserWarning\n"
          ]
        },
        {
          "output_type": "display_data",
          "data": {
            "image/png": "[encoded data removed]",
            "text/plain": [
              "<Figure size 576x360 with 1 Axes>"
            ]
          },
          "metadata": {
            "needs_background": "light"
          }
        },
        {
          "output_type": "stream",
          "name": "stdout",
          "text": [
            "Training scores:\n",
            "\n",
            "                cv1       cv2       cv3       cv4\n",
            "0.010000  0.946695  0.941176  0.941176  0.941176\n",
            "0.151429  0.807452  0.809259  0.809259  0.809259\n",
            "0.292857  0.804977  0.802610  0.802610  0.802610\n",
            "0.434286  0.799177  0.797725  0.798923  0.798923\n",
            "0.575714  0.797908  0.795829  0.796077  0.796077\n",
            "0.717143  0.794913  0.793473  0.794276  0.796859\n",
            "0.858571  0.795552  0.794209  0.796331  0.795729\n",
            "1.000000  0.797140  0.794296  0.796357  0.795165\n",
            "\n",
            " ----------------------------------------------------------------------\n",
            "\n",
            "Validation scores:\n",
            "\n",
            "                cv1       cv2       cv3       cv4  mean_score\n",
            "0.010000  0.716697  0.698017  0.696692  0.700917    0.703081\n",
            "0.151429  0.777410  0.768869  0.771667  0.772511    0.772614\n",
            "0.292857  0.782840  0.781533  0.780056  0.783196    0.781906\n",
            "0.434286  0.784824  0.786440  0.783728  0.786839    0.785458\n",
            "0.575714  0.787045  0.787102  0.787621  0.788486    0.787563\n",
            "0.717143  0.786524  0.789302  0.786641  0.789992    0.788115\n",
            "0.858571  0.787550  0.790809  0.787805  0.791466    0.789408\n",
            "1.000000  0.786700  0.790585  0.788485  0.792328    0.789524\n"
          ]
        }
      ],
      "source": [
        "from sklearn.model_selection import learning_curve, validation_curve\n",
        "scoring= 'f1'\n",
        "cv= 4\n",
        "\n",
        "ns = np.linspace(.01,1, num=8)\n",
        "train_sizes, train_scores, valid_scores = learning_curve(clf, X, Y, train_sizes=ns,\n",
        "                                                         cv=cv, scoring= scoring, n_jobs = -1)\n",
        "\n",
        "train_scores_mean =  train_scores.mean(axis = 1)\n",
        "train_scores_std = np.std(train_scores, axis=1)\n",
        "validation_scores_mean =  valid_scores.mean(axis = 1)\n",
        "validation_scores_std  = valid_scores.std(axis = 1)\n",
        "\n",
        "xlabel = 'Sample Size'\n",
        "ylabel = scoring\n",
        "plt_title = 'Learning Curve'\n",
        "\n",
        "fig = plt.figure(figsize=(8,5))\n",
        "ax = fig.add_subplot(111, xlabel=xlabel, ylabel=ylabel, title=plt_title)\n",
        "ax.plot(train_sizes, train_scores_mean, label = 'Training Score')\n",
        "ax.plot(train_sizes, validation_scores_mean, label = 'Validation Score')\n",
        "\n",
        "plt.fill_between(train_sizes, train_scores_mean - train_scores_std,\n",
        "                 train_scores_mean + train_scores_std, alpha=0.2,\n",
        "                 color=\"darkblue\", lw=2)\n",
        "plt.fill_between(train_sizes, validation_scores_mean - validation_scores_std,\n",
        "                 validation_scores_mean + validation_scores_std, alpha=0.2,\n",
        "                 color=\"darkgreen\", lw=2)\n",
        "\n",
        "plt.legend()\n",
        "# plt.yscale('log')\n",
        "plt.show()\n",
        "\n",
        "print('Training scores:\\n\\n', pd.DataFrame( train_scores, columns=[f'cv{i+1}' for i in range(cv)], index=ns) )\n",
        "print('\\n', '-' * 70) # separator to make the output easy to read\n",
        "valid_df = pd.DataFrame(valid_scores, columns=[f'cv{i+1}' for i in range(cv)], index=ns)\n",
        "valid_df['mean_score'] = validation_scores_mean\n",
        "print('\\nValidation scores:\\n\\n',valid_df )"
      ]
    },
    {
      "cell_type": "markdown",
      "source": [
        "Found the best split of data:"
      ],
      "metadata": {
        "id": "eK4kX8e-xKOf"
      }
    },
    {
      "cell_type": "code",
      "source": [
        "X_train, X_test, Y_train, Y_test = train_test_split(*shuffle(X, Y, n_samples = 100000, random_state=0) , random_state=0, test_size =.09)"
      ],
      "metadata": {
        "id": "9zJeFUq4vFOC"
      },
      "execution_count": 11,
      "outputs": []
    },
    {
      "cell_type": "markdown",
      "metadata": {
        "id": "JUP7ITZJxun1"
      },
      "source": [
        "### Validation Curve"
      ]
    },
    {
      "cell_type": "code",
      "execution_count": 12,
      "metadata": {
        "id": "yDDRiRqUxv_i",
        "colab": {
          "base_uri": "https://localhost:8080/",
          "height": 1000
        },
        "outputId": "a7a3c10f-23b0-4bd0-bddb-38b761572579"
      },
      "outputs": [
        {
          "output_type": "stream",
          "name": "stderr",
          "text": [
            "[Parallel(n_jobs=1)]: Using backend SequentialBackend with 1 concurrent workers.\n"
          ]
        },
        {
          "output_type": "stream",
          "name": "stdout",
          "text": [
            "[CV] END ............................p_transformer__degree=2; total time=   6.7s\n"
          ]
        },
        {
          "output_type": "stream",
          "name": "stderr",
          "text": [
            "[Parallel(n_jobs=1)]: Done   1 out of   1 | elapsed:    6.8s remaining:    0.0s\n",
            "/usr/local/lib/python3.7/dist-packages/sklearn/linear_model/_logistic.py:818: ConvergenceWarning: lbfgs failed to converge (status=1):\n",
            "STOP: TOTAL NO. of ITERATIONS REACHED LIMIT.\n",
            "\n",
            "Increase the number of iterations (max_iter) or scale the data as shown in:\n",
            "    https://scikit-learn.org/stable/modules/preprocessing.html\n",
            "Please also refer to the documentation for alternative solver options:\n",
            "    https://scikit-learn.org/stable/modules/linear_model.html#logistic-regression\n",
            "  extra_warning_msg=_LOGISTIC_SOLVER_CONVERGENCE_MSG,\n"
          ]
        },
        {
          "output_type": "stream",
          "name": "stdout",
          "text": [
            "[CV] END ............................p_transformer__degree=3; total time=  22.2s\n"
          ]
        },
        {
          "output_type": "stream",
          "name": "stderr",
          "text": [
            "/usr/local/lib/python3.7/dist-packages/sklearn/linear_model/_logistic.py:818: ConvergenceWarning: lbfgs failed to converge (status=1):\n",
            "STOP: TOTAL NO. of ITERATIONS REACHED LIMIT.\n",
            "\n",
            "Increase the number of iterations (max_iter) or scale the data as shown in:\n",
            "    https://scikit-learn.org/stable/modules/preprocessing.html\n",
            "Please also refer to the documentation for alternative solver options:\n",
            "    https://scikit-learn.org/stable/modules/linear_model.html#logistic-regression\n",
            "  extra_warning_msg=_LOGISTIC_SOLVER_CONVERGENCE_MSG,\n"
          ]
        },
        {
          "output_type": "stream",
          "name": "stdout",
          "text": [
            "[CV] END ............................p_transformer__degree=4; total time= 1.2min\n",
            "[CV] END ............................p_transformer__degree=2; total time=   6.8s\n"
          ]
        },
        {
          "output_type": "stream",
          "name": "stderr",
          "text": [
            "/usr/local/lib/python3.7/dist-packages/sklearn/linear_model/_logistic.py:818: ConvergenceWarning: lbfgs failed to converge (status=1):\n",
            "STOP: TOTAL NO. of ITERATIONS REACHED LIMIT.\n",
            "\n",
            "Increase the number of iterations (max_iter) or scale the data as shown in:\n",
            "    https://scikit-learn.org/stable/modules/preprocessing.html\n",
            "Please also refer to the documentation for alternative solver options:\n",
            "    https://scikit-learn.org/stable/modules/linear_model.html#logistic-regression\n",
            "  extra_warning_msg=_LOGISTIC_SOLVER_CONVERGENCE_MSG,\n"
          ]
        },
        {
          "output_type": "stream",
          "name": "stdout",
          "text": [
            "[CV] END ............................p_transformer__degree=3; total time=  23.0s\n"
          ]
        },
        {
          "output_type": "stream",
          "name": "stderr",
          "text": [
            "/usr/local/lib/python3.7/dist-packages/sklearn/linear_model/_logistic.py:818: ConvergenceWarning: lbfgs failed to converge (status=1):\n",
            "STOP: TOTAL NO. of ITERATIONS REACHED LIMIT.\n",
            "\n",
            "Increase the number of iterations (max_iter) or scale the data as shown in:\n",
            "    https://scikit-learn.org/stable/modules/preprocessing.html\n",
            "Please also refer to the documentation for alternative solver options:\n",
            "    https://scikit-learn.org/stable/modules/linear_model.html#logistic-regression\n",
            "  extra_warning_msg=_LOGISTIC_SOLVER_CONVERGENCE_MSG,\n"
          ]
        },
        {
          "output_type": "stream",
          "name": "stdout",
          "text": [
            "[CV] END ............................p_transformer__degree=4; total time= 1.2min\n",
            "[CV] END ............................p_transformer__degree=2; total time=   6.7s\n"
          ]
        },
        {
          "output_type": "stream",
          "name": "stderr",
          "text": [
            "/usr/local/lib/python3.7/dist-packages/sklearn/linear_model/_logistic.py:818: ConvergenceWarning: lbfgs failed to converge (status=1):\n",
            "STOP: TOTAL NO. of ITERATIONS REACHED LIMIT.\n",
            "\n",
            "Increase the number of iterations (max_iter) or scale the data as shown in:\n",
            "    https://scikit-learn.org/stable/modules/preprocessing.html\n",
            "Please also refer to the documentation for alternative solver options:\n",
            "    https://scikit-learn.org/stable/modules/linear_model.html#logistic-regression\n",
            "  extra_warning_msg=_LOGISTIC_SOLVER_CONVERGENCE_MSG,\n"
          ]
        },
        {
          "output_type": "stream",
          "name": "stdout",
          "text": [
            "[CV] END ............................p_transformer__degree=3; total time=  21.9s\n"
          ]
        },
        {
          "output_type": "stream",
          "name": "stderr",
          "text": [
            "/usr/local/lib/python3.7/dist-packages/sklearn/linear_model/_logistic.py:818: ConvergenceWarning: lbfgs failed to converge (status=1):\n",
            "STOP: TOTAL NO. of ITERATIONS REACHED LIMIT.\n",
            "\n",
            "Increase the number of iterations (max_iter) or scale the data as shown in:\n",
            "    https://scikit-learn.org/stable/modules/preprocessing.html\n",
            "Please also refer to the documentation for alternative solver options:\n",
            "    https://scikit-learn.org/stable/modules/linear_model.html#logistic-regression\n",
            "  extra_warning_msg=_LOGISTIC_SOLVER_CONVERGENCE_MSG,\n"
          ]
        },
        {
          "output_type": "stream",
          "name": "stdout",
          "text": [
            "[CV] END ............................p_transformer__degree=4; total time= 1.1min\n"
          ]
        },
        {
          "output_type": "stream",
          "name": "stderr",
          "text": [
            "[Parallel(n_jobs=1)]: Done   9 out of   9 | elapsed:  5.0min finished\n"
          ]
        },
        {
          "output_type": "display_data",
          "data": {
            "image/png": "[encoded data removed]",
            "text/plain": [
              "<Figure size 576x360 with 1 Axes>"
            ]
          },
          "metadata": {
            "needs_background": "light"
          }
        },
        {
          "output_type": "stream",
          "name": "stdout",
          "text": [
            "Training scores:\n",
            "\n",
            "         cv1       cv2       cv3\n",
            "2  0.747914  0.749962  0.749895\n",
            "3  0.772137  0.771910  0.772073\n",
            "4  0.795802  0.796649  0.796000\n",
            "\n",
            " ----------------------------------------------------------------------\n",
            "\n",
            "Validation scores:\n",
            "\n",
            "         cv1       cv2       cv3  mean_score\n",
            "2  0.750112  0.747981  0.745932    0.748008\n",
            "3  0.768351  0.772672  0.768525    0.769849\n",
            "4  0.789929  0.789556  0.787369    0.788951\n"
          ]
        }
      ],
      "source": [
        "cv=3\n",
        "scoring='f1'\n",
        "deg_list = [2,3,4]\n",
        "train_scores, valid_scores = validation_curve(clf, X_train, Y_train, \n",
        "                                              param_name='p_transformer__degree',\n",
        "                                              param_range= deg_list, \n",
        "                                              cv=cv, \n",
        "                                              scoring = scoring,\n",
        "                                              verbose=2, \n",
        "                                              pre_dispatch=4\n",
        "                                             )\n",
        "train_scores_mean = np.mean(train_scores, axis=1)\n",
        "train_scores_std = np.std(train_scores, axis=1)\n",
        "valid_scores_mean = np.mean(valid_scores, axis=1)\n",
        "valid_scores_std = np.std(valid_scores, axis=1)\n",
        "\n",
        "xlabel = 'Polynomial Degree'\n",
        "ylabel = scoring\n",
        "plt_title = 'Validation Curve'\n",
        "\n",
        "fig = plt.figure(figsize=(8,5))\n",
        "ax = fig.add_subplot(111, xlabel=xlabel, ylabel=ylabel, title=plt_title)\n",
        "plt.plot(deg_list, train_scores_mean, label=\"Training score\",\n",
        "                 color=\"darkorange\", lw=2)\n",
        "plt.fill_between(deg_list, train_scores_mean - train_scores_std,\n",
        "                 train_scores_mean + train_scores_std, alpha=0.2,\n",
        "                 color=\"darkorange\", lw=2)\n",
        "plt.plot(deg_list, valid_scores_mean, label=\"Validation score\",\n",
        "             color=\"navy\", lw=2)\n",
        "plt.fill_between(deg_list, valid_scores_mean - valid_scores_std,\n",
        "                 valid_scores_mean + valid_scores_std, alpha=0.2,\n",
        "                 color=\"navy\", lw=2)\n",
        "plt.legend(loc=\"best\")\n",
        "plt.show()\n",
        "\n",
        "print('Training scores:\\n\\n', pd.DataFrame(train_scores, columns=[f'cv{i+1}' for i in range(cv)], index=deg_list) )\n",
        "print('\\n', '-' * 70) # separator to make the output easy to read\n",
        "val_df = pd.DataFrame(valid_scores, columns=[f'cv{i+1}' for i in range(cv)], index=deg_list)\n",
        "val_df['mean_score'] = valid_scores_mean\n",
        "print('\\nValidation scores:\\n\\n', val_df )"
      ]
    },
    {
      "cell_type": "markdown",
      "source": [
        "Larger polynomial degrees could not be tested because of the RAM limit."
      ],
      "metadata": {
        "id": "nfbkKsWCgWUY"
      }
    },
    {
      "cell_type": "markdown",
      "metadata": {
        "id": "3rjtwSo6yr5w"
      },
      "source": [
        "### Classification Report \n",
        "Print some information about the trained model such as training time, ... "
      ]
    },
    {
      "cell_type": "code",
      "execution_count": 16,
      "metadata": {
        "colab": {
          "base_uri": "https://localhost:8080/"
        },
        "outputId": "28ef77eb-2cc9-4584-c35f-a8fb59cff79a",
        "id": "vtE2R3jwyr5w"
      },
      "outputs": [
        {
          "output_type": "stream",
          "name": "stderr",
          "text": [
            "/usr/local/lib/python3.7/dist-packages/sklearn/linear_model/_logistic.py:818: ConvergenceWarning: lbfgs failed to converge (status=1):\n",
            "STOP: TOTAL NO. of ITERATIONS REACHED LIMIT.\n",
            "\n",
            "Increase the number of iterations (max_iter) or scale the data as shown in:\n",
            "    https://scikit-learn.org/stable/modules/preprocessing.html\n",
            "Please also refer to the documentation for alternative solver options:\n",
            "    https://scikit-learn.org/stable/modules/linear_model.html#logistic-regression\n",
            "  extra_warning_msg=_LOGISTIC_SOLVER_CONVERGENCE_MSG,\n"
          ]
        },
        {
          "output_type": "stream",
          "name": "stdout",
          "text": [
            "The in-sample error is 0.2381, and the out_sample error is 0.2389.\n",
            "The out_sample f1 score is 0.756052618202151\n",
            "\n",
            "\n",
            "              precision    recall  f1-score   support\n",
            "\n",
            "           0       0.75      0.69      0.72      4023\n",
            "           1       0.77      0.82      0.79      4977\n",
            "\n",
            "    accuracy                           0.76      9000\n",
            "   macro avg       0.76      0.75      0.76      9000\n",
            "weighted avg       0.76      0.76      0.76      9000\n",
            "\n",
            "Training Time was: 105.43305134773254\n",
            "Prediction Time was: 0.17873215675354004\n"
          ]
        }
      ],
      "source": [
        "from sklearn.metrics import classification_report\n",
        "\n",
        "# deg = 4\n",
        "\n",
        "# lrg = LogisticRegression(fit_intercept=True, penalty='l2', max_iter=400, C=.1, tol=.001, solver='lbfgs')\n",
        "# clf = Pipeline([('scaler', StandardScaler() ), \n",
        "#                         ('p_transformer', PolynomialFeatures(degree = deg)), \n",
        "#                         ('clf', lrg)])\n",
        "start = time.time()\n",
        "trained_model = clf.fit(X_train,Y_train)\n",
        "runtime_train = time.time() - start\n",
        "\n",
        "### Testing the model\n",
        "\n",
        "start = time.time()\n",
        "Y_pred = trained_model.predict(X_test)\n",
        "runtime_pred = time.time() - start\n",
        "out_error = np.abs(Y_test - Y_pred).sum() / len(Y_test)\n",
        "\n",
        "in_error = np.abs(Y_train - trained_model.predict(X_train)  ).sum() / len(Y_train)\n",
        "\n",
        "f1 = f1_score(Y_test, Y_pred, average='macro')\n",
        "\n",
        "print(f'The in-sample error is {in_error:.4f}, and the out_sample error is {out_error:.4f}.')\n",
        "print(f'The out_sample f1 score is {f1}\\n\\n')\n",
        "\n",
        "clf_report = classification_report(Y_test, Y_pred)\n",
        "print(clf_report)\n",
        "\n",
        "EM1 = scoring\n",
        "CVS1 = f1_score(Y_train, clf.predict(X_train))\n",
        "CPS1 = f1_score(Y_test, Y_pred)\n",
        "T1 = runtime_train\n",
        "PT1 = runtime_pred\n",
        "print( \"Training Time was: \" + str(T1))\n",
        "print(\"Prediction Time was: \" + str(PT1))"
      ]
    },
    {
      "cell_type": "markdown",
      "metadata": {
        "id": "P9K93ONRxdNR"
      },
      "source": [
        "### Confusion Matrix"
      ]
    },
    {
      "cell_type": "code",
      "execution_count": 17,
      "metadata": {
        "id": "atjSM1dzxeg1",
        "colab": {
          "base_uri": "https://localhost:8080/",
          "height": 279
        },
        "outputId": "6d1da317-31d1-48cb-c7ac-18c763724c7b"
      },
      "outputs": [
        {
          "output_type": "display_data",
          "data": {
            "image/png": "[encoded data removed]",
            "text/plain": [
              "<Figure size 432x288 with 2 Axes>"
            ]
          },
          "metadata": {
            "needs_background": "light"
          }
        }
      ],
      "source": [
        "from sklearn.metrics import ConfusionMatrixDisplay\n",
        "cm = confusion_matrix(Y_test, Y_pred, labels=clf.classes_)\n",
        "disp = ConfusionMatrixDisplay(confusion_matrix=cm, display_labels=clf.classes_)\n",
        "disp.plot()\n",
        "plt.show()"
      ]
    },
    {
      "cell_type": "markdown",
      "metadata": {
        "id": "RcXxz2hRLCnl"
      },
      "source": [
        "# Logistic Regression / CDM"
      ]
    },
    {
      "cell_type": "markdown",
      "source": [
        "Training a linear logistic regression with intercepts on a 1st degree polynpmial of sample data, in pipeline."
      ],
      "metadata": {
        "id": "mzZ72-Z4LCnm"
      }
    },
    {
      "cell_type": "code",
      "source": [
        "from sklearn.linear_model import LogisticRegression\n",
        "from sklearn.pipeline import Pipeline\n",
        "from sklearn.preprocessing import StandardScaler, PolynomialFeatures\n",
        "\n",
        "deg = 3\n",
        "\n",
        "lrg = LogisticRegression(fit_intercept=True, penalty='l2', max_iter=300, C = 1, tol=.01, solver='lbfgs')\n",
        "clf = Pipeline([('scaler', StandardScaler() ), \n",
        "                        ('p_transformer', PolynomialFeatures(degree = deg)), \n",
        "                        ('clf', lrg)])\n",
        "\n",
        "clf.fit(X2_train, Y2_train)\n",
        "Y_predict = clf.predict(X2_test)"
      ],
      "metadata": {
        "colab": {
          "base_uri": "https://localhost:8080/"
        },
        "outputId": "3a3edc7e-5019-45df-da0d-ed6bf28a94e3",
        "id": "FWWo8XK1LCnm"
      },
      "execution_count": null,
      "outputs": [
        {
          "output_type": "stream",
          "name": "stderr",
          "text": [
            "/usr/local/lib/python3.7/dist-packages/sklearn/linear_model/_logistic.py:818: ConvergenceWarning: lbfgs failed to converge (status=1):\n",
            "STOP: TOTAL NO. of ITERATIONS REACHED LIMIT.\n",
            "\n",
            "Increase the number of iterations (max_iter) or scale the data as shown in:\n",
            "    https://scikit-learn.org/stable/modules/preprocessing.html\n",
            "Please also refer to the documentation for alternative solver options:\n",
            "    https://scikit-learn.org/stable/modules/linear_model.html#logistic-regression\n",
            "  extra_warning_msg=_LOGISTIC_SOLVER_CONVERGENCE_MSG,\n"
          ]
        }
      ]
    },
    {
      "cell_type": "code",
      "source": [
        "# F1 score on the test set\n",
        "from sklearn.metrics import f1_score\n",
        "\n",
        "f1_score(Y_test, Y_predict, average='macro')"
      ],
      "metadata": {
        "colab": {
          "base_uri": "https://localhost:8080/"
        },
        "outputId": "3da0464a-fd45-415b-f982-99e9fe9a6d31",
        "id": "xGed0lnoLCnm"
      },
      "execution_count": null,
      "outputs": [
        {
          "output_type": "execute_result",
          "data": {
            "text/plain": [
              "0.7292486713109956"
            ]
          },
          "metadata": {},
          "execution_count": 15
        }
      ]
    },
    {
      "cell_type": "markdown",
      "metadata": {
        "id": "hfStgc_DLCnm"
      },
      "source": [
        "### Fine Tuning The Hyperparameter"
      ]
    },
    {
      "cell_type": "code",
      "source": [
        "clf.get_params().keys()"
      ],
      "metadata": {
        "colab": {
          "base_uri": "https://localhost:8080/"
        },
        "outputId": "19ad47c9-7162-4ff9-8823-c0ec854087e3",
        "id": "MziagVCpLCnm"
      },
      "execution_count": null,
      "outputs": [
        {
          "output_type": "execute_result",
          "data": {
            "text/plain": [
              "dict_keys(['memory', 'steps', 'verbose', 'scaler', 'p_transformer', 'clf', 'scaler__copy', 'scaler__with_mean', 'scaler__with_std', 'p_transformer__degree', 'p_transformer__include_bias', 'p_transformer__interaction_only', 'p_transformer__order', 'clf__C', 'clf__class_weight', 'clf__dual', 'clf__fit_intercept', 'clf__intercept_scaling', 'clf__l1_ratio', 'clf__max_iter', 'clf__multi_class', 'clf__n_jobs', 'clf__penalty', 'clf__random_state', 'clf__solver', 'clf__tol', 'clf__verbose', 'clf__warm_start'])"
            ]
          },
          "metadata": {},
          "execution_count": 41
        }
      ]
    },
    {
      "cell_type": "code",
      "execution_count": null,
      "metadata": {
        "colab": {
          "base_uri": "https://localhost:8080/"
        },
        "outputId": "6e54cd8f-7f5d-4a03-9019-c2fc9de3631e",
        "id": "2MHFt9XjLCnm"
      },
      "outputs": [
        {
          "output_type": "stream",
          "name": "stdout",
          "text": [
            "{'clf__solver': ['lbfgs', 'saga'], 'clf__C': [0.1, 1], 'clf__tol': array([0.001, 0.01 , 0.1  ])}\n"
          ]
        }
      ],
      "source": [
        "from sklearn.model_selection import GridSearchCV\n",
        "\n",
        "# deg_list = [1,2,3]\n",
        "\n",
        "tol = np.logspace(-3,-1, num=3)\n",
        "\n",
        "# penalty = ['l1', 'l2']\n",
        "\n",
        "# class_weight = [{0: 5, 1:1}, {0: 3, 1:1}, None]\n",
        "\n",
        "C = [.1,1]\n",
        "\n",
        "solver = ['lbfgs', 'saga']\n",
        "\n",
        "random_grid_lrg = {\n",
        "                # 'clf__class_weight': class_weight,\n",
        "                'clf__solver': solver,\n",
        "                # 'p_transformer__degree' : deg_list,\n",
        "                'clf__C': C,\n",
        "                'clf__tol': tol\n",
        "                  }\n",
        "\n",
        "print(random_grid_lrg)"
      ]
    },
    {
      "cell_type": "code",
      "execution_count": null,
      "metadata": {
        "id": "bnAqw2hGLCnn"
      },
      "outputs": [],
      "source": [
        "scoring = 'f1'\n",
        "best_params= []\n",
        "print('start')\n",
        "\n",
        "lrg_grid = GridSearchCV(estimator = clf, param_grid = random_grid_lrg, scoring= scoring, cv = 4, verbose=2, pre_dispatch=2)\n",
        "\n",
        "\n",
        "lrg_grid.fit(X2_train, Y2_train)\n",
        "\n",
        "best_params += [lrg_grid.best_params_]\n",
        "print(best_params)"
      ]
    },
    {
      "cell_type": "code",
      "source": [
        "# Other best_params we got:\n",
        "# accuracy:\n",
        "## {'clf__C': 0.1, 'clf__penalty': 'l2', 'clf__solver': 'saga', 'p_transformer__degree': 1}\n",
        "## {'clf__C': 1, 'clf__solver': 'liblinear', 'p_transformer__degree': 1}\n",
        "## {'clf__C': 0.1,'clf__class_weight': None,'clf__solver': 'liblinear','p_transformer__degree': 1}\n",
        "#  f1:\n",
        "## [{'clf__C': 0.1, 'clf__solver': 'lbfgs', 'clf__tol': 0.001}]\n",
        "## [{'clf__C': 1, 'clf__class_weight': {0: 1, 1: 3}, 'clf__solver': 'lbfgs', 'p_transformer__degree': 2}]\n",
        "## {'clf__C': 1, 'clf__class_weight': {0: 1, 1: 5}, 'clf__solver': 'liblinear', 'p_transformer__degree': 1}"
      ],
      "metadata": {
        "id": "Km1k9LL6LCnn"
      },
      "execution_count": null,
      "outputs": []
    },
    {
      "cell_type": "markdown",
      "source": [
        "Best Model:"
      ],
      "metadata": {
        "id": "M_u-0hDJLCnn"
      }
    },
    {
      "cell_type": "code",
      "execution_count": null,
      "metadata": {
        "id": "osssLlvmLCnn"
      },
      "outputs": [],
      "source": [
        "from sklearn.linear_model import LogisticRegression\n",
        "from sklearn.pipeline import Pipeline\n",
        "from sklearn.preprocessing import StandardScaler, PolynomialFeatures\n",
        "deg = 4\n",
        "\n",
        "lrg = LogisticRegression(fit_intercept=True, penalty='l2', max_iter=400, C=.1, tol=.001, solver='lbfgs')\n",
        "clf = Pipeline([('scaler', StandardScaler() ), \n",
        "                        ('p_transformer', PolynomialFeatures(degree = deg)), \n",
        "                        ('clf', lrg)])"
      ]
    },
    {
      "cell_type": "code",
      "source": [
        "clf.fit(X2_train, Y2_train)\n",
        "Y_predict = clf.predict(X2_test)\n",
        "\n",
        "# F1 score on the test set\n",
        "from sklearn.metrics import f1_score\n",
        "f1_score(Y2_test, Y2_predict, average='macro')"
      ],
      "metadata": {
        "colab": {
          "base_uri": "https://localhost:8080/"
        },
        "outputId": "b55e2008-6d9d-49a3-8aba-632407473757",
        "id": "ZZOVaA2tLCnn"
      },
      "execution_count": null,
      "outputs": [
        {
          "output_type": "stream",
          "name": "stderr",
          "text": [
            "/usr/local/lib/python3.7/dist-packages/sklearn/linear_model/_logistic.py:818: ConvergenceWarning: lbfgs failed to converge (status=1):\n",
            "STOP: TOTAL NO. of ITERATIONS REACHED LIMIT.\n",
            "\n",
            "Increase the number of iterations (max_iter) or scale the data as shown in:\n",
            "    https://scikit-learn.org/stable/modules/preprocessing.html\n",
            "Please also refer to the documentation for alternative solver options:\n",
            "    https://scikit-learn.org/stable/modules/linear_model.html#logistic-regression\n",
            "  extra_warning_msg=_LOGISTIC_SOLVER_CONVERGENCE_MSG,\n"
          ]
        },
        {
          "output_type": "execute_result",
          "data": {
            "text/plain": [
              "0.7542484503763625"
            ]
          },
          "metadata": {},
          "execution_count": 12
        }
      ]
    },
    {
      "cell_type": "markdown",
      "metadata": {
        "id": "Ng9IVOfjLCnn"
      },
      "source": [
        "### Learning Curve"
      ]
    },
    {
      "cell_type": "code",
      "execution_count": null,
      "metadata": {
        "colab": {
          "base_uri": "https://localhost:8080/",
          "height": 839
        },
        "outputId": "21c517b3-1f1c-4a8f-c816-0bbafb10a48d",
        "id": "WNyrZo_qLCnn"
      },
      "outputs": [
        {
          "output_type": "stream",
          "name": "stderr",
          "text": [
            "/usr/local/lib/python3.7/dist-packages/joblib/externals/loky/process_executor.py:705: UserWarning: A worker stopped while some jobs were given to the executor. This can be caused by a too short worker timeout or by a memory leak.\n",
            "  \"timeout or by a memory leak.\", UserWarning\n"
          ]
        },
        {
          "output_type": "display_data",
          "data": {
            "image/png": "[encoded data removed]",
            "text/plain": [
              "<Figure size 576x360 with 1 Axes>"
            ]
          },
          "metadata": {
            "needs_background": "light"
          }
        },
        {
          "output_type": "stream",
          "name": "stdout",
          "text": [
            "Training scores:\n",
            "\n",
            "                cv1       cv2       cv3       cv4\n",
            "0.010000  0.946695  0.941176  0.941176  0.941176\n",
            "0.151429  0.807452  0.809259  0.809259  0.809259\n",
            "0.292857  0.804977  0.802610  0.802610  0.802610\n",
            "0.434286  0.799177  0.797725  0.798923  0.798923\n",
            "0.575714  0.797908  0.795829  0.796077  0.796077\n",
            "0.717143  0.794913  0.793473  0.794276  0.796859\n",
            "0.858571  0.795552  0.794209  0.796331  0.795729\n",
            "1.000000  0.797140  0.794296  0.796357  0.795165\n",
            "\n",
            " ----------------------------------------------------------------------\n",
            "\n",
            "Validation scores:\n",
            "\n",
            "                cv1       cv2       cv3       cv4  mean_score\n",
            "0.010000  0.716697  0.698017  0.696692  0.700917    0.703081\n",
            "0.151429  0.777410  0.768869  0.771667  0.772511    0.772614\n",
            "0.292857  0.782840  0.781533  0.780056  0.783196    0.781906\n",
            "0.434286  0.784824  0.786440  0.783728  0.786839    0.785458\n",
            "0.575714  0.787045  0.787102  0.787621  0.788486    0.787563\n",
            "0.717143  0.786524  0.789302  0.786641  0.789992    0.788115\n",
            "0.858571  0.787550  0.790809  0.787805  0.791466    0.789408\n",
            "1.000000  0.786700  0.790585  0.788485  0.792328    0.789524\n"
          ]
        }
      ],
      "source": [
        "from sklearn.model_selection import learning_curve, validation_curve\n",
        "scoring= 'f1'\n",
        "cv= 4\n",
        "\n",
        "ns = np.linspace(.01,1, num=8)\n",
        "train_sizes, train_scores, valid_scores = learning_curve(clf, X2, Y2, train_sizes=ns,\n",
        "                                                         cv=cv, scoring= scoring, n_jobs = -1)\n",
        "\n",
        "train_scores_mean =  train_scores.mean(axis = 1)\n",
        "train_scores_std = np.std(train_scores, axis=1)\n",
        "validation_scores_mean =  valid_scores.mean(axis = 1)\n",
        "validation_scores_std  = valid_scores.std(axis = 1)\n",
        "\n",
        "xlabel = 'Sample Size'\n",
        "ylabel = scoring\n",
        "plt_title = 'Learning Curve'\n",
        "\n",
        "fig = plt.figure(figsize=(8,5))\n",
        "ax = fig.add_subplot(111, xlabel=xlabel, ylabel=ylabel, title=plt_title)\n",
        "ax.plot(train_sizes, train_scores_mean, label = 'Training Score')\n",
        "ax.plot(train_sizes, validation_scores_mean, label = 'Validation Score')\n",
        "\n",
        "plt.fill_between(train_sizes, train_scores_mean - train_scores_std,\n",
        "                 train_scores_mean + train_scores_std, alpha=0.2,\n",
        "                 color=\"darkblue\", lw=2)\n",
        "plt.fill_between(train_sizes, validation_scores_mean - validation_scores_std,\n",
        "                 validation_scores_mean + validation_scores_std, alpha=0.2,\n",
        "                 color=\"darkgreen\", lw=2)\n",
        "\n",
        "plt.legend()\n",
        "# plt.yscale('log')\n",
        "plt.show()\n",
        "\n",
        "print('Training scores:\\n\\n', pd.DataFrame( train_scores, columns=[f'cv{i+1}' for i in range(cv)], index=ns) )\n",
        "print('\\n', '-' * 70) # separator to make the output easy to read\n",
        "valid_df = pd.DataFrame(valid_scores, columns=[f'cv{i+1}' for i in range(cv)], index=ns)\n",
        "valid_df['mean_score'] = validation_scores_mean\n",
        "print('\\nValidation scores:\\n\\n',valid_df )"
      ]
    },
    {
      "cell_type": "markdown",
      "source": [
        "Found the best split of data:"
      ],
      "metadata": {
        "id": "1IRDJIzfLCno"
      }
    },
    {
      "cell_type": "code",
      "source": [
        "X_train, X_test, Y_train, Y_test = train_test_split(*shuffle(X, Y, n_samples = 100000, random_state=0) , random_state=0, test_size =.09)"
      ],
      "metadata": {
        "id": "n7pc7L6FLCno"
      },
      "execution_count": null,
      "outputs": []
    },
    {
      "cell_type": "markdown",
      "metadata": {
        "id": "UnxXc2qgLCno"
      },
      "source": [
        "### Validation Curve"
      ]
    },
    {
      "cell_type": "code",
      "execution_count": null,
      "metadata": {
        "colab": {
          "base_uri": "https://localhost:8080/"
        },
        "outputId": "ce88394a-63da-4fe9-baf2-b096f3012a49",
        "id": "dpTNbd9vLCno"
      },
      "outputs": [
        {
          "output_type": "stream",
          "name": "stderr",
          "text": [
            "[Parallel(n_jobs=1)]: Using backend SequentialBackend with 1 concurrent workers.\n",
            "/usr/local/lib/python3.7/dist-packages/sklearn/linear_model/_logistic.py:818: ConvergenceWarning: lbfgs failed to converge (status=1):\n",
            "STOP: TOTAL NO. of ITERATIONS REACHED LIMIT.\n",
            "\n",
            "Increase the number of iterations (max_iter) or scale the data as shown in:\n",
            "    https://scikit-learn.org/stable/modules/preprocessing.html\n",
            "Please also refer to the documentation for alternative solver options:\n",
            "    https://scikit-learn.org/stable/modules/linear_model.html#logistic-regression\n",
            "  extra_warning_msg=_LOGISTIC_SOLVER_CONVERGENCE_MSG,\n"
          ]
        },
        {
          "output_type": "stream",
          "name": "stdout",
          "text": [
            "[CV] END ............................p_transformer__degree=3; total time=  26.6s\n"
          ]
        },
        {
          "output_type": "stream",
          "name": "stderr",
          "text": [
            "[Parallel(n_jobs=1)]: Done   1 out of   1 | elapsed:   27.0s remaining:    0.0s\n"
          ]
        }
      ],
      "source": [
        "cv=4\n",
        "scoring='f1'\n",
        "deg_list = [3,5,7,10]\n",
        "train_scores, valid_scores = validation_curve(clf, X2_train, Y2_train, \n",
        "                                              param_name='p_transformer__degree',\n",
        "                                              param_range= deg_list, \n",
        "                                              cv=cv, \n",
        "                                              scoring = scoring,\n",
        "                                              verbose=2, \n",
        "                                              pre_dispatch=2\n",
        "                                             )\n",
        "train_scores_mean = np.mean(train_scores, axis=1)\n",
        "train_scores_std = np.std(train_scores, axis=1)\n",
        "valid_scores_mean = np.mean(valid_scores, axis=1)\n",
        "valid_scores_std = np.std(valid_scores, axis=1)\n",
        "\n",
        "xlabel = 'Polynomial Degree'\n",
        "ylabel = scoring\n",
        "plt_title = 'Validation Curve'\n",
        "\n",
        "fig = plt.figure(figsize=(8,5))\n",
        "ax = fig.add_subplot(111, xlabel=xlabel, ylabel=ylabel, title=plt_title)\n",
        "plt.plot(deg_list, train_scores_mean, label=\"Training score\",\n",
        "                 color=\"darkorange\", lw=2)\n",
        "plt.fill_between(deg_list, train_scores_mean - train_scores_std,\n",
        "                 train_scores_mean + train_scores_std, alpha=0.2,\n",
        "                 color=\"darkorange\", lw=2)\n",
        "plt.plot(deg_list, valid_scores_mean, label=\"Validation score\",\n",
        "             color=\"navy\", lw=2)\n",
        "plt.fill_between(deg_list, valid_scores_mean - valid_scores_std,\n",
        "                 valid_scores_mean + valid_scores_std, alpha=0.2,\n",
        "                 color=\"navy\", lw=2)\n",
        "plt.legend(loc=\"best\")\n",
        "plt.show()\n",
        "\n",
        "print('Training scores:\\n\\n', pd.DataFrame(train_scores, columns=[f'cv{i+1}' for i in range(cv)], index=deg_list) )\n",
        "print('\\n', '-' * 70) # separator to make the output easy to read\n",
        "val_df = pd.DataFrame(valid_scores, columns=[f'cv{i+1}' for i in range(cv)], index=deg_list)\n",
        "val_df['mean_score'] = valid_scores_mean\n",
        "print('\\nValidation scores:\\n\\n', val_df )"
      ]
    },
    {
      "cell_type": "markdown",
      "metadata": {
        "id": "Ej0ujv0CLCno"
      },
      "source": [
        "### Classification Report \n",
        "Print some information about the trained model such as training time, ... "
      ]
    },
    {
      "cell_type": "code",
      "execution_count": null,
      "metadata": {
        "colab": {
          "base_uri": "https://localhost:8080/"
        },
        "outputId": "4f3ca5a0-2006-4304-bde8-2a097fcb9d8a",
        "id": "zKDZsp7HLCno"
      },
      "outputs": [
        {
          "output_type": "stream",
          "name": "stdout",
          "text": [
            "The in-sample error is 0.1735, and the out_sample error is 0.1721.\n",
            "The out_sample f1 score is 0.677215446175149\n",
            "\n",
            "\n",
            "              precision    recall  f1-score   support\n",
            "\n",
            "           0       0.95      0.85      0.90      7978\n",
            "           1       0.36      0.64      0.46      1022\n",
            "\n",
            "    accuracy                           0.83      9000\n",
            "   macro avg       0.65      0.74      0.68      9000\n",
            "weighted avg       0.88      0.83      0.85      9000\n",
            "\n",
            "Training Time was: 0.18645167350769043\n",
            "Prediction Time was: 0.0020079612731933594\n"
          ]
        }
      ],
      "source": [
        "from sklearn.metrics import classification_report\n",
        "\n",
        "deg = 1\n",
        "\n",
        "lrg = LogisticRegression(fit_intercept=True, penalty='l2', max_iter=400, C=1, tol=.005, class_weight ={0: 1, 1: 5}, solver='liblinear')\n",
        "clf = Pipeline([('scaler', StandardScaler() ), \n",
        "                        ('p_transformer', PolynomialFeatures(degree = deg)), \n",
        "                        ('clf', lrg)])\n",
        "start = time.time()\n",
        "trained_model = clf.fit(X2_train,Y2_train)\n",
        "runtime_train = time.time() - start\n",
        "\n",
        "### Testing the model\n",
        "\n",
        "start = time.time()\n",
        "Y_pred = trained_model.predict(X_test)\n",
        "runtime_pred = time.time() - start\n",
        "out_error = np.abs(Y_test - Y_pred).sum() / len(Y_test)\n",
        "\n",
        "in_error = np.abs(Y_train - trained_model.predict(X_train)  ).sum() / len(Y_train)\n",
        "\n",
        "f1 = f1_score(Y_test, Y_pred, average='macro')\n",
        "\n",
        "print(f'The in-sample error is {in_error:.4f}, and the out_sample error is {out_error:.4f}.')\n",
        "print(f'The out_sample f1 score is {f1}\\n\\n')\n",
        "\n",
        "clf_report = classification_report(Y_test, Y_pred)\n",
        "print(clf_report)\n",
        "\n",
        "EM1 = scoring\n",
        "CVS1 = f1_score(Y_train, clf.predict(X_train))\n",
        "CPS1 = f1_score(Y_test, Y_pred)\n",
        "T1 = runtime_train\n",
        "P1 = runtime_pred\n",
        "print( \"Training Time was: \" + str(T1))\n",
        "print(\"Prediction Time was: \" + str(PT1))"
      ]
    },
    {
      "cell_type": "markdown",
      "metadata": {
        "id": "h09FNKm8LCno"
      },
      "source": [
        "### Confusion Matrix"
      ]
    },
    {
      "cell_type": "code",
      "execution_count": null,
      "metadata": {
        "colab": {
          "base_uri": "https://localhost:8080/",
          "height": 279
        },
        "outputId": "e4983998-b886-41c6-b4cc-db56270016c7",
        "id": "R2-w74bwLCno"
      },
      "outputs": [
        {
          "output_type": "display_data",
          "data": {
            "image/png": "[encoded data removed]",
            "text/plain": [
              "<Figure size 432x288 with 2 Axes>"
            ]
          },
          "metadata": {
            "needs_background": "light"
          }
        }
      ],
      "source": [
        "from sklearn.metrics import ConfusionMatrixDisplay\n",
        "cm = confusion_matrix(Y_test, Y_pred, labels=clf.classes_)\n",
        "disp = ConfusionMatrixDisplay(confusion_matrix=cm, display_labels=clf.classes_)\n",
        "disp.plot()\n",
        "plt.show()"
      ]
    },
    {
      "cell_type": "markdown",
      "metadata": {
        "id": "Ybi6kJ3Uvixo"
      },
      "source": [
        "A table is created to compare the five recently-traind models above. It includes evaluation metric(s), training time and prediction time of each models. Also, we sorted models based on their performance from different aspects. "
      ]
    },
    {
      "cell_type": "markdown",
      "metadata": {
        "id": "2_QYvVbZvixn"
      },
      "source": [
        "# Comparing Models"
      ]
    },
    {
      "cell_type": "code",
      "execution_count": null,
      "metadata": {
        "id": "HEhpPmF_vixo"
      },
      "outputs": [],
      "source": [
        "table = pd.DataFrame({'Name':['Neutrino','CDM'],\n",
        "                        'Evaluation Metric(s)': [EM1, EM2],\n",
        "                        'Corresponding Validation Score': [CVS1, CVS2],\n",
        "                        'Corresponding Prediction Score':  [CPS1, CPS2],\n",
        "                        'Training Time': [T1, T2],\n",
        "                        'Prediction Time': [PT1, PT2]\n",
        "})\n",
        "\n",
        "print('Sort models based on their validation scores: \\n' + str(table.sort_values(by=['Corresponding Validation Score'], ascending= False).loc[:, ['Name', 'Corresponding Validation Score']]))\n",
        "print('\\nSort models based on their prediction scores: \\n' + str(table.sort_values(by=['Corresponding Prediction Score'], ascending= False).loc[:, ['Name', 'Corresponding Prediction Score']]))\n",
        "print('\\nSort models based on their training time: \\n' + str(table.sort_values(by=['Training Time'], ascending= True).loc[:, ['Name', 'Training Time']]))\n",
        "print('\\nSort models based on their prediction time: \\n' + str(table.sort_values(by=['Prediction Time'], ascending= True).loc[:, ['Name', 'Prediction Time']]))\n"
      ]
    }
  ],
  "metadata": {
    "colab": {
      "collapsed_sections": [
        "xVLNS5KyItAF",
        "X8_LRUefB_zV",
        "oXABFDLNI2qo"
      ],
      "name": "LogisticReg_data2.ipynb",
      "provenance": [],
      "include_colab_link": true
    },
    "interpreter": {
      "hash": "fe5d99aa55929fe810a91df1bb66991ee2efa56184cda4e0a18aeeaadde96492"
    },
    "kernelspec": {
      "display_name": "Python 3.10.0 64-bit",
      "language": "python",
      "name": "python3"
    },
    "language_info": {
      "codemirror_mode": {
        "name": "ipython",
        "version": 3
      },
      "file_extension": ".py",
      "mimetype": "text/x-python",
      "name": "python",
      "nbconvert_exporter": "python",
      "pygments_lexer": "ipython3",
      "version": "3.10.0"
    },
    "orig_nbformat": 4
  },
  "nbformat": 4,
  "nbformat_minor": 0
}