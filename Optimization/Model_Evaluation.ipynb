{
  "cells": [
    {
      "cell_type": "markdown",
      "metadata": {
        "id": "jwLDDwkEvixQ"
      },
      "source": [
        "In this code, our objective is to train some classic models such as SVM, KNN, RandomForest, etc on our test data, and try to evaluate their efficiency by plotting confusion matrixes, learning curves, validation curves, and measuring the prediction time. "
      ]
    },
    {
      "cell_type": "markdown",
      "metadata": {
        "id": "U4iafM7UvixV"
      },
      "source": [
        "Import required libreries"
      ]
    },
    {
      "cell_type": "code",
      "execution_count": 10,
      "metadata": {
        "colab": {
          "base_uri": "https://localhost:8080/"
        },
        "id": "Mx7soy-MvixW",
        "outputId": "d5c976e6-645d-46bc-94a8-3fbc2bdfe715"
      },
      "outputs": [
        {
          "name": "stdout",
          "output_type": "stream",
          "text": [
            "Created `%t` as an alias for `%timeit`.\n",
            "Created `%%t` as an alias for `%%timeit`.\n"
          ]
        }
      ],
      "source": [
        "import pandas as pd\n",
        "import numpy as np\n",
        "import matplotlib.pyplot as plt\n",
        "import matplotlib.cm as cm\n",
        "from sklearn.model_selection import learning_curve, validation_curve\n",
        "from sklearn.neighbors import KNeighborsClassifier\n",
        "from sklearn.preprocessing import PolynomialFeatures\n",
        "from sklearn.linear_model import LinearRegression\n",
        "from sklearn.pipeline import Pipeline\n",
        "from sklearn.utils import shuffle\n",
        "from sklearn.model_selection import train_test_split\n",
        "from sklearn.linear_model import RidgeClassifier\n",
        "from sklearn import svm\n",
        "from sklearn.svm import SVC\n",
        "from sklearn.metrics import confusion_matrix, plot_confusion_matrix\n",
        "import timeit\n",
        "%alias_magic t timeit\n",
        "# import warnings filter\n",
        "from warnings import simplefilter\n",
        "# ignore all future warnings\n",
        "simplefilter(action='ignore', category=FutureWarning)"
      ]
    },
    {
      "cell_type": "markdown",
      "metadata": {
        "id": "3v_SxfiDvixY"
      },
      "source": [
        "# Import phase I data"
      ]
    },
    {
      "cell_type": "code",
      "execution_count": 12,
      "metadata": {
        "colab": {
          "base_uri": "https://localhost:8080/",
          "height": 206
        },
        "id": "KMXNEVc_vixY",
        "outputId": "5737cac2-b5aa-4dd1-de51-52cecfa9a2ac"
      },
      "outputs": [
        {
          "data": {
            "text/html": [
              "<div>\n",
              "<style scoped>\n",
              "    .dataframe tbody tr th:only-of-type {\n",
              "        vertical-align: middle;\n",
              "    }\n",
              "\n",
              "    .dataframe tbody tr th {\n",
              "        vertical-align: top;\n",
              "    }\n",
              "\n",
              "    .dataframe thead th {\n",
              "        text-align: right;\n",
              "    }\n",
              "</style>\n",
              "<table border=\"1\" class=\"dataframe\">\n",
              "  <thead>\n",
              "    <tr style=\"text-align: right;\">\n",
              "      <th></th>\n",
              "      <th>particle_id</th>\n",
              "      <th>in-halo</th>\n",
              "      <th>den_contrast for 12.4</th>\n",
              "      <th>den_contrast for 13.0</th>\n",
              "      <th>den_contrast for 13.6</th>\n",
              "    </tr>\n",
              "  </thead>\n",
              "  <tbody>\n",
              "    <tr>\n",
              "      <th>0</th>\n",
              "      <td>6872359</td>\n",
              "      <td>0</td>\n",
              "      <td>-0.047697</td>\n",
              "      <td>-0.043106</td>\n",
              "      <td>-0.038331</td>\n",
              "    </tr>\n",
              "    <tr>\n",
              "      <th>1</th>\n",
              "      <td>5818539</td>\n",
              "      <td>0</td>\n",
              "      <td>-0.034318</td>\n",
              "      <td>-0.036062</td>\n",
              "      <td>-0.034318</td>\n",
              "    </tr>\n",
              "    <tr>\n",
              "      <th>2</th>\n",
              "      <td>9365399</td>\n",
              "      <td>1</td>\n",
              "      <td>-0.036311</td>\n",
              "      <td>-0.041542</td>\n",
              "      <td>-0.037702</td>\n",
              "    </tr>\n",
              "    <tr>\n",
              "      <th>3</th>\n",
              "      <td>7002365</td>\n",
              "      <td>1</td>\n",
              "      <td>-0.022502</td>\n",
              "      <td>-0.032049</td>\n",
              "      <td>-0.035913</td>\n",
              "    </tr>\n",
              "    <tr>\n",
              "      <th>4</th>\n",
              "      <td>9348414</td>\n",
              "      <td>0</td>\n",
              "      <td>-0.050822</td>\n",
              "      <td>-0.046012</td>\n",
              "      <td>-0.039032</td>\n",
              "    </tr>\n",
              "  </tbody>\n",
              "</table>\n",
              "</div>"
            ],
            "text/plain": [
              "   particle_id  in-halo  den_contrast for 12.4  den_contrast for 13.0  \\\n",
              "0      6872359        0              -0.047697              -0.043106   \n",
              "1      5818539        0              -0.034318              -0.036062   \n",
              "2      9365399        1              -0.036311              -0.041542   \n",
              "3      7002365        1              -0.022502              -0.032049   \n",
              "4      9348414        0              -0.050822              -0.046012   \n",
              "\n",
              "   den_contrast for 13.6  \n",
              "0              -0.038331  \n",
              "1              -0.034318  \n",
              "2              -0.037702  \n",
              "3              -0.035913  \n",
              "4              -0.039032  "
            ]
          },
          "execution_count": 12,
          "metadata": {},
          "output_type": "execute_result"
        }
      ],
      "source": [
        "data = pd.read_csv('density_contrast.csv')\n",
        "data.head()"
      ]
    },
    {
      "cell_type": "code",
      "execution_count": 13,
      "metadata": {
        "id": "Z_iIf7ENvixZ"
      },
      "outputs": [],
      "source": [
        "data = data.sort_values( by =['den_contrast for 12.4'])\n",
        "X, Y = data.iloc[:,2:], data['in-halo']\n",
        "tst_size = 0.2\n",
        "ns, nf = np.shape(X) \n",
        "X_train, X_test, Y_train, Y_test = train_test_split(*shuffle(X, Y, n_samples = ns, random_state=0) , random_state=0, test_size =tst_size )"
      ]
    },
    {
      "cell_type": "code",
      "execution_count": 14,
      "metadata": {
        "colab": {
          "base_uri": "https://localhost:8080/"
        },
        "id": "TTV0HvsOwmPU",
        "outputId": "3bc569ed-8dbc-42f7-a8f1-e0010ff6c058"
      },
      "outputs": [
        {
          "name": "stdout",
          "output_type": "stream",
          "text": [
            "X_train : 8000    X_test : 2000\n"
          ]
        }
      ],
      "source": [
        "print('X_train :',len(X_train),'   X_test :',len(X_test))"
      ]
    },
    {
      "cell_type": "code",
      "execution_count": 15,
      "metadata": {
        "id": "lFURGlGJwpjA"
      },
      "outputs": [],
      "source": [
        "X_test,X_train = np.array(X_test),np.array(X_train)\n",
        "Y_test,Y_train = np.array(Y_test),np.array(Y_train)\n",
        "X ,Y= np.array(X),np.array(Y)"
      ]
    },
    {
      "cell_type": "code",
      "execution_count": null,
      "metadata": {
        "id": "IBKGiciCvixa"
      },
      "outputs": [],
      "source": [
        "# this is fake data, only for debugging purpose\n",
        "\n",
        "# huge_data =  pd.read_csv('sample_data.csv')\n",
        "# # print(huge_data.head())\n",
        "# narrower_data= huge_data.drop(['Unnamed: 0','phkey','In_halo_log'], axis=1)\n",
        "# narrower_data.head()\n",
        "# data = np.array(narrower_data)\n",
        "\n",
        "# X = data[:,2:8]\n",
        "# X = np.concatenate((X,X))\n",
        "# # print(x.shape)\n",
        "\n",
        "# from sklearn.preprocessing import StandardScaler\n",
        "# scaler = StandardScaler()\n",
        "# X = scaler.fit(X).transform(X)\n",
        "# # print(X)\n",
        "# Y = data[:,9]\n",
        "# Y = np.concatenate((Y,Y))\n",
        "# Y[Y>1]=1\n",
        "# # print(Y)\n",
        "\n",
        "# tst_size = 0.2\n",
        "# ns, nf = np.shape(X) \n",
        "# # split data to train and test \n",
        "# X_train, X_test, Y_train, Y_test = train_test_split(*shuffle(X, Y, n_samples = ns, random_state=0) , random_state=0, test_size =tst_size )\n",
        "# cross validation"
      ]
    },
    {
      "cell_type": "markdown",
      "metadata": {
        "id": "vQ66Ry4PyaWR"
      },
      "source": [
        "# Random Forrest"
      ]
    },
    {
      "cell_type": "code",
      "execution_count": 10,
      "metadata": {
        "colab": {
          "base_uri": "https://localhost:8080/"
        },
        "id": "7VT14KqNyhLD",
        "outputId": "5511be20-4207-49e3-c008-743c1d5fcfce"
      },
      "outputs": [
        {
          "name": "stdout",
          "output_type": "stream",
          "text": [
            "1 loop, best of 5: 283 ms per loop\n",
            "10 loops, best of 5: 20.1 ms per loop\n",
            "2000\n",
            "403\n"
          ]
        }
      ],
      "source": [
        "from sklearn.ensemble import RandomForestClassifier\n",
        "classifier = RandomForestClassifier(max_depth=2, random_state=0)\n",
        "#check \n",
        "%t classifier.fit(X_train , Y_train)\n",
        "\n",
        "#Testing the classification on the test sample\n",
        "Y_predict = classifier.predict(X_test)\n",
        "#check\n",
        "%t Y_predict = classifier.predict(X_test)\n",
        "print(len(Y_test))\n",
        "print(len(Y_predict[Y_predict== 1]))"
      ]
    },
    {
      "cell_type": "code",
      "execution_count": 11,
      "metadata": {
        "colab": {
          "base_uri": "https://localhost:8080/",
          "height": 625
        },
        "id": "ylv7UlC_ywjJ",
        "outputId": "a639f021-73c0-4906-8f68-257500c2b544"
      },
      "outputs": [
        {
          "data": {
            "image/png": "[encoded data removed]",
            "text/plain": [
              "<Figure size 1440x720 with 2 Axes>"
            ]
          },
          "metadata": {
            "needs_background": "light"
          },
          "output_type": "display_data"
        }
      ],
      "source": [
        "import matplotlib.pyplot as plt\n",
        "\n",
        "fig = plt.figure(figsize=(20,10))\n",
        "ax = fig.add_subplot(121 , xlabel = '$\\delta_{12.4}$', ylabel='$\\delta_{13}$' , title = 'Result of the Classification')\n",
        "\n",
        "ax.scatter(*X_test[:,:2].T, c=Y_test)    \n",
        "\n",
        "ax = fig.add_subplot(122 , xlabel = '$\\delta_{12.4}$ ', ylabel='$\\delta_{13}$', title = 'Predicitions of the Random Forest classifier')\n",
        "plt.scatter(*X_test[:,:2].T, c = Y_predict)\n",
        "plt.show()\n"
      ]
    },
    {
      "cell_type": "markdown",
      "metadata": {
        "id": "Upau35J43b_B"
      },
      "source": [
        "## The Classification Report "
      ]
    },
    {
      "cell_type": "code",
      "execution_count": 12,
      "metadata": {
        "colab": {
          "base_uri": "https://localhost:8080/"
        },
        "id": "Czq4WRJXyzlj",
        "outputId": "14ce3fdb-1a8c-46f9-93c6-a1a578f32fc9"
      },
      "outputs": [
        {
          "name": "stdout",
          "output_type": "stream",
          "text": [
            "              precision    recall  f1-score   support\n",
            "\n",
            "           0       0.49      0.79      0.61       990\n",
            "           1       0.49      0.20      0.28      1010\n",
            "\n",
            "    accuracy                           0.49      2000\n",
            "   macro avg       0.49      0.49      0.44      2000\n",
            "weighted avg       0.49      0.49      0.44      2000\n",
            "\n"
          ]
        }
      ],
      "source": [
        "from sklearn.metrics import classification_report\n",
        "clf_report = classification_report(Y_test, Y_predict)\n",
        "print(clf_report)"
      ]
    },
    {
      "cell_type": "markdown",
      "metadata": {
        "id": "hNnQZIHG3l1a"
      },
      "source": [
        "## Fine Tunning The Hyperparameter"
      ]
    },
    {
      "cell_type": "code",
      "execution_count": 13,
      "metadata": {
        "colab": {
          "base_uri": "https://localhost:8080/"
        },
        "id": "muncSq7GzAyH",
        "outputId": "d720e2e9-d987-4e49-9a93-2a28dfec8c78"
      },
      "outputs": [
        {
          "name": "stdout",
          "output_type": "stream",
          "text": [
            "{'n_estimators': [200, 400, 600, 800, 1000, 1200, 1400, 1600, 1800, 2000], 'max_features': ['auto', 'sqrt'], 'max_depth': [1, 10, 20, 30, 40, 50, 60, 70, 80, 90, 100, 110, None], 'min_samples_split': [2, 5, 10], 'min_samples_leaf': [1, 2, 4], 'bootstrap': [True, False]}\n"
          ]
        }
      ],
      "source": [
        "from sklearn.model_selection import RandomizedSearchCV\n",
        "\n",
        "# Number of trees in random forest\n",
        "n_estimators = [int(x) for x in np.linspace(start = 200, stop = 2000, num = 10)]\n",
        "# Number of features to consider at every split\n",
        "max_features = ['auto', 'sqrt']\n",
        "# Maximum number of levels in tree\n",
        "max_depth = [int(x) for x in np.linspace(1, 110, num = 12)]\n",
        "max_depth.append(None)\n",
        "# Minimum number of samples required to split a node\n",
        "min_samples_split = [2, 5, 10]\n",
        "# Minimum number of samples required at each leaf node\n",
        "min_samples_leaf = [1, 2, 4]\n",
        "# Method of selecting samples for training each tree\n",
        "bootstrap = [True, False]\n",
        "# Create the random grid\n",
        "random_grid = {'n_estimators': n_estimators,\n",
        "               'max_features': max_features,\n",
        "               'max_depth': max_depth,\n",
        "               'min_samples_split': min_samples_split,\n",
        "               'min_samples_leaf': min_samples_leaf,\n",
        "               'bootstrap': bootstrap}\n",
        "\n",
        "print(random_grid)"
      ]
    },
    {
      "cell_type": "code",
      "execution_count": 17,
      "metadata": {
        "colab": {
          "base_uri": "https://localhost:8080/"
        },
        "id": "FWREHWCizF3G",
        "outputId": "7642640a-0026-4d7d-cb87-ba0376fd69ae"
      },
      "outputs": [
        {
          "name": "stdout",
          "output_type": "stream",
          "text": [
            "start\n",
            "Fitting 2 folds for each of 5 candidates, totalling 10 fits\n",
            "{'n_estimators': 1400, 'min_samples_split': 5, 'min_samples_leaf': 1, 'max_features': 'sqrt', 'max_depth': 20, 'bootstrap': True}\n"
          ]
        }
      ],
      "source": [
        "# Random search of parameters, using 2 fold cross validation, \n",
        "# search across 5 different combinations, and use all available cores\n",
        "print('start')\n",
        "rf_random = RandomizedSearchCV(estimator = classifier, param_distributions = random_grid, n_iter = 5, cv = 2, verbose=2, random_state=42, n_jobs = -1)\n",
        "# Fit the random search model\n",
        "rf_random.fit(X_train, Y_train)\n",
        "print(rf_random.best_params_)"
      ]
    },
    {
      "cell_type": "markdown",
      "metadata": {
        "id": "qD42IQVu4pwc"
      },
      "source": [
        "###Lerning Curve"
      ]
    },
    {
      "cell_type": "code",
      "execution_count": 20,
      "metadata": {
        "colab": {
          "base_uri": "https://localhost:8080/"
        },
        "id": "LehGPFj340pJ",
        "outputId": "9b4123ad-5fca-41fc-e4b1-031ab93e0a55"
      },
      "outputs": [
        {
          "name": "stdout",
          "output_type": "stream",
          "text": [
            "Training scores:\n",
            "\n",
            "            0         1         2         3         4\n",
            "0   0.919000  0.580000  0.580000  0.580000  0.580000\n",
            "1   0.927333  0.639333  0.639333  0.639333  0.639333\n",
            "2   0.934500  0.692000  0.692500  0.692500  0.692500\n",
            "3   0.937200  0.748400  0.732400  0.732400  0.732400\n",
            "4   0.944333  0.787000  0.765000  0.765000  0.765000\n",
            "5   0.945143  0.812286  0.790857  0.790857  0.790857\n",
            "6   0.944000  0.832500  0.810000  0.810750  0.810750\n",
            "7   0.947111  0.846000  0.826444  0.824889  0.824889\n",
            "8   0.950800  0.859200  0.842400  0.841000  0.841000\n",
            "9   0.950909  0.869818  0.854000  0.850000  0.850000\n",
            "10  0.952833  0.878667  0.863833  0.852833  0.857000\n",
            "11  0.952154  0.884615  0.870923  0.862308  0.864154\n",
            "12  0.952286  0.892286  0.878000  0.869857  0.874714\n",
            "13  0.956933  0.897600  0.885733  0.877200  0.877600\n",
            "\n",
            "Validation scores:\n",
            "\n",
            "          0       1       2       3       4\n",
            "0   0.5015  0.5010  0.5035  0.5005  0.5000\n",
            "1   0.5015  0.5020  0.4995  0.5000  0.5000\n",
            "2   0.5015  0.5000  0.5005  0.5130  0.4970\n",
            "3   0.5015  0.5005  0.4975  0.5005  0.4995\n",
            "4   0.5015  0.5015  0.4910  0.5075  0.5080\n",
            "5   0.5015  0.5000  0.4945  0.4990  0.5005\n",
            "6   0.5015  0.5015  0.5010  0.4980  0.5000\n",
            "7   0.5015  0.5015  0.5145  0.4985  0.5050\n",
            "8   0.5015  0.5015  0.5180  0.4970  0.5010\n",
            "9   0.5015  0.5005  0.5115  0.4985  0.5025\n",
            "10  0.5015  0.5000  0.5165  0.5000  0.4940\n",
            "11  0.5015  0.5020  0.5170  0.5005  0.5170\n",
            "12  0.5015  0.5000  0.5175  0.5005  0.5030\n",
            "13  0.5015  0.5010  0.5120  0.5005  0.4995\n"
          ]
        }
      ],
      "source": [
        "#first we should do the classification with the optimal values.\n",
        "\n",
        "classifier = RandomForestClassifier(n_estimators = 1400, min_samples_split = 5, min_samples_leaf = 1, \n",
        "                                    max_features = 'sqrt', max_depth = 20, bootstrap = True, random_state=0)\n",
        "\n",
        "\n",
        "train_sizes = np.arange(1000,8000,500)\n",
        "\n",
        "#computing training score and validation score for each sample size cv times\n",
        "ns_list, train_scores, validation_scores = learning_curve(\n",
        "                                                   estimator= classifier , X = X,\n",
        "                                                   y = Y, train_sizes = train_sizes, cv = 5, random_state = 0)\n",
        "\n",
        "print('Training scores:\\n\\n', pd.DataFrame( train_scores) )\n",
        "\n",
        "print('\\nValidation scores:\\n\\n', pd.DataFrame(validation_scores) )"
      ]
    },
    {
      "cell_type": "code",
      "execution_count": 21,
      "metadata": {
        "colab": {
          "base_uri": "https://localhost:8080/",
          "height": 382
        },
        "id": "9Q9aNQXf4um0",
        "outputId": "61dad96e-8d6e-4d92-c859-56d18fe10be3"
      },
      "outputs": [
        {
          "name": "stdout",
          "output_type": "stream",
          "text": [
            "[0.6478     0.69693333 0.7408     0.77656    0.80526667 0.826\n",
            " 0.8416     0.85386667 0.86688    0.87494545 0.88103333 0.88683077\n",
            " 0.89342857 0.89901333]\n",
            "[0.5013 0.5006 0.5024 0.4999 0.5019 0.4991 0.5004 0.5042 0.5038 0.5029\n",
            " 0.5024 0.5076 0.5045 0.5029]\n"
          ]
        },
        {
          "data": {
            "image/png": "[encoded data removed]",
            "text/plain": [
              "<Figure size 432x288 with 1 Axes>"
            ]
          },
          "metadata": {
            "needs_background": "light"
          },
          "output_type": "display_data"
        }
      ],
      "source": [
        "train_scores_mean = train_scores.mean(axis = 1)\n",
        "print(train_scores_mean)\n",
        "validation_scores_mean = validation_scores.mean(axis = 1)\n",
        "print(validation_scores_mean)\n",
        "\n",
        "plt.title('Learning curve')\n",
        "plt.plot(ns_list, train_scores_mean,'g--',label = 'Training Score')\n",
        "plt.plot(ns_list, validation_scores_mean, 'r--', label = 'Validation Score')\n",
        "plt.xlabel('# Training samples')\n",
        "plt.ylabel('Score')\n",
        "plt.legend(loc='upper right')\n",
        "\n",
        "plt.show()"
      ]
    },
    {
      "cell_type": "markdown",
      "metadata": {
        "id": "iZnM78Aw8h0O"
      },
      "source": [
        "## Training with optimized hyperparameter"
      ]
    },
    {
      "cell_type": "code",
      "execution_count": 23,
      "metadata": {
        "id": "ZbTOUmQL8vR2"
      },
      "outputs": [],
      "source": [
        "X_train, X_test, Y_train, Y_test  = train_test_split(X, Y , train_size = 1000 , random_state= 0)\n",
        "X_test = np.array(X_test)\n",
        "X_train = np.array(X_train)\n",
        "Y_test = np.array(Y_test)\n",
        "Y_train = np.array(Y_train)\n",
        "X = np.array(X)\n",
        "Y = np.array(Y)"
      ]
    },
    {
      "cell_type": "code",
      "execution_count": 24,
      "metadata": {
        "colab": {
          "base_uri": "https://localhost:8080/"
        },
        "id": "ipkcL4y584pY",
        "outputId": "c00d32b1-c516-436d-e912-644da3be861f"
      },
      "outputs": [
        {
          "name": "stdout",
          "output_type": "stream",
          "text": [
            "1 loop, best of 5: 2.95 s per loop\n",
            "1 loop, best of 5: 1.71 s per loop\n",
            "9000\n",
            "5258\n"
          ]
        }
      ],
      "source": [
        "classifier = RandomForestClassifier(n_estimators = 1400, min_samples_split = 5, min_samples_leaf = 1, \n",
        "                                    max_features = 'sqrt', max_depth = 20, bootstrap = True, random_state=0)\n",
        "\n",
        "%t classifier.fit(X_train , Y_train)\n",
        "\n",
        "#Testing the classification on the test sample\n",
        "Y_predict = classifier.predict(X_test)\n",
        "%t Y_predict = classifier.predict(X_test)\n",
        "print(len(Y_test))\n",
        "print(len(Y_predict[Y_predict == 1]))"
      ]
    },
    {
      "cell_type": "code",
      "execution_count": 26,
      "metadata": {
        "colab": {
          "base_uri": "https://localhost:8080/"
        },
        "id": "pgLNRJ_D9SeN",
        "outputId": "af7750a8-1faf-460e-dc46-f7ca8ba048db"
      },
      "outputs": [
        {
          "name": "stdout",
          "output_type": "stream",
          "text": [
            "              precision    recall  f1-score   support\n",
            "\n",
            "           0       0.50      0.42      0.46      4529\n",
            "           1       0.50      0.59      0.54      4471\n",
            "\n",
            "    accuracy                           0.50      9000\n",
            "   macro avg       0.50      0.50      0.50      9000\n",
            "weighted avg       0.50      0.50      0.50      9000\n",
            "\n"
          ]
        }
      ],
      "source": [
        "#Evaluating the new trained model:\n",
        "final_report = classification_report(Y_test, Y_predict)\n",
        "print(final_report)"
      ]
    },
    {
      "cell_type": "markdown",
      "metadata": {
        "id": "0JAxVHWS-NgR"
      },
      "source": [
        "##Confusion Matrix"
      ]
    },
    {
      "cell_type": "code",
      "execution_count": 29,
      "metadata": {
        "colab": {
          "base_uri": "https://localhost:8080/"
        },
        "id": "BPzyRqaH-S_9",
        "outputId": "62154434-80b8-4376-ef8d-4fc00f2ba017"
      },
      "outputs": [
        {
          "name": "stdout",
          "output_type": "stream",
          "text": [
            "Here is the confusion matrix for the LG classifier: \n",
            "\n",
            "TP = 1888   FP = 2641 \n",
            "\n",
            "FN = 1854   TN = 2617 \n",
            "\n"
          ]
        }
      ],
      "source": [
        "from sklearn.metrics import confusion_matrix\n",
        "conf_matrix = confusion_matrix(Y_test , Y_predict)\n",
        "print('Here is the confusion matrix for the LG classifier: \\n'  )\n",
        "print('TP = {}'.format(conf_matrix[0][0]),'  FP = {}'.format(conf_matrix[0][1]) , '\\n')\n",
        "print('FN = {}'.format(conf_matrix[1][0]),'  TN = {}'.format(conf_matrix[1][1]) , '\\n')"
      ]
    },
    {
      "cell_type": "code",
      "execution_count": 34,
      "metadata": {
        "colab": {
          "base_uri": "https://localhost:8080/",
          "height": 279
        },
        "id": "U4ZWTGXlFfXf",
        "outputId": "05078e22-e597-49a4-e4a1-1a7524a91591"
      },
      "outputs": [
        {
          "data": {
            "image/png": "[encoded data removed]",
            "text/plain": [
              "<Figure size 432x288 with 2 Axes>"
            ]
          },
          "metadata": {
            "needs_background": "light"
          },
          "output_type": "display_data"
        }
      ],
      "source": [
        "from sklearn.metrics import plot_confusion_matrix\n",
        "plot_confusion_matrix( classifier, X_test, Y_test)  \n",
        "plt.show()"
      ]
    },
    {
      "cell_type": "markdown",
      "metadata": {
        "id": "xZ4NPdkdGpNL"
      },
      "source": [
        "##Acuracy"
      ]
    },
    {
      "cell_type": "markdown",
      "metadata": {
        "id": "TUI9lhm5II62"
      },
      "source": [
        "$Acurracy = \\frac{TP + TN}{TP+TN+FP+FN} * 100$"
      ]
    },
    {
      "cell_type": "code",
      "execution_count": 35,
      "metadata": {
        "colab": {
          "base_uri": "https://localhost:8080/"
        },
        "id": "qTA4uq5zGx9T",
        "outputId": "76d6bff7-0ec1-44e0-8b43-d48bf410094c"
      },
      "outputs": [
        {
          "name": "stdout",
          "output_type": "stream",
          "text": [
            "The accuracy of the model is 50.056%\n"
          ]
        }
      ],
      "source": [
        "acurracy = (conf_matrix[0][0]+conf_matrix[1][1])/(conf_matrix[0][0]+conf_matrix[0][1]+conf_matrix[1][0]+conf_matrix[1][1])\n",
        "print('The accuracy of the model is {}%' .format(round(acurracy*100, 3)))"
      ]
    },
    {
      "cell_type": "markdown",
      "metadata": {
        "id": "Pn6SOMSQG8JJ"
      },
      "source": [
        "## Precision - Recall curve"
      ]
    },
    {
      "cell_type": "code",
      "execution_count": 36,
      "metadata": {
        "colab": {
          "base_uri": "https://localhost:8080/",
          "height": 451
        },
        "id": "9theAxzSG-tX",
        "outputId": "f4dc39b1-1573-4c6f-d733-213df5b898e9"
      },
      "outputs": [
        {
          "name": "stdout",
          "output_type": "stream",
          "text": [
            "[[0.63435321 0.36564679]\n",
            " [0.30929299 0.69070701]\n",
            " [0.51753816 0.48246184]\n",
            " ...\n",
            " [0.75052425 0.24947575]\n",
            " [0.43332626 0.56667374]\n",
            " [0.71128128 0.28871872]]\n",
            "[0 1 0 ... 0 1 0]\n"
          ]
        },
        {
          "data": {
            "text/plain": [
              "(0.0, 1.0)"
            ]
          },
          "execution_count": 36,
          "metadata": {},
          "output_type": "execute_result"
        },
        {
          "data": {
            "image/png": "[encoded data removed]",
            "text/plain": [
              "<Figure size 432x288 with 1 Axes>"
            ]
          },
          "metadata": {
            "needs_background": "light"
          },
          "output_type": "display_data"
        }
      ],
      "source": [
        "from sklearn.metrics import precision_recall_curve\n",
        "from sklearn.metrics import auc\n",
        "#getting the probability of being in each class from classifier without applying the threshold\n",
        "Y_probs=classifier.predict_proba(X_test) \n",
        "print(Y_probs)\n",
        "print(Y_predict)\n",
        "precision, recall, thresholds = precision_recall_curve(Y_test , Y_probs[:, 1]) \n",
        "\n",
        "#retrieve probability of being 1(in second column of Y_prob)\n",
        "pr_auc = auc(recall, precision)\n",
        "\n",
        "plt.title(\"Precision-Recall vs Threshold Chart\")\n",
        "plt.plot(thresholds, precision[: -1], \"b--\", label=\"Precision\")\n",
        "plt.plot(thresholds, recall[: -1], \"r--\", label=\"Recall\")\n",
        "plt.ylabel(\"Precision, Recall\")\n",
        "plt.xlabel(\"Threshold\")\n",
        "plt.legend(loc=\"lower left\")\n",
        "plt.ylim([0,1])"
      ]
    },
    {
      "cell_type": "markdown",
      "metadata": {
        "id": "UbH4Jdc-HwNI"
      },
      "source": [
        "As can be seen, increasing precision will result in a decrease in the recall and vice versa. The trade-off point between precision and recall is where the two curves coincide, around the threshold = 0.5, and will result in precision and recalls equal to 0.5. "
      ]
    },
    {
      "cell_type": "markdown",
      "metadata": {
        "id": "As64UStyvixb"
      },
      "source": [
        "# SVM Model"
      ]
    },
    {
      "cell_type": "markdown",
      "metadata": {
        "id": "ew1ZoHKyvixc"
      },
      "source": [
        "Initialize and train svm model"
      ]
    },
    {
      "cell_type": "code",
      "execution_count": 16,
      "metadata": {
        "colab": {
          "base_uri": "https://localhost:8080/",
          "height": 398
        },
        "id": "KC4q8yHIvixd",
        "outputId": "ae333127-1969-4110-9f30-ad1550b2deb1"
      },
      "outputs": [
        {
          "name": "stdout",
          "output_type": "stream",
          "text": [
            "Fitting 5 folds for each of 48 candidates, totalling 240 fits\n",
            "0.04798574853727491\n"
          ]
        }
      ],
      "source": [
        "# from sklearn.model_selection import cross_val_score\n",
        "from sklearn.model_selection import GridSearchCV\n",
        "\n",
        "svc = svm.SVC()\n",
        "tst_size = 0.2\n",
        "ns, nf = np.shape(X) \n",
        "# split data to train and test \n",
        "X_train, X_test, Y_train, Y_test = train_test_split(*shuffle(X, Y, n_samples = ns, random_state=0) , random_state=0, test_size =tst_size )\n",
        "# cross validation\n",
        "# scores = cross_val_score(svc, X_train, Y_train, cv=5 ,scoring= 'f1')\n",
        "cv = 5\n",
        "scoring = 'f1'\n",
        "param_grid = {'C': [0.1, 1, 10, 100],  \n",
        "                'gamma': [1, 0.1, 0.01, 0.001], \n",
        "                'kernel': ['rbf', 'linear', 'sigmoid']}\n",
        "# evaluate hyper-parameters \n",
        "clf = GridSearchCV(svc, param_grid, scoring = scoring, cv = cv ,verbose = 1, n_jobs=-1, return_train_score=1)\n",
        "# train model\n",
        "start_train = time.time()\n",
        "trained_model = clf.fit(X_train, Y_train)\n",
        "runtime_train = time.time() - start_train\n",
        "# predict data\n",
        "start_pred = time.time()\n",
        "Y_pred = trained_model.predict(X_test)\n",
        "runtime_pred = time.time() - start_pred\n",
        "# scores = cross_val_score(clf.best_estimator_, X_train, Y_train, cv=5 ,scoring= 'accuracy')\n",
        "# print(scores)\n",
        "print(clf.best_score_)"
      ]
    },
    {
      "cell_type": "code",
      "execution_count": 17,
      "metadata": {},
      "outputs": [],
      "source": [
        "import pickle\n",
        "\n",
        "# save the model to disk\n",
        "filename = 'svm_model.sav'\n",
        "pickle.dump(trained_model, open(filename, 'wb'))\n",
        "# load the model from disk\n",
        "# loaded_model = pickle.load(open(filename, 'rb'))\n",
        "# result = loaded_model.score(X_test, Y_test)\n",
        "# print(result)"
      ]
    },
    {
      "cell_type": "markdown",
      "metadata": {
        "id": "VgbAjfqAvixe"
      },
      "source": [
        "### Classification Report\n",
        "Print some information about the trained model such as training time, ... "
      ]
    },
    {
      "cell_type": "code",
      "execution_count": 22,
      "metadata": {
        "id": "oHmU_txHvixe"
      },
      "outputs": [
        {
          "name": "stdout",
          "output_type": "stream",
          "text": [
            "Best parameters set found on development set:\n",
            "{'C': 100, 'gamma': 1, 'kernel': 'rbf'}\n",
            "\n",
            "-----------------\n",
            "\n",
            "classification report: \n",
            "\n",
            "              precision    recall  f1-score   support\n",
            "\n",
            "           0       0.49      0.96      0.65       990\n",
            "           1       0.49      0.04      0.07      1010\n",
            "\n",
            "    accuracy                           0.49      2000\n",
            "   macro avg       0.49      0.50      0.36      2000\n",
            "weighted avg       0.49      0.49      0.36      2000\n",
            "\n",
            "0.04798574853727491\n",
            "0.06985294117647059\n",
            "-283.89822006225586\n"
          ]
        }
      ],
      "source": [
        "print(\"Best parameters set found on development set:\")\n",
        "print(trained_model.best_params_)\n",
        "print()\n",
        "# print(sorted(trained_model.cv_results_.keys()))\n",
        "# print(trained_model.best_score_)\n",
        "# print(trained_model.cv_results_.mean_fit)\n",
        "\n",
        "print('-----------------')\n",
        "# print(Y_pred)\n",
        "print('\\nclassification report: \\n')\n",
        "from sklearn.metrics import classification_report\n",
        "print(classification_report(Y_test, Y_pred))\n",
        "\n",
        "EM2 = scoring\n",
        "mean_test_scores = trained_model.cv_results_.get('mean_test_score')\n",
        "CVS2 = mean_test_scores[trained_model.best_index_]\n",
        "CPS2 = trained_model.score(X_test, Y_test)\n",
        "T2 = runtime_train\n",
        "PT2 = runtime_pred\n",
        "print(CVS2)\n",
        "print(CPS2)\n",
        "print(T2)"
      ]
    },
    {
      "cell_type": "markdown",
      "metadata": {
        "id": "rf8ukjsfvixf"
      },
      "source": [
        "### Confusion Matrix"
      ]
    },
    {
      "cell_type": "code",
      "execution_count": 23,
      "metadata": {
        "id": "qNiOChmcvixf"
      },
      "outputs": [
        {
          "data": {
            "image/png": "[encoded data removed]",
            "text/plain": [
              "<Figure size 432x288 with 2 Axes>"
            ]
          },
          "metadata": {
            "needs_background": "light"
          },
          "output_type": "display_data"
        }
      ],
      "source": [
        "from sklearn.metrics import ConfusionMatrixDisplay\n",
        "cm = confusion_matrix(Y_test, Y_pred, labels=clf.classes_)\n",
        "disp = ConfusionMatrixDisplay(confusion_matrix=cm, display_labels=clf.classes_)\n",
        "disp.plot()\n",
        "plt.show()"
      ]
    },
    {
      "cell_type": "markdown",
      "metadata": {
        "id": "NkLTkX8zvixi"
      },
      "source": [
        "### Learning Curve\n"
      ]
    },
    {
      "cell_type": "code",
      "execution_count": 26,
      "metadata": {
        "id": "xmA9wHBjvixj"
      },
      "outputs": [
        {
          "data": {
            "image/png": "[encoded data removed]",
            "text/plain": [
              "<Figure size 432x288 with 1 Axes>"
            ]
          },
          "metadata": {
            "needs_background": "light"
          },
          "output_type": "display_data"
        },
        {
          "name": "stdout",
          "output_type": "stream",
          "text": [
            "Training scores:\n",
            "\n",
            "       cv1       cv2       cv3       cv4       cv5\n",
            "100   0.0  0.076923  0.076923  0.076923  0.076923\n",
            "500   0.0  0.000000  0.000000  0.000000  0.000000\n",
            "1000  0.0  0.000000  0.000000  0.000000  0.000000\n",
            "5000  0.0  0.000000  0.000000  0.000000  0.000000\n",
            "6400  0.0  0.075374  0.064346  0.014810  0.065698\n",
            "\n",
            " ----------------------------------------------------------------------\n",
            "\n",
            "Validation scores:\n",
            "\n",
            "       cv1       cv2       cv3       cv4       cv5\n",
            "100   0.0  0.120536  0.106667  0.102793  0.102450\n",
            "500   0.0  0.000000  0.000000  0.000000  0.000000\n",
            "1000  0.0  0.000000  0.000000  0.000000  0.000000\n",
            "5000  0.0  0.000000  0.000000  0.000000  0.000000\n",
            "6400  0.0  0.087760  0.063084  0.019560  0.069525\n"
          ]
        }
      ],
      "source": [
        "ns = [100,500,1000,5000,6400]\n",
        "train_sizes, train_scores, valid_scores = learning_curve(trained_model, X_train, Y_train, train_sizes=ns, cv=cv, scoring= scoring, n_jobs = -1)\n",
        "\n",
        "train_scores_mean =  train_scores.mean(axis = 1)\n",
        "train_scores_std = np.std(train_scores, axis=1)\n",
        "validation_scores_mean =  valid_scores.mean(axis = 1)\n",
        "validation_scores_std  = valid_scores.std(axis = 1)\n",
        "\n",
        "xlabel = 'Sample Size'\n",
        "ylabel = scoring\n",
        "plt_title = 'Learning Curve'\n",
        "\n",
        "fig = plt.figure()\n",
        "ax = fig.add_subplot(111, xlabel=xlabel, ylabel=ylabel, title=plt_title)\n",
        "ax.plot(train_sizes, train_scores_mean, label = 'Training Score')\n",
        "ax.plot(train_sizes, validation_scores_mean, label = 'Validation Score')\n",
        "\n",
        "plt.fill_between(train_sizes, train_scores_mean - train_scores_std,\n",
        "                 train_scores_mean + train_scores_std, alpha=0.2,\n",
        "                 color=\"darkblue\", lw=2)\n",
        "plt.fill_between(train_sizes, validation_scores_mean - validation_scores_std,\n",
        "                 validation_scores_mean + validation_scores_std, alpha=0.2,\n",
        "                 color=\"darkgreen\", lw=2)\n",
        "\n",
        "plt.legend()\n",
        "# plt.yscale('log')\n",
        "plt.show()\n",
        "\n",
        "print('Training scores:\\n\\n', pd.DataFrame( train_scores, columns=[f'cv{i+1}' for i in range(cv)], index=ns) )\n",
        "print('\\n', '-' * 70) # separator to make the output easy to read\n",
        "print('\\nValidation scores:\\n\\n', pd.DataFrame(valid_scores, columns=[f'cv{i+1}' for i in range(cv)], index=ns) )"
      ]
    },
    {
      "cell_type": "markdown",
      "metadata": {
        "id": "ptX4Ql42vixk"
      },
      "source": [
        "### Validation Curve\n"
      ]
    },
    {
      "cell_type": "code",
      "execution_count": 27,
      "metadata": {
        "id": "nxDGL2uDvixl"
      },
      "outputs": [
        {
          "name": "stderr",
          "output_type": "stream",
          "text": [
            "[Parallel(n_jobs=-1)]: Using backend LokyBackend with 8 concurrent workers.\n",
            "[Parallel(n_jobs=-1)]: Done  20 out of  20 | elapsed:   41.9s finished\n"
          ]
        },
        {
          "data": {
            "image/png": "[encoded data removed]",
            "text/plain": [
              "<Figure size 432x288 with 1 Axes>"
            ]
          },
          "metadata": {
            "needs_background": "light"
          },
          "output_type": "display_data"
        },
        {
          "ename": "ValueError",
          "evalue": "Shape of passed values is (4, 5), indices imply (5, 5)",
          "output_type": "error",
          "traceback": [
            "\u001b[1;31m---------------------------------------------------------------------------\u001b[0m",
            "\u001b[1;31mValueError\u001b[0m                                Traceback (most recent call last)",
            "\u001b[1;32m~\\AppData\\Local\\Temp/ipykernel_12464/3496379478.py\u001b[0m in \u001b[0;36m<module>\u001b[1;34m\u001b[0m\n\u001b[0;32m     33\u001b[0m \u001b[0mplt\u001b[0m\u001b[1;33m.\u001b[0m\u001b[0mshow\u001b[0m\u001b[1;33m(\u001b[0m\u001b[1;33m)\u001b[0m\u001b[1;33m\u001b[0m\u001b[1;33m\u001b[0m\u001b[0m\n\u001b[0;32m     34\u001b[0m \u001b[1;33m\u001b[0m\u001b[0m\n\u001b[1;32m---> 35\u001b[1;33m \u001b[0mprint\u001b[0m\u001b[1;33m(\u001b[0m\u001b[1;34m'Training scores:\\n\\n'\u001b[0m\u001b[1;33m,\u001b[0m \u001b[0mpd\u001b[0m\u001b[1;33m.\u001b[0m\u001b[0mDataFrame\u001b[0m\u001b[1;33m(\u001b[0m \u001b[0mtrain_scores\u001b[0m\u001b[1;33m,\u001b[0m \u001b[0mcolumns\u001b[0m\u001b[1;33m=\u001b[0m\u001b[1;33m[\u001b[0m\u001b[1;34mf'cv{i+1}'\u001b[0m \u001b[1;32mfor\u001b[0m \u001b[0mi\u001b[0m \u001b[1;32min\u001b[0m \u001b[0mrange\u001b[0m\u001b[1;33m(\u001b[0m\u001b[0mcv\u001b[0m\u001b[1;33m)\u001b[0m\u001b[1;33m]\u001b[0m\u001b[1;33m,\u001b[0m \u001b[0mindex\u001b[0m\u001b[1;33m=\u001b[0m\u001b[0mns\u001b[0m\u001b[1;33m)\u001b[0m \u001b[1;33m)\u001b[0m\u001b[1;33m\u001b[0m\u001b[1;33m\u001b[0m\u001b[0m\n\u001b[0m\u001b[0;32m     36\u001b[0m \u001b[0mprint\u001b[0m\u001b[1;33m(\u001b[0m\u001b[1;34m'\\n'\u001b[0m\u001b[1;33m,\u001b[0m \u001b[1;34m'-'\u001b[0m \u001b[1;33m*\u001b[0m \u001b[1;36m70\u001b[0m\u001b[1;33m)\u001b[0m \u001b[1;31m# separator to make the output easy to read\u001b[0m\u001b[1;33m\u001b[0m\u001b[1;33m\u001b[0m\u001b[0m\n\u001b[0;32m     37\u001b[0m \u001b[0mprint\u001b[0m\u001b[1;33m(\u001b[0m\u001b[1;34m'\\nValidation scores:\\n\\n'\u001b[0m\u001b[1;33m,\u001b[0m \u001b[0mpd\u001b[0m\u001b[1;33m.\u001b[0m\u001b[0mDataFrame\u001b[0m\u001b[1;33m(\u001b[0m\u001b[0mvalid_scores\u001b[0m\u001b[1;33m,\u001b[0m \u001b[0mcolumns\u001b[0m\u001b[1;33m=\u001b[0m\u001b[1;33m[\u001b[0m\u001b[1;34mf'cv{i+1}'\u001b[0m \u001b[1;32mfor\u001b[0m \u001b[0mi\u001b[0m \u001b[1;32min\u001b[0m \u001b[0mrange\u001b[0m\u001b[1;33m(\u001b[0m\u001b[0mcv\u001b[0m\u001b[1;33m)\u001b[0m\u001b[1;33m]\u001b[0m\u001b[1;33m,\u001b[0m \u001b[0mindex\u001b[0m\u001b[1;33m=\u001b[0m\u001b[0mns\u001b[0m\u001b[1;33m)\u001b[0m \u001b[1;33m)\u001b[0m\u001b[1;33m\u001b[0m\u001b[1;33m\u001b[0m\u001b[0m\n",
            "\u001b[1;32m~\\AppData\\Local\\Programs\\Python\\Python310\\lib\\site-packages\\pandas\\core\\frame.py\u001b[0m in \u001b[0;36m__init__\u001b[1;34m(self, data, index, columns, dtype, copy)\u001b[0m\n\u001b[0;32m    670\u001b[0m                 )\n\u001b[0;32m    671\u001b[0m             \u001b[1;32melse\u001b[0m\u001b[1;33m:\u001b[0m\u001b[1;33m\u001b[0m\u001b[1;33m\u001b[0m\u001b[0m\n\u001b[1;32m--> 672\u001b[1;33m                 mgr = ndarray_to_mgr(\n\u001b[0m\u001b[0;32m    673\u001b[0m                     \u001b[0mdata\u001b[0m\u001b[1;33m,\u001b[0m\u001b[1;33m\u001b[0m\u001b[1;33m\u001b[0m\u001b[0m\n\u001b[0;32m    674\u001b[0m                     \u001b[0mindex\u001b[0m\u001b[1;33m,\u001b[0m\u001b[1;33m\u001b[0m\u001b[1;33m\u001b[0m\u001b[0m\n",
            "\u001b[1;32m~\\AppData\\Local\\Programs\\Python\\Python310\\lib\\site-packages\\pandas\\core\\internals\\construction.py\u001b[0m in \u001b[0;36mndarray_to_mgr\u001b[1;34m(values, index, columns, dtype, copy, typ)\u001b[0m\n\u001b[0;32m    322\u001b[0m     )\n\u001b[0;32m    323\u001b[0m \u001b[1;33m\u001b[0m\u001b[0m\n\u001b[1;32m--> 324\u001b[1;33m     \u001b[0m_check_values_indices_shape_match\u001b[0m\u001b[1;33m(\u001b[0m\u001b[0mvalues\u001b[0m\u001b[1;33m,\u001b[0m \u001b[0mindex\u001b[0m\u001b[1;33m,\u001b[0m \u001b[0mcolumns\u001b[0m\u001b[1;33m)\u001b[0m\u001b[1;33m\u001b[0m\u001b[1;33m\u001b[0m\u001b[0m\n\u001b[0m\u001b[0;32m    325\u001b[0m \u001b[1;33m\u001b[0m\u001b[0m\n\u001b[0;32m    326\u001b[0m     \u001b[1;32mif\u001b[0m \u001b[0mtyp\u001b[0m \u001b[1;33m==\u001b[0m \u001b[1;34m\"array\"\u001b[0m\u001b[1;33m:\u001b[0m\u001b[1;33m\u001b[0m\u001b[1;33m\u001b[0m\u001b[0m\n",
            "\u001b[1;32m~\\AppData\\Local\\Programs\\Python\\Python310\\lib\\site-packages\\pandas\\core\\internals\\construction.py\u001b[0m in \u001b[0;36m_check_values_indices_shape_match\u001b[1;34m(values, index, columns)\u001b[0m\n\u001b[0;32m    391\u001b[0m         \u001b[0mpassed\u001b[0m \u001b[1;33m=\u001b[0m \u001b[0mvalues\u001b[0m\u001b[1;33m.\u001b[0m\u001b[0mshape\u001b[0m\u001b[1;33m\u001b[0m\u001b[1;33m\u001b[0m\u001b[0m\n\u001b[0;32m    392\u001b[0m         \u001b[0mimplied\u001b[0m \u001b[1;33m=\u001b[0m \u001b[1;33m(\u001b[0m\u001b[0mlen\u001b[0m\u001b[1;33m(\u001b[0m\u001b[0mindex\u001b[0m\u001b[1;33m)\u001b[0m\u001b[1;33m,\u001b[0m \u001b[0mlen\u001b[0m\u001b[1;33m(\u001b[0m\u001b[0mcolumns\u001b[0m\u001b[1;33m)\u001b[0m\u001b[1;33m)\u001b[0m\u001b[1;33m\u001b[0m\u001b[1;33m\u001b[0m\u001b[0m\n\u001b[1;32m--> 393\u001b[1;33m         \u001b[1;32mraise\u001b[0m \u001b[0mValueError\u001b[0m\u001b[1;33m(\u001b[0m\u001b[1;34mf\"Shape of passed values is {passed}, indices imply {implied}\"\u001b[0m\u001b[1;33m)\u001b[0m\u001b[1;33m\u001b[0m\u001b[1;33m\u001b[0m\u001b[0m\n\u001b[0m\u001b[0;32m    394\u001b[0m \u001b[1;33m\u001b[0m\u001b[0m\n\u001b[0;32m    395\u001b[0m \u001b[1;33m\u001b[0m\u001b[0m\n",
            "\u001b[1;31mValueError\u001b[0m: Shape of passed values is (4, 5), indices imply (5, 5)"
          ]
        }
      ],
      "source": [
        "from sklearn.linear_model import Ridge\n",
        "c_list = param_grid.get('C')\n",
        "train_scores, valid_scores = validation_curve(SVC(), X_train, Y_train, \n",
        "                                              param_name=\"gamma\",\n",
        "                                              param_range=c_list , \n",
        "                                              cv=cv, \n",
        "                                              scoring = scoring,\n",
        "                                              verbose=1, \n",
        "                                              n_jobs=-1\n",
        "                                             )\n",
        "train_scores_mean = np.mean(train_scores, axis=1)\n",
        "train_scores_std = np.std(train_scores, axis=1)\n",
        "valid_scores_mean = np.mean(valid_scores, axis=1)\n",
        "valid_scores_std = np.std(valid_scores, axis=1)\n",
        "\n",
        "xlabel = 'gamma'\n",
        "ylabel = scoring\n",
        "plt_title = 'Validation Curve'\n",
        "\n",
        "fig = plt.figure()\n",
        "ax = fig.add_subplot(111, xlabel=xlabel, ylabel=ylabel, title=plt_title)\n",
        "plt.plot(c_list, train_scores_mean, label=\"Training score\",\n",
        "             color=\"darkorange\", lw=2)\n",
        "plt.fill_between(c_list, train_scores_mean - train_scores_std,\n",
        "                 train_scores_mean + train_scores_std, alpha=0.2,\n",
        "                 color=\"darkorange\", lw=2)\n",
        "plt.plot(c_list, valid_scores_mean, label=\"Validation score\",\n",
        "             color=\"navy\", lw=2)\n",
        "plt.fill_between(c_list, valid_scores_mean - valid_scores_std,\n",
        "                 valid_scores_mean + valid_scores_std, alpha=0.2,\n",
        "                 color=\"navy\", lw=2)\n",
        "plt.legend(loc=\"best\")\n",
        "plt.show()\n",
        "\n",
        "print('Training scores:\\n\\n', pd.DataFrame( train_scores, columns=[f'cv{i+1}' for i in range(cv)], index=ns) )\n",
        "print('\\n', '-' * 70) # separator to make the output easy to read\n",
        "print('\\nValidation scores:\\n\\n', pd.DataFrame(valid_scores, columns=[f'cv{i+1}' for i in range(cv)], index=ns) )"
      ]
    },
    {
      "cell_type": "markdown",
      "metadata": {
        "id": "oljfnx-Bvixl"
      },
      "source": [
        "### Regularization (if needed) \n",
        "do we need it??"
      ]
    },
    {
      "cell_type": "code",
      "execution_count": null,
      "metadata": {
        "id": "C8p8IvNUvixm"
      },
      "outputs": [],
      "source": [
        "from sklearn.linear_model import Ridge\n",
        "\n",
        "# deg_list \n",
        "deg = 15\n",
        "ns = 20\n",
        "X_train, X_test, Y_train, Y_test = train_test_split(*shuffle(X_bbr, Y_bbr, n_samples = ns, random_state=0) , random_state=0, test_size =.5 )\n",
        "\n",
        "\n",
        "w_list = []\n",
        "\n",
        "x_range = np.arange(X_bbr.min(), X_bbr.max(), .1)\n",
        "\n",
        "\n",
        "fig = plt.figure()\n",
        "ax = fig.add_subplot(111, xlabel=x_label, ylabel=y_label, title=plt_title)\n",
        "# ax.scatter(X_train, Y_train, label = 'Train data')\n",
        "ax.scatter(X_test, Y_test, c='black', label = 'Test data')\n",
        "\n",
        "\n",
        "r_list = [0,.1,1,10]\n",
        "\n",
        "for r in r_list:\n",
        "\n",
        "  rg = Pipeline([('poly', PolynomialFeatures(degree=deg) ), \n",
        "                ('model', Ridge( alpha=r ) ### We are using Ridge which uses l2 regularization. \n",
        "                )])\n",
        "  rg.fit( X_train.reshape(-1,1), Y_train )\n",
        "\n",
        "  ### Let's store the weights\n",
        "  w_list += [rg[1].coef_]\n",
        "\n",
        "  y_range = rg.predict(x_range.reshape(-1,1) )\n",
        "  ax.plot(x_range, y_range,  alpha = .6, label=f'Regularization={r}')\n",
        "\n",
        "\n",
        "w_list = np.array(w_list)\n",
        "plt.ylim(-1.5,2)\n",
        "ax.legend()\n",
        "plt.show()"
      ]
    },
    {
      "cell_type": "markdown",
      "metadata": {
        "id": "ckUaCbULvixn"
      },
      "source": [
        "# Logistic Regression"
      ]
    },
    {
      "cell_type": "code",
      "execution_count": null,
      "metadata": {
        "id": "LOl9g5ZTvixn"
      },
      "outputs": [],
      "source": [
        "from sklearn.linear_model import LogisticRegression\n",
        "\n",
        "# scale model\n",
        "\n",
        "lrg = LogisticRegression()\n",
        "tst_size = 0.2\n",
        "ns, nf = np.shape(X)\n",
        "# split data to train and test \n",
        "# X_train, X_test, Y_train, Y_test = train_test_split(*shuffle(X, Y, n_samples = ns, random_state=0) , random_state=0, test_size =tst_size )\n",
        "# cross validation\n",
        "# scores = cross_val_score(svc, X_train, Y_train, cv=5 ,scoring= 'recall')\n",
        "# print(scores)\n",
        "param_grid=  { 'solver':{'newton-cg', 'lbfgs', 'liblinear', 'sag', 'saga'},'penalty':{'l1', 'l2', 'elasticnet', 'none'},'fit_intercept'C': [0.1, 1, 10, 100, 1000], 'gamma': [1, 0.1, 0.01, 0.001, 0.0001], 'kernel': ['rbf','linear','sigmoid']}\n",
        "# evaluate hyper-parameters \n",
        "clf = GridSearchCV(svc, param_grid, scoring = 'f1', cv = 5 ,verbose = 1, n_jobs=-1, return_train_score=1)\n",
        "# train model\n",
        "trained_model = clf.fit(X_train, Y_train)\n",
        "# predict data\n",
        "Y_pred = trained_model.predict(X_test)\n",
        "# scores = cross_val_score(clf.best_estimator_, X_train, Y_train, cv=5 ,scoring= 'accuracy')\n",
        "# print(scores)\n",
        "print(clf.best_score_)"
      ]
    },
    {
      "cell_type": "markdown",
      "metadata": {
        "id": "As64UStyvixb"
      },
      "source": [
        "# Decision Tree Model"
      ]
    },
    {
      "cell_type": "markdown",
      "metadata": {
        "id": "ew1ZoHKyvixc"
      },
      "source": [
        "Initialize and train tree model"
      ]
    },
    {
      "cell_type": "code",
      "execution_count": null,
      "metadata": {
        "colab": {
          "base_uri": "https://localhost:8080/",
          "height": 398
        },
        "id": "KC4q8yHIvixd",
        "outputId": "ae333127-1969-4110-9f30-ad1550b2deb1"
      },
      "outputs": [
        {
          "name": "stdout",
          "output_type": "stream",
          "text": [
            "Fitting 5 folds for each of 48 candidates, totalling 240 fits\n",
            "0.04798574853727491\n"
          ]
        }
      ],
      "source": [
        "# from sklearn.model_selection import cross_val_score\n",
        "from sklearn.model_selection import GridSearchCV\n",
        "\n",
        "svc = svm.SVC()\n",
        "tst_size = 0.2\n",
        "ns, nf = np.shape(X) \n",
        "# split data to train and test \n",
        "X_train, X_test, Y_train, Y_test = train_test_split(*shuffle(X, Y, n_samples = ns, random_state=0) , random_state=0, test_size =tst_size )\n",
        "# cross validation\n",
        "# scores = cross_val_score(svc, X_train, Y_train, cv=5 ,scoring= 'f1')\n",
        "cv = 5\n",
        "scoring = 'f1'\n",
        "param_grid = {'C': [0.1, 1, 10, 100],  \n",
        "                'gamma': [1, 0.1, 0.01, 0.001], \n",
        "                'kernel': ['rbf', 'linear', 'sigmoid']}\n",
        "# evaluate hyper-parameters \n",
        "clf = GridSearchCV(svc, param_grid, scoring = scoring, cv = cv ,verbose = 1, n_jobs=-1, return_train_score=1)\n",
        "# train model\n",
        "start_train = time.time()\n",
        "trained_model = clf.fit(X_train, Y_train)\n",
        "runtime_train = time.time() - start_train\n",
        "# predict data\n",
        "start_pred = time.time()\n",
        "Y_pred = trained_model.predict(X_test)\n",
        "runtime_pred = time.time() - start_pred\n",
        "# scores = cross_val_score(clf.best_estimator_, X_train, Y_train, cv=5 ,scoring= 'accuracy')\n",
        "# print(scores)\n",
        "print(clf.best_score_)"
      ]
    },
    {
      "cell_type": "code",
      "execution_count": null,
      "metadata": {},
      "outputs": [],
      "source": [
        "import pickle\n",
        "\n",
        "# save the model to disk\n",
        "filename = 'svm_model.sav'\n",
        "pickle.dump(trained_model, open(filename, 'wb'))\n",
        "# load the model from disk\n",
        "# loaded_model = pickle.load(open(filename, 'rb'))\n",
        "# result = loaded_model.score(X_test, Y_test)\n",
        "# print(result)"
      ]
    },
    {
      "cell_type": "markdown",
      "metadata": {
        "id": "VgbAjfqAvixe"
      },
      "source": [
        "### Classification Report\n",
        "Print some information about the trained model such as training time, ... "
      ]
    },
    {
      "cell_type": "code",
      "execution_count": null,
      "metadata": {
        "id": "oHmU_txHvixe"
      },
      "outputs": [
        {
          "name": "stdout",
          "output_type": "stream",
          "text": [
            "Best parameters set found on development set:\n",
            "{'C': 100, 'gamma': 1, 'kernel': 'rbf'}\n",
            "\n",
            "-----------------\n",
            "\n",
            "classification report: \n",
            "\n",
            "              precision    recall  f1-score   support\n",
            "\n",
            "           0       0.49      0.96      0.65       990\n",
            "           1       0.49      0.04      0.07      1010\n",
            "\n",
            "    accuracy                           0.49      2000\n",
            "   macro avg       0.49      0.50      0.36      2000\n",
            "weighted avg       0.49      0.49      0.36      2000\n",
            "\n",
            "0.04798574853727491\n",
            "0.06985294117647059\n",
            "-283.89822006225586\n"
          ]
        }
      ],
      "source": [
        "print(\"Best parameters set found on development set:\")\n",
        "print(trained_model.best_params_)\n",
        "print()\n",
        "# print(sorted(trained_model.cv_results_.keys()))\n",
        "# print(trained_model.best_score_)\n",
        "# print(trained_model.cv_results_.mean_fit)\n",
        "\n",
        "print('-----------------')\n",
        "# print(Y_pred)\n",
        "print('\\nclassification report: \\n')\n",
        "from sklearn.metrics import classification_report\n",
        "print(classification_report(Y_test, Y_pred))\n",
        "\n",
        "EM2 = scoring\n",
        "mean_test_scores = trained_model.cv_results_.get('mean_test_score')\n",
        "CVS2 = mean_test_scores[trained_model.best_index_]\n",
        "CPS2 = trained_model.score(X_test, Y_test)\n",
        "T2 = runtime_train\n",
        "PT2 = runtime_pred\n",
        "print(CVS2)\n",
        "print(CPS2)\n",
        "print(T2)"
      ]
    },
    {
      "cell_type": "markdown",
      "metadata": {
        "id": "rf8ukjsfvixf"
      },
      "source": [
        "### Confusion Matrix"
      ]
    },
    {
      "cell_type": "code",
      "execution_count": null,
      "metadata": {
        "id": "qNiOChmcvixf"
      },
      "outputs": [
        {
          "data": {
            "image/png": "[encoded data removed]",
            "text/plain": [
              "<Figure size 432x288 with 2 Axes>"
            ]
          },
          "metadata": {},
          "output_type": "display_data"
        }
      ],
      "source": [
        "from sklearn.metrics import ConfusionMatrixDisplay\n",
        "cm = confusion_matrix(Y_test, Y_pred, labels=clf.classes_)\n",
        "disp = ConfusionMatrixDisplay(confusion_matrix=cm, display_labels=clf.classes_)\n",
        "disp.plot()\n",
        "plt.show()"
      ]
    },
    {
      "cell_type": "markdown",
      "metadata": {
        "id": "NkLTkX8zvixi"
      },
      "source": [
        "### Learning Curve\n"
      ]
    },
    {
      "cell_type": "code",
      "execution_count": null,
      "metadata": {
        "id": "xmA9wHBjvixj"
      },
      "outputs": [],
      "source": [
        "ns = [100,500,1000,5000,6400]\n",
        "train_sizes, train_scores, valid_scores = learning_curve(trained_model, X_train, Y_train, train_sizes=ns, cv=cv, scoring= scoring, n_jobs = -1)\n",
        "\n",
        "train_scores_mean =  train_scores.mean(axis = 1)\n",
        "train_scores_std = np.std(train_scores, axis=1)\n",
        "validation_scores_mean =  valid_scores.mean(axis = 1)\n",
        "validation_scores_std  = valid_scores.std(axis = 1)\n",
        "\n",
        "xlabel = 'Sample Size'\n",
        "ylabel = scoring\n",
        "plt_title = 'Learning Curve'\n",
        "\n",
        "fig = plt.figure()\n",
        "ax = fig.add_subplot(111, xlabel=xlabel, ylabel=ylabel, title=plt_title)\n",
        "ax.plot(train_sizes, train_scores_mean, label = 'Training Score')\n",
        "ax.plot(train_sizes, validation_scores_mean, label = 'Validation Score')\n",
        "\n",
        "plt.fill_between(train_sizes, train_scores_mean - train_scores_std,\n",
        "                 train_scores_mean + train_scores_std, alpha=0.2,\n",
        "                 color=\"darkblue\", lw=2)\n",
        "plt.fill_between(train_sizes, validation_scores_mean - validation_scores_std,\n",
        "                 validation_scores_mean + validation_scores_std, alpha=0.2,\n",
        "                 color=\"darkgreen\", lw=2)\n",
        "\n",
        "plt.legend()\n",
        "# plt.yscale('log')\n",
        "plt.show()\n",
        "\n",
        "print('Training scores:\\n\\n', pd.DataFrame( train_scores, columns=[f'cv{i+1}' for i in range(cv)], index=ns) )\n",
        "print('\\n', '-' * 70) # separator to make the output easy to read\n",
        "print('\\nValidation scores:\\n\\n', pd.DataFrame(valid_scores, columns=[f'cv{i+1}' for i in range(cv)], index=ns) )"
      ]
    },
    {
      "cell_type": "markdown",
      "metadata": {
        "id": "ptX4Ql42vixk"
      },
      "source": [
        "### Validation Curve\n"
      ]
    },
    {
      "cell_type": "code",
      "execution_count": null,
      "metadata": {
        "id": "nxDGL2uDvixl"
      },
      "outputs": [],
      "source": [
        "from sklearn.linear_model import Ridge\n",
        "c_list = param_grid.get('C')\n",
        "train_scores, valid_scores = validation_curve(SVC(), X_train, Y_train, \n",
        "                                              param_name=\"gamma\",\n",
        "                                              param_range=c_list , \n",
        "                                              cv=cv, \n",
        "                                              scoring = scoring,\n",
        "                                              verbose=1, \n",
        "                                              n_jobs=-1\n",
        "                                             )\n",
        "train_scores_mean = np.mean(train_scores, axis=1)\n",
        "train_scores_std = np.std(train_scores, axis=1)\n",
        "valid_scores_mean = np.mean(valid_scores, axis=1)\n",
        "valid_scores_std = np.std(valid_scores, axis=1)\n",
        "\n",
        "xlabel = 'gamma'\n",
        "ylabel = scoring\n",
        "plt_title = 'Validation Curve'\n",
        "\n",
        "fig = plt.figure()\n",
        "ax = fig.add_subplot(111, xlabel=xlabel, ylabel=ylabel, title=plt_title)\n",
        "plt.plot(c_list, train_scores_mean, label=\"Training score\",\n",
        "             color=\"darkorange\", lw=2)\n",
        "plt.fill_between(c_list, train_scores_mean - train_scores_std,\n",
        "                 train_scores_mean + train_scores_std, alpha=0.2,\n",
        "                 color=\"darkorange\", lw=2)\n",
        "plt.plot(c_list, valid_scores_mean, label=\"Validation score\",\n",
        "             color=\"navy\", lw=2)\n",
        "plt.fill_between(c_list, valid_scores_mean - valid_scores_std,\n",
        "                 valid_scores_mean + valid_scores_std, alpha=0.2,\n",
        "                 color=\"navy\", lw=2)\n",
        "plt.legend(loc=\"best\")\n",
        "plt.show()\n",
        "\n",
        "print('Training scores:\\n\\n', pd.DataFrame( train_scores, columns=[f'cv{i+1}' for i in range(cv)], index=ns) )\n",
        "print('\\n', '-' * 70) # separator to make the output easy to read\n",
        "print('\\nValidation scores:\\n\\n', pd.DataFrame(valid_scores, columns=[f'cv{i+1}' for i in range(cv)], index=ns) )"
      ]
    },
    {
      "cell_type": "markdown",
      "metadata": {
        "id": "oljfnx-Bvixl"
      },
      "source": [
        "### Regularization (if needed) \n",
        "do we need it??"
      ]
    },
    {
      "cell_type": "code",
      "execution_count": null,
      "metadata": {
        "id": "C8p8IvNUvixm"
      },
      "outputs": [],
      "source": [
        "from sklearn.linear_model import Ridge\n",
        "\n",
        "# deg_list \n",
        "deg = 15\n",
        "ns = 20\n",
        "X_train, X_test, Y_train, Y_test = train_test_split(*shuffle(X_bbr, Y_bbr, n_samples = ns, random_state=0) , random_state=0, test_size =.5 )\n",
        "\n",
        "\n",
        "w_list = []\n",
        "\n",
        "x_range = np.arange(X_bbr.min(), X_bbr.max(), .1)\n",
        "\n",
        "\n",
        "fig = plt.figure()\n",
        "ax = fig.add_subplot(111, xlabel=x_label, ylabel=y_label, title=plt_title)\n",
        "# ax.scatter(X_train, Y_train, label = 'Train data')\n",
        "ax.scatter(X_test, Y_test, c='black', label = 'Test data')\n",
        "\n",
        "\n",
        "r_list = [0,.1,1,10]\n",
        "\n",
        "for r in r_list:\n",
        "\n",
        "  rg = Pipeline([('poly', PolynomialFeatures(degree=deg) ), \n",
        "                ('model', Ridge( alpha=r ) ### We are using Ridge which uses l2 regularization. \n",
        "                )])\n",
        "  rg.fit( X_train.reshape(-1,1), Y_train )\n",
        "\n",
        "  ### Let's store the weights\n",
        "  w_list += [rg[1].coef_]\n",
        "\n",
        "  y_range = rg.predict(x_range.reshape(-1,1) )\n",
        "  ax.plot(x_range, y_range,  alpha = .6, label=f'Regularization={r}')\n",
        "\n",
        "\n",
        "w_list = np.array(w_list)\n",
        "plt.ylim(-1.5,2)\n",
        "ax.legend()\n",
        "plt.show()"
      ]
    },
    {
      "cell_type": "markdown",
      "metadata": {
        "id": "2_QYvVbZvixn"
      },
      "source": [
        "# Comparing Models"
      ]
    },
    {
      "cell_type": "markdown",
      "metadata": {
        "id": "Ybi6kJ3Uvixo"
      },
      "source": [
        "A table is created to compare the five recently-traind models above. It includes evaluation metric(s), training time and prediction time of each models. Also, we sorted models based on their performance from different aspects. "
      ]
    },
    {
      "cell_type": "code",
      "execution_count": null,
      "metadata": {
        "id": "HEhpPmF_vixo"
      },
      "outputs": [],
      "source": [
        "table = pd.DataFrame({'Name':['SVM', 'Logestic Regression', 'Random Forest', 'KNN', 'undecided'],\n",
        "                        'Evaluation Metric(s)': [EM1, EM2, EM3, EM4, EM5],\n",
        "                        'Corresponding Validation Score': [CVS1, CVS2, CVS3, CVS4, CVS5],\n",
        "                        'Corresponding Prediction Score':  [CPS1, CPS2, CPS3, CPS4, CPS5],\n",
        "                        'Training Time': [T1, T2, T3, T4, T5],\n",
        "                        'Prediction Time': [PT1, PT2, PT3, PT4, PT5],\n",
        "})\n",
        "\n",
        "print('Sort models based on their validation scores: \\n' + str(table.sort_values(by=['Corresponding Validation Score', ascending= False]).loc[:, ['Name', 'Corresponding Validation Score']))\n",
        "print('\\nSort models based on their prediction scores: \\n' + str(table.sort_values(by=['Corresponding Prediction Score', ascending= False]).loc[:, ['Name', 'Corresponding Prediction Score']))\n",
        "print('\\nSort models based on their validation scores: \\n' + str(table.sort_values(by=['Training Time', ascending= True]).loc[:, ['Name', 'Training Time']))\n",
        "print('\\nSort models based on their validation scores: \\n' + str(table.sort_values(by=['Prediction Time', ascending= True]).loc[:, ['Name', 'Prediction Time']))\n"
      ]
    }
  ],
  "metadata": {
    "colab": {
      "name": "Model_Evaluation.ipynb",
      "provenance": []
    },
    "interpreter": {
      "hash": "fe5d99aa55929fe810a91df1bb66991ee2efa56184cda4e0a18aeeaadde96492"
    },
    "kernelspec": {
      "display_name": "Python 3.10.0 64-bit",
      "language": "python",
      "name": "python3"
    },
    "language_info": {
      "codemirror_mode": {
        "name": "ipython",
        "version": 3
      },
      "file_extension": ".py",
      "mimetype": "text/x-python",
      "name": "python",
      "nbconvert_exporter": "python",
      "pygments_lexer": "ipython3",
      "version": "3.10.0"
    },
    "orig_nbformat": 4
  },
  "nbformat": 4,
  "nbformat_minor": 0
}
