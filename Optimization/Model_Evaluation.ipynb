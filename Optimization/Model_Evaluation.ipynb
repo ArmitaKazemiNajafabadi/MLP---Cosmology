{
 "cells": [
  {
   "cell_type": "markdown",
   "metadata": {},
   "source": [
    "In this code, our objective is to train some classic models such as SVM, KNN, RandomForest, etc on our test data, and try to evaluate their efficiency by plotting confusion matrixes, learning curves, validation curves, and measuring the prediction time. "
   ]
  },
  {
   "cell_type": "markdown",
   "metadata": {},
   "source": [
    "Import required libreries"
   ]
  },
  {
   "cell_type": "code",
   "execution_count": 79,
   "metadata": {},
   "outputs": [],
   "source": [
    "import pandas as pd\n",
    "import numpy as np\n",
    "import matplotlib.pyplot as plt\n",
    "import matplotlib.cm as cm\n",
    "from sklearn.model_selection import learning_curve, validation_curve\n",
    "from sklearn.neighbors import KNeighborsClassifier\n",
    "from sklearn.preprocessing import PolynomialFeatures\n",
    "from sklearn.linear_model import LinearRegression\n",
    "from sklearn.pipeline import Pipeline\n",
    "from sklearn.utils import shuffle\n",
    "from sklearn.model_selection import train_test_split\n",
    "from sklearn.linear_model import RidgeClassifier\n",
    "from sklearn import svm\n",
    "from sklearn.svm import SVC\n",
    "from sklearn.metrics import confusion_matrix, plot_confusion_matrix"
   ]
  },
  {
   "cell_type": "markdown",
   "metadata": {},
   "source": [
    "# Import phase I data"
   ]
  },
  {
   "cell_type": "code",
   "execution_count": null,
   "metadata": {},
   "outputs": [],
   "source": [
    "# phase I data which is entirely cleared and preprocessed should be imported here.\n",
    "# we will have X,Y variables which are representations for sample data with their features \n",
    "# and the target function which is Y"
   ]
  },
  {
   "cell_type": "code",
   "execution_count": 58,
   "metadata": {},
   "outputs": [
    {
     "ename": "SyntaxError",
     "evalue": "invalid syntax (Temp/ipykernel_10764/4245754019.py, line 1)",
     "output_type": "error",
     "traceback": [
      "\u001b[1;36m  File \u001b[1;32m\"C:\\Users\\Kanoa\\AppData\\Local\\Temp/ipykernel_10764/4245754019.py\"\u001b[1;36m, line \u001b[1;32m1\u001b[0m\n\u001b[1;33m    X,Y = # is a table consisting samples with their features: X concat Y (with the name Y)\u001b[0m\n\u001b[1;37m          ^\u001b[0m\n\u001b[1;31mSyntaxError\u001b[0m\u001b[1;31m:\u001b[0m invalid syntax\n"
     ]
    }
   ],
   "source": [
    "# X,Y = # is a table consisting samples with their features: X concat Y (with the name Y)\n",
    "# tst_size = 0.2\n",
    "# ns, nf = np.shape(X) \n",
    "# X_train, X_test, Y_train, Y_test = train_test_split(*shuffle(X, Y, n_samples = ns, random_state=0) , random_state=0, test_size =tst_size )"
   ]
  },
  {
   "cell_type": "code",
   "execution_count": 81,
   "metadata": {},
   "outputs": [],
   "source": [
    "# this is fake data, only for debugging purpose\n",
    "\n",
    "huge_data =  pd.read_csv('sample_data.csv')\n",
    "# print(huge_data.head())\n",
    "narrower_data= huge_data.drop(['Unnamed: 0','phkey','In_halo_log'], axis=1)\n",
    "narrower_data.head()\n",
    "data = np.array(narrower_data)\n",
    "\n",
    "X = data[:,2:8]\n",
    "X = np.concatenate((X,X))\n",
    "# print(x.shape)\n",
    "\n",
    "from sklearn.preprocessing import StandardScaler\n",
    "scaler = StandardScaler()\n",
    "X = scaler.fit(X).transform(X)\n",
    "# print(X)\n",
    "Y = data[:,9]\n",
    "Y = np.concatenate((Y,Y))\n",
    "Y[Y>1]=1\n",
    "# print(Y)\n",
    "\n",
    "tst_size = 0.2\n",
    "ns, nf = np.shape(X) \n",
    "# split data to train and test \n",
    "X_train, X_test, Y_train, Y_test = train_test_split(*shuffle(X, Y, n_samples = ns, random_state=0) , random_state=0, test_size =tst_size )\n",
    "# cross validation"
   ]
  },
  {
   "cell_type": "markdown",
   "metadata": {},
   "source": [
    "# SVM Model"
   ]
  },
  {
   "cell_type": "markdown",
   "metadata": {},
   "source": [
    "Initialize and train svm model"
   ]
  },
  {
   "cell_type": "code",
   "execution_count": 83,
   "metadata": {},
   "outputs": [
    {
     "name": "stdout",
     "output_type": "stream",
     "text": [
      "Fitting 5 folds for each of 75 candidates, totalling 375 fits\n",
      "0.906043956043956\n"
     ]
    }
   ],
   "source": [
    "# from sklearn.model_selection import cross_val_score\n",
    "from sklearn.model_selection import GridSearchCV\n",
    "\n",
    "svc = svm.SVC()\n",
    "tst_size = 0.2\n",
    "ns, nf = np.shape(X) \n",
    "# split data to train and test \n",
    "X_train, X_test, Y_train, Y_test = train_test_split(*shuffle(X, Y, n_samples = ns, random_state=0) , random_state=0, test_size =tst_size )\n",
    "# cross validation\n",
    "# scores = cross_val_score(svc, X_train, Y_train, cv=5 ,scoring= 'f1')\n",
    "cv = 5\n",
    "scoring = 'f1'\n",
    "param_grid = {'C': [0.1, 1, 10, 100, 1000],  \n",
    "                'gamma': [1, 0.1, 0.01, 0.001, 0.0001], \n",
    "                'kernel': ['rbf', 'linear', 'sigmoid']}\n",
    "# evaluate hyper-parameters \n",
    "clf = GridSearchCV(svc, param_grid, scoring = scoring, cv = cv ,verbose = 1, n_jobs=-1, return_train_score=1)\n",
    "# train model\n",
    "trained_model = clf.fit(X_train, Y_train)\n",
    "# predict data\n",
    "Y_pred = trained_model.predict(X_test)\n",
    "# scores = cross_val_score(clf.best_estimator_, X_train, Y_train, cv=5 ,scoring= 'accuracy')\n",
    "# print(scores)\n",
    "print(clf.best_score_)"
   ]
  },
  {
   "cell_type": "markdown",
   "metadata": {},
   "source": [
    "### Classification Report\n",
    "Print some information about the trained model such as training time, ... "
   ]
  },
  {
   "cell_type": "code",
   "execution_count": 85,
   "metadata": {},
   "outputs": [
    {
     "name": "stdout",
     "output_type": "stream",
     "text": [
      "Best parameters set found on development set:\n",
      "{'C': 1, 'gamma': 1, 'kernel': 'rbf'}\n",
      "\n",
      "['mean_fit_time', 'mean_score_time', 'mean_test_score', 'mean_train_score', 'param_C', 'param_gamma', 'param_kernel', 'params', 'rank_test_score', 'split0_test_score', 'split0_train_score', 'split1_test_score', 'split1_train_score', 'split2_test_score', 'split2_train_score', 'split3_test_score', 'split3_train_score', 'split4_test_score', 'split4_train_score', 'std_fit_time', 'std_score_time', 'std_test_score', 'std_train_score']\n",
      "0.906043956043956\n",
      "-----------------\n",
      "\n",
      "classification report: \n",
      "\n",
      "              precision    recall  f1-score   support\n",
      "\n",
      "         0.0       1.00      0.67      0.80         3\n",
      "         1.0       0.90      1.00      0.95         9\n",
      "\n",
      "    accuracy                           0.92        12\n",
      "   macro avg       0.95      0.83      0.87        12\n",
      "weighted avg       0.92      0.92      0.91        12\n",
      "\n"
     ]
    }
   ],
   "source": [
    "print(\"Best parameters set found on development set:\")\n",
    "print(trained_model.best_params_)\n",
    "print()\n",
    "print(sorted(trained_model.cv_results_.keys()))\n",
    "print(trained_model.best_score_)\n",
    "# print(trained_model.cv_results_.mean_fit)\n",
    "\n",
    "print('-----------------')\n",
    "# print(Y_pred)\n",
    "print('\\nclassification report: \\n')\n",
    "from sklearn.metrics import classification_report\n",
    "print(classification_report(Y_test, Y_pred))\n",
    "\n",
    "EM1 = \n",
    "CVS = \n",
    "CPS = \n",
    "T = \n",
    "PT = \n"
   ]
  },
  {
   "cell_type": "markdown",
   "metadata": {},
   "source": [
    "### Confusion Matrix"
   ]
  },
  {
   "cell_type": "code",
   "execution_count": 95,
   "metadata": {},
   "outputs": [
    {
     "data": {
      "image/png": "[encoded data removed]",
      "text/plain": [
       "<Figure size 432x288 with 2 Axes>"
      ]
     },
     "metadata": {
      "needs_background": "light"
     },
     "output_type": "display_data"
    }
   ],
   "source": [
    "from sklearn.metrics import ConfusionMatrixDisplay\n",
    "cm = confusion_matrix(Y_test, Y_pred, labels=clf.classes_)\n",
    "disp = ConfusionMatrixDisplay(confusion_matrix=cm, display_labels=clf.classes_)\n",
    "disp.plot()\n",
    "plt.show()"
   ]
  },
  {
   "cell_type": "markdown",
   "metadata": {},
   "source": [
    "### Learning Curve\n"
   ]
  },
  {
   "cell_type": "code",
   "execution_count": 96,
   "metadata": {},
   "outputs": [
    {
     "data": {
      "image/png": "[encoded data removed]",
      "text/plain": [
       "<Figure size 432x288 with 1 Axes>"
      ]
     },
     "metadata": {
      "needs_background": "light"
     },
     "output_type": "display_data"
    },
    {
     "name": "stdout",
     "output_type": "stream",
     "text": [
      "Training scores:\n",
      "\n",
      "          cv1       cv2       cv3       cv4       cv5\n",
      "10  0.888889  0.833333  0.875000  0.875000  0.875000\n",
      "20  0.750000  0.750000  0.857143  0.838710  0.838710\n",
      "25  0.827586  0.692308  0.857143  0.971429  0.971429\n",
      "30  1.000000  0.971429  1.000000  0.972973  0.972973\n",
      "38  1.000000  0.938776  1.000000  1.000000  0.978723\n",
      "\n",
      " ----------------------------------------------------------------------\n",
      "\n",
      "Validation scores:\n",
      "\n",
      "          cv1       cv2       cv3       cv4       cv5\n",
      "10  0.750000  0.769231  0.666667  0.833333  0.769231\n",
      "20  0.750000  0.750000  0.571429  0.714286  0.714286\n",
      "25  0.461538  0.545455  0.666667  0.857143  0.909091\n",
      "30  0.857143  0.857143  0.750000  0.857143  0.909091\n",
      "38  0.857143  0.923077  0.750000  0.923077  1.000000\n"
     ]
    }
   ],
   "source": [
    "ns = [10,20,25,30,38]\n",
    "train_sizes, train_scores, valid_scores = learning_curve(trained_model, X_train, Y_train, train_sizes=ns, cv=cv, scoring= scoring, n_jobs = -1)\n",
    "\n",
    "train_scores_mean =  train_scores.mean(axis = 1)\n",
    "train_scores_std = np.std(train_scores, axis=1)\n",
    "validation_scores_mean =  valid_scores.mean(axis = 1)\n",
    "validation_scores_std  = valid_scores.std(axis = 1)\n",
    "\n",
    "xlabel = 'Sample Size'\n",
    "ylabel = scoring\n",
    "plt_title = 'Learning Curve'\n",
    "\n",
    "fig = plt.figure()\n",
    "ax = fig.add_subplot(111, xlabel=xlabel, ylabel=ylabel, title=plt_title)\n",
    "ax.plot(train_sizes, train_scores_mean, label = 'Training Score')\n",
    "ax.plot(train_sizes, validation_scores_mean, label = 'Validation Score')\n",
    "\n",
    "plt.fill_between(train_sizes, train_scores_mean - train_scores_std,\n",
    "                 train_scores_mean + train_scores_std, alpha=0.2,\n",
    "                 color=\"darkblue\", lw=2)\n",
    "plt.fill_between(train_sizes, validation_scores_mean - validation_scores_std,\n",
    "                 validation_scores_mean + validation_scores_std, alpha=0.2,\n",
    "                 color=\"darkgreen\", lw=2)\n",
    "\n",
    "plt.legend()\n",
    "# plt.yscale('log')\n",
    "plt.show()\n",
    "\n",
    "print('Training scores:\\n\\n', pd.DataFrame( train_scores, columns=[f'cv{i+1}' for i in range(cv)], index=ns) )\n",
    "print('\\n', '-' * 70) # separator to make the output easy to read\n",
    "print('\\nValidation scores:\\n\\n', pd.DataFrame(valid_scores, columns=[f'cv{i+1}' for i in range(cv)], index=ns) )"
   ]
  },
  {
   "cell_type": "markdown",
   "metadata": {},
   "source": [
    "### Validation Curve\n"
   ]
  },
  {
   "cell_type": "code",
   "execution_count": 97,
   "metadata": {},
   "outputs": [
    {
     "name": "stderr",
     "output_type": "stream",
     "text": [
      "[Parallel(n_jobs=-1)]: Using backend LokyBackend with 8 concurrent workers.\n",
      "[Parallel(n_jobs=-1)]: Done  25 out of  25 | elapsed:    0.0s finished\n"
     ]
    },
    {
     "data": {
      "image/png": "[encoded data removed]",
      "text/plain": [
       "<Figure size 432x288 with 1 Axes>"
      ]
     },
     "metadata": {
      "needs_background": "light"
     },
     "output_type": "display_data"
    },
    {
     "name": "stdout",
     "output_type": "stream",
     "text": [
      "Training scores:\n",
      "\n",
      "          cv1       cv2       cv3       cv4       cv5\n",
      "10  0.807018  0.779661  0.821429  0.846154  0.761905\n",
      "20  1.000000  1.000000  1.000000  1.000000  0.979592\n",
      "25  1.000000  1.000000  1.000000  1.000000  1.000000\n",
      "30  1.000000  1.000000  1.000000  1.000000  1.000000\n",
      "38  1.000000  1.000000  1.000000  1.000000  1.000000\n",
      "\n",
      " ----------------------------------------------------------------------\n",
      "\n",
      "Validation scores:\n",
      "\n",
      "          cv1   cv2       cv3       cv4       cv5\n",
      "10  0.750000  0.75  0.571429  0.769231  0.714286\n",
      "20  0.857143  1.00  0.750000  0.923077  1.000000\n",
      "25  0.857143  1.00  0.750000  0.923077  1.000000\n",
      "30  0.857143  1.00  0.750000  0.923077  1.000000\n",
      "38  0.857143  1.00  0.750000  0.923077  1.000000\n"
     ]
    }
   ],
   "source": [
    "from sklearn.linear_model import Ridge\n",
    "c_list = param_grid.get('C')\n",
    "train_scores, valid_scores = validation_curve(SVC(), X_train, Y_train, \n",
    "                                              param_name=\"gamma\",\n",
    "                                              param_range=c_list , \n",
    "                                              cv=cv, \n",
    "                                              scoring = scoring,\n",
    "                                              verbose=1, \n",
    "                                              n_jobs=-1\n",
    "                                             )\n",
    "train_scores_mean = np.mean(train_scores, axis=1)\n",
    "train_scores_std = np.std(train_scores, axis=1)\n",
    "valid_scores_mean = np.mean(valid_scores, axis=1)\n",
    "valid_scores_std = np.std(valid_scores, axis=1)\n",
    "\n",
    "xlabel = 'gamma'\n",
    "ylabel = scoring\n",
    "plt_title = 'Validation Curve'\n",
    "\n",
    "fig = plt.figure()\n",
    "ax = fig.add_subplot(111, xlabel=xlabel, ylabel=ylabel, title=plt_title)\n",
    "plt.plot(c_list, train_scores_mean, label=\"Training score\",\n",
    "             color=\"darkorange\", lw=2)\n",
    "plt.fill_between(c_list, train_scores_mean - train_scores_std,\n",
    "                 train_scores_mean + train_scores_std, alpha=0.2,\n",
    "                 color=\"darkorange\", lw=2)\n",
    "plt.plot(c_list, valid_scores_mean, label=\"Validation score\",\n",
    "             color=\"navy\", lw=2)\n",
    "plt.fill_between(c_list, valid_scores_mean - valid_scores_std,\n",
    "                 valid_scores_mean + valid_scores_std, alpha=0.2,\n",
    "                 color=\"navy\", lw=2)\n",
    "plt.legend(loc=\"best\")\n",
    "plt.show()\n",
    "\n",
    "print('Training scores:\\n\\n', pd.DataFrame( train_scores, columns=[f'cv{i+1}' for i in range(cv)], index=ns) )\n",
    "print('\\n', '-' * 70) # separator to make the output easy to read\n",
    "print('\\nValidation scores:\\n\\n', pd.DataFrame(valid_scores, columns=[f'cv{i+1}' for i in range(cv)], index=ns) )"
   ]
  },
  {
   "cell_type": "markdown",
   "metadata": {},
   "source": [
    "### Regularization (if needed) \n",
    "do we need it??"
   ]
  },
  {
   "cell_type": "code",
   "execution_count": null,
   "metadata": {},
   "outputs": [],
   "source": [
    "from sklearn.linear_model import Ridge\n",
    "\n",
    "# deg_list \n",
    "deg = 15\n",
    "ns = 20\n",
    "X_train, X_test, Y_train, Y_test = train_test_split(*shuffle(X_bbr, Y_bbr, n_samples = ns, random_state=0) , random_state=0, test_size =.5 )\n",
    "\n",
    "\n",
    "w_list = []\n",
    "\n",
    "x_range = np.arange(X_bbr.min(), X_bbr.max(), .1)\n",
    "\n",
    "\n",
    "fig = plt.figure()\n",
    "ax = fig.add_subplot(111, xlabel=x_label, ylabel=y_label, title=plt_title)\n",
    "# ax.scatter(X_train, Y_train, label = 'Train data')\n",
    "ax.scatter(X_test, Y_test, c='black', label = 'Test data')\n",
    "\n",
    "\n",
    "r_list = [0,.1,1,10]\n",
    "\n",
    "for r in r_list:\n",
    "\n",
    "  rg = Pipeline([('poly', PolynomialFeatures(degree=deg) ), \n",
    "                ('model', Ridge( alpha=r ) ### We are using Ridge which uses l2 regularization. \n",
    "                )])\n",
    "  rg.fit( X_train.reshape(-1,1), Y_train )\n",
    "\n",
    "  ### Let's store the weights\n",
    "  w_list += [rg[1].coef_]\n",
    "\n",
    "  y_range = rg.predict(x_range.reshape(-1,1) )\n",
    "  ax.plot(x_range, y_range,  alpha = .6, label=f'Regularization={r}')\n",
    "\n",
    "\n",
    "w_list = np.array(w_list)\n",
    "plt.ylim(-1.5,2)\n",
    "ax.legend()\n",
    "plt.show()"
   ]
  },
  {
   "cell_type": "markdown",
   "metadata": {},
   "source": [
    "# Logistic Regression"
   ]
  },
  {
   "cell_type": "code",
   "execution_count": null,
   "metadata": {},
   "outputs": [],
   "source": [
    "from sklearn.linear_model import LogisticRegression\n",
    "\n",
    "# scale model\n",
    "\n",
    "lrg = LogisticRegression()\n",
    "tst_size = 0.2\n",
    "ns, nf = np.shape(X)\n",
    "# split data to train and test \n",
    "# X_train, X_test, Y_train, Y_test = train_test_split(*shuffle(X, Y, n_samples = ns, random_state=0) , random_state=0, test_size =tst_size )\n",
    "# cross validation\n",
    "# scores = cross_val_score(svc, X_train, Y_train, cv=5 ,scoring= 'recall')\n",
    "# print(scores)\n",
    "param_grid=  { 'solver':{'newton-cg', 'lbfgs', 'liblinear', 'sag', 'saga'},'penalty':{'l1', 'l2', 'elasticnet', 'none'},'fit_intercept'C': [0.1, 1, 10, 100, 1000], 'gamma': [1, 0.1, 0.01, 0.001, 0.0001], 'kernel': ['rbf','linear','sigmoid']}\n",
    "# evaluate hyper-parameters \n",
    "clf = GridSearchCV(svc, param_grid, scoring = 'f1', cv = 5 ,verbose = 1, n_jobs=-1, return_train_score=1)\n",
    "# train model\n",
    "trained_model = clf.fit(X_train, Y_train)\n",
    "# predict data\n",
    "Y_pred = trained_model.predict(X_test)\n",
    "# scores = cross_val_score(clf.best_estimator_, X_train, Y_train, cv=5 ,scoring= 'accuracy')\n",
    "# print(scores)\n",
    "print(clf.best_score_)"
   ]
  },
  {
   "cell_type": "markdown",
   "metadata": {},
   "source": [
    "# Comparing Models"
   ]
  },
  {
   "cell_type": "markdown",
   "metadata": {},
   "source": [
    "A table is created to compare the five recently-traind models above. It includes evaluation metric(s), training time and prediction time of each models. Also, we sorted models based on their performance from different aspects. "
   ]
  },
  {
   "cell_type": "code",
   "execution_count": null,
   "metadata": {},
   "outputs": [],
   "source": [
    "table = pd.DataFrame({'Name':['SVM', 'Logestic Regression', 'Random Forest', 'KNN', 'undecided'],\n",
    "                        'Evaluation Metric(s)': [EM1, EM2, EM3, EM4, EM5],\n",
    "                        'Corresponding Validation Score': [CVS1, CVS2, CVS3, CVS4, CVS5],\n",
    "                        'Corresponding Prediction Score':  [CPS1, CPS2, CPS3, CPS4, CPS5],\n",
    "                        'Training Time': [T1, T2, T3, T4, T5],\n",
    "                        'Prediction Time': [PT1, PT2, PT3, PT4, PT5],\n",
    "})\n",
    "\n",
    "print('Sort models based on their validation scores: \\n' + str(table.sort_values(by=['Corresponding Validation Score', ascending= False]).loc[:, ['Name', 'Corresponding Validation Score']))\n",
    "print('\\nSort models based on their prediction scores: \\n' + str(table.sort_values(by=['Corresponding Prediction Score', ascending= False]).loc[:, ['Name', 'Corresponding Prediction Score']))\n",
    "print('\\nSort models based on their validation scores: \\n' + str(table.sort_values(by=['Training Time', ascending= True]).loc[:, ['Name', 'Training Time']))\n",
    "print('\\nSort models based on their validation scores: \\n' + str(table.sort_values(by=['Prediction Time', ascending= True]).loc[:, ['Name', 'Prediction Time']))\n"
   ]
  }
 ],
 "metadata": {
  "interpreter": {
   "hash": "fe5d99aa55929fe810a91df1bb66991ee2efa56184cda4e0a18aeeaadde96492"
  },
  "kernelspec": {
   "display_name": "Python 3.10.0 64-bit",
   "language": "python",
   "name": "python3"
  },
  "language_info": {
   "codemirror_mode": {
    "name": "ipython",
    "version": 3
   },
   "file_extension": ".py",
   "mimetype": "text/x-python",
   "name": "python",
   "nbconvert_exporter": "python",
   "pygments_lexer": "ipython3",
   "version": "3.10.0"
  },
  "orig_nbformat": 4
 },
 "nbformat": 4,
 "nbformat_minor": 2
}
