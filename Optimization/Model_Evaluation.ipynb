{
<<<<<<< HEAD
 "cells": [
  {
   "cell_type": "markdown",
   "metadata": {},
   "source": [
    "In this code, our objective is to train some classic models such as SVM, KNN, RandomForest, etc on our test data, and try to evaluate their efficiency by plotting confusion matrixes, learning curves, validation curves, and measuring the prediction time. "
   ]
  },
  {
   "cell_type": "markdown",
   "metadata": {},
   "source": [
    "Import required libreries"
   ]
  },
  {
   "cell_type": "code",
   "execution_count": 79,
   "metadata": {},
   "outputs": [],
   "source": [
    "import pandas as pd\n",
    "import numpy as np\n",
    "import matplotlib.pyplot as plt\n",
    "import matplotlib.cm as cm\n",
    "import time\n",
    "from sklearn.model_selection import learning_curve, validation_curve\n",
    "from sklearn.neighbors import KNeighborsClassifier\n",
    "from sklearn.preprocessing import PolynomialFeatures\n",
    "from sklearn.linear_model import LinearRegression\n",
    "from sklearn.pipeline import Pipeline\n",
    "from sklearn.utils import shuffle\n",
    "from sklearn.model_selection import train_test_split\n",
    "from sklearn.linear_model import RidgeClassifier\n",
    "from sklearn import svm\n",
    "from sklearn.svm import SVC\n",
    "from sklearn.metrics import confusion_matrix, plot_confusion_matrix"
   ]
  },
  {
   "cell_type": "markdown",
   "metadata": {},
   "source": [
    "# Import phase I data"
   ]
  },
  {
   "cell_type": "code",
   "execution_count": null,
   "metadata": {},
   "outputs": [],
   "source": [
    "# phase I data which is entirely cleared and preprocessed should be imported here.\n",
    "# we will have X,Y variables which are representations for sample data with their features \n",
    "# and the target function which is Y"
   ]
  },
  {
   "cell_type": "code",
   "execution_count": 58,
   "metadata": {},
   "outputs": [
    {
     "ename": "SyntaxError",
     "evalue": "invalid syntax (Temp/ipykernel_10764/4245754019.py, line 1)",
     "output_type": "error",
     "traceback": [
      "\u001b[1;36m  File \u001b[1;32m\"C:\\Users\\Kanoa\\AppData\\Local\\Temp/ipykernel_10764/4245754019.py\"\u001b[1;36m, line \u001b[1;32m1\u001b[0m\n\u001b[1;33m    X,Y = # is a table consisting samples with their features: X concat Y (with the name Y)\u001b[0m\n\u001b[1;37m          ^\u001b[0m\n\u001b[1;31mSyntaxError\u001b[0m\u001b[1;31m:\u001b[0m invalid syntax\n"
     ]
    }
   ],
   "source": [
    "# X,Y = # is a table consisting samples with their features: X concat Y (with the name Y)\n",
    "# tst_size = 0.2\n",
    "# ns, nf = np.shape(X) \n",
    "# X_train, X_test, Y_train, Y_test = train_test_split(*shuffle(X, Y, n_samples = ns, random_state=0) , random_state=0, test_size =tst_size )"
   ]
  },
  {
   "cell_type": "code",
   "execution_count": 81,
   "metadata": {},
   "outputs": [],
   "source": [
    "# this is fake data, only for debugging purpose\n",
    "\n",
    "huge_data =  pd.read_csv('sample_data.csv')\n",
    "# print(huge_data.head())\n",
    "narrower_data= huge_data.drop(['Unnamed: 0','phkey','In_halo_log'], axis=1)\n",
    "narrower_data.head()\n",
    "data = np.array(narrower_data)\n",
    "\n",
    "X = data[:,2:8]\n",
    "X = np.concatenate((X,X))\n",
    "# print(x.shape)\n",
    "\n",
    "from sklearn.preprocessing import StandardScaler\n",
    "scaler = StandardScaler()\n",
    "X = scaler.fit(X).transform(X)\n",
    "# print(X)\n",
    "Y = data[:,9]\n",
    "Y = np.concatenate((Y,Y))\n",
    "Y[Y>1]=1\n",
    "# print(Y)\n",
    "\n",
    "tst_size = 0.2\n",
    "ns, nf = np.shape(X) \n",
    "# split data to train and test \n",
    "X_train, X_test, Y_train, Y_test = train_test_split(*shuffle(X, Y, n_samples = ns, random_state=0) , random_state=0, test_size =tst_size )\n",
    "# cross validation"
   ]
  },
  {
   "cell_type": "markdown",
   "metadata": {},
   "source": [
    "# SVM "
   ]
  },
  {
   "cell_type": "markdown",
   "metadata": {},
   "source": [
    "### Initialize and train SVM model"
   ]
  },
  {
   "cell_type": "code",
   "execution_count": 83,
   "metadata": {},
   "outputs": [
    {
     "name": "stdout",
     "output_type": "stream",
     "text": [
      "Fitting 5 folds for each of 75 candidates, totalling 375 fits\n",
      "0.906043956043956\n"
     ]
    }
   ],
   "source": [
    "# from sklearn.model_selection import cross_val_score\n",
    "from sklearn.model_selection import GridSearchCV\n",
    "\n",
    "svc = svm.SVC()\n",
    "tst_size = 0.2\n",
    "ns, nf = np.shape(X) \n",
    "# split data to train and test \n",
    "X_train, X_test, Y_train, Y_test = train_test_split(*shuffle(X, Y, n_samples = ns, random_state=0) , random_state=0, test_size =tst_size )\n",
    "# cross validation\n",
    "# scores = cross_val_score(svc, X_train, Y_train, cv=5 ,scoring= 'f1')\n",
    "cv = 5\n",
    "scoring = 'f1'\n",
    "param_grid = {'C': [0.1, 1, 10, 100, 1000],  \n",
    "                'gamma': [1, 0.1, 0.01, 0.001, 0.0001], \n",
    "                'kernel': ['rbf', 'linear', 'sigmoid']}\n",
    "# evaluate hyper-parameters \n",
    "clf = GridSearchCV(svc, param_grid, scoring = scoring, cv = cv ,verbose = 1, n_jobs=-1, return_train_score=1)\n",
    "# train model\n",
    "trained_model = clf.fit(X_train, Y_train)\n",
    "# predict data\n",
    "start = time.time()\n",
    "Y_pred = trained_model.predict(X_test)\n",
    "runtime= time.time() - start\n",
    "\n",
    "# scores = cross_val_score(clf.best_estimator_, X_train, Y_train, cv=5 ,scoring= 'accuracy')\n",
    "# print(scores)\n",
    "print(clf.best_score_)"
   ]
  },
  {
   "cell_type": "markdown",
   "metadata": {},
   "source": [
    "### Classification Report\n",
    "Print some information about the trained model such as training time, ... "
   ]
  },
  {
   "cell_type": "code",
   "execution_count": 104,
   "metadata": {},
   "outputs": [
    {
     "name": "stdout",
     "output_type": "stream",
     "text": [
      "Best parameters set found on development set:\n",
      "{'C': 1, 'gamma': 1, 'kernel': 'rbf'}\n",
      "\n",
      "['mean_fit_time', 'mean_score_time', 'mean_test_score', 'mean_train_score', 'param_C', 'param_gamma', 'param_kernel', 'params', 'rank_test_score', 'split0_test_score', 'split0_train_score', 'split1_test_score', 'split1_train_score', 'split2_test_score', 'split2_train_score', 'split3_test_score', 'split3_train_score', 'split4_test_score', 'split4_train_score', 'std_fit_time', 'std_score_time', 'std_test_score', 'std_train_score']\n",
      "0.906043956043956\n",
      "75\n",
      "-----------------\n",
      "\n",
      "classification report: \n",
      "\n",
      "              precision    recall  f1-score   support\n",
      "\n",
      "         0.0       1.00      0.67      0.80         3\n",
      "         1.0       0.90      1.00      0.95         9\n",
      "\n",
      "    accuracy                           0.92        12\n",
      "   macro avg       0.95      0.83      0.87        12\n",
      "weighted avg       0.92      0.92      0.91        12\n",
      "\n"
     ]
    },
    {
     "ename": "NameError",
     "evalue": "name 'runtime' is not defined",
     "output_type": "error",
     "traceback": [
      "\u001b[1;31m---------------------------------------------------------------------------\u001b[0m",
      "\u001b[1;31mNameError\u001b[0m                                 Traceback (most recent call last)",
      "\u001b[1;32m~\\AppData\\Local\\Temp/ipykernel_19208/1629665050.py\u001b[0m in \u001b[0;36m<module>\u001b[1;34m\u001b[0m\n\u001b[0;32m     15\u001b[0m \u001b[1;31m# CVS1 =\u001b[0m\u001b[1;33m\u001b[0m\u001b[1;33m\u001b[0m\u001b[0m\n\u001b[0;32m     16\u001b[0m \u001b[1;31m# CPS1 =\u001b[0m\u001b[1;33m\u001b[0m\u001b[1;33m\u001b[0m\u001b[0m\n\u001b[1;32m---> 17\u001b[1;33m \u001b[0mT1\u001b[0m \u001b[1;33m=\u001b[0m \u001b[0mruntime\u001b[0m\u001b[1;33m\u001b[0m\u001b[1;33m\u001b[0m\u001b[0m\n\u001b[0m\u001b[0;32m     18\u001b[0m \u001b[1;31m# PT1 =\u001b[0m\u001b[1;33m\u001b[0m\u001b[1;33m\u001b[0m\u001b[0m\n",
      "\u001b[1;31mNameError\u001b[0m: name 'runtime' is not defined"
     ]
    }
   ],
   "source": [
    "print(\"Best parameters set found on development set:\")\n",
    "print(trained_model.best_params_)\n",
    "print()\n",
    "print(sorted(trained_model.cv_results_.keys()))\n",
    "print(trained_model.best_score_)\n",
    "print(\n",
    "\n",
    "print('-----------------')\n",
    "# print(Y_pred)\n",
    "print('\\nclassification report: \\n')\n",
    "from sklearn.metrics import classification_report\n",
    "print(classification_report(Y_test, Y_pred))\n",
    "\n",
    "EM1 = scoring\n",
    "CVS1 = \n",
    "CPS1 = \n",
    "T1 = np.mean(trained_model.cv_results_.get('mean_fit_time'))\n",
    "PT1 = runtime\n"
   ]
=======
  "nbformat": 4,
  "nbformat_minor": 0,
  "metadata": {
    "interpreter": {
      "hash": "fe5d99aa55929fe810a91df1bb66991ee2efa56184cda4e0a18aeeaadde96492"
    },
    "kernelspec": {
      "display_name": "Python 3.10.0 64-bit",
      "language": "python",
      "name": "python3"
    },
    "language_info": {
      "codemirror_mode": {
        "name": "ipython",
        "version": 3
      },
      "file_extension": ".py",
      "mimetype": "text/x-python",
      "name": "python",
      "nbconvert_exporter": "python",
      "pygments_lexer": "ipython3",
      "version": "3.10.0"
    },
    "orig_nbformat": 4,
    "colab": {
      "name": "Model_Evaluation.ipynb",
      "provenance": []
    }
>>>>>>> 68c0f5508829a7a68f5054e892aa4dcfc639e445
  },
  "cells": [
    {
      "cell_type": "markdown",
      "metadata": {
        "id": "jwLDDwkEvixQ"
      },
      "source": [
        "In this code, our objective is to train some classic models such as SVM, KNN, RandomForest, etc on our test data, and try to evaluate their efficiency by plotting confusion matrixes, learning curves, validation curves, and measuring the prediction time. "
      ]
    },
    {
      "cell_type": "markdown",
      "metadata": {
        "id": "U4iafM7UvixV"
      },
      "source": [
        "Import required libreries"
      ]
    },
    {
      "cell_type": "code",
      "metadata": {
        "id": "Mx7soy-MvixW",
        "outputId": "d5c976e6-645d-46bc-94a8-3fbc2bdfe715",
        "colab": {
          "base_uri": "https://localhost:8080/"
        }
      },
      "source": [
        "import pandas as pd\n",
        "import numpy as np\n",
        "import matplotlib.pyplot as plt\n",
        "import matplotlib.cm as cm\n",
        "from sklearn.model_selection import learning_curve, validation_curve\n",
        "from sklearn.neighbors import KNeighborsClassifier\n",
        "from sklearn.preprocessing import PolynomialFeatures\n",
        "from sklearn.linear_model import LinearRegression\n",
        "from sklearn.pipeline import Pipeline\n",
        "from sklearn.utils import shuffle\n",
        "from sklearn.model_selection import train_test_split\n",
        "from sklearn.linear_model import RidgeClassifier\n",
        "from sklearn import svm\n",
        "from sklearn.svm import SVC\n",
        "from sklearn.metrics import confusion_matrix, plot_confusion_matrix\n",
        "import timeit\n",
        "%alias_magic t timeit\n",
        "# import warnings filter\n",
        "from warnings import simplefilter\n",
        "# ignore all future warnings\n",
        "simplefilter(action='ignore', category=FutureWarning)"
      ],
      "execution_count": 4,
      "outputs": [
        {
          "output_type": "stream",
          "name": "stdout",
          "text": [
            "Created `%t` as an alias for `%timeit`.\n",
            "Created `%%t` as an alias for `%%timeit`.\n"
          ]
        }
      ]
    },
    {
      "cell_type": "markdown",
      "metadata": {
        "id": "3v_SxfiDvixY"
      },
      "source": [
        "# Import phase I data"
      ]
    },
    {
      "cell_type": "code",
      "metadata": {
        "id": "KMXNEVc_vixY",
        "outputId": "5737cac2-b5aa-4dd1-de51-52cecfa9a2ac",
        "colab": {
          "base_uri": "https://localhost:8080/",
          "height": 206
        }
      },
      "source": [
        "data = pd.read_csv(r'/content/drive/MyDrive/Project/density_contrast.csv')\n",
        "data.head()"
      ],
      "execution_count": 5,
      "outputs": [
        {
          "output_type": "execute_result",
          "data": {
            "text/html": [
              "<div>\n",
              "<style scoped>\n",
              "    .dataframe tbody tr th:only-of-type {\n",
              "        vertical-align: middle;\n",
              "    }\n",
              "\n",
              "    .dataframe tbody tr th {\n",
              "        vertical-align: top;\n",
              "    }\n",
              "\n",
              "    .dataframe thead th {\n",
              "        text-align: right;\n",
              "    }\n",
              "</style>\n",
              "<table border=\"1\" class=\"dataframe\">\n",
              "  <thead>\n",
              "    <tr style=\"text-align: right;\">\n",
              "      <th></th>\n",
              "      <th>particle_id</th>\n",
              "      <th>in-halo</th>\n",
              "      <th>den_contrast for 12.4</th>\n",
              "      <th>den_contrast for 13.0</th>\n",
              "      <th>den_contrast for 13.6</th>\n",
              "    </tr>\n",
              "  </thead>\n",
              "  <tbody>\n",
              "    <tr>\n",
              "      <th>0</th>\n",
              "      <td>6872359</td>\n",
              "      <td>0</td>\n",
              "      <td>-0.047697</td>\n",
              "      <td>-0.043106</td>\n",
              "      <td>-0.038331</td>\n",
              "    </tr>\n",
              "    <tr>\n",
              "      <th>1</th>\n",
              "      <td>5818539</td>\n",
              "      <td>0</td>\n",
              "      <td>-0.034318</td>\n",
              "      <td>-0.036062</td>\n",
              "      <td>-0.034318</td>\n",
              "    </tr>\n",
              "    <tr>\n",
              "      <th>2</th>\n",
              "      <td>9365399</td>\n",
              "      <td>1</td>\n",
              "      <td>-0.036311</td>\n",
              "      <td>-0.041542</td>\n",
              "      <td>-0.037702</td>\n",
              "    </tr>\n",
              "    <tr>\n",
              "      <th>3</th>\n",
              "      <td>7002365</td>\n",
              "      <td>1</td>\n",
              "      <td>-0.022502</td>\n",
              "      <td>-0.032049</td>\n",
              "      <td>-0.035913</td>\n",
              "    </tr>\n",
              "    <tr>\n",
              "      <th>4</th>\n",
              "      <td>9348414</td>\n",
              "      <td>0</td>\n",
              "      <td>-0.050822</td>\n",
              "      <td>-0.046012</td>\n",
              "      <td>-0.039032</td>\n",
              "    </tr>\n",
              "  </tbody>\n",
              "</table>\n",
              "</div>"
            ],
            "text/plain": [
              "   particle_id  in-halo  ...  den_contrast for 13.0  den_contrast for 13.6\n",
              "0      6872359        0  ...              -0.043106              -0.038331\n",
              "1      5818539        0  ...              -0.036062              -0.034318\n",
              "2      9365399        1  ...              -0.041542              -0.037702\n",
              "3      7002365        1  ...              -0.032049              -0.035913\n",
              "4      9348414        0  ...              -0.046012              -0.039032\n",
              "\n",
              "[5 rows x 5 columns]"
            ]
          },
          "metadata": {},
          "execution_count": 5
        }
      ]
    },
    {
      "cell_type": "code",
      "metadata": {
        "id": "KkpZu5J4wA7g",
        "outputId": "3967311b-f2db-4d8d-9130-bbc306aa12c0",
        "colab": {
          "base_uri": "https://localhost:8080/"
        }
      },
      "source": [
        "from google.colab import drive\n",
        "drive.mount('/content/drive')"
      ],
      "execution_count": 1,
      "outputs": [
        {
          "output_type": "stream",
          "name": "stdout",
          "text": [
            "Mounted at /content/drive\n"
          ]
        }
      ]
    },
    {
      "cell_type": "code",
      "metadata": {
        "id": "Z_iIf7ENvixZ"
      },
      "source": [
        "data = data.sort_values( by =['den_contrast for 12.4'])\n",
        "X, Y = data.iloc[:,2:], data['in-halo']\n",
        "X_train, X_test, Y_train, Y_test  = train_test_split(X, Y, random_state= 0)"
      ],
      "execution_count": 6,
      "outputs": []
    },
    {
      "cell_type": "code",
      "metadata": {
        "id": "TTV0HvsOwmPU",
        "outputId": "3bc569ed-8dbc-42f7-a8f1-e0010ff6c058",
        "colab": {
          "base_uri": "https://localhost:8080/"
        }
      },
      "source": [
        "print('X_train :',len(X_train),'   X_test :',len(X_test))"
      ],
      "execution_count": 7,
      "outputs": [
        {
          "output_type": "stream",
          "name": "stdout",
          "text": [
            "X_train : 7500    X_test : 2500\n"
          ]
        }
      ]
    },
    {
      "cell_type": "code",
      "metadata": {
        "id": "lFURGlGJwpjA"
      },
      "source": [
        "X_test,X_train = np.array(X_test),np.array(X_train)\n",
        "Y_test,Y_train = np.array(Y_test),np.array(Y_train)\n",
        "X ,Y= np.array(X),np.array(Y)"
      ],
      "execution_count": 8,
      "outputs": []
    },
    {
      "cell_type": "code",
      "metadata": {
        "id": "IBKGiciCvixa"
      },
      "source": [
        "# this is fake data, only for debugging purpose\n",
        "\n",
        "huge_data =  pd.read_csv('sample_data.csv')\n",
        "# print(huge_data.head())\n",
        "narrower_data= huge_data.drop(['Unnamed: 0','phkey','In_halo_log'], axis=1)\n",
        "narrower_data.head()\n",
        "data = np.array(narrower_data)\n",
        "\n",
        "X = data[:,2:8]\n",
        "X = np.concatenate((X,X))\n",
        "# print(x.shape)\n",
        "\n",
        "from sklearn.preprocessing import StandardScaler\n",
        "scaler = StandardScaler()\n",
        "X = scaler.fit(X).transform(X)\n",
        "# print(X)\n",
        "Y = data[:,9]\n",
        "Y = np.concatenate((Y,Y))\n",
        "Y[Y>1]=1\n",
        "# print(Y)\n",
        "\n",
        "tst_size = 0.2\n",
        "ns, nf = np.shape(X) \n",
        "# split data to train and test \n",
        "X_train, X_test, Y_train, Y_test = train_test_split(*shuffle(X, Y, n_samples = ns, random_state=0) , random_state=0, test_size =tst_size )\n",
        "# cross validation"
      ],
      "execution_count": null,
      "outputs": []
    },
    {
      "cell_type": "markdown",
      "metadata": {
        "id": "vQ66Ry4PyaWR"
      },
      "source": [
        "# Random Forrest"
      ]
    },
    {
      "cell_type": "code",
      "metadata": {
        "id": "7VT14KqNyhLD",
        "outputId": "5511be20-4207-49e3-c008-743c1d5fcfce",
        "colab": {
          "base_uri": "https://localhost:8080/"
        }
      },
      "source": [
        "from sklearn.ensemble import RandomForestClassifier\n",
        "classifier = RandomForestClassifier(max_depth=2, random_state=0)\n",
        "#check \n",
        "%t classifier.fit(X_train , Y_train)\n",
        "\n",
        "#Testing the classification on the test sample\n",
        "Y_predict = classifier.predict(X_test)\n",
        "#check\n",
        "%t Y_predict = classifier.predict(X_test)\n",
        "print(len(Y_test))\n",
        "print(len(Y_predict[Y_predict== 1]))"
      ],
      "execution_count": 10,
      "outputs": [
        {
          "output_type": "stream",
          "name": "stdout",
          "text": [
            "1 loop, best of 5: 283 ms per loop\n",
            "10 loops, best of 5: 20.1 ms per loop\n",
            "2000\n",
            "403\n"
          ]
        }
      ]
    },
    {
      "cell_type": "code",
      "metadata": {
        "id": "ylv7UlC_ywjJ",
        "outputId": "a639f021-73c0-4906-8f68-257500c2b544",
        "colab": {
          "base_uri": "https://localhost:8080/",
          "height": 625
        }
      },
      "source": [
        "import matplotlib.pyplot as plt\n",
        "\n",
        "fig = plt.figure(figsize=(20,10))\n",
        "ax = fig.add_subplot(121 , xlabel = '$\\delta_{12.4}$', ylabel='$\\delta_{13}$' , title = 'Result of the Classification')\n",
        "\n",
        "ax.scatter(*X_test[:,:2].T, c=Y_test)    \n",
        "\n",
        "ax = fig.add_subplot(122 , xlabel = '$\\delta_{12.4}$ ', ylabel='$\\delta_{13}$', title = 'Predicitions of the Random Forest classifier')\n",
        "plt.scatter(*X_test[:,:2].T, c = Y_predict)\n",
        "plt.show()\n"
      ],
      "execution_count": 11,
      "outputs": [
        {
          "output_type": "display_data",
          "data": {
            "image/png": "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\n",
            "text/plain": [
              "<Figure size 1440x720 with 2 Axes>"
            ]
          },
          "metadata": {
            "needs_background": "light"
          }
        }
      ]
    },
    {
      "cell_type": "code",
      "metadata": {
        "id": "Czq4WRJXyzlj",
        "outputId": "14ce3fdb-1a8c-46f9-93c6-a1a578f32fc9",
        "colab": {
          "base_uri": "https://localhost:8080/"
        }
      },
      "source": [
        "from sklearn.metrics import classification_report\n",
        "clf_report = classification_report(Y_test, Y_predict)\n",
        "print(clf_report)"
      ],
      "execution_count": 12,
      "outputs": [
        {
          "output_type": "stream",
          "name": "stdout",
          "text": [
            "              precision    recall  f1-score   support\n",
            "\n",
            "           0       0.49      0.79      0.61       990\n",
            "           1       0.49      0.20      0.28      1010\n",
            "\n",
            "    accuracy                           0.49      2000\n",
            "   macro avg       0.49      0.49      0.44      2000\n",
            "weighted avg       0.49      0.49      0.44      2000\n",
            "\n"
          ]
        }
      ]
    },
    {
      "cell_type": "code",
      "metadata": {
        "id": "muncSq7GzAyH",
        "outputId": "d720e2e9-d987-4e49-9a93-2a28dfec8c78",
        "colab": {
          "base_uri": "https://localhost:8080/"
        }
      },
      "source": [
        "from sklearn.model_selection import RandomizedSearchCV\n",
        "\n",
        "# Number of trees in random forest\n",
        "n_estimators = [int(x) for x in np.linspace(start = 200, stop = 2000, num = 10)]\n",
        "# Number of features to consider at every split\n",
        "max_features = ['auto', 'sqrt']\n",
        "# Maximum number of levels in tree\n",
        "max_depth = [int(x) for x in np.linspace(1, 110, num = 12)]\n",
        "max_depth.append(None)\n",
        "# Minimum number of samples required to split a node\n",
        "min_samples_split = [2, 5, 10]\n",
        "# Minimum number of samples required at each leaf node\n",
        "min_samples_leaf = [1, 2, 4]\n",
        "# Method of selecting samples for training each tree\n",
        "bootstrap = [True, False]\n",
        "# Create the random grid\n",
        "random_grid = {'n_estimators': n_estimators,\n",
        "               'max_features': max_features,\n",
        "               'max_depth': max_depth,\n",
        "               'min_samples_split': min_samples_split,\n",
        "               'min_samples_leaf': min_samples_leaf,\n",
        "               'bootstrap': bootstrap}\n",
        "\n",
        "print(random_grid)"
      ],
      "execution_count": 13,
      "outputs": [
        {
          "output_type": "stream",
          "name": "stdout",
          "text": [
            "{'n_estimators': [200, 400, 600, 800, 1000, 1200, 1400, 1600, 1800, 2000], 'max_features': ['auto', 'sqrt'], 'max_depth': [1, 10, 20, 30, 40, 50, 60, 70, 80, 90, 100, 110, None], 'min_samples_split': [2, 5, 10], 'min_samples_leaf': [1, 2, 4], 'bootstrap': [True, False]}\n"
          ]
        }
      ]
    },
    {
      "cell_type": "code",
      "metadata": {
        "id": "FWREHWCizF3G",
        "outputId": "8ee43fed-b014-4cbd-fc7c-f6df08927722",
        "colab": {
          "base_uri": "https://localhost:8080/"
        }
      },
      "source": [
        "# Random search of parameters, using 2 fold cross validation, \n",
        "# search across 5 different combinations, and use all available cores\n",
        "print('start')\n",
        "rf_random = RandomizedSearchCV(estimator = classifier, param_distributions = random_grid, n_iter = 5, cv = 2, verbose=2, random_state=42, n_jobs = -1)\n",
        "# Fit the random search model\n",
        "rf_random.fit(X_train, Y_train)\n",
        "print(rf_random.best_params_)"
      ],
      "execution_count": 14,
      "outputs": [
        {
          "output_type": "stream",
          "name": "stdout",
          "text": [
            "start\n",
            "Fitting 2 folds for each of 5 candidates, totalling 10 fits\n",
            "{'n_estimators': 1400, 'min_samples_split': 5, 'min_samples_leaf': 1, 'max_features': 'sqrt', 'max_depth': 20, 'bootstrap': True}\n"
          ]
        }
      ]
    },
    {
      "cell_type": "markdown",
      "metadata": {
        "id": "As64UStyvixb"
      },
      "source": [
        "# SVM Model"
      ]
    },
    {
      "cell_type": "markdown",
      "metadata": {
        "id": "ew1ZoHKyvixc"
      },
      "source": [
        "Initialize and train svm model"
      ]
    },
    {
      "cell_type": "code",
      "metadata": {
        "id": "KC4q8yHIvixd",
        "outputId": "ae333127-1969-4110-9f30-ad1550b2deb1",
        "colab": {
          "base_uri": "https://localhost:8080/",
          "height": 398
        }
      },
      "source": [
        "# from sklearn.model_selection import cross_val_score\n",
        "from sklearn.model_selection import GridSearchCV\n",
        "\n",
        "svc = svm.SVC()\n",
        "tst_size = 0.2\n",
        "ns, nf = np.shape(X) \n",
        "# split data to train and test \n",
        "X_train, X_test, Y_train, Y_test = train_test_split(*shuffle(X, Y, n_samples = ns, random_state=0) , random_state=0, test_size =tst_size )\n",
        "# cross validation\n",
        "# scores = cross_val_score(svc, X_train, Y_train, cv=5 ,scoring= 'f1')\n",
        "cv = 5\n",
        "scoring = 'f1'\n",
        "param_grid = {'C': [0.1, 1, 10, 100, 1000],  \n",
        "                'gamma': [1, 0.1, 0.01, 0.001, 0.0001], \n",
        "                'kernel': ['rbf', 'linear', 'sigmoid']}\n",
        "# evaluate hyper-parameters \n",
        "clf = GridSearchCV(svc, param_grid, scoring = scoring, cv = cv ,verbose = 1, n_jobs=-1, return_train_score=1)\n",
        "# train model\n",
        "trained_model = clf.fit(X_train, Y_train)\n",
        "# predict data\n",
        "Y_pred = trained_model.predict(X_test)\n",
        "# scores = cross_val_score(clf.best_estimator_, X_train, Y_train, cv=5 ,scoring= 'accuracy')\n",
        "# print(scores)\n",
        "print(clf.best_score_)"
      ],
      "execution_count": 9,
      "outputs": [
        {
          "output_type": "stream",
          "name": "stdout",
          "text": [
            "Fitting 5 folds for each of 75 candidates, totalling 375 fits\n"
          ]
        },
        {
          "output_type": "error",
          "ename": "KeyboardInterrupt",
          "evalue": "ignored",
          "traceback": [
            "\u001b[0;31m---------------------------------------------------------------------------\u001b[0m",
            "\u001b[0;31mKeyboardInterrupt\u001b[0m                         Traceback (most recent call last)",
            "\u001b[0;32m<ipython-input-9-af55e7a3b35f>\u001b[0m in \u001b[0;36m<module>\u001b[0;34m()\u001b[0m\n\u001b[1;32m     17\u001b[0m \u001b[0mclf\u001b[0m \u001b[0;34m=\u001b[0m \u001b[0mGridSearchCV\u001b[0m\u001b[0;34m(\u001b[0m\u001b[0msvc\u001b[0m\u001b[0;34m,\u001b[0m \u001b[0mparam_grid\u001b[0m\u001b[0;34m,\u001b[0m \u001b[0mscoring\u001b[0m \u001b[0;34m=\u001b[0m \u001b[0mscoring\u001b[0m\u001b[0;34m,\u001b[0m \u001b[0mcv\u001b[0m \u001b[0;34m=\u001b[0m \u001b[0mcv\u001b[0m \u001b[0;34m,\u001b[0m\u001b[0mverbose\u001b[0m \u001b[0;34m=\u001b[0m \u001b[0;36m1\u001b[0m\u001b[0;34m,\u001b[0m \u001b[0mn_jobs\u001b[0m\u001b[0;34m=\u001b[0m\u001b[0;34m-\u001b[0m\u001b[0;36m1\u001b[0m\u001b[0;34m,\u001b[0m \u001b[0mreturn_train_score\u001b[0m\u001b[0;34m=\u001b[0m\u001b[0;36m1\u001b[0m\u001b[0;34m)\u001b[0m\u001b[0;34m\u001b[0m\u001b[0;34m\u001b[0m\u001b[0m\n\u001b[1;32m     18\u001b[0m \u001b[0;31m# train model\u001b[0m\u001b[0;34m\u001b[0m\u001b[0;34m\u001b[0m\u001b[0;34m\u001b[0m\u001b[0m\n\u001b[0;32m---> 19\u001b[0;31m \u001b[0mtrained_model\u001b[0m \u001b[0;34m=\u001b[0m \u001b[0mclf\u001b[0m\u001b[0;34m.\u001b[0m\u001b[0mfit\u001b[0m\u001b[0;34m(\u001b[0m\u001b[0mX_train\u001b[0m\u001b[0;34m,\u001b[0m \u001b[0mY_train\u001b[0m\u001b[0;34m)\u001b[0m\u001b[0;34m\u001b[0m\u001b[0;34m\u001b[0m\u001b[0m\n\u001b[0m\u001b[1;32m     20\u001b[0m \u001b[0;31m# predict data\u001b[0m\u001b[0;34m\u001b[0m\u001b[0;34m\u001b[0m\u001b[0;34m\u001b[0m\u001b[0m\n\u001b[1;32m     21\u001b[0m \u001b[0mY_pred\u001b[0m \u001b[0;34m=\u001b[0m \u001b[0mtrained_model\u001b[0m\u001b[0;34m.\u001b[0m\u001b[0mpredict\u001b[0m\u001b[0;34m(\u001b[0m\u001b[0mX_test\u001b[0m\u001b[0;34m)\u001b[0m\u001b[0;34m\u001b[0m\u001b[0;34m\u001b[0m\u001b[0m\n",
            "\u001b[0;32m/usr/local/lib/python3.7/dist-packages/sklearn/model_selection/_search.py\u001b[0m in \u001b[0;36mfit\u001b[0;34m(self, X, y, groups, **fit_params)\u001b[0m\n\u001b[1;32m    889\u001b[0m                 \u001b[0;32mreturn\u001b[0m \u001b[0mresults\u001b[0m\u001b[0;34m\u001b[0m\u001b[0;34m\u001b[0m\u001b[0m\n\u001b[1;32m    890\u001b[0m \u001b[0;34m\u001b[0m\u001b[0m\n\u001b[0;32m--> 891\u001b[0;31m             \u001b[0mself\u001b[0m\u001b[0;34m.\u001b[0m\u001b[0m_run_search\u001b[0m\u001b[0;34m(\u001b[0m\u001b[0mevaluate_candidates\u001b[0m\u001b[0;34m)\u001b[0m\u001b[0;34m\u001b[0m\u001b[0;34m\u001b[0m\u001b[0m\n\u001b[0m\u001b[1;32m    892\u001b[0m \u001b[0;34m\u001b[0m\u001b[0m\n\u001b[1;32m    893\u001b[0m             \u001b[0;31m# multimetric is determined here because in the case of a callable\u001b[0m\u001b[0;34m\u001b[0m\u001b[0;34m\u001b[0m\u001b[0;34m\u001b[0m\u001b[0m\n",
            "\u001b[0;32m/usr/local/lib/python3.7/dist-packages/sklearn/model_selection/_search.py\u001b[0m in \u001b[0;36m_run_search\u001b[0;34m(self, evaluate_candidates)\u001b[0m\n\u001b[1;32m   1390\u001b[0m     \u001b[0;32mdef\u001b[0m \u001b[0m_run_search\u001b[0m\u001b[0;34m(\u001b[0m\u001b[0mself\u001b[0m\u001b[0;34m,\u001b[0m \u001b[0mevaluate_candidates\u001b[0m\u001b[0;34m)\u001b[0m\u001b[0;34m:\u001b[0m\u001b[0;34m\u001b[0m\u001b[0;34m\u001b[0m\u001b[0m\n\u001b[1;32m   1391\u001b[0m         \u001b[0;34m\"\"\"Search all candidates in param_grid\"\"\"\u001b[0m\u001b[0;34m\u001b[0m\u001b[0;34m\u001b[0m\u001b[0m\n\u001b[0;32m-> 1392\u001b[0;31m         \u001b[0mevaluate_candidates\u001b[0m\u001b[0;34m(\u001b[0m\u001b[0mParameterGrid\u001b[0m\u001b[0;34m(\u001b[0m\u001b[0mself\u001b[0m\u001b[0;34m.\u001b[0m\u001b[0mparam_grid\u001b[0m\u001b[0;34m)\u001b[0m\u001b[0;34m)\u001b[0m\u001b[0;34m\u001b[0m\u001b[0;34m\u001b[0m\u001b[0m\n\u001b[0m\u001b[1;32m   1393\u001b[0m \u001b[0;34m\u001b[0m\u001b[0m\n\u001b[1;32m   1394\u001b[0m \u001b[0;34m\u001b[0m\u001b[0m\n",
            "\u001b[0;32m/usr/local/lib/python3.7/dist-packages/sklearn/model_selection/_search.py\u001b[0m in \u001b[0;36mevaluate_candidates\u001b[0;34m(candidate_params, cv, more_results)\u001b[0m\n\u001b[1;32m    849\u001b[0m                     )\n\u001b[1;32m    850\u001b[0m                     for (cand_idx, parameters), (split_idx, (train, test)) in product(\n\u001b[0;32m--> 851\u001b[0;31m                         \u001b[0menumerate\u001b[0m\u001b[0;34m(\u001b[0m\u001b[0mcandidate_params\u001b[0m\u001b[0;34m)\u001b[0m\u001b[0;34m,\u001b[0m \u001b[0menumerate\u001b[0m\u001b[0;34m(\u001b[0m\u001b[0mcv\u001b[0m\u001b[0;34m.\u001b[0m\u001b[0msplit\u001b[0m\u001b[0;34m(\u001b[0m\u001b[0mX\u001b[0m\u001b[0;34m,\u001b[0m \u001b[0my\u001b[0m\u001b[0;34m,\u001b[0m \u001b[0mgroups\u001b[0m\u001b[0;34m)\u001b[0m\u001b[0;34m)\u001b[0m\u001b[0;34m\u001b[0m\u001b[0;34m\u001b[0m\u001b[0m\n\u001b[0m\u001b[1;32m    852\u001b[0m                     )\n\u001b[1;32m    853\u001b[0m                 )\n",
            "\u001b[0;32m/usr/local/lib/python3.7/dist-packages/joblib/parallel.py\u001b[0m in \u001b[0;36m__call__\u001b[0;34m(self, iterable)\u001b[0m\n\u001b[1;32m   1054\u001b[0m \u001b[0;34m\u001b[0m\u001b[0m\n\u001b[1;32m   1055\u001b[0m             \u001b[0;32mwith\u001b[0m \u001b[0mself\u001b[0m\u001b[0;34m.\u001b[0m\u001b[0m_backend\u001b[0m\u001b[0;34m.\u001b[0m\u001b[0mretrieval_context\u001b[0m\u001b[0;34m(\u001b[0m\u001b[0;34m)\u001b[0m\u001b[0;34m:\u001b[0m\u001b[0;34m\u001b[0m\u001b[0;34m\u001b[0m\u001b[0m\n\u001b[0;32m-> 1056\u001b[0;31m                 \u001b[0mself\u001b[0m\u001b[0;34m.\u001b[0m\u001b[0mretrieve\u001b[0m\u001b[0;34m(\u001b[0m\u001b[0;34m)\u001b[0m\u001b[0;34m\u001b[0m\u001b[0;34m\u001b[0m\u001b[0m\n\u001b[0m\u001b[1;32m   1057\u001b[0m             \u001b[0;31m# Make sure that we get a last message telling us we are done\u001b[0m\u001b[0;34m\u001b[0m\u001b[0;34m\u001b[0m\u001b[0;34m\u001b[0m\u001b[0m\n\u001b[1;32m   1058\u001b[0m             \u001b[0melapsed_time\u001b[0m \u001b[0;34m=\u001b[0m \u001b[0mtime\u001b[0m\u001b[0;34m.\u001b[0m\u001b[0mtime\u001b[0m\u001b[0;34m(\u001b[0m\u001b[0;34m)\u001b[0m \u001b[0;34m-\u001b[0m \u001b[0mself\u001b[0m\u001b[0;34m.\u001b[0m\u001b[0m_start_time\u001b[0m\u001b[0;34m\u001b[0m\u001b[0;34m\u001b[0m\u001b[0m\n",
            "\u001b[0;32m/usr/local/lib/python3.7/dist-packages/joblib/parallel.py\u001b[0m in \u001b[0;36mretrieve\u001b[0;34m(self)\u001b[0m\n\u001b[1;32m    933\u001b[0m             \u001b[0;32mtry\u001b[0m\u001b[0;34m:\u001b[0m\u001b[0;34m\u001b[0m\u001b[0;34m\u001b[0m\u001b[0m\n\u001b[1;32m    934\u001b[0m                 \u001b[0;32mif\u001b[0m \u001b[0mgetattr\u001b[0m\u001b[0;34m(\u001b[0m\u001b[0mself\u001b[0m\u001b[0;34m.\u001b[0m\u001b[0m_backend\u001b[0m\u001b[0;34m,\u001b[0m \u001b[0;34m'supports_timeout'\u001b[0m\u001b[0;34m,\u001b[0m \u001b[0;32mFalse\u001b[0m\u001b[0;34m)\u001b[0m\u001b[0;34m:\u001b[0m\u001b[0;34m\u001b[0m\u001b[0;34m\u001b[0m\u001b[0m\n\u001b[0;32m--> 935\u001b[0;31m                     \u001b[0mself\u001b[0m\u001b[0;34m.\u001b[0m\u001b[0m_output\u001b[0m\u001b[0;34m.\u001b[0m\u001b[0mextend\u001b[0m\u001b[0;34m(\u001b[0m\u001b[0mjob\u001b[0m\u001b[0;34m.\u001b[0m\u001b[0mget\u001b[0m\u001b[0;34m(\u001b[0m\u001b[0mtimeout\u001b[0m\u001b[0;34m=\u001b[0m\u001b[0mself\u001b[0m\u001b[0;34m.\u001b[0m\u001b[0mtimeout\u001b[0m\u001b[0;34m)\u001b[0m\u001b[0;34m)\u001b[0m\u001b[0;34m\u001b[0m\u001b[0;34m\u001b[0m\u001b[0m\n\u001b[0m\u001b[1;32m    936\u001b[0m                 \u001b[0;32melse\u001b[0m\u001b[0;34m:\u001b[0m\u001b[0;34m\u001b[0m\u001b[0;34m\u001b[0m\u001b[0m\n\u001b[1;32m    937\u001b[0m                     \u001b[0mself\u001b[0m\u001b[0;34m.\u001b[0m\u001b[0m_output\u001b[0m\u001b[0;34m.\u001b[0m\u001b[0mextend\u001b[0m\u001b[0;34m(\u001b[0m\u001b[0mjob\u001b[0m\u001b[0;34m.\u001b[0m\u001b[0mget\u001b[0m\u001b[0;34m(\u001b[0m\u001b[0;34m)\u001b[0m\u001b[0;34m)\u001b[0m\u001b[0;34m\u001b[0m\u001b[0;34m\u001b[0m\u001b[0m\n",
            "\u001b[0;32m/usr/local/lib/python3.7/dist-packages/joblib/_parallel_backends.py\u001b[0m in \u001b[0;36mwrap_future_result\u001b[0;34m(future, timeout)\u001b[0m\n\u001b[1;32m    540\u001b[0m         AsyncResults.get from multiprocessing.\"\"\"\n\u001b[1;32m    541\u001b[0m         \u001b[0;32mtry\u001b[0m\u001b[0;34m:\u001b[0m\u001b[0;34m\u001b[0m\u001b[0;34m\u001b[0m\u001b[0m\n\u001b[0;32m--> 542\u001b[0;31m             \u001b[0;32mreturn\u001b[0m \u001b[0mfuture\u001b[0m\u001b[0;34m.\u001b[0m\u001b[0mresult\u001b[0m\u001b[0;34m(\u001b[0m\u001b[0mtimeout\u001b[0m\u001b[0;34m=\u001b[0m\u001b[0mtimeout\u001b[0m\u001b[0;34m)\u001b[0m\u001b[0;34m\u001b[0m\u001b[0;34m\u001b[0m\u001b[0m\n\u001b[0m\u001b[1;32m    543\u001b[0m         \u001b[0;32mexcept\u001b[0m \u001b[0mCfTimeoutError\u001b[0m \u001b[0;32mas\u001b[0m \u001b[0me\u001b[0m\u001b[0;34m:\u001b[0m\u001b[0;34m\u001b[0m\u001b[0;34m\u001b[0m\u001b[0m\n\u001b[1;32m    544\u001b[0m             \u001b[0;32mraise\u001b[0m \u001b[0mTimeoutError\u001b[0m \u001b[0;32mfrom\u001b[0m \u001b[0me\u001b[0m\u001b[0;34m\u001b[0m\u001b[0;34m\u001b[0m\u001b[0m\n",
            "\u001b[0;32m/usr/lib/python3.7/concurrent/futures/_base.py\u001b[0m in \u001b[0;36mresult\u001b[0;34m(self, timeout)\u001b[0m\n\u001b[1;32m    428\u001b[0m                 \u001b[0;32mreturn\u001b[0m \u001b[0mself\u001b[0m\u001b[0;34m.\u001b[0m\u001b[0m__get_result\u001b[0m\u001b[0;34m(\u001b[0m\u001b[0;34m)\u001b[0m\u001b[0;34m\u001b[0m\u001b[0;34m\u001b[0m\u001b[0m\n\u001b[1;32m    429\u001b[0m \u001b[0;34m\u001b[0m\u001b[0m\n\u001b[0;32m--> 430\u001b[0;31m             \u001b[0mself\u001b[0m\u001b[0;34m.\u001b[0m\u001b[0m_condition\u001b[0m\u001b[0;34m.\u001b[0m\u001b[0mwait\u001b[0m\u001b[0;34m(\u001b[0m\u001b[0mtimeout\u001b[0m\u001b[0;34m)\u001b[0m\u001b[0;34m\u001b[0m\u001b[0;34m\u001b[0m\u001b[0m\n\u001b[0m\u001b[1;32m    431\u001b[0m \u001b[0;34m\u001b[0m\u001b[0m\n\u001b[1;32m    432\u001b[0m             \u001b[0;32mif\u001b[0m \u001b[0mself\u001b[0m\u001b[0;34m.\u001b[0m\u001b[0m_state\u001b[0m \u001b[0;32min\u001b[0m \u001b[0;34m[\u001b[0m\u001b[0mCANCELLED\u001b[0m\u001b[0;34m,\u001b[0m \u001b[0mCANCELLED_AND_NOTIFIED\u001b[0m\u001b[0;34m]\u001b[0m\u001b[0;34m:\u001b[0m\u001b[0;34m\u001b[0m\u001b[0;34m\u001b[0m\u001b[0m\n",
            "\u001b[0;32m/usr/lib/python3.7/threading.py\u001b[0m in \u001b[0;36mwait\u001b[0;34m(self, timeout)\u001b[0m\n\u001b[1;32m    294\u001b[0m         \u001b[0;32mtry\u001b[0m\u001b[0;34m:\u001b[0m    \u001b[0;31m# restore state no matter what (e.g., KeyboardInterrupt)\u001b[0m\u001b[0;34m\u001b[0m\u001b[0;34m\u001b[0m\u001b[0m\n\u001b[1;32m    295\u001b[0m             \u001b[0;32mif\u001b[0m \u001b[0mtimeout\u001b[0m \u001b[0;32mis\u001b[0m \u001b[0;32mNone\u001b[0m\u001b[0;34m:\u001b[0m\u001b[0;34m\u001b[0m\u001b[0;34m\u001b[0m\u001b[0m\n\u001b[0;32m--> 296\u001b[0;31m                 \u001b[0mwaiter\u001b[0m\u001b[0;34m.\u001b[0m\u001b[0macquire\u001b[0m\u001b[0;34m(\u001b[0m\u001b[0;34m)\u001b[0m\u001b[0;34m\u001b[0m\u001b[0;34m\u001b[0m\u001b[0m\n\u001b[0m\u001b[1;32m    297\u001b[0m                 \u001b[0mgotit\u001b[0m \u001b[0;34m=\u001b[0m \u001b[0;32mTrue\u001b[0m\u001b[0;34m\u001b[0m\u001b[0;34m\u001b[0m\u001b[0m\n\u001b[1;32m    298\u001b[0m             \u001b[0;32melse\u001b[0m\u001b[0;34m:\u001b[0m\u001b[0;34m\u001b[0m\u001b[0;34m\u001b[0m\u001b[0m\n",
            "\u001b[0;31mKeyboardInterrupt\u001b[0m: "
          ]
        }
      ]
    },
    {
      "cell_type": "markdown",
      "metadata": {
        "id": "VgbAjfqAvixe"
      },
      "source": [
        "### Classification Report\n",
        "Print some information about the trained model such as training time, ... "
      ]
    },
    {
      "cell_type": "code",
      "metadata": {
        "id": "oHmU_txHvixe"
      },
      "source": [
        "print(\"Best parameters set found on development set:\")\n",
        "print(trained_model.best_params_)\n",
        "print()\n",
        "print(sorted(trained_model.cv_results_.keys()))\n",
        "print(trained_model.best_score_)\n",
        "# print(trained_model.cv_results_.mean_fit)\n",
        "\n",
        "print('-----------------')\n",
        "# print(Y_pred)\n",
        "print('\\nclassification report: \\n')\n",
        "from sklearn.metrics import classification_report\n",
        "print(classification_report(Y_test, Y_pred))\n",
        "\n",
        "EM1 = \n",
        "CVS = \n",
        "CPS = \n",
        "T = \n",
        "PT = \n"
      ],
      "execution_count": null,
      "outputs": []
    },
    {
      "cell_type": "markdown",
      "metadata": {
        "id": "rf8ukjsfvixf"
      },
      "source": [
        "### Confusion Matrix"
      ]
    },
    {
      "cell_type": "code",
      "metadata": {
        "id": "qNiOChmcvixf"
      },
      "source": [
        "from sklearn.metrics import ConfusionMatrixDisplay\n",
        "cm = confusion_matrix(Y_test, Y_pred, labels=clf.classes_)\n",
        "disp = ConfusionMatrixDisplay(confusion_matrix=cm, display_labels=clf.classes_)\n",
        "disp.plot()\n",
        "plt.show()"
      ],
      "execution_count": null,
      "outputs": []
    },
    {
      "cell_type": "markdown",
      "metadata": {
        "id": "NkLTkX8zvixi"
      },
      "source": [
        "### Learning Curve\n"
      ]
    },
    {
      "cell_type": "code",
      "metadata": {
        "id": "xmA9wHBjvixj"
      },
      "source": [
        "ns = [10,20,25,30,38]\n",
        "train_sizes, train_scores, valid_scores = learning_curve(trained_model, X_train, Y_train, train_sizes=ns, cv=cv, scoring= scoring, n_jobs = -1)\n",
        "\n",
        "train_scores_mean =  train_scores.mean(axis = 1)\n",
        "train_scores_std = np.std(train_scores, axis=1)\n",
        "validation_scores_mean =  valid_scores.mean(axis = 1)\n",
        "validation_scores_std  = valid_scores.std(axis = 1)\n",
        "\n",
        "xlabel = 'Sample Size'\n",
        "ylabel = scoring\n",
        "plt_title = 'Learning Curve'\n",
        "\n",
        "fig = plt.figure()\n",
        "ax = fig.add_subplot(111, xlabel=xlabel, ylabel=ylabel, title=plt_title)\n",
        "ax.plot(train_sizes, train_scores_mean, label = 'Training Score')\n",
        "ax.plot(train_sizes, validation_scores_mean, label = 'Validation Score')\n",
        "\n",
        "plt.fill_between(train_sizes, train_scores_mean - train_scores_std,\n",
        "                 train_scores_mean + train_scores_std, alpha=0.2,\n",
        "                 color=\"darkblue\", lw=2)\n",
        "plt.fill_between(train_sizes, validation_scores_mean - validation_scores_std,\n",
        "                 validation_scores_mean + validation_scores_std, alpha=0.2,\n",
        "                 color=\"darkgreen\", lw=2)\n",
        "\n",
        "plt.legend()\n",
        "# plt.yscale('log')\n",
        "plt.show()\n",
        "\n",
        "print('Training scores:\\n\\n', pd.DataFrame( train_scores, columns=[f'cv{i+1}' for i in range(cv)], index=ns) )\n",
        "print('\\n', '-' * 70) # separator to make the output easy to read\n",
        "print('\\nValidation scores:\\n\\n', pd.DataFrame(valid_scores, columns=[f'cv{i+1}' for i in range(cv)], index=ns) )"
      ],
      "execution_count": null,
      "outputs": []
    },
    {
      "cell_type": "markdown",
      "metadata": {
        "id": "ptX4Ql42vixk"
      },
      "source": [
        "### Validation Curve\n"
      ]
    },
    {
      "cell_type": "code",
      "metadata": {
        "id": "nxDGL2uDvixl"
      },
      "source": [
        "from sklearn.linear_model import Ridge\n",
        "c_list = param_grid.get('C')\n",
        "train_scores, valid_scores = validation_curve(SVC(), X_train, Y_train, \n",
        "                                              param_name=\"gamma\",\n",
        "                                              param_range=c_list , \n",
        "                                              cv=cv, \n",
        "                                              scoring = scoring,\n",
        "                                              verbose=1, \n",
        "                                              n_jobs=-1\n",
        "                                             )\n",
        "train_scores_mean = np.mean(train_scores, axis=1)\n",
        "train_scores_std = np.std(train_scores, axis=1)\n",
        "valid_scores_mean = np.mean(valid_scores, axis=1)\n",
        "valid_scores_std = np.std(valid_scores, axis=1)\n",
        "\n",
        "xlabel = 'gamma'\n",
        "ylabel = scoring\n",
        "plt_title = 'Validation Curve'\n",
        "\n",
        "fig = plt.figure()\n",
        "ax = fig.add_subplot(111, xlabel=xlabel, ylabel=ylabel, title=plt_title)\n",
        "plt.plot(c_list, train_scores_mean, label=\"Training score\",\n",
        "             color=\"darkorange\", lw=2)\n",
        "plt.fill_between(c_list, train_scores_mean - train_scores_std,\n",
        "                 train_scores_mean + train_scores_std, alpha=0.2,\n",
        "                 color=\"darkorange\", lw=2)\n",
        "plt.plot(c_list, valid_scores_mean, label=\"Validation score\",\n",
        "             color=\"navy\", lw=2)\n",
        "plt.fill_between(c_list, valid_scores_mean - valid_scores_std,\n",
        "                 valid_scores_mean + valid_scores_std, alpha=0.2,\n",
        "                 color=\"navy\", lw=2)\n",
        "plt.legend(loc=\"best\")\n",
        "plt.show()\n",
        "\n",
        "print('Training scores:\\n\\n', pd.DataFrame( train_scores, columns=[f'cv{i+1}' for i in range(cv)], index=ns) )\n",
        "print('\\n', '-' * 70) # separator to make the output easy to read\n",
        "print('\\nValidation scores:\\n\\n', pd.DataFrame(valid_scores, columns=[f'cv{i+1}' for i in range(cv)], index=ns) )"
      ],
      "execution_count": null,
      "outputs": []
    },
    {
      "cell_type": "markdown",
      "metadata": {
        "id": "oljfnx-Bvixl"
      },
      "source": [
        "### Regularization (if needed) \n",
        "do we need it??"
      ]
    },
    {
      "cell_type": "code",
      "metadata": {
        "id": "C8p8IvNUvixm"
      },
      "source": [
        "from sklearn.linear_model import Ridge\n",
        "\n",
        "# deg_list \n",
        "deg = 15\n",
        "ns = 20\n",
        "X_train, X_test, Y_train, Y_test = train_test_split(*shuffle(X_bbr, Y_bbr, n_samples = ns, random_state=0) , random_state=0, test_size =.5 )\n",
        "\n",
        "\n",
        "w_list = []\n",
        "\n",
        "x_range = np.arange(X_bbr.min(), X_bbr.max(), .1)\n",
        "\n",
        "\n",
        "fig = plt.figure()\n",
        "ax = fig.add_subplot(111, xlabel=x_label, ylabel=y_label, title=plt_title)\n",
        "# ax.scatter(X_train, Y_train, label = 'Train data')\n",
        "ax.scatter(X_test, Y_test, c='black', label = 'Test data')\n",
        "\n",
        "\n",
        "r_list = [0,.1,1,10]\n",
        "\n",
        "for r in r_list:\n",
        "\n",
        "  rg = Pipeline([('poly', PolynomialFeatures(degree=deg) ), \n",
        "                ('model', Ridge( alpha=r ) ### We are using Ridge which uses l2 regularization. \n",
        "                )])\n",
        "  rg.fit( X_train.reshape(-1,1), Y_train )\n",
        "\n",
        "  ### Let's store the weights\n",
        "  w_list += [rg[1].coef_]\n",
        "\n",
        "  y_range = rg.predict(x_range.reshape(-1,1) )\n",
        "  ax.plot(x_range, y_range,  alpha = .6, label=f'Regularization={r}')\n",
        "\n",
        "\n",
        "w_list = np.array(w_list)\n",
        "plt.ylim(-1.5,2)\n",
        "ax.legend()\n",
        "plt.show()"
      ],
      "execution_count": null,
      "outputs": []
    },
    {
      "cell_type": "markdown",
      "metadata": {
        "id": "ckUaCbULvixn"
      },
      "source": [
        "# Logistic Regression"
      ]
    },
    {
      "cell_type": "code",
      "metadata": {
        "id": "LOl9g5ZTvixn"
      },
      "source": [
        "from sklearn.linear_model import LogisticRegression\n",
        "\n",
        "# scale model\n",
        "\n",
        "lrg = LogisticRegression()\n",
        "tst_size = 0.2\n",
        "ns, nf = np.shape(X)\n",
        "# split data to train and test \n",
        "# X_train, X_test, Y_train, Y_test = train_test_split(*shuffle(X, Y, n_samples = ns, random_state=0) , random_state=0, test_size =tst_size )\n",
        "# cross validation\n",
        "# scores = cross_val_score(svc, X_train, Y_train, cv=5 ,scoring= 'recall')\n",
        "# print(scores)\n",
        "param_grid=  { 'solver':{'newton-cg', 'lbfgs', 'liblinear', 'sag', 'saga'},'penalty':{'l1', 'l2', 'elasticnet', 'none'},'fit_intercept'C': [0.1, 1, 10, 100, 1000], 'gamma': [1, 0.1, 0.01, 0.001, 0.0001], 'kernel': ['rbf','linear','sigmoid']}\n",
        "# evaluate hyper-parameters \n",
        "clf = GridSearchCV(svc, param_grid, scoring = 'f1', cv = 5 ,verbose = 1, n_jobs=-1, return_train_score=1)\n",
        "# train model\n",
        "trained_model = clf.fit(X_train, Y_train)\n",
        "# predict data\n",
        "Y_pred = trained_model.predict(X_test)\n",
        "# scores = cross_val_score(clf.best_estimator_, X_train, Y_train, cv=5 ,scoring= 'accuracy')\n",
        "# print(scores)\n",
        "print(clf.best_score_)"
      ],
      "execution_count": null,
      "outputs": []
    },
    {
      "cell_type": "markdown",
      "metadata": {
        "id": "2_QYvVbZvixn"
      },
      "source": [
        "# Comparing Models"
      ]
    },
    {
      "cell_type": "markdown",
      "metadata": {
        "id": "Ybi6kJ3Uvixo"
      },
      "source": [
        "A table is created to compare the five recently-traind models above. It includes evaluation metric(s), training time and prediction time of each models. Also, we sorted models based on their performance from different aspects. "
      ]
    },
    {
      "cell_type": "code",
      "metadata": {
        "id": "HEhpPmF_vixo"
      },
      "source": [
        "table = pd.DataFrame({'Name':['SVM', 'Logestic Regression', 'Random Forest', 'KNN', 'undecided'],\n",
        "                        'Evaluation Metric(s)': [EM1, EM2, EM3, EM4, EM5],\n",
        "                        'Corresponding Validation Score': [CVS1, CVS2, CVS3, CVS4, CVS5],\n",
        "                        'Corresponding Prediction Score':  [CPS1, CPS2, CPS3, CPS4, CPS5],\n",
        "                        'Training Time': [T1, T2, T3, T4, T5],\n",
        "                        'Prediction Time': [PT1, PT2, PT3, PT4, PT5],\n",
        "})\n",
        "\n",
        "print('Sort models based on their validation scores: \\n' + str(table.sort_values(by=['Corresponding Validation Score', ascending= False]).loc[:, ['Name', 'Corresponding Validation Score']))\n",
        "print('\\nSort models based on their prediction scores: \\n' + str(table.sort_values(by=['Corresponding Prediction Score', ascending= False]).loc[:, ['Name', 'Corresponding Prediction Score']))\n",
        "print('\\nSort models based on their validation scores: \\n' + str(table.sort_values(by=['Training Time', ascending= True]).loc[:, ['Name', 'Training Time']))\n",
        "print('\\nSort models based on their validation scores: \\n' + str(table.sort_values(by=['Prediction Time', ascending= True]).loc[:, ['Name', 'Prediction Time']))\n"
      ],
      "execution_count": null,
      "outputs": []
    }
<<<<<<< HEAD
   ],
   "source": [
    "from sklearn.linear_model import Ridge\n",
    "c_list = param_grid.get('C')\n",
    "train_scores, valid_scores = validation_curve(SVC(), X_train, Y_train, \n",
    "                                              param_name=\"gamma\",\n",
    "                                              param_range=c_list , \n",
    "                                              cv=cv, \n",
    "                                              scoring = scoring,\n",
    "                                              verbose=1, \n",
    "                                              n_jobs=-1\n",
    "                                             )\n",
    "train_scores_mean = np.mean(train_scores, axis=1)\n",
    "train_scores_std = np.std(train_scores, axis=1)\n",
    "valid_scores_mean = np.mean(valid_scores, axis=1)\n",
    "valid_scores_std = np.std(valid_scores, axis=1)\n",
    "\n",
    "xlabel = 'gamma'\n",
    "ylabel = scoring\n",
    "plt_title = 'Validation Curve'\n",
    "\n",
    "fig = plt.figure()\n",
    "ax = fig.add_subplot(111, xlabel=xlabel, ylabel=ylabel, title=plt_title)\n",
    "plt.plot(c_list, train_scores_mean, label=\"Training score\",\n",
    "             color=\"darkorange\", lw=2)\n",
    "plt.fill_between(c_list, train_scores_mean - train_scores_std,\n",
    "                 train_scores_mean + train_scores_std, alpha=0.2,\n",
    "                 color=\"darkorange\", lw=2)\n",
    "plt.plot(c_list, valid_scores_mean, label=\"Validation score\",\n",
    "             color=\"navy\", lw=2)\n",
    "plt.fill_between(c_list, valid_scores_mean - valid_scores_std,\n",
    "                 valid_scores_mean + valid_scores_std, alpha=0.2,\n",
    "                 color=\"navy\", lw=2)\n",
    "plt.legend(loc=\"best\")\n",
    "plt.show()\n",
    "\n",
    "print('Training scores:\\n\\n', pd.DataFrame( train_scores, columns=[f'cv{i+1}' for i in range(cv)], index=ns) )\n",
    "print('\\n', '-' * 70) # separator to make the output easy to read\n",
    "print('\\nValidation scores:\\n\\n', pd.DataFrame(valid_scores, columns=[f'cv{i+1}' for i in range(cv)], index=ns) )"
   ]
  },
  {
   "cell_type": "markdown",
   "metadata": {},
   "source": [
    "### Regularization (if needed) \n",
    "do we need it??"
   ]
  },
  {
   "cell_type": "code",
   "execution_count": null,
   "metadata": {},
   "outputs": [],
   "source": [
    "from sklearn.linear_model import Ridge\n",
    "\n",
    "# deg_list \n",
    "deg = 15\n",
    "ns = 20\n",
    "X_train, X_test, Y_train, Y_test = train_test_split(*shuffle(X_bbr, Y_bbr, n_samples = ns, random_state=0) , random_state=0, test_size =.5 )\n",
    "\n",
    "\n",
    "w_list = []\n",
    "\n",
    "x_range = np.arange(X_bbr.min(), X_bbr.max(), .1)\n",
    "\n",
    "\n",
    "fig = plt.figure()\n",
    "ax = fig.add_subplot(111, xlabel=x_label, ylabel=y_label, title=plt_title)\n",
    "# ax.scatter(X_train, Y_train, label = 'Train data')\n",
    "ax.scatter(X_test, Y_test, c='black', label = 'Test data')\n",
    "\n",
    "\n",
    "r_list = [0,.1,1,10]\n",
    "\n",
    "for r in r_list:\n",
    "\n",
    "  rg = Pipeline([('poly', PolynomialFeatures(degree=deg) ), \n",
    "                ('model', Ridge( alpha=r ) ### We are using Ridge which uses l2 regularization. \n",
    "                )])\n",
    "  rg.fit( X_train.reshape(-1,1), Y_train )\n",
    "\n",
    "  ### Let's store the weights\n",
    "  w_list += [rg[1].coef_]\n",
    "\n",
    "  y_range = rg.predict(x_range.reshape(-1,1) )\n",
    "  ax.plot(x_range, y_range,  alpha = .6, label=f'Regularization={r}')\n",
    "\n",
    "\n",
    "w_list = np.array(w_list)\n",
    "plt.ylim(-1.5,2)\n",
    "ax.legend()\n",
    "plt.show()"
   ]
  },
  {
   "cell_type": "markdown",
   "metadata": {},
   "source": [
    "# Logistic Regression"
   ]
  },
  {
   "cell_type": "markdown",
   "metadata": {},
   "source": [
    "# Decision Tree "
   ]
  },
  {
   "cell_type": "markdown",
   "metadata": {},
   "source": [
    "### Initialize and train Decision Tree model"
   ]
  },
  {
   "cell_type": "code",
   "execution_count": 98,
   "metadata": {},
   "outputs": [
    {
     "name": "stdout",
     "output_type": "stream",
     "text": [
      "Fitting 5 folds for each of 75 candidates, totalling 375 fits\n"
     ]
    },
    {
     "ename": "ValueError",
     "evalue": "Invalid parameter C for estimator DecisionTreeClassifier(). Check the list of available parameters with `estimator.get_params().keys()`.",
     "output_type": "error",
     "traceback": [
      "\u001b[1;31m---------------------------------------------------------------------------\u001b[0m",
      "\u001b[1;31m_RemoteTraceback\u001b[0m                          Traceback (most recent call last)",
      "\u001b[1;31m_RemoteTraceback\u001b[0m: \n\"\"\"\nTraceback (most recent call last):\n  File \"C:\\Users\\Kanoa\\AppData\\Local\\Programs\\Python\\Python310\\lib\\site-packages\\joblib\\externals\\loky\\process_executor.py\", line 436, in _process_worker\n    r = call_item()\n  File \"C:\\Users\\Kanoa\\AppData\\Local\\Programs\\Python\\Python310\\lib\\site-packages\\joblib\\externals\\loky\\process_executor.py\", line 288, in __call__\n    return self.fn(*self.args, **self.kwargs)\n  File \"C:\\Users\\Kanoa\\AppData\\Local\\Programs\\Python\\Python310\\lib\\site-packages\\joblib\\_parallel_backends.py\", line 595, in __call__\n    return self.func(*args, **kwargs)\n  File \"C:\\Users\\Kanoa\\AppData\\Local\\Programs\\Python\\Python310\\lib\\site-packages\\joblib\\parallel.py\", line 262, in __call__\n    return [func(*args, **kwargs)\n  File \"C:\\Users\\Kanoa\\AppData\\Local\\Programs\\Python\\Python310\\lib\\site-packages\\joblib\\parallel.py\", line 262, in <listcomp>\n    return [func(*args, **kwargs)\n  File \"C:\\Users\\Kanoa\\AppData\\Local\\Programs\\Python\\Python310\\lib\\site-packages\\sklearn\\utils\\fixes.py\", line 211, in __call__\n    return self.function(*args, **kwargs)\n  File \"C:\\Users\\Kanoa\\AppData\\Local\\Programs\\Python\\Python310\\lib\\site-packages\\sklearn\\model_selection\\_validation.py\", line 669, in _fit_and_score\n    estimator = estimator.set_params(**cloned_parameters)\n  File \"C:\\Users\\Kanoa\\AppData\\Local\\Programs\\Python\\Python310\\lib\\site-packages\\sklearn\\base.py\", line 240, in set_params\n    raise ValueError(\nValueError: Invalid parameter C for estimator DecisionTreeClassifier(). Check the list of available parameters with `estimator.get_params().keys()`.\n\"\"\"",
      "\nThe above exception was the direct cause of the following exception:\n",
      "\u001b[1;31mValueError\u001b[0m                                Traceback (most recent call last)",
      "\u001b[1;32m~\\AppData\\Local\\Temp/ipykernel_19208/1233999861.py\u001b[0m in \u001b[0;36m<module>\u001b[1;34m\u001b[0m\n\u001b[0;32m     17\u001b[0m \u001b[0mclf\u001b[0m \u001b[1;33m=\u001b[0m \u001b[0mGridSearchCV\u001b[0m\u001b[1;33m(\u001b[0m\u001b[0mdtc\u001b[0m\u001b[1;33m,\u001b[0m \u001b[0mparam_grid\u001b[0m\u001b[1;33m,\u001b[0m \u001b[0mscoring\u001b[0m \u001b[1;33m=\u001b[0m \u001b[0mscoring\u001b[0m\u001b[1;33m,\u001b[0m \u001b[0mcv\u001b[0m \u001b[1;33m=\u001b[0m \u001b[0mcv\u001b[0m \u001b[1;33m,\u001b[0m\u001b[0mverbose\u001b[0m \u001b[1;33m=\u001b[0m \u001b[1;36m1\u001b[0m\u001b[1;33m,\u001b[0m \u001b[0mn_jobs\u001b[0m\u001b[1;33m=\u001b[0m\u001b[1;33m-\u001b[0m\u001b[1;36m1\u001b[0m\u001b[1;33m,\u001b[0m \u001b[0mreturn_train_score\u001b[0m\u001b[1;33m=\u001b[0m\u001b[1;36m1\u001b[0m\u001b[1;33m)\u001b[0m\u001b[1;33m\u001b[0m\u001b[1;33m\u001b[0m\u001b[0m\n\u001b[0;32m     18\u001b[0m \u001b[1;31m# train model\u001b[0m\u001b[1;33m\u001b[0m\u001b[1;33m\u001b[0m\u001b[0m\n\u001b[1;32m---> 19\u001b[1;33m \u001b[0mtrained_model\u001b[0m \u001b[1;33m=\u001b[0m \u001b[0mclf\u001b[0m\u001b[1;33m.\u001b[0m\u001b[0mfit\u001b[0m\u001b[1;33m(\u001b[0m\u001b[0mX_train\u001b[0m\u001b[1;33m,\u001b[0m \u001b[0mY_train\u001b[0m\u001b[1;33m)\u001b[0m\u001b[1;33m\u001b[0m\u001b[1;33m\u001b[0m\u001b[0m\n\u001b[0m\u001b[0;32m     20\u001b[0m \u001b[1;31m# predict data\u001b[0m\u001b[1;33m\u001b[0m\u001b[1;33m\u001b[0m\u001b[0m\n\u001b[0;32m     21\u001b[0m \u001b[0mY_pred\u001b[0m \u001b[1;33m=\u001b[0m \u001b[0mtrained_model\u001b[0m\u001b[1;33m.\u001b[0m\u001b[0mpredict\u001b[0m\u001b[1;33m(\u001b[0m\u001b[0mX_test\u001b[0m\u001b[1;33m)\u001b[0m\u001b[1;33m\u001b[0m\u001b[1;33m\u001b[0m\u001b[0m\n",
      "\u001b[1;32m~\\AppData\\Local\\Programs\\Python\\Python310\\lib\\site-packages\\sklearn\\model_selection\\_search.py\u001b[0m in \u001b[0;36mfit\u001b[1;34m(self, X, y, groups, **fit_params)\u001b[0m\n\u001b[0;32m    889\u001b[0m                 \u001b[1;32mreturn\u001b[0m \u001b[0mresults\u001b[0m\u001b[1;33m\u001b[0m\u001b[1;33m\u001b[0m\u001b[0m\n\u001b[0;32m    890\u001b[0m \u001b[1;33m\u001b[0m\u001b[0m\n\u001b[1;32m--> 891\u001b[1;33m             \u001b[0mself\u001b[0m\u001b[1;33m.\u001b[0m\u001b[0m_run_search\u001b[0m\u001b[1;33m(\u001b[0m\u001b[0mevaluate_candidates\u001b[0m\u001b[1;33m)\u001b[0m\u001b[1;33m\u001b[0m\u001b[1;33m\u001b[0m\u001b[0m\n\u001b[0m\u001b[0;32m    892\u001b[0m \u001b[1;33m\u001b[0m\u001b[0m\n\u001b[0;32m    893\u001b[0m             \u001b[1;31m# multimetric is determined here because in the case of a callable\u001b[0m\u001b[1;33m\u001b[0m\u001b[1;33m\u001b[0m\u001b[0m\n",
      "\u001b[1;32m~\\AppData\\Local\\Programs\\Python\\Python310\\lib\\site-packages\\sklearn\\model_selection\\_search.py\u001b[0m in \u001b[0;36m_run_search\u001b[1;34m(self, evaluate_candidates)\u001b[0m\n\u001b[0;32m   1390\u001b[0m     \u001b[1;32mdef\u001b[0m \u001b[0m_run_search\u001b[0m\u001b[1;33m(\u001b[0m\u001b[0mself\u001b[0m\u001b[1;33m,\u001b[0m \u001b[0mevaluate_candidates\u001b[0m\u001b[1;33m)\u001b[0m\u001b[1;33m:\u001b[0m\u001b[1;33m\u001b[0m\u001b[1;33m\u001b[0m\u001b[0m\n\u001b[0;32m   1391\u001b[0m         \u001b[1;34m\"\"\"Search all candidates in param_grid\"\"\"\u001b[0m\u001b[1;33m\u001b[0m\u001b[1;33m\u001b[0m\u001b[0m\n\u001b[1;32m-> 1392\u001b[1;33m         \u001b[0mevaluate_candidates\u001b[0m\u001b[1;33m(\u001b[0m\u001b[0mParameterGrid\u001b[0m\u001b[1;33m(\u001b[0m\u001b[0mself\u001b[0m\u001b[1;33m.\u001b[0m\u001b[0mparam_grid\u001b[0m\u001b[1;33m)\u001b[0m\u001b[1;33m)\u001b[0m\u001b[1;33m\u001b[0m\u001b[1;33m\u001b[0m\u001b[0m\n\u001b[0m\u001b[0;32m   1393\u001b[0m \u001b[1;33m\u001b[0m\u001b[0m\n\u001b[0;32m   1394\u001b[0m \u001b[1;33m\u001b[0m\u001b[0m\n",
      "\u001b[1;32m~\\AppData\\Local\\Programs\\Python\\Python310\\lib\\site-packages\\sklearn\\model_selection\\_search.py\u001b[0m in \u001b[0;36mevaluate_candidates\u001b[1;34m(candidate_params, cv, more_results)\u001b[0m\n\u001b[0;32m    836\u001b[0m                     )\n\u001b[0;32m    837\u001b[0m \u001b[1;33m\u001b[0m\u001b[0m\n\u001b[1;32m--> 838\u001b[1;33m                 out = parallel(\n\u001b[0m\u001b[0;32m    839\u001b[0m                     delayed(_fit_and_score)(\n\u001b[0;32m    840\u001b[0m                         \u001b[0mclone\u001b[0m\u001b[1;33m(\u001b[0m\u001b[0mbase_estimator\u001b[0m\u001b[1;33m)\u001b[0m\u001b[1;33m,\u001b[0m\u001b[1;33m\u001b[0m\u001b[1;33m\u001b[0m\u001b[0m\n",
      "\u001b[1;32m~\\AppData\\Local\\Programs\\Python\\Python310\\lib\\site-packages\\joblib\\parallel.py\u001b[0m in \u001b[0;36m__call__\u001b[1;34m(self, iterable)\u001b[0m\n\u001b[0;32m   1054\u001b[0m \u001b[1;33m\u001b[0m\u001b[0m\n\u001b[0;32m   1055\u001b[0m             \u001b[1;32mwith\u001b[0m \u001b[0mself\u001b[0m\u001b[1;33m.\u001b[0m\u001b[0m_backend\u001b[0m\u001b[1;33m.\u001b[0m\u001b[0mretrieval_context\u001b[0m\u001b[1;33m(\u001b[0m\u001b[1;33m)\u001b[0m\u001b[1;33m:\u001b[0m\u001b[1;33m\u001b[0m\u001b[1;33m\u001b[0m\u001b[0m\n\u001b[1;32m-> 1056\u001b[1;33m                 \u001b[0mself\u001b[0m\u001b[1;33m.\u001b[0m\u001b[0mretrieve\u001b[0m\u001b[1;33m(\u001b[0m\u001b[1;33m)\u001b[0m\u001b[1;33m\u001b[0m\u001b[1;33m\u001b[0m\u001b[0m\n\u001b[0m\u001b[0;32m   1057\u001b[0m             \u001b[1;31m# Make sure that we get a last message telling us we are done\u001b[0m\u001b[1;33m\u001b[0m\u001b[1;33m\u001b[0m\u001b[0m\n\u001b[0;32m   1058\u001b[0m             \u001b[0melapsed_time\u001b[0m \u001b[1;33m=\u001b[0m \u001b[0mtime\u001b[0m\u001b[1;33m.\u001b[0m\u001b[0mtime\u001b[0m\u001b[1;33m(\u001b[0m\u001b[1;33m)\u001b[0m \u001b[1;33m-\u001b[0m \u001b[0mself\u001b[0m\u001b[1;33m.\u001b[0m\u001b[0m_start_time\u001b[0m\u001b[1;33m\u001b[0m\u001b[1;33m\u001b[0m\u001b[0m\n",
      "\u001b[1;32m~\\AppData\\Local\\Programs\\Python\\Python310\\lib\\site-packages\\joblib\\parallel.py\u001b[0m in \u001b[0;36mretrieve\u001b[1;34m(self)\u001b[0m\n\u001b[0;32m    933\u001b[0m             \u001b[1;32mtry\u001b[0m\u001b[1;33m:\u001b[0m\u001b[1;33m\u001b[0m\u001b[1;33m\u001b[0m\u001b[0m\n\u001b[0;32m    934\u001b[0m                 \u001b[1;32mif\u001b[0m \u001b[0mgetattr\u001b[0m\u001b[1;33m(\u001b[0m\u001b[0mself\u001b[0m\u001b[1;33m.\u001b[0m\u001b[0m_backend\u001b[0m\u001b[1;33m,\u001b[0m \u001b[1;34m'supports_timeout'\u001b[0m\u001b[1;33m,\u001b[0m \u001b[1;32mFalse\u001b[0m\u001b[1;33m)\u001b[0m\u001b[1;33m:\u001b[0m\u001b[1;33m\u001b[0m\u001b[1;33m\u001b[0m\u001b[0m\n\u001b[1;32m--> 935\u001b[1;33m                     \u001b[0mself\u001b[0m\u001b[1;33m.\u001b[0m\u001b[0m_output\u001b[0m\u001b[1;33m.\u001b[0m\u001b[0mextend\u001b[0m\u001b[1;33m(\u001b[0m\u001b[0mjob\u001b[0m\u001b[1;33m.\u001b[0m\u001b[0mget\u001b[0m\u001b[1;33m(\u001b[0m\u001b[0mtimeout\u001b[0m\u001b[1;33m=\u001b[0m\u001b[0mself\u001b[0m\u001b[1;33m.\u001b[0m\u001b[0mtimeout\u001b[0m\u001b[1;33m)\u001b[0m\u001b[1;33m)\u001b[0m\u001b[1;33m\u001b[0m\u001b[1;33m\u001b[0m\u001b[0m\n\u001b[0m\u001b[0;32m    936\u001b[0m                 \u001b[1;32melse\u001b[0m\u001b[1;33m:\u001b[0m\u001b[1;33m\u001b[0m\u001b[1;33m\u001b[0m\u001b[0m\n\u001b[0;32m    937\u001b[0m                     \u001b[0mself\u001b[0m\u001b[1;33m.\u001b[0m\u001b[0m_output\u001b[0m\u001b[1;33m.\u001b[0m\u001b[0mextend\u001b[0m\u001b[1;33m(\u001b[0m\u001b[0mjob\u001b[0m\u001b[1;33m.\u001b[0m\u001b[0mget\u001b[0m\u001b[1;33m(\u001b[0m\u001b[1;33m)\u001b[0m\u001b[1;33m)\u001b[0m\u001b[1;33m\u001b[0m\u001b[1;33m\u001b[0m\u001b[0m\n",
      "\u001b[1;32m~\\AppData\\Local\\Programs\\Python\\Python310\\lib\\site-packages\\joblib\\_parallel_backends.py\u001b[0m in \u001b[0;36mwrap_future_result\u001b[1;34m(future, timeout)\u001b[0m\n\u001b[0;32m    540\u001b[0m         AsyncResults.get from multiprocessing.\"\"\"\n\u001b[0;32m    541\u001b[0m         \u001b[1;32mtry\u001b[0m\u001b[1;33m:\u001b[0m\u001b[1;33m\u001b[0m\u001b[1;33m\u001b[0m\u001b[0m\n\u001b[1;32m--> 542\u001b[1;33m             \u001b[1;32mreturn\u001b[0m \u001b[0mfuture\u001b[0m\u001b[1;33m.\u001b[0m\u001b[0mresult\u001b[0m\u001b[1;33m(\u001b[0m\u001b[0mtimeout\u001b[0m\u001b[1;33m=\u001b[0m\u001b[0mtimeout\u001b[0m\u001b[1;33m)\u001b[0m\u001b[1;33m\u001b[0m\u001b[1;33m\u001b[0m\u001b[0m\n\u001b[0m\u001b[0;32m    543\u001b[0m         \u001b[1;32mexcept\u001b[0m \u001b[0mCfTimeoutError\u001b[0m \u001b[1;32mas\u001b[0m \u001b[0me\u001b[0m\u001b[1;33m:\u001b[0m\u001b[1;33m\u001b[0m\u001b[1;33m\u001b[0m\u001b[0m\n\u001b[0;32m    544\u001b[0m             \u001b[1;32mraise\u001b[0m \u001b[0mTimeoutError\u001b[0m \u001b[1;32mfrom\u001b[0m \u001b[0me\u001b[0m\u001b[1;33m\u001b[0m\u001b[1;33m\u001b[0m\u001b[0m\n",
      "\u001b[1;32m~\\AppData\\Local\\Programs\\Python\\Python310\\lib\\concurrent\\futures\\_base.py\u001b[0m in \u001b[0;36mresult\u001b[1;34m(self, timeout)\u001b[0m\n\u001b[0;32m    443\u001b[0m                     \u001b[1;32mraise\u001b[0m \u001b[0mCancelledError\u001b[0m\u001b[1;33m(\u001b[0m\u001b[1;33m)\u001b[0m\u001b[1;33m\u001b[0m\u001b[1;33m\u001b[0m\u001b[0m\n\u001b[0;32m    444\u001b[0m                 \u001b[1;32melif\u001b[0m \u001b[0mself\u001b[0m\u001b[1;33m.\u001b[0m\u001b[0m_state\u001b[0m \u001b[1;33m==\u001b[0m \u001b[0mFINISHED\u001b[0m\u001b[1;33m:\u001b[0m\u001b[1;33m\u001b[0m\u001b[1;33m\u001b[0m\u001b[0m\n\u001b[1;32m--> 445\u001b[1;33m                     \u001b[1;32mreturn\u001b[0m \u001b[0mself\u001b[0m\u001b[1;33m.\u001b[0m\u001b[0m__get_result\u001b[0m\u001b[1;33m(\u001b[0m\u001b[1;33m)\u001b[0m\u001b[1;33m\u001b[0m\u001b[1;33m\u001b[0m\u001b[0m\n\u001b[0m\u001b[0;32m    446\u001b[0m                 \u001b[1;32melse\u001b[0m\u001b[1;33m:\u001b[0m\u001b[1;33m\u001b[0m\u001b[1;33m\u001b[0m\u001b[0m\n\u001b[0;32m    447\u001b[0m                     \u001b[1;32mraise\u001b[0m \u001b[0mTimeoutError\u001b[0m\u001b[1;33m(\u001b[0m\u001b[1;33m)\u001b[0m\u001b[1;33m\u001b[0m\u001b[1;33m\u001b[0m\u001b[0m\n",
      "\u001b[1;32m~\\AppData\\Local\\Programs\\Python\\Python310\\lib\\concurrent\\futures\\_base.py\u001b[0m in \u001b[0;36m__get_result\u001b[1;34m(self)\u001b[0m\n\u001b[0;32m    388\u001b[0m         \u001b[1;32mif\u001b[0m \u001b[0mself\u001b[0m\u001b[1;33m.\u001b[0m\u001b[0m_exception\u001b[0m\u001b[1;33m:\u001b[0m\u001b[1;33m\u001b[0m\u001b[1;33m\u001b[0m\u001b[0m\n\u001b[0;32m    389\u001b[0m             \u001b[1;32mtry\u001b[0m\u001b[1;33m:\u001b[0m\u001b[1;33m\u001b[0m\u001b[1;33m\u001b[0m\u001b[0m\n\u001b[1;32m--> 390\u001b[1;33m                 \u001b[1;32mraise\u001b[0m \u001b[0mself\u001b[0m\u001b[1;33m.\u001b[0m\u001b[0m_exception\u001b[0m\u001b[1;33m\u001b[0m\u001b[1;33m\u001b[0m\u001b[0m\n\u001b[0m\u001b[0;32m    391\u001b[0m             \u001b[1;32mfinally\u001b[0m\u001b[1;33m:\u001b[0m\u001b[1;33m\u001b[0m\u001b[1;33m\u001b[0m\u001b[0m\n\u001b[0;32m    392\u001b[0m                 \u001b[1;31m# Break a reference cycle with the exception in self._exception\u001b[0m\u001b[1;33m\u001b[0m\u001b[1;33m\u001b[0m\u001b[0m\n",
      "\u001b[1;31mValueError\u001b[0m: Invalid parameter C for estimator DecisionTreeClassifier(). Check the list of available parameters with `estimator.get_params().keys()`."
     ]
    }
   ],
   "source": [
    "from sklearn import tree\n",
    "from sklearn.model_selection import GridSearchCV\n",
    "\n",
    "dtc = tree.DecisionTreeClassifier()\n",
    "tst_size = 0.2\n",
    "ns, nf = np.shape(X) \n",
    "# split data to train and test \n",
    "X_train, X_test, Y_train, Y_test = train_test_split(*shuffle(X, Y, n_samples = ns, random_state=0) , random_state=0, test_size =tst_size )\n",
    "# cross validation\n",
    "# scores = cross_val_score(svc, X_train, Y_train, cv=5 ,scoring= 'f1')\n",
    "cv = 5\n",
    "scoring = 'f1'\n",
    "param_grid = {'C': [0.1, 1, 10, 100, 1000],  \n",
    "                'gamma': [1, 0.1, 0.01, 0.001, 0.0001], \n",
    "                'kernel': ['rbf', 'linear', 'sigmoid']}\n",
    "# evaluate hyper-parameters \n",
    "clf = GridSearchCV(dtc, param_grid, scoring = scoring, cv = cv ,verbose = 1, n_jobs=-1, return_train_score=1)\n",
    "# train model\n",
    "trained_model = clf.fit(X_train, Y_train)\n",
    "# predict data\n",
    "start = time.time()\n",
    "Y_pred = trained_model.predict(X_test)\n",
    "\n",
    "# scores = cross_val_score(clf.best_estimator_, X_train, Y_train, cv=5 ,scoring= 'accuracy')\n",
    "# print(scores)\n",
    "print(clf.best_score_)"
   ]
  },
  {
   "cell_type": "markdown",
   "metadata": {},
   "source": [
    "### Classification Report\n",
    "Print some information about the trained model such as training time, ... "
   ]
  },
  {
   "cell_type": "code",
   "execution_count": null,
   "metadata": {},
   "outputs": [
    {
     "name": "stdout",
     "output_type": "stream",
     "text": [
      "Best parameters set found on development set:\n",
      "{'C': 1, 'gamma': 1, 'kernel': 'rbf'}\n",
      "\n",
      "['mean_fit_time', 'mean_score_time', 'mean_test_score', 'mean_train_score', 'param_C', 'param_gamma', 'param_kernel', 'params', 'rank_test_score', 'split0_test_score', 'split0_train_score', 'split1_test_score', 'split1_train_score', 'split2_test_score', 'split2_train_score', 'split3_test_score', 'split3_train_score', 'split4_test_score', 'split4_train_score', 'std_fit_time', 'std_score_time', 'std_test_score', 'std_train_score']\n",
      "0.906043956043956\n",
      "-----------------\n",
      "\n",
      "classification report: \n",
      "\n",
      "              precision    recall  f1-score   support\n",
      "\n",
      "         0.0       1.00      0.67      0.80         3\n",
      "         1.0       0.90      1.00      0.95         9\n",
      "\n",
      "    accuracy                           0.92        12\n",
      "   macro avg       0.95      0.83      0.87        12\n",
      "weighted avg       0.92      0.92      0.91        12\n",
      "\n"
     ]
    }
   ],
   "source": [
    "print(\"Best parameters set found on development set:\")\n",
    "print(trained_model.best_params_)\n",
    "print()\n",
    "print(sorted(trained_model.cv_results_.keys()))\n",
    "print(trained_model.best_score_)\n",
    "# print(trained_model.cv_results_.mean_fit)\n",
    "\n",
    "print('-----------------')\n",
    "# print(Y_pred)\n",
    "print('\\nclassification report: \\n')\n",
    "from sklearn.metrics import classification_report\n",
    "print(classification_report(Y_test, Y_pred))\n",
    "\n",
    "EM5 = scoring\n",
    "CVS5 = \n",
    "CPS5 = \n",
    "T5 = \n",
    "PT5 = \n"
   ]
  },
  {
   "cell_type": "markdown",
   "metadata": {},
   "source": [
    "### Confusion Matrix"
   ]
  },
  {
   "cell_type": "code",
   "execution_count": null,
   "metadata": {},
   "outputs": [
    {
     "data": {
      "image/png": "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",
      "text/plain": [
       "<Figure size 432x288 with 2 Axes>"
      ]
     },
     "metadata": {},
     "output_type": "display_data"
    }
   ],
   "source": [
    "from sklearn.metrics import ConfusionMatrixDisplay\n",
    "cm = confusion_matrix(Y_test, Y_pred, labels=clf.classes_)\n",
    "disp = ConfusionMatrixDisplay(confusion_matrix=cm, display_labels=clf.classes_)\n",
    "disp.plot()\n",
    "plt.show()"
   ]
  },
  {
   "cell_type": "markdown",
   "metadata": {},
   "source": [
    "### Learning Curve\n"
   ]
  },
  {
   "cell_type": "code",
   "execution_count": null,
   "metadata": {},
   "outputs": [
    {
     "data": {
      "image/png": "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",
      "text/plain": [
       "<Figure size 432x288 with 1 Axes>"
      ]
     },
     "metadata": {},
     "output_type": "display_data"
    },
    {
     "name": "stdout",
     "output_type": "stream",
     "text": [
      "Training scores:\n",
      "\n",
      "          cv1       cv2       cv3       cv4       cv5\n",
      "10  0.888889  0.833333  0.875000  0.875000  0.875000\n",
      "20  0.750000  0.750000  0.857143  0.838710  0.838710\n",
      "25  0.827586  0.692308  0.857143  0.971429  0.971429\n",
      "30  1.000000  0.971429  1.000000  0.972973  0.972973\n",
      "38  1.000000  0.938776  1.000000  1.000000  0.978723\n",
      "\n",
      " ----------------------------------------------------------------------\n",
      "\n",
      "Validation scores:\n",
      "\n",
      "          cv1       cv2       cv3       cv4       cv5\n",
      "10  0.750000  0.769231  0.666667  0.833333  0.769231\n",
      "20  0.750000  0.750000  0.571429  0.714286  0.714286\n",
      "25  0.461538  0.545455  0.666667  0.857143  0.909091\n",
      "30  0.857143  0.857143  0.750000  0.857143  0.909091\n",
      "38  0.857143  0.923077  0.750000  0.923077  1.000000\n"
     ]
    }
   ],
   "source": [
    "ns = [10,20,25,30,38]\n",
    "train_sizes, train_scores, valid_scores = learning_curve(trained_model, X_train, Y_train, train_sizes=ns, cv=cv, scoring= scoring, n_jobs = -1)\n",
    "\n",
    "train_scores_mean =  train_scores.mean(axis = 1)\n",
    "train_scores_std = np.std(train_scores, axis=1)\n",
    "validation_scores_mean =  valid_scores.mean(axis = 1)\n",
    "validation_scores_std  = valid_scores.std(axis = 1)\n",
    "\n",
    "xlabel = 'Sample Size'\n",
    "ylabel = scoring\n",
    "plt_title = 'Learning Curve'\n",
    "\n",
    "fig = plt.figure()\n",
    "ax = fig.add_subplot(111, xlabel=xlabel, ylabel=ylabel, title=plt_title)\n",
    "ax.plot(train_sizes, train_scores_mean, label = 'Training Score')\n",
    "ax.plot(train_sizes, validation_scores_mean, label = 'Validation Score')\n",
    "\n",
    "plt.fill_between(train_sizes, train_scores_mean - train_scores_std,\n",
    "                 train_scores_mean + train_scores_std, alpha=0.2,\n",
    "                 color=\"darkblue\", lw=2)\n",
    "plt.fill_between(train_sizes, validation_scores_mean - validation_scores_std,\n",
    "                 validation_scores_mean + validation_scores_std, alpha=0.2,\n",
    "                 color=\"darkgreen\", lw=2)\n",
    "\n",
    "plt.legend()\n",
    "# plt.yscale('log')\n",
    "plt.show()\n",
    "\n",
    "print('Training scores:\\n\\n', pd.DataFrame( train_scores, columns=[f'cv{i+1}' for i in range(cv)], index=ns) )\n",
    "print('\\n', '-' * 70) # separator to make the output easy to read\n",
    "print('\\nValidation scores:\\n\\n', pd.DataFrame(valid_scores, columns=[f'cv{i+1}' for i in range(cv)], index=ns) )"
   ]
  },
  {
   "cell_type": "markdown",
   "metadata": {},
   "source": [
    "### Validation Curve\n"
   ]
  },
  {
   "cell_type": "code",
   "execution_count": null,
   "metadata": {},
   "outputs": [
    {
     "name": "stderr",
     "output_type": "stream",
     "text": [
      "[Parallel(n_jobs=-1)]: Using backend LokyBackend with 8 concurrent workers.\n",
      "[Parallel(n_jobs=-1)]: Done  25 out of  25 | elapsed:    0.0s finished\n"
     ]
    },
    {
     "data": {
      "image/png": "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",
      "text/plain": [
       "<Figure size 432x288 with 1 Axes>"
      ]
     },
     "metadata": {},
     "output_type": "display_data"
    },
    {
     "name": "stdout",
     "output_type": "stream",
     "text": [
      "Training scores:\n",
      "\n",
      "          cv1       cv2       cv3       cv4       cv5\n",
      "10  0.807018  0.779661  0.821429  0.846154  0.761905\n",
      "20  1.000000  1.000000  1.000000  1.000000  0.979592\n",
      "25  1.000000  1.000000  1.000000  1.000000  1.000000\n",
      "30  1.000000  1.000000  1.000000  1.000000  1.000000\n",
      "38  1.000000  1.000000  1.000000  1.000000  1.000000\n",
      "\n",
      " ----------------------------------------------------------------------\n",
      "\n",
      "Validation scores:\n",
      "\n",
      "          cv1   cv2       cv3       cv4       cv5\n",
      "10  0.750000  0.75  0.571429  0.769231  0.714286\n",
      "20  0.857143  1.00  0.750000  0.923077  1.000000\n",
      "25  0.857143  1.00  0.750000  0.923077  1.000000\n",
      "30  0.857143  1.00  0.750000  0.923077  1.000000\n",
      "38  0.857143  1.00  0.750000  0.923077  1.000000\n"
     ]
    }
   ],
   "source": [
    "from sklearn.linear_model import Ridge\n",
    "c_list = param_grid.get('C')\n",
    "train_scores, valid_scores = validation_curve(SVC(), X_train, Y_train, \n",
    "                                              param_name=\"gamma\",\n",
    "                                              param_range=c_list , \n",
    "                                              cv=cv, \n",
    "                                              scoring = scoring,\n",
    "                                              verbose=1, \n",
    "                                              n_jobs=-1\n",
    "                                             )\n",
    "train_scores_mean = np.mean(train_scores, axis=1)\n",
    "train_scores_std = np.std(train_scores, axis=1)\n",
    "valid_scores_mean = np.mean(valid_scores, axis=1)\n",
    "valid_scores_std = np.std(valid_scores, axis=1)\n",
    "\n",
    "xlabel = 'gamma'\n",
    "ylabel = scoring\n",
    "plt_title = 'Validation Curve'\n",
    "\n",
    "fig = plt.figure()\n",
    "ax = fig.add_subplot(111, xlabel=xlabel, ylabel=ylabel, title=plt_title)\n",
    "plt.plot(c_list, train_scores_mean, label=\"Training score\",\n",
    "             color=\"darkorange\", lw=2)\n",
    "plt.fill_between(c_list, train_scores_mean - train_scores_std,\n",
    "                 train_scores_mean + train_scores_std, alpha=0.2,\n",
    "                 color=\"darkorange\", lw=2)\n",
    "plt.plot(c_list, valid_scores_mean, label=\"Validation score\",\n",
    "             color=\"navy\", lw=2)\n",
    "plt.fill_between(c_list, valid_scores_mean - valid_scores_std,\n",
    "                 valid_scores_mean + valid_scores_std, alpha=0.2,\n",
    "                 color=\"navy\", lw=2)\n",
    "plt.legend(loc=\"best\")\n",
    "plt.show()\n",
    "\n",
    "print('Training scores:\\n\\n', pd.DataFrame( train_scores, columns=[f'cv{i+1}' for i in range(cv)], index=ns) )\n",
    "print('\\n', '-' * 70) # separator to make the output easy to read\n",
    "print('\\nValidation scores:\\n\\n', pd.DataFrame(valid_scores, columns=[f'cv{i+1}' for i in range(cv)], index=ns) )"
   ]
  },
  {
   "cell_type": "markdown",
   "metadata": {},
   "source": [
    "### Regularization (if needed) \n",
    "do we need it??"
   ]
  },
  {
   "cell_type": "code",
   "execution_count": null,
   "metadata": {},
   "outputs": [],
   "source": [
    "from sklearn.linear_model import Ridge\n",
    "\n",
    "# deg_list \n",
    "deg = 15\n",
    "ns = 20\n",
    "X_train, X_test, Y_train, Y_test = train_test_split(*shuffle(X_bbr, Y_bbr, n_samples = ns, random_state=0) , random_state=0, test_size =.5 )\n",
    "\n",
    "\n",
    "w_list = []\n",
    "\n",
    "x_range = np.arange(X_bbr.min(), X_bbr.max(), .1)\n",
    "\n",
    "\n",
    "fig = plt.figure()\n",
    "ax = fig.add_subplot(111, xlabel=x_label, ylabel=y_label, title=plt_title)\n",
    "# ax.scatter(X_train, Y_train, label = 'Train data')\n",
    "ax.scatter(X_test, Y_test, c='black', label = 'Test data')\n",
    "\n",
    "\n",
    "r_list = [0,.1,1,10]\n",
    "\n",
    "for r in r_list:\n",
    "\n",
    "  rg = Pipeline([('poly', PolynomialFeatures(degree=deg) ), \n",
    "                ('model', Ridge( alpha=r ) ### We are using Ridge which uses l2 regularization. \n",
    "                )])\n",
    "  rg.fit( X_train.reshape(-1,1), Y_train )\n",
    "\n",
    "  ### Let's store the weights\n",
    "  w_list += [rg[1].coef_]\n",
    "\n",
    "  y_range = rg.predict(x_range.reshape(-1,1) )\n",
    "  ax.plot(x_range, y_range,  alpha = .6, label=f'Regularization={r}')\n",
    "\n",
    "\n",
    "w_list = np.array(w_list)\n",
    "plt.ylim(-1.5,2)\n",
    "ax.legend()\n",
    "plt.show()"
   ]
  },
  {
   "cell_type": "code",
   "execution_count": null,
   "metadata": {},
   "outputs": [],
   "source": [
    "from sklearn.linear_model import LogisticRegression\n",
    "\n",
    "# scale model\n",
    "\n",
    "lrg = LogisticRegression()\n",
    "tst_size = 0.2\n",
    "ns, nf = np.shape(X)\n",
    "# split data to train and test \n",
    "# X_train, X_test, Y_train, Y_test = train_test_split(*shuffle(X, Y, n_samples = ns, random_state=0) , random_state=0, test_size =tst_size )\n",
    "# cross validation\n",
    "# scores = cross_val_score(svc, X_train, Y_train, cv=5 ,scoring= 'recall')\n",
    "# print(scores)\n",
    "param_grid=  { 'solver':{'newton-cg', 'lbfgs', 'liblinear', 'sag', 'saga'},'penalty':{'l1', 'l2', 'elasticnet', 'none'},'fit_intercept'C': [0.1, 1, 10, 100, 1000], 'gamma': [1, 0.1, 0.01, 0.001, 0.0001], 'kernel': ['rbf','linear','sigmoid']}\n",
    "# evaluate hyper-parameters \n",
    "clf = GridSearchCV(svc, param_grid, scoring = 'f1', cv = 5 ,verbose = 1, n_jobs=-1, return_train_score=1)\n",
    "# train model\n",
    "trained_model = clf.fit(X_train, Y_train)\n",
    "# predict data\n",
    "Y_pred = trained_model.predict(X_test)\n",
    "# scores = cross_val_score(clf.best_estimator_, X_train, Y_train, cv=5 ,scoring= 'accuracy')\n",
    "# print(scores)\n",
    "print(clf.best_score_)"
   ]
  },
  {
   "cell_type": "markdown",
   "metadata": {},
   "source": [
    "# Comparing Models"
   ]
  },
  {
   "cell_type": "markdown",
   "metadata": {},
   "source": [
    "A table is created to compare the five recently-traind models above. It includes evaluation metric(s), training time and prediction time of each models. Also, we sorted models based on their performance from different aspects. "
   ]
  },
  {
   "cell_type": "code",
   "execution_count": null,
   "metadata": {},
   "outputs": [],
   "source": [
    "table = pd.DataFrame({'Name':['SVM', 'Logestic Regression', 'Random Forest', 'KNN', 'Decision Tree'],\n",
    "                        'Evaluation Metric(s)': [EM1, EM2, EM3, EM4, EM5],\n",
    "                        'Corresponding Validation Score': [CVS1, CVS2, CVS3, CVS4, CVS5],\n",
    "                        'Corresponding Prediction Score':  [CPS1, CPS2, CPS3, CPS4, CPS5],\n",
    "                        'Training Time': [T1, T2, T3, T4, T5],\n",
    "                        'Prediction Time': [PT1, PT2, PT3, PT4, PT5],\n",
    "})\n",
    "\n",
    "print('Sort models based on their validation scores: \\n' + str(table.sort_values(by=['Corresponding Validation Score', ascending= False]).loc[:, ['Name', 'Corresponding Validation Score']))\n",
    "print('\\nSort models based on their prediction scores: \\n' + str(table.sort_values(by=['Corresponding Prediction Score', ascending= False]).loc[:, ['Name', 'Corresponding Prediction Score']))\n",
    "print('\\nSort models based on their validation scores: \\n' + str(table.sort_values(by=['Training Time', ascending= True]).loc[:, ['Name', 'Training Time']))\n",
    "print('\\nSort models based on their validation scores: \\n' + str(table.sort_values(by=['Prediction Time', ascending= True]).loc[:, ['Name', 'Prediction Time']))\n"
   ]
  }
 ],
 "metadata": {
  "interpreter": {
   "hash": "fe5d99aa55929fe810a91df1bb66991ee2efa56184cda4e0a18aeeaadde96492"
  },
  "kernelspec": {
   "display_name": "Python 3.10.0 64-bit",
   "language": "python",
   "name": "python3"
  },
  "language_info": {
   "codemirror_mode": {
    "name": "ipython",
    "version": 3
   },
   "file_extension": ".py",
   "mimetype": "text/x-python",
   "name": "python",
   "nbconvert_exporter": "python",
   "pygments_lexer": "ipython3",
   "version": "3.10.0"
  },
  "orig_nbformat": 4
 },
 "nbformat": 4,
 "nbformat_minor": 2
}
=======
  ]
}
>>>>>>> 68c0f5508829a7a68f5054e892aa4dcfc639e445
