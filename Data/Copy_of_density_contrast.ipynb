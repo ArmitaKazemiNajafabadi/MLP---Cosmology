{
  "nbformat": 4,
  "nbformat_minor": 0,
  "metadata": {
    "colab": {
      "name": "Copy of density_contrast.ipynb",
      "provenance": [],
      "mount_file_id": "1Jc1DIphTokpI8PqsVZp2UONUrKmb48qV",
      "authorship_tag": "ABX9TyOGP9eLW/wYC2QNPbmWU50R",
      "include_colab_link": true
    },
    "kernelspec": {
      "name": "python3",
      "display_name": "Python 3"
    },
    "language_info": {
      "name": "python"
    }
  },
  "cells": [
    {
      "cell_type": "markdown",
      "metadata": {
        "id": "view-in-github",
        "colab_type": "text"
      },
      "source": [
        "<a href=\"https://colab.research.google.com/github/as2c/MLP---Cosmology/blob/main/Data/Copy_of_density_contrast.ipynb\" target=\"_parent\"><img src=\"https://colab.research.google.com/assets/colab-badge.svg\" alt=\"Open In Colab\"/></a>"
      ]
    },
    {
      "cell_type": "code",
      "metadata": {
        "colab": {
          "base_uri": "https://localhost:8080/"
        },
        "id": "7cA0UEjOPWi-",
        "outputId": "26fb375c-bbec-4f96-de9d-b39095a2167e"
      },
      "source": [
        "import pandas as pd\n",
        "import numpy as np\n",
        "!git clone https://github.com/jveitchmichaelis/pygadgetreader"
      ],
      "execution_count": null,
      "outputs": [
        {
          "output_type": "stream",
          "name": "stdout",
          "text": [
            "fatal: destination path 'pygadgetreader' already exists and is not an empty directory.\n"
          ]
        }
      ]
    },
    {
      "cell_type": "code",
      "metadata": {
        "id": "6mP2uUIrwbCP",
        "colab": {
          "base_uri": "https://localhost:8080/"
        },
        "outputId": "a010f050-2593-4530-db7f-7280b4550350"
      },
      "source": [
        "%cd /content/pygadgetreader\n",
        "!python setup.py build\n",
        "!python setup.py install"
      ],
      "execution_count": null,
      "outputs": [
        {
          "output_type": "stream",
          "name": "stdout",
          "text": [
            "/content/pygadgetreader\n",
            "running build\n",
            "running build_py\n",
            "running install\n",
            "running bdist_egg\n",
            "running egg_info\n",
            "writing pyGadgetReader.egg-info/PKG-INFO\n",
            "writing dependency_links to pyGadgetReader.egg-info/dependency_links.txt\n",
            "writing requirements to pyGadgetReader.egg-info/requires.txt\n",
            "writing top-level names to pyGadgetReader.egg-info/top_level.txt\n",
            "adding license file 'LICENSE'\n",
            "writing manifest file 'pyGadgetReader.egg-info/SOURCES.txt'\n",
            "installing library code to build/bdist.linux-x86_64/egg\n",
            "running install_lib\n",
            "running build_py\n",
            "creating build/bdist.linux-x86_64/egg\n",
            "creating build/bdist.linux-x86_64/egg/pygadgetreader\n",
            "copying build/lib/pygadgetreader/__init__.py -> build/bdist.linux-x86_64/egg/pygadgetreader\n",
            "creating build/bdist.linux-x86_64/egg/readgadget\n",
            "copying build/lib/readgadget/readpstar.py -> build/bdist.linux-x86_64/egg/readgadget\n",
            "copying build/lib/readgadget/readrockstar.py -> build/bdist.linux-x86_64/egg/readgadget\n",
            "copying build/lib/readgadget/readgadget.py -> build/bdist.linux-x86_64/egg/readgadget\n",
            "copying build/lib/readgadget/readfofspecial.py -> build/bdist.linux-x86_64/egg/readgadget\n",
            "creating build/bdist.linux-x86_64/egg/readgadget/modules\n",
            "copying build/lib/readgadget/modules/common.py -> build/bdist.linux-x86_64/egg/readgadget/modules\n",
            "copying build/lib/readgadget/modules/gadget1.py -> build/bdist.linux-x86_64/egg/readgadget/modules\n",
            "copying build/lib/readgadget/modules/rs_structs.py -> build/bdist.linux-x86_64/egg/readgadget/modules\n",
            "copying build/lib/readgadget/modules/gadget2.py -> build/bdist.linux-x86_64/egg/readgadget/modules\n",
            "copying build/lib/readgadget/modules/header.py -> build/bdist.linux-x86_64/egg/readgadget/modules\n",
            "copying build/lib/readgadget/modules/tipsy.py -> build/bdist.linux-x86_64/egg/readgadget/modules\n",
            "copying build/lib/readgadget/modules/hdf5.py -> build/bdist.linux-x86_64/egg/readgadget/modules\n",
            "copying build/lib/readgadget/modules/names.py -> build/bdist.linux-x86_64/egg/readgadget/modules\n",
            "copying build/lib/readgadget/modules/gadget_blockordering.py -> build/bdist.linux-x86_64/egg/readgadget/modules\n",
            "copying build/lib/readgadget/modules/__init__.py -> build/bdist.linux-x86_64/egg/readgadget/modules\n",
            "copying build/lib/readgadget/__init__.py -> build/bdist.linux-x86_64/egg/readgadget\n",
            "byte-compiling build/bdist.linux-x86_64/egg/pygadgetreader/__init__.py to __init__.cpython-37.pyc\n",
            "byte-compiling build/bdist.linux-x86_64/egg/readgadget/readpstar.py to readpstar.cpython-37.pyc\n",
            "byte-compiling build/bdist.linux-x86_64/egg/readgadget/readrockstar.py to readrockstar.cpython-37.pyc\n",
            "byte-compiling build/bdist.linux-x86_64/egg/readgadget/readgadget.py to readgadget.cpython-37.pyc\n",
            "byte-compiling build/bdist.linux-x86_64/egg/readgadget/readfofspecial.py to readfofspecial.cpython-37.pyc\n",
            "byte-compiling build/bdist.linux-x86_64/egg/readgadget/modules/common.py to common.cpython-37.pyc\n",
            "byte-compiling build/bdist.linux-x86_64/egg/readgadget/modules/gadget1.py to gadget1.cpython-37.pyc\n",
            "byte-compiling build/bdist.linux-x86_64/egg/readgadget/modules/rs_structs.py to rs_structs.cpython-37.pyc\n",
            "byte-compiling build/bdist.linux-x86_64/egg/readgadget/modules/gadget2.py to gadget2.cpython-37.pyc\n",
            "byte-compiling build/bdist.linux-x86_64/egg/readgadget/modules/header.py to header.cpython-37.pyc\n",
            "byte-compiling build/bdist.linux-x86_64/egg/readgadget/modules/tipsy.py to tipsy.cpython-37.pyc\n",
            "byte-compiling build/bdist.linux-x86_64/egg/readgadget/modules/hdf5.py to hdf5.cpython-37.pyc\n",
            "byte-compiling build/bdist.linux-x86_64/egg/readgadget/modules/names.py to names.cpython-37.pyc\n",
            "byte-compiling build/bdist.linux-x86_64/egg/readgadget/modules/gadget_blockordering.py to gadget_blockordering.cpython-37.pyc\n",
            "byte-compiling build/bdist.linux-x86_64/egg/readgadget/modules/__init__.py to __init__.cpython-37.pyc\n",
            "byte-compiling build/bdist.linux-x86_64/egg/readgadget/__init__.py to __init__.cpython-37.pyc\n",
            "creating build/bdist.linux-x86_64/egg/EGG-INFO\n",
            "copying pyGadgetReader.egg-info/PKG-INFO -> build/bdist.linux-x86_64/egg/EGG-INFO\n",
            "copying pyGadgetReader.egg-info/SOURCES.txt -> build/bdist.linux-x86_64/egg/EGG-INFO\n",
            "copying pyGadgetReader.egg-info/dependency_links.txt -> build/bdist.linux-x86_64/egg/EGG-INFO\n",
            "copying pyGadgetReader.egg-info/requires.txt -> build/bdist.linux-x86_64/egg/EGG-INFO\n",
            "copying pyGadgetReader.egg-info/top_level.txt -> build/bdist.linux-x86_64/egg/EGG-INFO\n",
            "zip_safe flag not set; analyzing archive contents...\n",
            "creating 'dist/pyGadgetReader-2.6-py3.7.egg' and adding 'build/bdist.linux-x86_64/egg' to it\n",
            "removing 'build/bdist.linux-x86_64/egg' (and everything under it)\n",
            "Processing pyGadgetReader-2.6-py3.7.egg\n",
            "Removing /usr/local/lib/python3.7/dist-packages/pyGadgetReader-2.6-py3.7.egg\n",
            "Copying pyGadgetReader-2.6-py3.7.egg to /usr/local/lib/python3.7/dist-packages\n",
            "pyGadgetReader 2.6 is already the active version in easy-install.pth\n",
            "\n",
            "Installed /usr/local/lib/python3.7/dist-packages/pyGadgetReader-2.6-py3.7.egg\n",
            "Processing dependencies for pyGadgetReader==2.6\n",
            "Searching for numpy==1.19.5\n",
            "Best match: numpy 1.19.5\n",
            "Adding numpy 1.19.5 to easy-install.pth file\n",
            "Installing f2py script to /usr/local/bin\n",
            "Installing f2py3 script to /usr/local/bin\n",
            "Installing f2py3.7 script to /usr/local/bin\n",
            "\n",
            "Using /usr/local/lib/python3.7/dist-packages\n",
            "Searching for h5py==3.1.0\n",
            "Best match: h5py 3.1.0\n",
            "Adding h5py 3.1.0 to easy-install.pth file\n",
            "\n",
            "Using /usr/local/lib/python3.7/dist-packages\n",
            "Searching for cached-property==1.5.2\n",
            "Best match: cached-property 1.5.2\n",
            "Adding cached-property 1.5.2 to easy-install.pth file\n",
            "\n",
            "Using /usr/local/lib/python3.7/dist-packages\n",
            "Finished processing dependencies for pyGadgetReader==2.6\n"
          ]
        }
      ]
    },
    {
      "cell_type": "code",
      "metadata": {
        "id": "XnK3AaPmxZ_s"
      },
      "source": [
        "from pygadgetreader import *"
      ],
      "execution_count": null,
      "outputs": []
    },
    {
      "cell_type": "code",
      "metadata": {
        "id": "8UPWYJGWxgSD",
        "colab": {
          "base_uri": "https://localhost:8080/"
        },
        "outputId": "d1e0a753-e050-4d61-f0e4-f306ad8eba58"
      },
      "source": [
        "vel = readsnap('/content/drive/MyDrive/ML/n1lcdmML_snap000_cdm','vel','dm')\n",
        "vx = vel[:,0].tolist()\n",
        "vy = vel[:,1].tolist()\n",
        "vz = vel[:,2].tolist()\n",
        "mass = readsnap('/content/drive/MyDrive/ML/n1lcdmML_snap000_cdm','mass','dm').tolist()\n",
        "particle_id = readsnap('/content/drive/MyDrive/ML/n1lcdmML_snap000_cdm','pid','dm').tolist()\n",
        "position = readsnap('/content/drive/MyDrive/ML/n1lcdmML_snap000_cdm','pos','dm')\n",
        "x = position[:,0].tolist()\n",
        "y = position[:,1].tolist()\n",
        "z = position[:,2].tolist()\n",
        "data = {'particle_id': particle_id,\n",
        "        'x': x,\n",
        "        'y': y,\n",
        "        'z': z,\n",
        "        'vx': vx,\n",
        "        'vy': vy,\n",
        "        'vz': vz,\n",
        "        'mass': mass}\n",
        "df = pd.DataFrame(data)"
      ],
      "execution_count": null,
      "outputs": [
        {
          "output_type": "stream",
          "name": "stdout",
          "text": [
            "Returning DM    Velocities\n",
            "Returning DM    Mass\n",
            "Returning DM    Particle IDs\n",
            "Returning DM    Positions\n"
          ]
        }
      ]
    },
    {
      "cell_type": "code",
      "metadata": {
        "id": "erRm-DW4zbCl",
        "colab": {
          "base_uri": "https://localhost:8080/",
          "height": 224
        },
        "outputId": "b011b467-877f-41d6-e380-dc9e675e2242"
      },
      "source": [
        "df.head()"
      ],
      "execution_count": null,
      "outputs": [
        {
          "output_type": "execute_result",
          "data": {
            "text/html": [
              "<div>\n",
              "<style scoped>\n",
              "    .dataframe tbody tr th:only-of-type {\n",
              "        vertical-align: middle;\n",
              "    }\n",
              "\n",
              "    .dataframe tbody tr th {\n",
              "        vertical-align: top;\n",
              "    }\n",
              "\n",
              "    .dataframe thead th {\n",
              "        text-align: right;\n",
              "    }\n",
              "</style>\n",
              "<table border=\"1\" class=\"dataframe\">\n",
              "  <thead>\n",
              "    <tr style=\"text-align: right;\">\n",
              "      <th></th>\n",
              "      <th>particle_id</th>\n",
              "      <th>x</th>\n",
              "      <th>y</th>\n",
              "      <th>z</th>\n",
              "      <th>vx</th>\n",
              "      <th>vy</th>\n",
              "      <th>vz</th>\n",
              "      <th>mass</th>\n",
              "    </tr>\n",
              "  </thead>\n",
              "  <tbody>\n",
              "    <tr>\n",
              "      <th>0</th>\n",
              "      <td>0</td>\n",
              "      <td>192.691193</td>\n",
              "      <td>231.858017</td>\n",
              "      <td>225.984268</td>\n",
              "      <td>-659.554321</td>\n",
              "      <td>-419.040802</td>\n",
              "      <td>-489.896637</td>\n",
              "      <td>2.02478</td>\n",
              "    </tr>\n",
              "    <tr>\n",
              "      <th>1</th>\n",
              "      <td>7</td>\n",
              "      <td>809.101929</td>\n",
              "      <td>210.431351</td>\n",
              "      <td>214.217163</td>\n",
              "      <td>-702.608582</td>\n",
              "      <td>-530.673584</td>\n",
              "      <td>-534.257935</td>\n",
              "      <td>2.02478</td>\n",
              "    </tr>\n",
              "    <tr>\n",
              "      <th>2</th>\n",
              "      <td>56</td>\n",
              "      <td>1437.270874</td>\n",
              "      <td>198.266098</td>\n",
              "      <td>201.348267</td>\n",
              "      <td>-689.156860</td>\n",
              "      <td>-608.542847</td>\n",
              "      <td>-615.787476</td>\n",
              "      <td>2.02478</td>\n",
              "    </tr>\n",
              "    <tr>\n",
              "      <th>3</th>\n",
              "      <td>63</td>\n",
              "      <td>2043.859375</td>\n",
              "      <td>196.952347</td>\n",
              "      <td>187.470413</td>\n",
              "      <td>-797.107727</td>\n",
              "      <td>-646.467102</td>\n",
              "      <td>-686.565735</td>\n",
              "      <td>2.02478</td>\n",
              "    </tr>\n",
              "    <tr>\n",
              "      <th>4</th>\n",
              "      <td>64</td>\n",
              "      <td>2664.605225</td>\n",
              "      <td>204.039200</td>\n",
              "      <td>170.532455</td>\n",
              "      <td>-818.485474</td>\n",
              "      <td>-626.312866</td>\n",
              "      <td>-768.481689</td>\n",
              "      <td>2.02478</td>\n",
              "    </tr>\n",
              "  </tbody>\n",
              "</table>\n",
              "</div>"
            ],
            "text/plain": [
              "   particle_id            x           y  ...          vy          vz     mass\n",
              "0            0   192.691193  231.858017  ... -419.040802 -489.896637  2.02478\n",
              "1            7   809.101929  210.431351  ... -530.673584 -534.257935  2.02478\n",
              "2           56  1437.270874  198.266098  ... -608.542847 -615.787476  2.02478\n",
              "3           63  2043.859375  196.952347  ... -646.467102 -686.565735  2.02478\n",
              "4           64  2664.605225  204.039200  ... -626.312866 -768.481689  2.02478\n",
              "\n",
              "[5 rows x 8 columns]"
            ]
          },
          "metadata": {},
          "execution_count": 5
        }
      ]
    },
    {
      "cell_type": "code",
      "metadata": {
        "id": "-YfEyhhcxnnM"
      },
      "source": [
        "df.drop(['mass'], axis = 1, inplace = True)"
      ],
      "execution_count": null,
      "outputs": []
    },
    {
      "cell_type": "code",
      "metadata": {
        "id": "GOglVd9syUni"
      },
      "source": [
        "df.insert(1, 'in-halo', 0)"
      ],
      "execution_count": null,
      "outputs": []
    },
    {
      "cell_type": "markdown",
      "metadata": {
        "id": "Q-hnINXh0Xwj"
      },
      "source": [
        "The following line of code has to be changed, since we only assign a random value of 0 or 1 for each particle's in-halo value."
      ]
    },
    {
      "cell_type": "code",
      "metadata": {
        "colab": {
          "base_uri": "https://localhost:8080/",
          "height": 396
        },
        "id": "GiFJ_GmPzfDH",
        "outputId": "a29a2ddd-1e82-4e30-a6d8-d9adf2c221f0"
      },
      "source": [
        "df['in-halo'] = np.random.choice([0, 1], df.shape[0])\n",
        "df.head(10)"
      ],
      "execution_count": null,
      "outputs": [
        {
          "output_type": "execute_result",
          "data": {
            "text/html": [
              "<div>\n",
              "<style scoped>\n",
              "    .dataframe tbody tr th:only-of-type {\n",
              "        vertical-align: middle;\n",
              "    }\n",
              "\n",
              "    .dataframe tbody tr th {\n",
              "        vertical-align: top;\n",
              "    }\n",
              "\n",
              "    .dataframe thead th {\n",
              "        text-align: right;\n",
              "    }\n",
              "</style>\n",
              "<table border=\"1\" class=\"dataframe\">\n",
              "  <thead>\n",
              "    <tr style=\"text-align: right;\">\n",
              "      <th></th>\n",
              "      <th>particle_id</th>\n",
              "      <th>in-halo</th>\n",
              "      <th>x</th>\n",
              "      <th>y</th>\n",
              "      <th>z</th>\n",
              "      <th>vx</th>\n",
              "      <th>vy</th>\n",
              "      <th>vz</th>\n",
              "    </tr>\n",
              "  </thead>\n",
              "  <tbody>\n",
              "    <tr>\n",
              "      <th>0</th>\n",
              "      <td>0</td>\n",
              "      <td>0</td>\n",
              "      <td>192.691193</td>\n",
              "      <td>231.858017</td>\n",
              "      <td>225.984268</td>\n",
              "      <td>-659.554321</td>\n",
              "      <td>-419.040802</td>\n",
              "      <td>-489.896637</td>\n",
              "    </tr>\n",
              "    <tr>\n",
              "      <th>1</th>\n",
              "      <td>7</td>\n",
              "      <td>1</td>\n",
              "      <td>809.101929</td>\n",
              "      <td>210.431351</td>\n",
              "      <td>214.217163</td>\n",
              "      <td>-702.608582</td>\n",
              "      <td>-530.673584</td>\n",
              "      <td>-534.257935</td>\n",
              "    </tr>\n",
              "    <tr>\n",
              "      <th>2</th>\n",
              "      <td>56</td>\n",
              "      <td>1</td>\n",
              "      <td>1437.270874</td>\n",
              "      <td>198.266098</td>\n",
              "      <td>201.348267</td>\n",
              "      <td>-689.156860</td>\n",
              "      <td>-608.542847</td>\n",
              "      <td>-615.787476</td>\n",
              "    </tr>\n",
              "    <tr>\n",
              "      <th>3</th>\n",
              "      <td>63</td>\n",
              "      <td>0</td>\n",
              "      <td>2043.859375</td>\n",
              "      <td>196.952347</td>\n",
              "      <td>187.470413</td>\n",
              "      <td>-797.107727</td>\n",
              "      <td>-646.467102</td>\n",
              "      <td>-686.565735</td>\n",
              "    </tr>\n",
              "    <tr>\n",
              "      <th>4</th>\n",
              "      <td>64</td>\n",
              "      <td>0</td>\n",
              "      <td>2664.605225</td>\n",
              "      <td>204.039200</td>\n",
              "      <td>170.532455</td>\n",
              "      <td>-818.485474</td>\n",
              "      <td>-626.312866</td>\n",
              "      <td>-768.481689</td>\n",
              "    </tr>\n",
              "    <tr>\n",
              "      <th>5</th>\n",
              "      <td>71</td>\n",
              "      <td>1</td>\n",
              "      <td>3285.942871</td>\n",
              "      <td>200.668762</td>\n",
              "      <td>165.373306</td>\n",
              "      <td>-836.527832</td>\n",
              "      <td>-629.455078</td>\n",
              "      <td>-819.685364</td>\n",
              "    </tr>\n",
              "    <tr>\n",
              "      <th>6</th>\n",
              "      <td>120</td>\n",
              "      <td>0</td>\n",
              "      <td>3916.132812</td>\n",
              "      <td>189.871887</td>\n",
              "      <td>176.298737</td>\n",
              "      <td>-836.213745</td>\n",
              "      <td>-685.126770</td>\n",
              "      <td>-793.843933</td>\n",
              "    </tr>\n",
              "    <tr>\n",
              "      <th>7</th>\n",
              "      <td>127</td>\n",
              "      <td>0</td>\n",
              "      <td>4538.967773</td>\n",
              "      <td>183.890305</td>\n",
              "      <td>185.455109</td>\n",
              "      <td>-838.477112</td>\n",
              "      <td>-713.083252</td>\n",
              "      <td>-739.544983</td>\n",
              "    </tr>\n",
              "    <tr>\n",
              "      <th>8</th>\n",
              "      <td>128</td>\n",
              "      <td>1</td>\n",
              "      <td>5163.799805</td>\n",
              "      <td>181.572937</td>\n",
              "      <td>189.410751</td>\n",
              "      <td>-828.591553</td>\n",
              "      <td>-729.040039</td>\n",
              "      <td>-705.851196</td>\n",
              "    </tr>\n",
              "    <tr>\n",
              "      <th>9</th>\n",
              "      <td>135</td>\n",
              "      <td>1</td>\n",
              "      <td>5808.528809</td>\n",
              "      <td>183.153915</td>\n",
              "      <td>205.149170</td>\n",
              "      <td>-753.543030</td>\n",
              "      <td>-725.518372</td>\n",
              "      <td>-634.166504</td>\n",
              "    </tr>\n",
              "  </tbody>\n",
              "</table>\n",
              "</div>"
            ],
            "text/plain": [
              "   particle_id  in-halo            x  ...          vx          vy          vz\n",
              "0            0        0   192.691193  ... -659.554321 -419.040802 -489.896637\n",
              "1            7        1   809.101929  ... -702.608582 -530.673584 -534.257935\n",
              "2           56        1  1437.270874  ... -689.156860 -608.542847 -615.787476\n",
              "3           63        0  2043.859375  ... -797.107727 -646.467102 -686.565735\n",
              "4           64        0  2664.605225  ... -818.485474 -626.312866 -768.481689\n",
              "5           71        1  3285.942871  ... -836.527832 -629.455078 -819.685364\n",
              "6          120        0  3916.132812  ... -836.213745 -685.126770 -793.843933\n",
              "7          127        0  4538.967773  ... -838.477112 -713.083252 -739.544983\n",
              "8          128        1  5163.799805  ... -828.591553 -729.040039 -705.851196\n",
              "9          135        1  5808.528809  ... -753.543030 -725.518372 -634.166504\n",
              "\n",
              "[10 rows x 8 columns]"
            ]
          },
          "metadata": {},
          "execution_count": 8
        }
      ]
    },
    {
      "cell_type": "code",
      "metadata": {
        "colab": {
          "base_uri": "https://localhost:8080/"
        },
        "id": "ZvmkaVM7EpPC",
        "outputId": "4bdeeb7e-f917-4442-98e0-f4dc1d16e2d8"
      },
      "source": [
        "data = df.copy(deep = True)\n",
        "data.x = data.x / 1000\n",
        "data.y = df.y / 1000\n",
        "data.z = df.z / 1000\n",
        "print(data.x.max())\n",
        "print(data.y.max())\n",
        "print(data.z.max())"
      ],
      "execution_count": null,
      "outputs": [
        {
          "output_type": "stream",
          "name": "stdout",
          "text": [
            "159.846765625\n",
            "159.85021875\n",
            "159.824359375\n"
          ]
        }
      ]
    },
    {
      "cell_type": "code",
      "metadata": {
        "colab": {
          "base_uri": "https://localhost:8080/",
          "height": 204
        },
        "id": "dSz4vZEIHf2W",
        "outputId": "6b3b7bb1-dd2b-4605-e4ec-7251375b2f5b"
      },
      "source": [
        "data.head()"
      ],
      "execution_count": null,
      "outputs": [
        {
          "output_type": "execute_result",
          "data": {
            "text/html": [
              "<div>\n",
              "<style scoped>\n",
              "    .dataframe tbody tr th:only-of-type {\n",
              "        vertical-align: middle;\n",
              "    }\n",
              "\n",
              "    .dataframe tbody tr th {\n",
              "        vertical-align: top;\n",
              "    }\n",
              "\n",
              "    .dataframe thead th {\n",
              "        text-align: right;\n",
              "    }\n",
              "</style>\n",
              "<table border=\"1\" class=\"dataframe\">\n",
              "  <thead>\n",
              "    <tr style=\"text-align: right;\">\n",
              "      <th></th>\n",
              "      <th>particle_id</th>\n",
              "      <th>in-halo</th>\n",
              "      <th>x</th>\n",
              "      <th>y</th>\n",
              "      <th>z</th>\n",
              "      <th>vx</th>\n",
              "      <th>vy</th>\n",
              "      <th>vz</th>\n",
              "    </tr>\n",
              "  </thead>\n",
              "  <tbody>\n",
              "    <tr>\n",
              "      <th>0</th>\n",
              "      <td>0</td>\n",
              "      <td>1</td>\n",
              "      <td>0.192691</td>\n",
              "      <td>0.231858</td>\n",
              "      <td>0.225984</td>\n",
              "      <td>-659.554321</td>\n",
              "      <td>-419.040802</td>\n",
              "      <td>-489.896637</td>\n",
              "    </tr>\n",
              "    <tr>\n",
              "      <th>1</th>\n",
              "      <td>7</td>\n",
              "      <td>1</td>\n",
              "      <td>0.809102</td>\n",
              "      <td>0.210431</td>\n",
              "      <td>0.214217</td>\n",
              "      <td>-702.608582</td>\n",
              "      <td>-530.673584</td>\n",
              "      <td>-534.257935</td>\n",
              "    </tr>\n",
              "    <tr>\n",
              "      <th>2</th>\n",
              "      <td>56</td>\n",
              "      <td>1</td>\n",
              "      <td>1.437271</td>\n",
              "      <td>0.198266</td>\n",
              "      <td>0.201348</td>\n",
              "      <td>-689.156860</td>\n",
              "      <td>-608.542847</td>\n",
              "      <td>-615.787476</td>\n",
              "    </tr>\n",
              "    <tr>\n",
              "      <th>3</th>\n",
              "      <td>63</td>\n",
              "      <td>0</td>\n",
              "      <td>2.043859</td>\n",
              "      <td>0.196952</td>\n",
              "      <td>0.187470</td>\n",
              "      <td>-797.107727</td>\n",
              "      <td>-646.467102</td>\n",
              "      <td>-686.565735</td>\n",
              "    </tr>\n",
              "    <tr>\n",
              "      <th>4</th>\n",
              "      <td>64</td>\n",
              "      <td>1</td>\n",
              "      <td>2.664605</td>\n",
              "      <td>0.204039</td>\n",
              "      <td>0.170532</td>\n",
              "      <td>-818.485474</td>\n",
              "      <td>-626.312866</td>\n",
              "      <td>-768.481689</td>\n",
              "    </tr>\n",
              "  </tbody>\n",
              "</table>\n",
              "</div>"
            ],
            "text/plain": [
              "   particle_id  in-halo         x  ...          vx          vy          vz\n",
              "0            0        1  0.192691  ... -659.554321 -419.040802 -489.896637\n",
              "1            7        1  0.809102  ... -702.608582 -530.673584 -534.257935\n",
              "2           56        1  1.437271  ... -689.156860 -608.542847 -615.787476\n",
              "3           63        0  2.043859  ... -797.107727 -646.467102 -686.565735\n",
              "4           64        1  2.664605  ... -818.485474 -626.312866 -768.481689\n",
              "\n",
              "[5 rows x 8 columns]"
            ]
          },
          "metadata": {},
          "execution_count": 10
        }
      ]
    },
    {
      "cell_type": "code",
      "metadata": {
        "id": "Jq9o_uEAMY4B",
        "colab": {
          "base_uri": "https://localhost:8080/"
        },
        "outputId": "61fa1625-eb1f-47be-b98b-0a72f31a5cd4"
      },
      "source": [
        "box_size = 159\n",
        "boundary = 5\n",
        "\n",
        "d = data[data.x > boundary]\n",
        "\n",
        "d = d[data.x < box_size - boundary]\n",
        "\n",
        "d = d[data.y > boundary]\n",
        "\n",
        "d = d[data.y < box_size - boundary]\n",
        "\n",
        "d = d[data.z > boundary]\n",
        "\n",
        "d = d[data.z < box_size - boundary]"
      ],
      "execution_count": null,
      "outputs": [
        {
          "output_type": "stream",
          "name": "stderr",
          "text": [
            "/usr/local/lib/python3.7/dist-packages/ipykernel_launcher.py:6: UserWarning: Boolean Series key will be reindexed to match DataFrame index.\n",
            "  \n",
            "/usr/local/lib/python3.7/dist-packages/ipykernel_launcher.py:8: UserWarning: Boolean Series key will be reindexed to match DataFrame index.\n",
            "  \n",
            "/usr/local/lib/python3.7/dist-packages/ipykernel_launcher.py:10: UserWarning: Boolean Series key will be reindexed to match DataFrame index.\n",
            "  # Remove the CWD from sys.path while we load stuff.\n",
            "/usr/local/lib/python3.7/dist-packages/ipykernel_launcher.py:12: UserWarning: Boolean Series key will be reindexed to match DataFrame index.\n",
            "  if sys.path[0] == '':\n",
            "/usr/local/lib/python3.7/dist-packages/ipykernel_launcher.py:14: UserWarning: Boolean Series key will be reindexed to match DataFrame index.\n",
            "  \n"
          ]
        }
      ]
    },
    {
      "cell_type": "code",
      "metadata": {
        "id": "he0AiJKrvONk"
      },
      "source": [
        "def box_mass(r_cutoff, df, d):\n",
        "    m = len(df)\n",
        "    mass = pd.DataFrame(np.zeros(m),columns=['den_contrast'])\n",
        "    for i in range(m):\n",
        "        wx=d.iloc[i]['x']\n",
        "        wy=d.iloc[i]['y']\n",
        "        wz=d.iloc[i]['z']\n",
        "        \n",
        "        temp = np.where((df[:,2] > wx - r_cutoff) & (df[:,2] < wx + r_cutoff) & (df[:,3] < wy+r_cutoff) & (df[:,3] > wy-r_cutoff) & (df[:,4] < wz+r_cutoff) & (df[:,4] > wz-r_cutoff) )\n",
        "    \n",
        "        mass.den_contrast[i] = len(temp[0])\n",
        "    \n",
        "    return mass"
      ],
      "execution_count": null,
      "outputs": []
    },
    {
      "cell_type": "code",
      "metadata": {
        "colab": {
          "base_uri": "https://localhost:8080/",
          "height": 204
        },
        "id": "GSTQB_T34Oe4",
        "outputId": "b0765687-5767-419f-8c6c-639da160a56b"
      },
      "source": [
        "n = 100000\n",
        "\n",
        "sample = d.sample(n, random_state = 1)\n",
        "sample_density = sample[['particle_id', 'in-halo']]\n",
        "sample_density.reset_index(drop = True, inplace = True)\n",
        "sample_density.head()"
      ],
      "execution_count": null,
      "outputs": [
        {
          "output_type": "execute_result",
          "data": {
            "text/html": [
              "<div>\n",
              "<style scoped>\n",
              "    .dataframe tbody tr th:only-of-type {\n",
              "        vertical-align: middle;\n",
              "    }\n",
              "\n",
              "    .dataframe tbody tr th {\n",
              "        vertical-align: top;\n",
              "    }\n",
              "\n",
              "    .dataframe thead th {\n",
              "        text-align: right;\n",
              "    }\n",
              "</style>\n",
              "<table border=\"1\" class=\"dataframe\">\n",
              "  <thead>\n",
              "    <tr style=\"text-align: right;\">\n",
              "      <th></th>\n",
              "      <th>particle_id</th>\n",
              "      <th>in-halo</th>\n",
              "    </tr>\n",
              "  </thead>\n",
              "  <tbody>\n",
              "    <tr>\n",
              "      <th>0</th>\n",
              "      <td>7943185</td>\n",
              "      <td>0</td>\n",
              "    </tr>\n",
              "    <tr>\n",
              "      <th>1</th>\n",
              "      <td>1209824</td>\n",
              "      <td>0</td>\n",
              "    </tr>\n",
              "    <tr>\n",
              "      <th>2</th>\n",
              "      <td>9621901</td>\n",
              "      <td>1</td>\n",
              "    </tr>\n",
              "    <tr>\n",
              "      <th>3</th>\n",
              "      <td>613800</td>\n",
              "      <td>0</td>\n",
              "    </tr>\n",
              "    <tr>\n",
              "      <th>4</th>\n",
              "      <td>11630549</td>\n",
              "      <td>0</td>\n",
              "    </tr>\n",
              "  </tbody>\n",
              "</table>\n",
              "</div>"
            ],
            "text/plain": [
              "   particle_id  in-halo\n",
              "0      7943185        0\n",
              "1      1209824        0\n",
              "2      9621901        1\n",
              "3       613800        0\n",
              "4     11630549        0"
            ]
          },
          "metadata": {},
          "execution_count": 12
        }
      ]
    },
    {
      "cell_type": "code",
      "metadata": {
        "id": "mh52VHrRImIJ"
      },
      "source": [
        "print(data)"
      ],
      "execution_count": null,
      "outputs": []
    },
    {
      "cell_type": "code",
      "metadata": {
        "id": "5QPsp3KF6afc"
      },
      "source": [
        "rc = np.array([])\n",
        "for i in range(8, 11, 1):\n",
        "  r = 0.8 + 0.4 * i\n",
        "  rc = np.append(rc, r)\n",
        "  density = box_mass(r , data, sample)\n",
        "  density = density.div((2*r)**3)\n",
        "  sample_density = pd.concat([sample_density, density], axis = 1)\n",
        "sample_density.head()"
      ],
      "execution_count": null,
      "outputs": []
    }
  ]
}