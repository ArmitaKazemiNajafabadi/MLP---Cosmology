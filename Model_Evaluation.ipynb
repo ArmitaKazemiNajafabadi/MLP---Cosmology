{
  "nbformat": 4,
  "nbformat_minor": 0,
  "metadata": {
    "colab": {
      "name": "Model_Evaluation.ipynb",
      "provenance": [],
      "collapsed_sections": [
        "3v_SxfiDvixY",
        "vQ66Ry4PyaWR",
        "As64UStyvixb",
        "NkLTkX8zvixi",
        "ptX4Ql42vixk",
        "ckUaCbULvixn",
        "3MWNGdkn0bt9",
        "stCM-46_3cyE"
      ],
      "include_colab_link": true
    },
    "interpreter": {
      "hash": "fe5d99aa55929fe810a91df1bb66991ee2efa56184cda4e0a18aeeaadde96492"
    },
    "kernelspec": {
      "display_name": "Python 3.10.0 64-bit",
      "language": "python",
      "name": "python3"
    },
    "language_info": {
      "codemirror_mode": {
        "name": "ipython",
        "version": 3
      },
      "file_extension": ".py",
      "mimetype": "text/x-python",
      "name": "python",
      "nbconvert_exporter": "python",
      "pygments_lexer": "ipython3",
      "version": "3.10.0"
    },
    "orig_nbformat": 4
  },
  "cells": [
    {
      "cell_type": "markdown",
      "metadata": {
        "id": "view-in-github",
        "colab_type": "text"
      },
      "source": [
        "<a href=\"https://colab.research.google.com/github/as2c/MLP---Cosmology/blob/main/Model_Evaluation.ipynb\" target=\"_parent\"><img src=\"https://colab.research.google.com/assets/colab-badge.svg\" alt=\"Open In Colab\"/></a>"
      ]
    },
    {
      "cell_type": "markdown",
      "metadata": {
        "id": "jwLDDwkEvixQ"
      },
      "source": [
        "In this code, our objective is to train some classic models such as SVM, KNN, RandomForest, etc on our test data, and try to evaluate their efficiency by plotting confusion matrixes, learning curves, validation curves, and measuring the prediction time. "
      ]
    },
    {
      "cell_type": "markdown",
      "metadata": {
        "id": "3v_SxfiDvixY"
      },
      "source": [
        "# Import phase I data"
      ]
    },
    {
      "cell_type": "markdown",
      "metadata": {
        "id": "U4iafM7UvixV"
      },
      "source": [
        "Import required libreries"
      ]
    },
    {
      "cell_type": "code",
      "metadata": {
        "colab": {
          "base_uri": "https://localhost:8080/"
        },
        "id": "Mx7soy-MvixW",
        "outputId": "7139e17d-3878-4436-bc38-c11fbd5e7955"
      },
      "source": [
        "import pandas as pd\n",
        "import numpy as np\n",
        "import matplotlib.pyplot as plt\n",
        "import matplotlib.cm as cm\n",
        "from sklearn.model_selection import learning_curve, validation_curve\n",
        "from sklearn.neighbors import KNeighborsClassifier\n",
        "from sklearn.preprocessing import PolynomialFeatures\n",
        "from sklearn.linear_model import LinearRegression\n",
        "from sklearn.pipeline import Pipeline\n",
        "from sklearn.utils import shuffle\n",
        "from sklearn.model_selection import train_test_split\n",
        "from sklearn.linear_model import RidgeClassifier\n",
        "from sklearn import svm\n",
        "from sklearn.svm import SVC\n",
        "from sklearn.metrics import confusion_matrix, plot_confusion_matrix\n",
        "import timeit\n",
        "%alias_magic t timeit\n",
        "# import warnings filter\n",
        "from warnings import simplefilter\n",
        "# ignore all future warnings\n",
        "simplefilter(action='ignore', category=FutureWarning)"
      ],
      "execution_count": 17,
      "outputs": [
        {
          "output_type": "stream",
          "name": "stdout",
          "text": [
            "Created `%t` as an alias for `%timeit`.\n",
            "Created `%%t` as an alias for `%%timeit`.\n"
          ]
        }
      ]
    },
    {
      "cell_type": "code",
      "metadata": {
        "colab": {
          "base_uri": "https://localhost:8080/"
        },
        "id": "KkpZu5J4wA7g",
        "outputId": "00d59168-df41-4005-9e89-c561475d45f7"
      },
      "source": [
        "from google.colab import drive\n",
        "drive.mount('/content/drive')"
      ],
      "execution_count": 18,
      "outputs": [
        {
          "output_type": "stream",
          "name": "stdout",
          "text": [
            "Drive already mounted at /content/drive; to attempt to forcibly remount, call drive.mount(\"/content/drive\", force_remount=True).\n"
          ]
        }
      ]
    },
    {
      "cell_type": "code",
      "metadata": {
        "colab": {
          "base_uri": "https://localhost:8080/",
          "height": 206
        },
        "id": "KMXNEVc_vixY",
        "outputId": "75edfc05-ddea-4d1d-c6ec-08f2dc72c60e"
      },
      "source": [
        "data = pd.read_csv(r'/content/drive/MyDrive/density_contrast.csv')\n",
        "data.head()"
      ],
      "execution_count": 19,
      "outputs": [
        {
          "output_type": "execute_result",
          "data": {
            "text/html": [
              "<div>\n",
              "<style scoped>\n",
              "    .dataframe tbody tr th:only-of-type {\n",
              "        vertical-align: middle;\n",
              "    }\n",
              "\n",
              "    .dataframe tbody tr th {\n",
              "        vertical-align: top;\n",
              "    }\n",
              "\n",
              "    .dataframe thead th {\n",
              "        text-align: right;\n",
              "    }\n",
              "</style>\n",
              "<table border=\"1\" class=\"dataframe\">\n",
              "  <thead>\n",
              "    <tr style=\"text-align: right;\">\n",
              "      <th></th>\n",
              "      <th>particle_id</th>\n",
              "      <th>in-halo</th>\n",
              "      <th>den_contrast for 12.4</th>\n",
              "      <th>den_contrast for 13.0</th>\n",
              "      <th>den_contrast for 13.6</th>\n",
              "    </tr>\n",
              "  </thead>\n",
              "  <tbody>\n",
              "    <tr>\n",
              "      <th>0</th>\n",
              "      <td>6872359</td>\n",
              "      <td>0</td>\n",
              "      <td>-0.047697</td>\n",
              "      <td>-0.043106</td>\n",
              "      <td>-0.038331</td>\n",
              "    </tr>\n",
              "    <tr>\n",
              "      <th>1</th>\n",
              "      <td>5818539</td>\n",
              "      <td>0</td>\n",
              "      <td>-0.034318</td>\n",
              "      <td>-0.036062</td>\n",
              "      <td>-0.034318</td>\n",
              "    </tr>\n",
              "    <tr>\n",
              "      <th>2</th>\n",
              "      <td>9365399</td>\n",
              "      <td>1</td>\n",
              "      <td>-0.036311</td>\n",
              "      <td>-0.041542</td>\n",
              "      <td>-0.037702</td>\n",
              "    </tr>\n",
              "    <tr>\n",
              "      <th>3</th>\n",
              "      <td>7002365</td>\n",
              "      <td>1</td>\n",
              "      <td>-0.022502</td>\n",
              "      <td>-0.032049</td>\n",
              "      <td>-0.035913</td>\n",
              "    </tr>\n",
              "    <tr>\n",
              "      <th>4</th>\n",
              "      <td>9348414</td>\n",
              "      <td>0</td>\n",
              "      <td>-0.050822</td>\n",
              "      <td>-0.046012</td>\n",
              "      <td>-0.039032</td>\n",
              "    </tr>\n",
              "  </tbody>\n",
              "</table>\n",
              "</div>"
            ],
            "text/plain": [
              "   particle_id  in-halo  ...  den_contrast for 13.0  den_contrast for 13.6\n",
              "0      6872359        0  ...              -0.043106              -0.038331\n",
              "1      5818539        0  ...              -0.036062              -0.034318\n",
              "2      9365399        1  ...              -0.041542              -0.037702\n",
              "3      7002365        1  ...              -0.032049              -0.035913\n",
              "4      9348414        0  ...              -0.046012              -0.039032\n",
              "\n",
              "[5 rows x 5 columns]"
            ]
          },
          "metadata": {},
          "execution_count": 19
        }
      ]
    },
    {
      "cell_type": "code",
      "metadata": {
        "id": "Z_iIf7ENvixZ"
      },
      "source": [
        "data = data.sort_values( by =['den_contrast for 12.4'])\n",
        "X, Y = data.iloc[:,2:], data['in-halo']\n",
        "tst_size = 0.2\n",
        "ns, nf = np.shape(X) \n",
        "X_train, X_test, Y_train, Y_test = train_test_split(*shuffle(X, Y, n_samples = ns, random_state=0) , random_state=0, test_size =tst_size )"
      ],
      "execution_count": 20,
      "outputs": []
    },
    {
      "cell_type": "code",
      "metadata": {
        "colab": {
          "base_uri": "https://localhost:8080/"
        },
        "id": "TTV0HvsOwmPU",
        "outputId": "2a1ec281-7cfc-40ec-f8f8-af6c9b24d434"
      },
      "source": [
        "print('X_train :',len(X_train),'   X_test :',len(X_test))"
      ],
      "execution_count": 21,
      "outputs": [
        {
          "output_type": "stream",
          "name": "stdout",
          "text": [
            "X_train : 8000    X_test : 2000\n"
          ]
        }
      ]
    },
    {
      "cell_type": "code",
      "metadata": {
        "id": "lFURGlGJwpjA"
      },
      "source": [
        "X_test,X_train = np.array(X_test),np.array(X_train)\n",
        "Y_test,Y_train = np.array(Y_test),np.array(Y_train)\n",
        "X ,Y= np.array(X),np.array(Y)"
      ],
      "execution_count": 22,
      "outputs": []
    },
    {
      "cell_type": "markdown",
      "metadata": {
        "id": "vQ66Ry4PyaWR"
      },
      "source": [
        "# Random Forrest"
      ]
    },
    {
      "cell_type": "code",
      "metadata": {
        "colab": {
          "base_uri": "https://localhost:8080/"
        },
        "id": "7VT14KqNyhLD",
        "outputId": "2207cee1-ffea-40f5-b0c8-05864e1fa2fd"
      },
      "source": [
        "from sklearn.ensemble import RandomForestClassifier\n",
        "classifier = RandomForestClassifier(max_depth=2, random_state=0)\n",
        "#check \n",
        "%t classifier.fit(X_train , Y_train)\n",
        "\n",
        "#Testing the classification on the test sample\n",
        "Y_predict = classifier.predict(X_test)\n",
        "#check\n",
        "%t Y_predict = classifier.predict(X_test)\n",
        "print(len(Y_test))\n",
        "print(len(Y_predict[Y_predict== 1]))"
      ],
      "execution_count": 23,
      "outputs": [
        {
          "output_type": "stream",
          "name": "stdout",
          "text": [
            "1 loop, best of 5: 290 ms per loop\n",
            "10 loops, best of 5: 20.9 ms per loop\n",
            "2000\n",
            "403\n"
          ]
        }
      ]
    },
    {
      "cell_type": "code",
      "metadata": {
        "colab": {
          "base_uri": "https://localhost:8080/",
          "height": 578
        },
        "id": "ylv7UlC_ywjJ",
        "outputId": "2ed33518-ce9a-4a8c-9982-724d7e420163"
      },
      "source": [
        "import matplotlib.pyplot as plt\n",
        "\n",
        "fig = plt.figure(figsize=(20,10))\n",
        "ax = fig.add_subplot(121 , xlabel = '$\\delta_{12.4}$', ylabel='$\\delta_{13}$' , title = 'Result of the Classification')\n",
        "\n",
        "ax.scatter(*X_test[:,:2].T, c=Y_test)    \n",
        "\n",
        "ax = fig.add_subplot(122 , xlabel = '$\\delta_{12.4}$ ', ylabel='$\\delta_{13}$', title = 'Predicitions of the Random Forest classifier')\n",
        "plt.scatter(*X_test[:,:2].T, c = Y_predict)\n",
        "plt.show()\n"
      ],
      "execution_count": 24,
      "outputs": [
        {
          "output_type": "display_data",
          "data": {
            "image/png": "[encoded data removed]",
            "text/plain": [
              "<Figure size 1440x720 with 2 Axes>"
            ]
          },
          "metadata": {
            "needs_background": "light"
          }
        }
      ]
    },
    {
      "cell_type": "markdown",
      "metadata": {
        "id": "Upau35J43b_B"
      },
      "source": [
        "## The Classification Report "
      ]
    },
    {
      "cell_type": "code",
      "metadata": {
        "colab": {
          "base_uri": "https://localhost:8080/"
        },
        "id": "Czq4WRJXyzlj",
        "outputId": "e781a8ff-004d-445e-b9d5-79e3add52974"
      },
      "source": [
        "from sklearn.metrics import classification_report\n",
        "clf_report = classification_report(Y_test, Y_predict)\n",
        "print(clf_report)"
      ],
      "execution_count": 25,
      "outputs": [
        {
          "output_type": "stream",
          "name": "stdout",
          "text": [
            "              precision    recall  f1-score   support\n",
            "\n",
            "           0       0.49      0.79      0.61       990\n",
            "           1       0.49      0.20      0.28      1010\n",
            "\n",
            "    accuracy                           0.49      2000\n",
            "   macro avg       0.49      0.49      0.44      2000\n",
            "weighted avg       0.49      0.49      0.44      2000\n",
            "\n"
          ]
        }
      ]
    },
    {
      "cell_type": "markdown",
      "metadata": {
        "id": "hNnQZIHG3l1a"
      },
      "source": [
        "## Fine Tunning The Hyperparameter"
      ]
    },
    {
      "cell_type": "code",
      "metadata": {
        "colab": {
          "base_uri": "https://localhost:8080/"
        },
        "id": "muncSq7GzAyH",
        "outputId": "bbf073c8-5688-4dc5-f1b8-e4c7ae34665e"
      },
      "source": [
        "from sklearn.model_selection import RandomizedSearchCV\n",
        "\n",
        "# Number of trees in random forest\n",
        "n_estimators = [int(x) for x in np.linspace(start = 200, stop = 2000, num = 10)]\n",
        "# Number of features to consider at every split\n",
        "max_features = ['auto', 'sqrt']\n",
        "# Maximum number of levels in tree\n",
        "max_depth = [int(x) for x in np.linspace(1, 110, num = 12)]\n",
        "max_depth.append(None)\n",
        "# Minimum number of samples required to split a node\n",
        "min_samples_split = [2, 5, 10]\n",
        "# Minimum number of samples required at each leaf node\n",
        "min_samples_leaf = [1, 2, 4]\n",
        "# Method of selecting samples for training each tree\n",
        "bootstrap = [True, False]\n",
        "# Create the random grid\n",
        "random_grid = {'n_estimators': n_estimators,\n",
        "               'max_features': max_features,\n",
        "               'max_depth': max_depth,\n",
        "               'min_samples_split': min_samples_split,\n",
        "               'min_samples_leaf': min_samples_leaf,\n",
        "               'bootstrap': bootstrap}\n",
        "\n",
        "print(random_grid)"
      ],
      "execution_count": 26,
      "outputs": [
        {
          "output_type": "stream",
          "name": "stdout",
          "text": [
            "{'n_estimators': [200, 400, 600, 800, 1000, 1200, 1400, 1600, 1800, 2000], 'max_features': ['auto', 'sqrt'], 'max_depth': [1, 10, 20, 30, 40, 50, 60, 70, 80, 90, 100, 110, None], 'min_samples_split': [2, 5, 10], 'min_samples_leaf': [1, 2, 4], 'bootstrap': [True, False]}\n"
          ]
        }
      ]
    },
    {
      "cell_type": "code",
      "metadata": {
        "colab": {
          "base_uri": "https://localhost:8080/"
        },
        "id": "FWREHWCizF3G",
        "outputId": "b3968a8a-f15f-452d-8aeb-62828abcc4c0"
      },
      "source": [
        "# Random search of parameters, using 2 fold cross validation, \n",
        "# search across 5 different combinations, and use all available cores\n",
        "print('start')\n",
        "rf_random = RandomizedSearchCV(estimator = classifier, param_distributions = random_grid, n_iter = 5, cv = 2, verbose=2, random_state=42, n_jobs = -1)\n",
        "# Fit the random search model\n",
        "rf_random.fit(X_train, Y_train)\n",
        "\n",
        "print(rf_random.best_params_)"
      ],
      "execution_count": 28,
      "outputs": [
        {
          "output_type": "stream",
          "name": "stdout",
          "text": [
            "start\n",
            "Fitting 2 folds for each of 5 candidates, totalling 10 fits\n",
            "{'n_estimators': 1400, 'min_samples_split': 5, 'min_samples_leaf': 1, 'max_features': 'sqrt', 'max_depth': 20, 'bootstrap': True}\n"
          ]
        }
      ]
    },
    {
      "cell_type": "markdown",
      "metadata": {
        "id": "qD42IQVu4pwc"
      },
      "source": [
        "## Learning Curve"
      ]
    },
    {
      "cell_type": "code",
      "metadata": {
        "colab": {
          "base_uri": "https://localhost:8080/"
        },
        "id": "LehGPFj340pJ",
        "outputId": "2e678250-51d6-4d03-b0b7-d10e8d046bf4"
      },
      "source": [
        "#first we should do the classification with the optimal values.\n",
        "\n",
        "classifier = RandomForestClassifier(n_estimators = 1400, min_samples_split = 5, min_samples_leaf = 1, \n",
        "                                    max_features = 'sqrt', max_depth = 20, bootstrap = True, random_state=0)\n",
        "\n",
        "train_sizes = np.arange(1000,8000,500)\n",
        "\n",
        "#computing training score and validation score for each sample size cv times\n",
        "ns_list, train_scores, validation_scores = learning_curve(\n",
        "                                                   estimator= classifier , X = X,\n",
        "                                                   y = Y, train_sizes = train_sizes, cv = 5, random_state = 0)\n",
        "\n",
        "print('Training scores:\\n\\n', pd.DataFrame( train_scores) )\n",
        "\n",
        "print('\\nValidation scores:\\n\\n', pd.DataFrame(validation_scores) )"
      ],
      "execution_count": 29,
      "outputs": [
        {
          "output_type": "stream",
          "name": "stdout",
          "text": [
            "Training scores:\n",
            "\n",
            "            0         1         2         3         4\n",
            "0   0.919000  0.580000  0.580000  0.580000  0.580000\n",
            "1   0.927333  0.639333  0.639333  0.639333  0.639333\n",
            "2   0.934500  0.692000  0.692500  0.692500  0.692500\n",
            "3   0.937200  0.748400  0.732400  0.732400  0.732400\n",
            "4   0.944333  0.787000  0.765000  0.765000  0.765000\n",
            "5   0.945143  0.812286  0.790857  0.790857  0.790857\n",
            "6   0.944000  0.832500  0.810000  0.810750  0.810750\n",
            "7   0.947111  0.846000  0.826444  0.824889  0.824889\n",
            "8   0.950800  0.859200  0.842400  0.841000  0.841000\n",
            "9   0.950909  0.869818  0.854000  0.850000  0.850000\n",
            "10  0.952833  0.878667  0.863833  0.852833  0.857000\n",
            "11  0.952154  0.884615  0.870923  0.862308  0.864154\n",
            "12  0.952286  0.892286  0.878000  0.869857  0.874714\n",
            "13  0.956933  0.897600  0.885733  0.877200  0.877600\n",
            "\n",
            "Validation scores:\n",
            "\n",
            "          0       1       2       3       4\n",
            "0   0.5015  0.5010  0.5035  0.5005  0.5000\n",
            "1   0.5015  0.5020  0.4995  0.5000  0.5000\n",
            "2   0.5015  0.5000  0.5005  0.5130  0.4970\n",
            "3   0.5015  0.5005  0.4975  0.5005  0.4995\n",
            "4   0.5015  0.5015  0.4910  0.5075  0.5080\n",
            "5   0.5015  0.5000  0.4945  0.4990  0.5005\n",
            "6   0.5015  0.5015  0.5010  0.4980  0.5000\n",
            "7   0.5015  0.5015  0.5145  0.4985  0.5050\n",
            "8   0.5015  0.5015  0.5180  0.4970  0.5010\n",
            "9   0.5015  0.5005  0.5115  0.4985  0.5025\n",
            "10  0.5015  0.5000  0.5165  0.5000  0.4940\n",
            "11  0.5015  0.5020  0.5170  0.5005  0.5170\n",
            "12  0.5015  0.5000  0.5175  0.5005  0.5030\n",
            "13  0.5015  0.5010  0.5120  0.5005  0.4995\n"
          ]
        }
      ]
    },
    {
      "cell_type": "code",
      "metadata": {
        "colab": {
          "base_uri": "https://localhost:8080/",
          "height": 382
        },
        "id": "9Q9aNQXf4um0",
        "outputId": "61dad96e-8d6e-4d92-c859-56d18fe10be3"
      },
      "source": [
        "train_scores_mean = train_scores.mean(axis = 1)\n",
        "print(train_scores_mean)\n",
        "validation_scores_mean = validation_scores.mean(axis = 1)\n",
        "print(validation_scores_mean)\n",
        "\n",
        "plt.title('Learning curve')\n",
        "plt.plot(ns_list, train_scores_mean,'g--',label = 'Training Score')\n",
        "plt.plot(ns_list, validation_scores_mean, 'r--', label = 'Validation Score')\n",
        "plt.xlabel('# Training samples')\n",
        "plt.ylabel('Score')\n",
        "plt.legend(loc='upper right')\n",
        "\n",
        "plt.show()"
      ],
      "execution_count": null,
      "outputs": [
        {
          "name": "stdout",
          "output_type": "stream",
          "text": [
            "[0.6478     0.69693333 0.7408     0.77656    0.80526667 0.826\n",
            " 0.8416     0.85386667 0.86688    0.87494545 0.88103333 0.88683077\n",
            " 0.89342857 0.89901333]\n",
            "[0.5013 0.5006 0.5024 0.4999 0.5019 0.4991 0.5004 0.5042 0.5038 0.5029\n",
            " 0.5024 0.5076 0.5045 0.5029]\n"
          ]
        },
        {
          "data": {
            "image/png": "[encoded data removed]",
            "text/plain": [
              "<Figure size 432x288 with 1 Axes>"
            ]
          },
          "metadata": {
            "needs_background": "light"
          },
          "output_type": "display_data"
        }
      ]
    },
    {
      "cell_type": "markdown",
      "metadata": {
        "id": "iZnM78Aw8h0O"
      },
      "source": [
        "## Training with optimized hyperparameter"
      ]
    },
    {
      "cell_type": "code",
      "metadata": {
        "id": "ZbTOUmQL8vR2"
      },
      "source": [
        "X_train, X_test, Y_train, Y_test  = train_test_split(X, Y , train_size = 1000 , random_state= 0)\n",
        "X_test = np.array(X_test)\n",
        "X_train = np.array(X_train)\n",
        "Y_test = np.array(Y_test)\n",
        "Y_train = np.array(Y_train)\n",
        "X = np.array(X)\n",
        "Y = np.array(Y)"
      ],
      "execution_count": null,
      "outputs": []
    },
    {
      "cell_type": "code",
      "metadata": {
        "colab": {
          "base_uri": "https://localhost:8080/"
        },
        "id": "ipkcL4y584pY",
        "outputId": "fcf470b9-a52e-44a4-cb31-d6d6a7e61ff1"
      },
      "source": [
        "classifier = RandomForestClassifier(n_estimators = 1400, min_samples_split = 5, min_samples_leaf = 1, \n",
        "                                    max_features = 'sqrt', max_depth = 20, bootstrap = True, random_state=0)\n",
        "start_train = time.time()\n",
        "%t classifier.fit(X_train , Y_train)\n",
        "runtime_train = time.time() - start_train\n",
        "\n",
        "#Testing the classification on the test sample\n",
        "# Y_predict = classifier.predict(X_test)\n",
        "start_pred = time.time()\n",
        "%t Y_predict = classifier.predict(X_test)\n",
        "runtime_pred = time.time() - start_pred\n",
        "\n",
        "print(len(Y_test))\n",
        "print(len(Y_predict[Y_predict == 1]))"
      ],
      "execution_count": 31,
      "outputs": [
        {
          "output_type": "stream",
          "name": "stdout",
          "text": [
            "1 loop, best of 5: 13.1 s per loop\n",
            "1 loop, best of 5: 656 ms per loop\n",
            "2000\n",
            "403\n"
          ]
        }
      ]
    },
    {
      "cell_type": "code",
      "metadata": {
        "colab": {
          "base_uri": "https://localhost:8080/"
        },
        "id": "pgLNRJ_D9SeN",
        "outputId": "af7750a8-1faf-460e-dc46-f7ca8ba048db"
      },
      "source": [
        "#Evaluating the new trained model:\n",
        "final_report = classification_report(Y_test, Y_predict)\n",
        "print(final_report)"
      ],
      "execution_count": null,
      "outputs": [
        {
          "name": "stdout",
          "output_type": "stream",
          "text": [
            "              precision    recall  f1-score   support\n",
            "\n",
            "           0       0.50      0.42      0.46      4529\n",
            "           1       0.50      0.59      0.54      4471\n",
            "\n",
            "    accuracy                           0.50      9000\n",
            "   macro avg       0.50      0.50      0.50      9000\n",
            "weighted avg       0.50      0.50      0.50      9000\n",
            "\n"
          ]
        }
      ]
    },
    {
      "cell_type": "markdown",
      "metadata": {
        "id": "0JAxVHWS-NgR"
      },
      "source": [
        "##Confusion Matrix"
      ]
    },
    {
      "cell_type": "code",
      "metadata": {
        "colab": {
          "base_uri": "https://localhost:8080/"
        },
        "id": "BPzyRqaH-S_9",
        "outputId": "62154434-80b8-4376-ef8d-4fc00f2ba017"
      },
      "source": [
        "from sklearn.metrics import confusion_matrix\n",
        "conf_matrix = confusion_matrix(Y_test , Y_predict)\n",
        "print('Here is the confusion matrix for the LG classifier: \\n'  )\n",
        "print('TP = {}'.format(conf_matrix[0][0]),'  FP = {}'.format(conf_matrix[0][1]) , '\\n')\n",
        "print('FN = {}'.format(conf_matrix[1][0]),'  TN = {}'.format(conf_matrix[1][1]) , '\\n')"
      ],
      "execution_count": null,
      "outputs": [
        {
          "name": "stdout",
          "output_type": "stream",
          "text": [
            "Here is the confusion matrix for the LG classifier: \n",
            "\n",
            "TP = 1888   FP = 2641 \n",
            "\n",
            "FN = 1854   TN = 2617 \n",
            "\n"
          ]
        }
      ]
    },
    {
      "cell_type": "code",
      "metadata": {
        "colab": {
          "base_uri": "https://localhost:8080/",
          "height": 279
        },
        "id": "U4ZWTGXlFfXf",
        "outputId": "05078e22-e597-49a4-e4a1-1a7524a91591"
      },
      "source": [
        "from sklearn.metrics import plot_confusion_matrix\n",
        "plot_confusion_matrix( classifier, X_test, Y_test)  \n",
        "plt.show()"
      ],
      "execution_count": null,
      "outputs": [
        {
          "data": {
            "image/png": "[encoded data removed]",
            "text/plain": [
              "<Figure size 432x288 with 2 Axes>"
            ]
          },
          "metadata": {
            "needs_background": "light"
          },
          "output_type": "display_data"
        }
      ]
    },
    {
      "cell_type": "markdown",
      "metadata": {
        "id": "xZ4NPdkdGpNL"
      },
      "source": [
        "##Accuracy"
      ]
    },
    {
      "cell_type": "markdown",
      "metadata": {
        "id": "TUI9lhm5II62"
      },
      "source": [
        "$Accuracy = \\frac{TP + TN}{TP+TN+FP+FN} * 100$"
      ]
    },
    {
      "cell_type": "code",
      "metadata": {
        "colab": {
          "base_uri": "https://localhost:8080/"
        },
        "id": "qTA4uq5zGx9T",
        "outputId": "76d6bff7-0ec1-44e0-8b43-d48bf410094c"
      },
      "source": [
        "acurracy = (conf_matrix[0][0]+conf_matrix[1][1])/(conf_matrix[0][0]+conf_matrix[0][1]+conf_matrix[1][0]+conf_matrix[1][1])\n",
        "print('The accuracy of the model is {}%' .format(round(acurracy*100, 3)))"
      ],
      "execution_count": null,
      "outputs": [
        {
          "name": "stdout",
          "output_type": "stream",
          "text": [
            "The accuracy of the model is 50.056%\n"
          ]
        }
      ]
    },
    {
      "cell_type": "markdown",
      "metadata": {
        "id": "Pn6SOMSQG8JJ"
      },
      "source": [
        "## Precision - Recall curve"
      ]
    },
    {
      "cell_type": "code",
      "metadata": {
        "colab": {
          "base_uri": "https://localhost:8080/",
          "height": 451
        },
        "id": "9theAxzSG-tX",
        "outputId": "f4dc39b1-1573-4c6f-d733-213df5b898e9"
      },
      "source": [
        "from sklearn.metrics import precision_recall_curve\n",
        "from sklearn.metrics import auc\n",
        "#getting the probability of being in each class from classifier without applying the threshold\n",
        "Y_probs=classifier.predict_proba(X_test) \n",
        "print(Y_probs)\n",
        "print(Y_predict)\n",
        "precision, recall, thresholds = precision_recall_curve(Y_test , Y_probs[:, 1]) \n",
        "\n",
        "#retrieve probability of being 1(in second column of Y_prob)\n",
        "pr_auc = auc(recall, precision)\n",
        "\n",
        "plt.title(\"Precision-Recall vs Threshold Chart\")\n",
        "plt.plot(thresholds, precision[: -1], \"b--\", label=\"Precision\")\n",
        "plt.plot(thresholds, recall[: -1], \"r--\", label=\"Recall\")\n",
        "plt.ylabel(\"Precision, Recall\")\n",
        "plt.xlabel(\"Threshold\")\n",
        "plt.legend(loc=\"lower left\")\n",
        "plt.ylim([0,1])"
      ],
      "execution_count": null,
      "outputs": [
        {
          "name": "stdout",
          "output_type": "stream",
          "text": [
            "[[0.63435321 0.36564679]\n",
            " [0.30929299 0.69070701]\n",
            " [0.51753816 0.48246184]\n",
            " ...\n",
            " [0.75052425 0.24947575]\n",
            " [0.43332626 0.56667374]\n",
            " [0.71128128 0.28871872]]\n",
            "[0 1 0 ... 0 1 0]\n"
          ]
        },
        {
          "data": {
            "text/plain": [
              "(0.0, 1.0)"
            ]
          },
          "execution_count": 36,
          "metadata": {},
          "output_type": "execute_result"
        },
        {
          "data": {
            "image/png": "[encoded data removed]",
            "text/plain": [
              "<Figure size 432x288 with 1 Axes>"
            ]
          },
          "metadata": {
            "needs_background": "light"
          },
          "output_type": "display_data"
        }
      ]
    },
    {
      "cell_type": "markdown",
      "metadata": {
        "id": "UbH4Jdc-HwNI"
      },
      "source": [
        "As can be seen, increasing precision will result in a decrease in the recall and vice versa. The trade-off point between precision and recall is where the two curves coincide, around the threshold = 0.5, and will result in precision and recalls equal to 0.5. "
      ]
    },
    {
      "cell_type": "code",
      "metadata": {
        "colab": {
          "base_uri": "https://localhost:8080/",
          "height": 239
        },
        "id": "_mtcoeI9uyxB",
        "outputId": "556b1b6d-5de6-4d4e-9005-58d9656cd437"
      },
      "source": [
        "EM1 = 'accuracy'\n",
        "mean_test_scores = classifier.cv_results_.get('mean_test_score')\n",
        "CVS1 = mean_test_scores[classifier.best_index_]\n",
        "CPS1 = classifier.score(X_test, Y_test)\n",
        "T1 = runtime_train\n",
        "PT1 = runtime_pred\n",
        "print( \"Training Time was: \" + str(T1))\n",
        "print(\"Prediction Time was: \" + str(PT1))"
      ],
      "execution_count": 32,
      "outputs": [
        {
          "output_type": "error",
          "ename": "AttributeError",
          "evalue": "ignored",
          "traceback": [
            "\u001b[0;31m---------------------------------------------------------------------------\u001b[0m",
            "\u001b[0;31mAttributeError\u001b[0m                            Traceback (most recent call last)",
            "\u001b[0;32m<ipython-input-32-aecfcc94baed>\u001b[0m in \u001b[0;36m<module>\u001b[0;34m()\u001b[0m\n\u001b[1;32m      1\u001b[0m \u001b[0mEM1\u001b[0m \u001b[0;34m=\u001b[0m \u001b[0;34m'accuracy'\u001b[0m\u001b[0;34m\u001b[0m\u001b[0;34m\u001b[0m\u001b[0m\n\u001b[0;32m----> 2\u001b[0;31m \u001b[0mmean_test_scores\u001b[0m \u001b[0;34m=\u001b[0m \u001b[0mclassifier\u001b[0m\u001b[0;34m.\u001b[0m\u001b[0mcv_results_\u001b[0m\u001b[0;34m.\u001b[0m\u001b[0mget\u001b[0m\u001b[0;34m(\u001b[0m\u001b[0;34m'mean_test_score'\u001b[0m\u001b[0;34m)\u001b[0m\u001b[0;34m\u001b[0m\u001b[0;34m\u001b[0m\u001b[0m\n\u001b[0m\u001b[1;32m      3\u001b[0m \u001b[0mCVS1\u001b[0m \u001b[0;34m=\u001b[0m \u001b[0mmean_test_scores\u001b[0m\u001b[0;34m[\u001b[0m\u001b[0mclassifier\u001b[0m\u001b[0;34m.\u001b[0m\u001b[0mbest_index_\u001b[0m\u001b[0;34m]\u001b[0m\u001b[0;34m\u001b[0m\u001b[0;34m\u001b[0m\u001b[0m\n\u001b[1;32m      4\u001b[0m \u001b[0mCPS1\u001b[0m \u001b[0;34m=\u001b[0m \u001b[0mclassifier\u001b[0m\u001b[0;34m.\u001b[0m\u001b[0mscore\u001b[0m\u001b[0;34m(\u001b[0m\u001b[0mX_test\u001b[0m\u001b[0;34m,\u001b[0m \u001b[0mY_test\u001b[0m\u001b[0;34m)\u001b[0m\u001b[0;34m\u001b[0m\u001b[0;34m\u001b[0m\u001b[0m\n\u001b[1;32m      5\u001b[0m \u001b[0mT1\u001b[0m \u001b[0;34m=\u001b[0m \u001b[0mruntime_train\u001b[0m\u001b[0;34m\u001b[0m\u001b[0;34m\u001b[0m\u001b[0m\n",
            "\u001b[0;31mAttributeError\u001b[0m: 'RandomForestClassifier' object has no attribute 'cv_results_'"
          ]
        }
      ]
    },
    {
      "cell_type": "code",
      "metadata": {
        "colab": {
          "base_uri": "https://localhost:8080/",
          "height": 834
        },
        "id": "GNDOHpiztRlx",
        "outputId": "e116eeff-bbc1-4a42-9bda-4ff94107dbe5"
      },
      "source": [
        "# Here we tried to make an estimation of Bias and Variance\n",
        "%pip install mlxtend --upgrade\n",
        "from mlxtend.evaluate import bias_variance_decomp\n",
        "avg_expected_loss, avg_bias, avg_var = bias_variance_decomp(\n",
        "        classifier, X_train, Y_train, X_test, Y_test)\n",
        "\n",
        "print('Average expected loss: %.3f' % avg_expected_loss)\n",
        "print('Average bias: %.3f' % avg_bias)\n",
        "print('Average variance: %.3f' % avg_var)"
      ],
      "execution_count": 33,
      "outputs": [
        {
          "metadata": {
            "tags": null
          },
          "name": "stdout",
          "output_type": "stream",
          "text": [
            "Requirement already satisfied: mlxtend in /usr/local/lib/python3.7/dist-packages (0.14.0)\n",
            "Collecting mlxtend\n",
            "  Downloading mlxtend-0.19.0-py2.py3-none-any.whl (1.3 MB)\n",
            "\u001b[K     |████████████████████████████████| 1.3 MB 5.1 MB/s \n",
            "\u001b[?25hRequirement already satisfied: scipy>=1.2.1 in /usr/local/lib/python3.7/dist-packages (from mlxtend) (1.4.1)\n",
            "Requirement already satisfied: scikit-learn>=0.20.3 in /usr/local/lib/python3.7/dist-packages (from mlxtend) (1.0.1)\n",
            "Requirement already satisfied: setuptools in /usr/local/lib/python3.7/dist-packages (from mlxtend) (57.4.0)\n",
            "Requirement already satisfied: numpy>=1.16.2 in /usr/local/lib/python3.7/dist-packages (from mlxtend) (1.19.5)\n",
            "Requirement already satisfied: joblib>=0.13.2 in /usr/local/lib/python3.7/dist-packages (from mlxtend) (1.1.0)\n",
            "Requirement already satisfied: matplotlib>=3.0.0 in /usr/local/lib/python3.7/dist-packages (from mlxtend) (3.2.2)\n",
            "Requirement already satisfied: pandas>=0.24.2 in /usr/local/lib/python3.7/dist-packages (from mlxtend) (1.1.5)\n",
            "Requirement already satisfied: python-dateutil>=2.1 in /usr/local/lib/python3.7/dist-packages (from matplotlib>=3.0.0->mlxtend) (2.8.2)\n",
            "Requirement already satisfied: pyparsing!=2.0.4,!=2.1.2,!=2.1.6,>=2.0.1 in /usr/local/lib/python3.7/dist-packages (from matplotlib>=3.0.0->mlxtend) (3.0.6)\n",
            "Requirement already satisfied: cycler>=0.10 in /usr/local/lib/python3.7/dist-packages (from matplotlib>=3.0.0->mlxtend) (0.11.0)\n",
            "Requirement already satisfied: kiwisolver>=1.0.1 in /usr/local/lib/python3.7/dist-packages (from matplotlib>=3.0.0->mlxtend) (1.3.2)\n",
            "Requirement already satisfied: pytz>=2017.2 in /usr/local/lib/python3.7/dist-packages (from pandas>=0.24.2->mlxtend) (2018.9)\n",
            "Requirement already satisfied: six>=1.5 in /usr/local/lib/python3.7/dist-packages (from python-dateutil>=2.1->matplotlib>=3.0.0->mlxtend) (1.15.0)\n",
            "Requirement already satisfied: threadpoolctl>=2.0.0 in /usr/local/lib/python3.7/dist-packages (from scikit-learn>=0.20.3->mlxtend) (3.0.0)\n",
            "Installing collected packages: mlxtend\n",
            "  Attempting uninstall: mlxtend\n",
            "    Found existing installation: mlxtend 0.14.0\n",
            "    Uninstalling mlxtend-0.14.0:\n",
            "      Successfully uninstalled mlxtend-0.14.0\n",
            "Successfully installed mlxtend-0.19.0\n"
          ]
        },
        {
          "output_type": "error",
          "ename": "KeyboardInterrupt",
          "evalue": "ignored",
          "traceback": [
            "\u001b[0;31m---------------------------------------------------------------------------\u001b[0m",
            "\u001b[0;31mKeyboardInterrupt\u001b[0m                         Traceback (most recent call last)",
            "\u001b[0;32m<ipython-input-33-aa014f2102f6>\u001b[0m in \u001b[0;36m<module>\u001b[0;34m()\u001b[0m\n\u001b[1;32m      3\u001b[0m \u001b[0;32mfrom\u001b[0m \u001b[0mmlxtend\u001b[0m\u001b[0;34m.\u001b[0m\u001b[0mevaluate\u001b[0m \u001b[0;32mimport\u001b[0m \u001b[0mbias_variance_decomp\u001b[0m\u001b[0;34m\u001b[0m\u001b[0;34m\u001b[0m\u001b[0m\n\u001b[1;32m      4\u001b[0m avg_expected_loss, avg_bias, avg_var = bias_variance_decomp(\n\u001b[0;32m----> 5\u001b[0;31m         classifier, X_train, Y_train, X_test, Y_test)\n\u001b[0m\u001b[1;32m      6\u001b[0m \u001b[0;34m\u001b[0m\u001b[0m\n\u001b[1;32m      7\u001b[0m \u001b[0mprint\u001b[0m\u001b[0;34m(\u001b[0m\u001b[0;34m'Average expected loss: %.3f'\u001b[0m \u001b[0;34m%\u001b[0m \u001b[0mavg_expected_loss\u001b[0m\u001b[0;34m)\u001b[0m\u001b[0;34m\u001b[0m\u001b[0;34m\u001b[0m\u001b[0m\n",
            "\u001b[0;32m/usr/local/lib/python3.7/dist-packages/mlxtend/evaluate/bias_variance_decomp.py\u001b[0m in \u001b[0;36mbias_variance_decomp\u001b[0;34m(estimator, X_train, y_train, X_test, y_test, loss, num_rounds, random_seed, **fit_params)\u001b[0m\n\u001b[1;32m    119\u001b[0m         \u001b[0;32melse\u001b[0m\u001b[0;34m:\u001b[0m\u001b[0;34m\u001b[0m\u001b[0;34m\u001b[0m\u001b[0m\n\u001b[1;32m    120\u001b[0m             pred = estimator.fit(\n\u001b[0;32m--> 121\u001b[0;31m                 X_boot, y_boot, **fit_params).predict(X_test)\n\u001b[0m\u001b[1;32m    122\u001b[0m         \u001b[0mall_pred\u001b[0m\u001b[0;34m[\u001b[0m\u001b[0mi\u001b[0m\u001b[0;34m]\u001b[0m \u001b[0;34m=\u001b[0m \u001b[0mpred\u001b[0m\u001b[0;34m\u001b[0m\u001b[0;34m\u001b[0m\u001b[0m\n\u001b[1;32m    123\u001b[0m \u001b[0;34m\u001b[0m\u001b[0m\n",
            "\u001b[0;32m/usr/local/lib/python3.7/dist-packages/sklearn/ensemble/_forest.py\u001b[0m in \u001b[0;36mfit\u001b[0;34m(self, X, y, sample_weight)\u001b[0m\n\u001b[1;32m    457\u001b[0m                     \u001b[0mn_samples_bootstrap\u001b[0m\u001b[0;34m=\u001b[0m\u001b[0mn_samples_bootstrap\u001b[0m\u001b[0;34m,\u001b[0m\u001b[0;34m\u001b[0m\u001b[0;34m\u001b[0m\u001b[0m\n\u001b[1;32m    458\u001b[0m                 )\n\u001b[0;32m--> 459\u001b[0;31m                 \u001b[0;32mfor\u001b[0m \u001b[0mi\u001b[0m\u001b[0;34m,\u001b[0m \u001b[0mt\u001b[0m \u001b[0;32min\u001b[0m \u001b[0menumerate\u001b[0m\u001b[0;34m(\u001b[0m\u001b[0mtrees\u001b[0m\u001b[0;34m)\u001b[0m\u001b[0;34m\u001b[0m\u001b[0;34m\u001b[0m\u001b[0m\n\u001b[0m\u001b[1;32m    460\u001b[0m             )\n\u001b[1;32m    461\u001b[0m \u001b[0;34m\u001b[0m\u001b[0m\n",
            "\u001b[0;32m/usr/local/lib/python3.7/dist-packages/joblib/parallel.py\u001b[0m in \u001b[0;36m__call__\u001b[0;34m(self, iterable)\u001b[0m\n\u001b[1;32m   1044\u001b[0m                 \u001b[0mself\u001b[0m\u001b[0;34m.\u001b[0m\u001b[0m_iterating\u001b[0m \u001b[0;34m=\u001b[0m \u001b[0mself\u001b[0m\u001b[0;34m.\u001b[0m\u001b[0m_original_iterator\u001b[0m \u001b[0;32mis\u001b[0m \u001b[0;32mnot\u001b[0m \u001b[0;32mNone\u001b[0m\u001b[0;34m\u001b[0m\u001b[0;34m\u001b[0m\u001b[0m\n\u001b[1;32m   1045\u001b[0m \u001b[0;34m\u001b[0m\u001b[0m\n\u001b[0;32m-> 1046\u001b[0;31m             \u001b[0;32mwhile\u001b[0m \u001b[0mself\u001b[0m\u001b[0;34m.\u001b[0m\u001b[0mdispatch_one_batch\u001b[0m\u001b[0;34m(\u001b[0m\u001b[0miterator\u001b[0m\u001b[0;34m)\u001b[0m\u001b[0;34m:\u001b[0m\u001b[0;34m\u001b[0m\u001b[0;34m\u001b[0m\u001b[0m\n\u001b[0m\u001b[1;32m   1047\u001b[0m                 \u001b[0;32mpass\u001b[0m\u001b[0;34m\u001b[0m\u001b[0;34m\u001b[0m\u001b[0m\n\u001b[1;32m   1048\u001b[0m \u001b[0;34m\u001b[0m\u001b[0m\n",
            "\u001b[0;32m/usr/local/lib/python3.7/dist-packages/joblib/parallel.py\u001b[0m in \u001b[0;36mdispatch_one_batch\u001b[0;34m(self, iterator)\u001b[0m\n\u001b[1;32m    859\u001b[0m                 \u001b[0;32mreturn\u001b[0m \u001b[0;32mFalse\u001b[0m\u001b[0;34m\u001b[0m\u001b[0;34m\u001b[0m\u001b[0m\n\u001b[1;32m    860\u001b[0m             \u001b[0;32melse\u001b[0m\u001b[0;34m:\u001b[0m\u001b[0;34m\u001b[0m\u001b[0;34m\u001b[0m\u001b[0m\n\u001b[0;32m--> 861\u001b[0;31m                 \u001b[0mself\u001b[0m\u001b[0;34m.\u001b[0m\u001b[0m_dispatch\u001b[0m\u001b[0;34m(\u001b[0m\u001b[0mtasks\u001b[0m\u001b[0;34m)\u001b[0m\u001b[0;34m\u001b[0m\u001b[0;34m\u001b[0m\u001b[0m\n\u001b[0m\u001b[1;32m    862\u001b[0m                 \u001b[0;32mreturn\u001b[0m \u001b[0;32mTrue\u001b[0m\u001b[0;34m\u001b[0m\u001b[0;34m\u001b[0m\u001b[0m\n\u001b[1;32m    863\u001b[0m \u001b[0;34m\u001b[0m\u001b[0m\n",
            "\u001b[0;32m/usr/local/lib/python3.7/dist-packages/joblib/parallel.py\u001b[0m in \u001b[0;36m_dispatch\u001b[0;34m(self, batch)\u001b[0m\n\u001b[1;32m    777\u001b[0m         \u001b[0;32mwith\u001b[0m \u001b[0mself\u001b[0m\u001b[0;34m.\u001b[0m\u001b[0m_lock\u001b[0m\u001b[0;34m:\u001b[0m\u001b[0;34m\u001b[0m\u001b[0;34m\u001b[0m\u001b[0m\n\u001b[1;32m    778\u001b[0m             \u001b[0mjob_idx\u001b[0m \u001b[0;34m=\u001b[0m \u001b[0mlen\u001b[0m\u001b[0;34m(\u001b[0m\u001b[0mself\u001b[0m\u001b[0;34m.\u001b[0m\u001b[0m_jobs\u001b[0m\u001b[0;34m)\u001b[0m\u001b[0;34m\u001b[0m\u001b[0;34m\u001b[0m\u001b[0m\n\u001b[0;32m--> 779\u001b[0;31m             \u001b[0mjob\u001b[0m \u001b[0;34m=\u001b[0m \u001b[0mself\u001b[0m\u001b[0;34m.\u001b[0m\u001b[0m_backend\u001b[0m\u001b[0;34m.\u001b[0m\u001b[0mapply_async\u001b[0m\u001b[0;34m(\u001b[0m\u001b[0mbatch\u001b[0m\u001b[0;34m,\u001b[0m \u001b[0mcallback\u001b[0m\u001b[0;34m=\u001b[0m\u001b[0mcb\u001b[0m\u001b[0;34m)\u001b[0m\u001b[0;34m\u001b[0m\u001b[0;34m\u001b[0m\u001b[0m\n\u001b[0m\u001b[1;32m    780\u001b[0m             \u001b[0;31m# A job can complete so quickly than its callback is\u001b[0m\u001b[0;34m\u001b[0m\u001b[0;34m\u001b[0m\u001b[0;34m\u001b[0m\u001b[0m\n\u001b[1;32m    781\u001b[0m             \u001b[0;31m# called before we get here, causing self._jobs to\u001b[0m\u001b[0;34m\u001b[0m\u001b[0;34m\u001b[0m\u001b[0;34m\u001b[0m\u001b[0m\n",
            "\u001b[0;32m/usr/local/lib/python3.7/dist-packages/joblib/_parallel_backends.py\u001b[0m in \u001b[0;36mapply_async\u001b[0;34m(self, func, callback)\u001b[0m\n\u001b[1;32m    206\u001b[0m     \u001b[0;32mdef\u001b[0m \u001b[0mapply_async\u001b[0m\u001b[0;34m(\u001b[0m\u001b[0mself\u001b[0m\u001b[0;34m,\u001b[0m \u001b[0mfunc\u001b[0m\u001b[0;34m,\u001b[0m \u001b[0mcallback\u001b[0m\u001b[0;34m=\u001b[0m\u001b[0;32mNone\u001b[0m\u001b[0;34m)\u001b[0m\u001b[0;34m:\u001b[0m\u001b[0;34m\u001b[0m\u001b[0;34m\u001b[0m\u001b[0m\n\u001b[1;32m    207\u001b[0m         \u001b[0;34m\"\"\"Schedule a func to be run\"\"\"\u001b[0m\u001b[0;34m\u001b[0m\u001b[0;34m\u001b[0m\u001b[0m\n\u001b[0;32m--> 208\u001b[0;31m         \u001b[0mresult\u001b[0m \u001b[0;34m=\u001b[0m \u001b[0mImmediateResult\u001b[0m\u001b[0;34m(\u001b[0m\u001b[0mfunc\u001b[0m\u001b[0;34m)\u001b[0m\u001b[0;34m\u001b[0m\u001b[0;34m\u001b[0m\u001b[0m\n\u001b[0m\u001b[1;32m    209\u001b[0m         \u001b[0;32mif\u001b[0m \u001b[0mcallback\u001b[0m\u001b[0;34m:\u001b[0m\u001b[0;34m\u001b[0m\u001b[0;34m\u001b[0m\u001b[0m\n\u001b[1;32m    210\u001b[0m             \u001b[0mcallback\u001b[0m\u001b[0;34m(\u001b[0m\u001b[0mresult\u001b[0m\u001b[0;34m)\u001b[0m\u001b[0;34m\u001b[0m\u001b[0;34m\u001b[0m\u001b[0m\n",
            "\u001b[0;32m/usr/local/lib/python3.7/dist-packages/joblib/_parallel_backends.py\u001b[0m in \u001b[0;36m__init__\u001b[0;34m(self, batch)\u001b[0m\n\u001b[1;32m    570\u001b[0m         \u001b[0;31m# Don't delay the application, to avoid keeping the input\u001b[0m\u001b[0;34m\u001b[0m\u001b[0;34m\u001b[0m\u001b[0;34m\u001b[0m\u001b[0m\n\u001b[1;32m    571\u001b[0m         \u001b[0;31m# arguments in memory\u001b[0m\u001b[0;34m\u001b[0m\u001b[0;34m\u001b[0m\u001b[0;34m\u001b[0m\u001b[0m\n\u001b[0;32m--> 572\u001b[0;31m         \u001b[0mself\u001b[0m\u001b[0;34m.\u001b[0m\u001b[0mresults\u001b[0m \u001b[0;34m=\u001b[0m \u001b[0mbatch\u001b[0m\u001b[0;34m(\u001b[0m\u001b[0;34m)\u001b[0m\u001b[0;34m\u001b[0m\u001b[0;34m\u001b[0m\u001b[0m\n\u001b[0m\u001b[1;32m    573\u001b[0m \u001b[0;34m\u001b[0m\u001b[0m\n\u001b[1;32m    574\u001b[0m     \u001b[0;32mdef\u001b[0m \u001b[0mget\u001b[0m\u001b[0;34m(\u001b[0m\u001b[0mself\u001b[0m\u001b[0;34m)\u001b[0m\u001b[0;34m:\u001b[0m\u001b[0;34m\u001b[0m\u001b[0;34m\u001b[0m\u001b[0m\n",
            "\u001b[0;32m/usr/local/lib/python3.7/dist-packages/joblib/parallel.py\u001b[0m in \u001b[0;36m__call__\u001b[0;34m(self)\u001b[0m\n\u001b[1;32m    261\u001b[0m         \u001b[0;32mwith\u001b[0m \u001b[0mparallel_backend\u001b[0m\u001b[0;34m(\u001b[0m\u001b[0mself\u001b[0m\u001b[0;34m.\u001b[0m\u001b[0m_backend\u001b[0m\u001b[0;34m,\u001b[0m \u001b[0mn_jobs\u001b[0m\u001b[0;34m=\u001b[0m\u001b[0mself\u001b[0m\u001b[0;34m.\u001b[0m\u001b[0m_n_jobs\u001b[0m\u001b[0;34m)\u001b[0m\u001b[0;34m:\u001b[0m\u001b[0;34m\u001b[0m\u001b[0;34m\u001b[0m\u001b[0m\n\u001b[1;32m    262\u001b[0m             return [func(*args, **kwargs)\n\u001b[0;32m--> 263\u001b[0;31m                     for func, args, kwargs in self.items]\n\u001b[0m\u001b[1;32m    264\u001b[0m \u001b[0;34m\u001b[0m\u001b[0m\n\u001b[1;32m    265\u001b[0m     \u001b[0;32mdef\u001b[0m \u001b[0m__reduce__\u001b[0m\u001b[0;34m(\u001b[0m\u001b[0mself\u001b[0m\u001b[0;34m)\u001b[0m\u001b[0;34m:\u001b[0m\u001b[0;34m\u001b[0m\u001b[0;34m\u001b[0m\u001b[0m\n",
            "\u001b[0;32m/usr/local/lib/python3.7/dist-packages/joblib/parallel.py\u001b[0m in \u001b[0;36m<listcomp>\u001b[0;34m(.0)\u001b[0m\n\u001b[1;32m    261\u001b[0m         \u001b[0;32mwith\u001b[0m \u001b[0mparallel_backend\u001b[0m\u001b[0;34m(\u001b[0m\u001b[0mself\u001b[0m\u001b[0;34m.\u001b[0m\u001b[0m_backend\u001b[0m\u001b[0;34m,\u001b[0m \u001b[0mn_jobs\u001b[0m\u001b[0;34m=\u001b[0m\u001b[0mself\u001b[0m\u001b[0;34m.\u001b[0m\u001b[0m_n_jobs\u001b[0m\u001b[0;34m)\u001b[0m\u001b[0;34m:\u001b[0m\u001b[0;34m\u001b[0m\u001b[0;34m\u001b[0m\u001b[0m\n\u001b[1;32m    262\u001b[0m             return [func(*args, **kwargs)\n\u001b[0;32m--> 263\u001b[0;31m                     for func, args, kwargs in self.items]\n\u001b[0m\u001b[1;32m    264\u001b[0m \u001b[0;34m\u001b[0m\u001b[0m\n\u001b[1;32m    265\u001b[0m     \u001b[0;32mdef\u001b[0m \u001b[0m__reduce__\u001b[0m\u001b[0;34m(\u001b[0m\u001b[0mself\u001b[0m\u001b[0;34m)\u001b[0m\u001b[0;34m:\u001b[0m\u001b[0;34m\u001b[0m\u001b[0;34m\u001b[0m\u001b[0m\n",
            "\u001b[0;32m/usr/local/lib/python3.7/dist-packages/sklearn/utils/fixes.py\u001b[0m in \u001b[0;36m__call__\u001b[0;34m(self, *args, **kwargs)\u001b[0m\n\u001b[1;32m    209\u001b[0m     \u001b[0;32mdef\u001b[0m \u001b[0m__call__\u001b[0m\u001b[0;34m(\u001b[0m\u001b[0mself\u001b[0m\u001b[0;34m,\u001b[0m \u001b[0;34m*\u001b[0m\u001b[0margs\u001b[0m\u001b[0;34m,\u001b[0m \u001b[0;34m**\u001b[0m\u001b[0mkwargs\u001b[0m\u001b[0;34m)\u001b[0m\u001b[0;34m:\u001b[0m\u001b[0;34m\u001b[0m\u001b[0;34m\u001b[0m\u001b[0m\n\u001b[1;32m    210\u001b[0m         \u001b[0;32mwith\u001b[0m \u001b[0mconfig_context\u001b[0m\u001b[0;34m(\u001b[0m\u001b[0;34m**\u001b[0m\u001b[0mself\u001b[0m\u001b[0;34m.\u001b[0m\u001b[0mconfig\u001b[0m\u001b[0;34m)\u001b[0m\u001b[0;34m:\u001b[0m\u001b[0;34m\u001b[0m\u001b[0;34m\u001b[0m\u001b[0m\n\u001b[0;32m--> 211\u001b[0;31m             \u001b[0;32mreturn\u001b[0m \u001b[0mself\u001b[0m\u001b[0;34m.\u001b[0m\u001b[0mfunction\u001b[0m\u001b[0;34m(\u001b[0m\u001b[0;34m*\u001b[0m\u001b[0margs\u001b[0m\u001b[0;34m,\u001b[0m \u001b[0;34m**\u001b[0m\u001b[0mkwargs\u001b[0m\u001b[0;34m)\u001b[0m\u001b[0;34m\u001b[0m\u001b[0;34m\u001b[0m\u001b[0m\n\u001b[0m\u001b[1;32m    212\u001b[0m \u001b[0;34m\u001b[0m\u001b[0m\n\u001b[1;32m    213\u001b[0m \u001b[0;34m\u001b[0m\u001b[0m\n",
            "\u001b[0;32m/usr/local/lib/python3.7/dist-packages/sklearn/ensemble/_forest.py\u001b[0m in \u001b[0;36m_parallel_build_trees\u001b[0;34m(tree, forest, X, y, sample_weight, tree_idx, n_trees, verbose, class_weight, n_samples_bootstrap)\u001b[0m\n\u001b[1;32m    183\u001b[0m             \u001b[0mcurr_sample_weight\u001b[0m \u001b[0;34m*=\u001b[0m \u001b[0mcompute_sample_weight\u001b[0m\u001b[0;34m(\u001b[0m\u001b[0;34m\"balanced\"\u001b[0m\u001b[0;34m,\u001b[0m \u001b[0my\u001b[0m\u001b[0;34m,\u001b[0m \u001b[0mindices\u001b[0m\u001b[0;34m=\u001b[0m\u001b[0mindices\u001b[0m\u001b[0;34m)\u001b[0m\u001b[0;34m\u001b[0m\u001b[0;34m\u001b[0m\u001b[0m\n\u001b[1;32m    184\u001b[0m \u001b[0;34m\u001b[0m\u001b[0m\n\u001b[0;32m--> 185\u001b[0;31m         \u001b[0mtree\u001b[0m\u001b[0;34m.\u001b[0m\u001b[0mfit\u001b[0m\u001b[0;34m(\u001b[0m\u001b[0mX\u001b[0m\u001b[0;34m,\u001b[0m \u001b[0my\u001b[0m\u001b[0;34m,\u001b[0m \u001b[0msample_weight\u001b[0m\u001b[0;34m=\u001b[0m\u001b[0mcurr_sample_weight\u001b[0m\u001b[0;34m,\u001b[0m \u001b[0mcheck_input\u001b[0m\u001b[0;34m=\u001b[0m\u001b[0;32mFalse\u001b[0m\u001b[0;34m)\u001b[0m\u001b[0;34m\u001b[0m\u001b[0;34m\u001b[0m\u001b[0m\n\u001b[0m\u001b[1;32m    186\u001b[0m     \u001b[0;32melse\u001b[0m\u001b[0;34m:\u001b[0m\u001b[0;34m\u001b[0m\u001b[0;34m\u001b[0m\u001b[0m\n\u001b[1;32m    187\u001b[0m         \u001b[0mtree\u001b[0m\u001b[0;34m.\u001b[0m\u001b[0mfit\u001b[0m\u001b[0;34m(\u001b[0m\u001b[0mX\u001b[0m\u001b[0;34m,\u001b[0m \u001b[0my\u001b[0m\u001b[0;34m,\u001b[0m \u001b[0msample_weight\u001b[0m\u001b[0;34m=\u001b[0m\u001b[0msample_weight\u001b[0m\u001b[0;34m,\u001b[0m \u001b[0mcheck_input\u001b[0m\u001b[0;34m=\u001b[0m\u001b[0;32mFalse\u001b[0m\u001b[0;34m)\u001b[0m\u001b[0;34m\u001b[0m\u001b[0;34m\u001b[0m\u001b[0m\n",
            "\u001b[0;32m/usr/local/lib/python3.7/dist-packages/sklearn/tree/_classes.py\u001b[0m in \u001b[0;36mfit\u001b[0;34m(self, X, y, sample_weight, check_input, X_idx_sorted)\u001b[0m\n\u001b[1;32m    940\u001b[0m             \u001b[0msample_weight\u001b[0m\u001b[0;34m=\u001b[0m\u001b[0msample_weight\u001b[0m\u001b[0;34m,\u001b[0m\u001b[0;34m\u001b[0m\u001b[0;34m\u001b[0m\u001b[0m\n\u001b[1;32m    941\u001b[0m             \u001b[0mcheck_input\u001b[0m\u001b[0;34m=\u001b[0m\u001b[0mcheck_input\u001b[0m\u001b[0;34m,\u001b[0m\u001b[0;34m\u001b[0m\u001b[0;34m\u001b[0m\u001b[0m\n\u001b[0;32m--> 942\u001b[0;31m             \u001b[0mX_idx_sorted\u001b[0m\u001b[0;34m=\u001b[0m\u001b[0mX_idx_sorted\u001b[0m\u001b[0;34m,\u001b[0m\u001b[0;34m\u001b[0m\u001b[0;34m\u001b[0m\u001b[0m\n\u001b[0m\u001b[1;32m    943\u001b[0m         )\n\u001b[1;32m    944\u001b[0m         \u001b[0;32mreturn\u001b[0m \u001b[0mself\u001b[0m\u001b[0;34m\u001b[0m\u001b[0;34m\u001b[0m\u001b[0m\n",
            "\u001b[0;32m/usr/local/lib/python3.7/dist-packages/sklearn/tree/_classes.py\u001b[0m in \u001b[0;36mfit\u001b[0;34m(self, X, y, sample_weight, check_input, X_idx_sorted)\u001b[0m\n\u001b[1;32m    418\u001b[0m             )\n\u001b[1;32m    419\u001b[0m \u001b[0;34m\u001b[0m\u001b[0m\n\u001b[0;32m--> 420\u001b[0;31m         \u001b[0mbuilder\u001b[0m\u001b[0;34m.\u001b[0m\u001b[0mbuild\u001b[0m\u001b[0;34m(\u001b[0m\u001b[0mself\u001b[0m\u001b[0;34m.\u001b[0m\u001b[0mtree_\u001b[0m\u001b[0;34m,\u001b[0m \u001b[0mX\u001b[0m\u001b[0;34m,\u001b[0m \u001b[0my\u001b[0m\u001b[0;34m,\u001b[0m \u001b[0msample_weight\u001b[0m\u001b[0;34m)\u001b[0m\u001b[0;34m\u001b[0m\u001b[0;34m\u001b[0m\u001b[0m\n\u001b[0m\u001b[1;32m    421\u001b[0m \u001b[0;34m\u001b[0m\u001b[0m\n\u001b[1;32m    422\u001b[0m         \u001b[0;32mif\u001b[0m \u001b[0mself\u001b[0m\u001b[0;34m.\u001b[0m\u001b[0mn_outputs_\u001b[0m \u001b[0;34m==\u001b[0m \u001b[0;36m1\u001b[0m \u001b[0;32mand\u001b[0m \u001b[0mis_classifier\u001b[0m\u001b[0;34m(\u001b[0m\u001b[0mself\u001b[0m\u001b[0;34m)\u001b[0m\u001b[0;34m:\u001b[0m\u001b[0;34m\u001b[0m\u001b[0;34m\u001b[0m\u001b[0m\n",
            "\u001b[0;31mKeyboardInterrupt\u001b[0m: "
          ]
        }
      ]
    },
    {
      "cell_type": "markdown",
      "metadata": {
        "id": "As64UStyvixb"
      },
      "source": [
        "# SVM "
      ]
    },
    {
      "cell_type": "markdown",
      "metadata": {
        "id": "ew1ZoHKyvixc"
      },
      "source": [
        "Initialize and train svm model"
      ]
    },
    {
      "cell_type": "code",
      "metadata": {
        "colab": {
          "base_uri": "https://localhost:8080/"
        },
        "id": "KC4q8yHIvixd",
        "outputId": "c2317905-95e2-409d-99eb-69449546fcc0"
      },
      "source": [
        "# from sklearn.model_selection import cross_val_score\n",
        "from sklearn.model_selection import GridSearchCV\n",
        "import time\n",
        "\n",
        "svc = svm.SVC()\n",
        "tst_size = 0.2\n",
        "ns, nf = np.shape(X) \n",
        "# split data to train and test \n",
        "X_train, X_test, Y_train, Y_test = train_test_split(*shuffle(X, Y, n_samples = ns, random_state=0) , random_state=0, test_size =tst_size )\n",
        "# cross validation\n",
        "# scores = cross_val_score(svc, X_train, Y_train, cv=5 ,scoring= 'f1')\n",
        "cv = 5\n",
        "scoring = 'f1'\n",
        "param_grid = {'C': [0.1, 1, 10, 100],  \n",
        "                'gamma': [1, 0.1, 0.01, 0.001], \n",
        "                'kernel': ['rbf', 'linear', 'sigmoid']}\n",
        "# evaluate hyper-parameters \n",
        "clf = GridSearchCV(svc, param_grid, scoring = scoring, cv = cv ,verbose = 1, n_jobs=-1, return_train_score=1)\n",
        "# train model\n",
        "start_train = time.time()\n",
        "trained_model = clf.fit(X_train, Y_train)\n",
        "runtime_train = start_train - time.time()\n",
        "# predict data\n",
        "start_pred = time.time()\n",
        "Y_pred = trained_model.predict(X_test)\n",
        "runtime_pred = start_pred - time.time()\n",
        "# scores = cross_val_score(clf.best_estimator_, X_train, Y_train, cv=5 ,scoring= 'accuracy')\n",
        "# print(scores)\n",
        "print(clf.best_score_)"
      ],
      "execution_count": 30,
      "outputs": [
        {
          "output_type": "stream",
          "name": "stdout",
          "text": [
            "Fitting 5 folds for each of 48 candidates, totalling 240 fits\n",
            "0.04798574853727491\n"
          ]
        }
      ]
    },
    {
      "cell_type": "code",
      "metadata": {
        "id": "70AA04UpRV4Z"
      },
      "source": [
        "import pickle\n",
        "\n",
        "# save the model to disk\n",
        "filename = 'svm_model.sav'\n",
        "pickle.dump(trained_model, open(filename, 'wb'))\n",
        "# load the model from disk\n",
        "# loaded_model = pickle.load(open(filename, 'rb'))\n",
        "# result = loaded_model.score(X_test, Y_test)\n",
        "# print(result)"
      ],
      "execution_count": null,
      "outputs": []
    },
    {
      "cell_type": "markdown",
      "metadata": {
        "id": "VgbAjfqAvixe"
      },
      "source": [
        "### Classification Report\n",
        "Print some information about the trained model such as training time, ... "
      ]
    },
    {
      "cell_type": "code",
      "metadata": {
        "id": "oHmU_txHvixe",
        "colab": {
          "base_uri": "https://localhost:8080/"
        },
        "outputId": "2f05d905-1732-4e7e-ec63-53ed415e3283"
      },
      "source": [
        "print(\"Best parameters set found on development set:\")\n",
        "print(trained_model.best_params_)\n",
        "print()\n",
        "# print(sorted(trained_model.cv_results_.keys()))\n",
        "print(trained_model.best_score_)\n",
        "# print(trained_model.cv_results_.mean_fit)\n",
        "\n",
        "print('-----------------')\n",
        "# print(Y_pred)\n",
        "print('\\nclassification report: \\n')\n",
        "from sklearn.metrics import classification_report\n",
        "print(classification_report(Y_test, Y_pred))\n",
        "\n",
        "EM2 = scoring\n",
        "mean_test_scores = trained_model.cv_results_.get('mean_test_score')\n",
        "CVS2 = mean_test_scores[trained_model.best_index_]\n",
        "CPS2 = trained_model.score(X_test, Y_test)\n",
        "T2 = runtime_train\n",
        "PT2 = runtime_pred\n",
        "print( \"Training Time was: \" + str(T2))\n",
        "print(\"Prediction Time was: \" + str(PT2))"
      ],
      "execution_count": null,
      "outputs": [
        {
          "output_type": "stream",
          "name": "stdout",
          "text": [
            "Best parameters set found on development set:\n",
            "{'C': 100, 'gamma': 1, 'kernel': 'rbf'}\n",
            "\n",
            "0.04798574853727491\n",
            "-----------------\n",
            "\n",
            "classification report: \n",
            "\n",
            "              precision    recall  f1-score   support\n",
            "\n",
            "           0       0.49      0.96      0.65       990\n",
            "           1       0.49      0.04      0.07      1010\n",
            "\n",
            "    accuracy                           0.49      2000\n",
            "   macro avg       0.49      0.50      0.36      2000\n",
            "weighted avg       0.49      0.49      0.36      2000\n",
            "\n"
          ]
        }
      ]
    },
    {
      "cell_type": "markdown",
      "metadata": {
        "id": "rf8ukjsfvixf"
      },
      "source": [
        "### Confusion Matrix"
      ]
    },
    {
      "cell_type": "code",
      "metadata": {
        "id": "qNiOChmcvixf"
      },
      "source": [
        "from sklearn.metrics import ConfusionMatrixDisplay\n",
        "cm = confusion_matrix(Y_test, Y_pred, labels=clf.classes_)\n",
        "disp = ConfusionMatrixDisplay(confusion_matrix=cm, display_labels=clf.classes_)\n",
        "disp.plot()\n",
        "plt.show()"
      ],
      "execution_count": null,
      "outputs": []
    },
    {
      "cell_type": "markdown",
      "metadata": {
        "id": "NkLTkX8zvixi"
      },
      "source": [
        "### Learning Curve\n"
      ]
    },
    {
      "cell_type": "code",
      "metadata": {
        "id": "xmA9wHBjvixj",
        "colab": {
          "base_uri": "https://localhost:8080/",
          "height": 632
        },
        "outputId": "95c90f8a-ed36-4744-f8ba-51582214146c"
      },
      "source": [
        "ns = [100,500,1000,5000,6400]\n",
        "train_sizes, train_scores, valid_scores = learning_curve(trained_model, X_train, Y_train, train_sizes=ns, cv=cv, scoring= scoring, n_jobs = -1)\n",
        "\n",
        "train_scores_mean =  train_scores.mean(axis = 1)\n",
        "train_scores_std = np.std(train_scores, axis=1)\n",
        "validation_scores_mean =  valid_scores.mean(axis = 1)\n",
        "validation_scores_std  = valid_scores.std(axis = 1)\n",
        "\n",
        "xlabel = 'Sample Size'\n",
        "ylabel = scoring\n",
        "plt_title = 'Learning Curve'\n",
        "\n",
        "fig = plt.figure()\n",
        "ax = fig.add_subplot(111, xlabel=xlabel, ylabel=ylabel, title=plt_title)\n",
        "ax.plot(train_sizes, train_scores_mean, label = 'Training Score')\n",
        "ax.plot(train_sizes, validation_scores_mean, label = 'Validation Score')\n",
        "\n",
        "plt.fill_between(train_sizes, train_scores_mean - train_scores_std,\n",
        "                 train_scores_mean + train_scores_std, alpha=0.2,\n",
        "                 color=\"darkblue\", lw=2)\n",
        "plt.fill_between(train_sizes, validation_scores_mean - validation_scores_std,\n",
        "                 validation_scores_mean + validation_scores_std, alpha=0.2,\n",
        "                 color=\"darkgreen\", lw=2)\n",
        "\n",
        "plt.legend()\n",
        "# plt.yscale('log')\n",
        "plt.show()\n",
        "\n",
        "print('Training scores:\\n\\n', pd.DataFrame( train_scores, columns=[f'cv{i+1}' for i in range(cv)], index=ns) )\n",
        "print('\\n', '-' * 70) # separator to make the output easy to read\n",
        "print('\\nValidation scores:\\n\\n', pd.DataFrame(valid_scores, columns=[f'cv{i+1}' for i in range(cv)], index=ns) )"
      ],
      "execution_count": null,
      "outputs": [
        {
          "output_type": "display_data",
          "data": {
            "image/png": "[encoded data removed]",
            "text/plain": [
              "<Figure size 432x288 with 1 Axes>"
            ]
          },
          "metadata": {
            "needs_background": "light"
          }
        },
        {
          "output_type": "stream",
          "name": "stdout",
          "text": [
            "Training scores:\n",
            "\n",
            "       cv1       cv2       cv3       cv4       cv5\n",
            "100   0.0  0.076923  0.076923  0.076923  0.076923\n",
            "500   0.0  0.000000  0.000000  0.000000  0.000000\n",
            "1000  0.0  0.000000  0.000000  0.000000  0.000000\n",
            "5000  0.0  0.000000  0.000000  0.000000  0.000000\n",
            "6400  0.0  0.075374  0.064346  0.014810  0.065698\n",
            "\n",
            " ----------------------------------------------------------------------\n",
            "\n",
            "Validation scores:\n",
            "\n",
            "       cv1       cv2       cv3       cv4       cv5\n",
            "100   0.0  0.120536  0.106667  0.102793  0.102450\n",
            "500   0.0  0.000000  0.000000  0.000000  0.000000\n",
            "1000  0.0  0.000000  0.000000  0.000000  0.000000\n",
            "5000  0.0  0.000000  0.000000  0.000000  0.000000\n",
            "6400  0.0  0.087760  0.063084  0.019560  0.069525\n"
          ]
        }
      ]
    },
    {
      "cell_type": "markdown",
      "metadata": {
        "id": "ptX4Ql42vixk"
      },
      "source": [
        "### Validation Curve\n"
      ]
    },
    {
      "cell_type": "code",
      "metadata": {
        "id": "nxDGL2uDvixl",
        "colab": {
          "base_uri": "https://localhost:8080/",
          "height": 754
        },
        "outputId": "5a114371-cc20-4d90-f6d3-1516ba54c9a0"
      },
      "source": [
        "c_list = param_grid.get('C')\n",
        "train_scores, valid_scores = validation_curve(SVC(), X_train, Y_train, \n",
        "                                              param_name=\"gamma\",\n",
        "                                              param_range=c_list , \n",
        "                                              cv=cv, \n",
        "                                              scoring = scoring,\n",
        "                                              verbose=1, \n",
        "                                              n_jobs=-1\n",
        "                                             )\n",
        "train_scores_mean = np.mean(train_scores, axis=1)\n",
        "train_scores_std = np.std(train_scores, axis=1)\n",
        "valid_scores_mean = np.mean(valid_scores, axis=1)\n",
        "valid_scores_std = np.std(valid_scores, axis=1)\n",
        "\n",
        "xlabel = 'gamma'\n",
        "ylabel = scoring\n",
        "plt_title = 'Validation Curve'\n",
        "\n",
        "fig = plt.figure()\n",
        "ax = fig.add_subplot(111, xlabel=xlabel, ylabel=ylabel, title=plt_title)\n",
        "plt.plot(c_list, train_scores_mean, label=\"Training score\",\n",
        "             color=\"darkorange\", lw=2)\n",
        "plt.fill_between(c_list, train_scores_mean - train_scores_std,\n",
        "                 train_scores_mean + train_scores_std, alpha=0.2,\n",
        "                 color=\"darkorange\", lw=2)\n",
        "plt.plot(c_list, valid_scores_mean, label=\"Validation score\",\n",
        "             color=\"navy\", lw=2)\n",
        "plt.fill_between(c_list, valid_scores_mean - valid_scores_std,\n",
        "                 valid_scores_mean + valid_scores_std, alpha=0.2,\n",
        "                 color=\"navy\", lw=2)\n",
        "plt.legend(loc=\"best\")\n",
        "plt.show()\n",
        "\n",
        "print('Training scores:\\n\\n', pd.DataFrame( train_scores, columns=[f'cv{i+1}' for i in range(cv)], index=ns) )\n",
        "print('\\n', '-' * 70) # separator to make the output easy to read\n",
        "print('\\nValidation scores:\\n\\n', pd.DataFrame(valid_scores, columns=[f'cv{i+1}' for i in range(cv)], index=ns) )"
      ],
      "execution_count": 16,
      "outputs": [
        {
          "output_type": "stream",
          "name": "stderr",
          "text": [
            "[Parallel(n_jobs=-1)]: Using backend LokyBackend with 2 concurrent workers.\n",
            "[Parallel(n_jobs=-1)]: Done  20 out of  20 | elapsed:  1.5min finished\n"
          ]
        },
        {
          "output_type": "display_data",
          "data": {
            "image/png": "[encoded data removed]",
            "text/plain": [
              "<Figure size 432x288 with 1 Axes>"
            ]
          },
          "metadata": {
            "needs_background": "light"
          }
        },
        {
          "output_type": "error",
          "ename": "ValueError",
          "evalue": "ignored",
          "traceback": [
            "\u001b[0;31m---------------------------------------------------------------------------\u001b[0m",
            "\u001b[0;31mValueError\u001b[0m                                Traceback (most recent call last)",
            "\u001b[0;32m/usr/local/lib/python3.7/dist-packages/pandas/core/internals/managers.py\u001b[0m in \u001b[0;36mcreate_block_manager_from_blocks\u001b[0;34m(blocks, axes)\u001b[0m\n\u001b[1;32m   1673\u001b[0m \u001b[0;34m\u001b[0m\u001b[0m\n\u001b[0;32m-> 1674\u001b[0;31m         \u001b[0mmgr\u001b[0m \u001b[0;34m=\u001b[0m \u001b[0mBlockManager\u001b[0m\u001b[0;34m(\u001b[0m\u001b[0mblocks\u001b[0m\u001b[0;34m,\u001b[0m \u001b[0maxes\u001b[0m\u001b[0;34m)\u001b[0m\u001b[0;34m\u001b[0m\u001b[0;34m\u001b[0m\u001b[0m\n\u001b[0m\u001b[1;32m   1675\u001b[0m         \u001b[0mmgr\u001b[0m\u001b[0;34m.\u001b[0m\u001b[0m_consolidate_inplace\u001b[0m\u001b[0;34m(\u001b[0m\u001b[0;34m)\u001b[0m\u001b[0;34m\u001b[0m\u001b[0;34m\u001b[0m\u001b[0m\n",
            "\u001b[0;32m/usr/local/lib/python3.7/dist-packages/pandas/core/internals/managers.py\u001b[0m in \u001b[0;36m__init__\u001b[0;34m(self, blocks, axes, do_integrity_check)\u001b[0m\n\u001b[1;32m    148\u001b[0m         \u001b[0;32mif\u001b[0m \u001b[0mdo_integrity_check\u001b[0m\u001b[0;34m:\u001b[0m\u001b[0;34m\u001b[0m\u001b[0;34m\u001b[0m\u001b[0m\n\u001b[0;32m--> 149\u001b[0;31m             \u001b[0mself\u001b[0m\u001b[0;34m.\u001b[0m\u001b[0m_verify_integrity\u001b[0m\u001b[0;34m(\u001b[0m\u001b[0;34m)\u001b[0m\u001b[0;34m\u001b[0m\u001b[0;34m\u001b[0m\u001b[0m\n\u001b[0m\u001b[1;32m    150\u001b[0m \u001b[0;34m\u001b[0m\u001b[0m\n",
            "\u001b[0;32m/usr/local/lib/python3.7/dist-packages/pandas/core/internals/managers.py\u001b[0m in \u001b[0;36m_verify_integrity\u001b[0;34m(self)\u001b[0m\n\u001b[1;32m    328\u001b[0m             \u001b[0;32mif\u001b[0m \u001b[0mblock\u001b[0m\u001b[0;34m.\u001b[0m\u001b[0mshape\u001b[0m\u001b[0;34m[\u001b[0m\u001b[0;36m1\u001b[0m\u001b[0;34m:\u001b[0m\u001b[0;34m]\u001b[0m \u001b[0;34m!=\u001b[0m \u001b[0mmgr_shape\u001b[0m\u001b[0;34m[\u001b[0m\u001b[0;36m1\u001b[0m\u001b[0;34m:\u001b[0m\u001b[0;34m]\u001b[0m\u001b[0;34m:\u001b[0m\u001b[0;34m\u001b[0m\u001b[0;34m\u001b[0m\u001b[0m\n\u001b[0;32m--> 329\u001b[0;31m                 \u001b[0;32mraise\u001b[0m \u001b[0mconstruction_error\u001b[0m\u001b[0;34m(\u001b[0m\u001b[0mtot_items\u001b[0m\u001b[0;34m,\u001b[0m \u001b[0mblock\u001b[0m\u001b[0;34m.\u001b[0m\u001b[0mshape\u001b[0m\u001b[0;34m[\u001b[0m\u001b[0;36m1\u001b[0m\u001b[0;34m:\u001b[0m\u001b[0;34m]\u001b[0m\u001b[0;34m,\u001b[0m \u001b[0mself\u001b[0m\u001b[0;34m.\u001b[0m\u001b[0maxes\u001b[0m\u001b[0;34m)\u001b[0m\u001b[0;34m\u001b[0m\u001b[0;34m\u001b[0m\u001b[0m\n\u001b[0m\u001b[1;32m    330\u001b[0m         \u001b[0;32mif\u001b[0m \u001b[0mlen\u001b[0m\u001b[0;34m(\u001b[0m\u001b[0mself\u001b[0m\u001b[0;34m.\u001b[0m\u001b[0mitems\u001b[0m\u001b[0;34m)\u001b[0m \u001b[0;34m!=\u001b[0m \u001b[0mtot_items\u001b[0m\u001b[0;34m:\u001b[0m\u001b[0;34m\u001b[0m\u001b[0;34m\u001b[0m\u001b[0m\n",
            "\u001b[0;31mValueError\u001b[0m: Shape of passed values is (4, 5), indices imply (5, 5)",
            "\nDuring handling of the above exception, another exception occurred:\n",
            "\u001b[0;31mValueError\u001b[0m                                Traceback (most recent call last)",
            "\u001b[0;32m<ipython-input-16-70b149f8ec04>\u001b[0m in \u001b[0;36m<module>\u001b[0;34m()\u001b[0m\n\u001b[1;32m     33\u001b[0m \u001b[0mplt\u001b[0m\u001b[0;34m.\u001b[0m\u001b[0mshow\u001b[0m\u001b[0;34m(\u001b[0m\u001b[0;34m)\u001b[0m\u001b[0;34m\u001b[0m\u001b[0;34m\u001b[0m\u001b[0m\n\u001b[1;32m     34\u001b[0m \u001b[0;34m\u001b[0m\u001b[0m\n\u001b[0;32m---> 35\u001b[0;31m \u001b[0mprint\u001b[0m\u001b[0;34m(\u001b[0m\u001b[0;34m'Training scores:\\n\\n'\u001b[0m\u001b[0;34m,\u001b[0m \u001b[0mpd\u001b[0m\u001b[0;34m.\u001b[0m\u001b[0mDataFrame\u001b[0m\u001b[0;34m(\u001b[0m \u001b[0mtrain_scores\u001b[0m\u001b[0;34m,\u001b[0m \u001b[0mcolumns\u001b[0m\u001b[0;34m=\u001b[0m\u001b[0;34m[\u001b[0m\u001b[0;34mf'cv{i+1}'\u001b[0m \u001b[0;32mfor\u001b[0m \u001b[0mi\u001b[0m \u001b[0;32min\u001b[0m \u001b[0mrange\u001b[0m\u001b[0;34m(\u001b[0m\u001b[0mcv\u001b[0m\u001b[0;34m)\u001b[0m\u001b[0;34m]\u001b[0m\u001b[0;34m,\u001b[0m \u001b[0mindex\u001b[0m\u001b[0;34m=\u001b[0m\u001b[0mns\u001b[0m\u001b[0;34m)\u001b[0m \u001b[0;34m)\u001b[0m\u001b[0;34m\u001b[0m\u001b[0;34m\u001b[0m\u001b[0m\n\u001b[0m\u001b[1;32m     36\u001b[0m \u001b[0mprint\u001b[0m\u001b[0;34m(\u001b[0m\u001b[0;34m'\\n'\u001b[0m\u001b[0;34m,\u001b[0m \u001b[0;34m'-'\u001b[0m \u001b[0;34m*\u001b[0m \u001b[0;36m70\u001b[0m\u001b[0;34m)\u001b[0m \u001b[0;31m# separator to make the output easy to read\u001b[0m\u001b[0;34m\u001b[0m\u001b[0;34m\u001b[0m\u001b[0m\n\u001b[1;32m     37\u001b[0m \u001b[0mprint\u001b[0m\u001b[0;34m(\u001b[0m\u001b[0;34m'\\nValidation scores:\\n\\n'\u001b[0m\u001b[0;34m,\u001b[0m \u001b[0mpd\u001b[0m\u001b[0;34m.\u001b[0m\u001b[0mDataFrame\u001b[0m\u001b[0;34m(\u001b[0m\u001b[0mvalid_scores\u001b[0m\u001b[0;34m,\u001b[0m \u001b[0mcolumns\u001b[0m\u001b[0;34m=\u001b[0m\u001b[0;34m[\u001b[0m\u001b[0;34mf'cv{i+1}'\u001b[0m \u001b[0;32mfor\u001b[0m \u001b[0mi\u001b[0m \u001b[0;32min\u001b[0m \u001b[0mrange\u001b[0m\u001b[0;34m(\u001b[0m\u001b[0mcv\u001b[0m\u001b[0;34m)\u001b[0m\u001b[0;34m]\u001b[0m\u001b[0;34m,\u001b[0m \u001b[0mindex\u001b[0m\u001b[0;34m=\u001b[0m\u001b[0mns\u001b[0m\u001b[0;34m)\u001b[0m \u001b[0;34m)\u001b[0m\u001b[0;34m\u001b[0m\u001b[0;34m\u001b[0m\u001b[0m\n",
            "\u001b[0;32m/usr/local/lib/python3.7/dist-packages/pandas/core/frame.py\u001b[0m in \u001b[0;36m__init__\u001b[0;34m(self, data, index, columns, dtype, copy)\u001b[0m\n\u001b[1;32m    495\u001b[0m                 \u001b[0mmgr\u001b[0m \u001b[0;34m=\u001b[0m \u001b[0minit_dict\u001b[0m\u001b[0;34m(\u001b[0m\u001b[0;34m{\u001b[0m\u001b[0mdata\u001b[0m\u001b[0;34m.\u001b[0m\u001b[0mname\u001b[0m\u001b[0;34m:\u001b[0m \u001b[0mdata\u001b[0m\u001b[0;34m}\u001b[0m\u001b[0;34m,\u001b[0m \u001b[0mindex\u001b[0m\u001b[0;34m,\u001b[0m \u001b[0mcolumns\u001b[0m\u001b[0;34m,\u001b[0m \u001b[0mdtype\u001b[0m\u001b[0;34m=\u001b[0m\u001b[0mdtype\u001b[0m\u001b[0;34m)\u001b[0m\u001b[0;34m\u001b[0m\u001b[0;34m\u001b[0m\u001b[0m\n\u001b[1;32m    496\u001b[0m             \u001b[0;32melse\u001b[0m\u001b[0;34m:\u001b[0m\u001b[0;34m\u001b[0m\u001b[0;34m\u001b[0m\u001b[0m\n\u001b[0;32m--> 497\u001b[0;31m                 \u001b[0mmgr\u001b[0m \u001b[0;34m=\u001b[0m \u001b[0minit_ndarray\u001b[0m\u001b[0;34m(\u001b[0m\u001b[0mdata\u001b[0m\u001b[0;34m,\u001b[0m \u001b[0mindex\u001b[0m\u001b[0;34m,\u001b[0m \u001b[0mcolumns\u001b[0m\u001b[0;34m,\u001b[0m \u001b[0mdtype\u001b[0m\u001b[0;34m=\u001b[0m\u001b[0mdtype\u001b[0m\u001b[0;34m,\u001b[0m \u001b[0mcopy\u001b[0m\u001b[0;34m=\u001b[0m\u001b[0mcopy\u001b[0m\u001b[0;34m)\u001b[0m\u001b[0;34m\u001b[0m\u001b[0;34m\u001b[0m\u001b[0m\n\u001b[0m\u001b[1;32m    498\u001b[0m \u001b[0;34m\u001b[0m\u001b[0m\n\u001b[1;32m    499\u001b[0m         \u001b[0;31m# For data is list-like, or Iterable (will consume into list)\u001b[0m\u001b[0;34m\u001b[0m\u001b[0;34m\u001b[0m\u001b[0;34m\u001b[0m\u001b[0m\n",
            "\u001b[0;32m/usr/local/lib/python3.7/dist-packages/pandas/core/internals/construction.py\u001b[0m in \u001b[0;36minit_ndarray\u001b[0;34m(values, index, columns, dtype, copy)\u001b[0m\n\u001b[1;32m    232\u001b[0m         \u001b[0mblock_values\u001b[0m \u001b[0;34m=\u001b[0m \u001b[0;34m[\u001b[0m\u001b[0mvalues\u001b[0m\u001b[0;34m]\u001b[0m\u001b[0;34m\u001b[0m\u001b[0;34m\u001b[0m\u001b[0m\n\u001b[1;32m    233\u001b[0m \u001b[0;34m\u001b[0m\u001b[0m\n\u001b[0;32m--> 234\u001b[0;31m     \u001b[0;32mreturn\u001b[0m \u001b[0mcreate_block_manager_from_blocks\u001b[0m\u001b[0;34m(\u001b[0m\u001b[0mblock_values\u001b[0m\u001b[0;34m,\u001b[0m \u001b[0;34m[\u001b[0m\u001b[0mcolumns\u001b[0m\u001b[0;34m,\u001b[0m \u001b[0mindex\u001b[0m\u001b[0;34m]\u001b[0m\u001b[0;34m)\u001b[0m\u001b[0;34m\u001b[0m\u001b[0;34m\u001b[0m\u001b[0m\n\u001b[0m\u001b[1;32m    235\u001b[0m \u001b[0;34m\u001b[0m\u001b[0m\n\u001b[1;32m    236\u001b[0m \u001b[0;34m\u001b[0m\u001b[0m\n",
            "\u001b[0;32m/usr/local/lib/python3.7/dist-packages/pandas/core/internals/managers.py\u001b[0m in \u001b[0;36mcreate_block_manager_from_blocks\u001b[0;34m(blocks, axes)\u001b[0m\n\u001b[1;32m   1679\u001b[0m         \u001b[0mblocks\u001b[0m \u001b[0;34m=\u001b[0m \u001b[0;34m[\u001b[0m\u001b[0mgetattr\u001b[0m\u001b[0;34m(\u001b[0m\u001b[0mb\u001b[0m\u001b[0;34m,\u001b[0m \u001b[0;34m\"values\"\u001b[0m\u001b[0;34m,\u001b[0m \u001b[0mb\u001b[0m\u001b[0;34m)\u001b[0m \u001b[0;32mfor\u001b[0m \u001b[0mb\u001b[0m \u001b[0;32min\u001b[0m \u001b[0mblocks\u001b[0m\u001b[0;34m]\u001b[0m\u001b[0;34m\u001b[0m\u001b[0;34m\u001b[0m\u001b[0m\n\u001b[1;32m   1680\u001b[0m         \u001b[0mtot_items\u001b[0m \u001b[0;34m=\u001b[0m \u001b[0msum\u001b[0m\u001b[0;34m(\u001b[0m\u001b[0mb\u001b[0m\u001b[0;34m.\u001b[0m\u001b[0mshape\u001b[0m\u001b[0;34m[\u001b[0m\u001b[0;36m0\u001b[0m\u001b[0;34m]\u001b[0m \u001b[0;32mfor\u001b[0m \u001b[0mb\u001b[0m \u001b[0;32min\u001b[0m \u001b[0mblocks\u001b[0m\u001b[0;34m)\u001b[0m\u001b[0;34m\u001b[0m\u001b[0;34m\u001b[0m\u001b[0m\n\u001b[0;32m-> 1681\u001b[0;31m         \u001b[0;32mraise\u001b[0m \u001b[0mconstruction_error\u001b[0m\u001b[0;34m(\u001b[0m\u001b[0mtot_items\u001b[0m\u001b[0;34m,\u001b[0m \u001b[0mblocks\u001b[0m\u001b[0;34m[\u001b[0m\u001b[0;36m0\u001b[0m\u001b[0;34m]\u001b[0m\u001b[0;34m.\u001b[0m\u001b[0mshape\u001b[0m\u001b[0;34m[\u001b[0m\u001b[0;36m1\u001b[0m\u001b[0;34m:\u001b[0m\u001b[0;34m]\u001b[0m\u001b[0;34m,\u001b[0m \u001b[0maxes\u001b[0m\u001b[0;34m,\u001b[0m \u001b[0me\u001b[0m\u001b[0;34m)\u001b[0m\u001b[0;34m\u001b[0m\u001b[0;34m\u001b[0m\u001b[0m\n\u001b[0m\u001b[1;32m   1682\u001b[0m \u001b[0;34m\u001b[0m\u001b[0m\n\u001b[1;32m   1683\u001b[0m \u001b[0;34m\u001b[0m\u001b[0m\n",
            "\u001b[0;31mValueError\u001b[0m: Shape of passed values is (4, 5), indices imply (5, 5)"
          ]
        }
      ]
    },
    {
      "cell_type": "markdown",
      "metadata": {
        "id": "ckUaCbULvixn"
      },
      "source": [
        "# Logistic Regression"
      ]
    },
    {
      "cell_type": "code",
      "metadata": {
        "id": "LOl9g5ZTvixn"
      },
      "source": [
        "from sklearn.linear_model import LogisticRegression\n",
        "from sklearn.model_selection import train_test_split, GridSearchCV\n",
        "from sklearn.utils import shuffle\n",
        "from sklearn.pipeline import Pipeline\n",
        "from sklearn.preprocessing import StandardScaler, PolynomialFeatures\n",
        "# scale model\n",
        "\n",
        "lrg = LogisticRegression(fit_intercept=True)\n",
        "tst_size = 0.2\n",
        "ns, nf = np.shape(X)\n",
        "clf = Pipeline([('scaler', StandardScaler() ), \n",
        "                        ('p_transformer', PolynomialFeatures(degree = 5)), \n",
        "                        ('clf', LogisticRegression(solver='liblinear'))])\n",
        "start = time.time()\n",
        "trained_model = clf.fit(X_train,Y_train)\n",
        "runtime_train = time.time() - start()\n",
        "### Testing the model\n",
        "start = time.time()\n",
        "Y_pred = trained_model.predict(X_test)\n",
        "runtime_pred = time.time() - start()\n",
        "out_error = np.abs(Y_test - Y_pred).sum() / len(Y_test)\n",
        "\n",
        "in_error = np.abs(Y_train - trained_model.predict(X_train)  ).sum() / len(Y_train)\n",
        "\n",
        "print(f'The in-sample error is {in_error:.4f}, and the out_sample error is {out_error:.4f}.')"
      ],
      "execution_count": null,
      "outputs": []
    },
    {
      "cell_type": "markdown",
      "metadata": {
        "id": "uTaT6GE4yQrG"
      },
      "source": [
        "### Classification Report\n",
        "Print some information about the trained model such as training time, ... "
      ]
    },
    {
      "cell_type": "code",
      "metadata": {
        "colab": {
          "base_uri": "https://localhost:8080/"
        },
        "id": "FmEBIxDqyQrQ",
        "outputId": "2f05d905-1732-4e7e-ec63-53ed415e3283"
      },
      "source": [
        "print(\"Best parameters set found on development set:\")\n",
        "print(trained_model.best_params_)\n",
        "print()\n",
        "# print(sorted(trained_model.cv_results_.keys()))\n",
        "print(trained_model.best_score_)\n",
        "# print(trained_model.cv_results_.mean_fit)\n",
        "\n",
        "print('-----------------')\n",
        "# print(Y_pred)\n",
        "print('\\nclassification report: \\n')\n",
        "from sklearn.metrics import classification_report\n",
        "print(classification_report(Y_test, Y_pred))\n",
        "\n",
        "EM3 = scoring\n",
        "mean_test_scores = trained_model.cv_results_.get('mean_test_score')\n",
        "CVS3 = mean_test_scores[trained_model.best_index_]\n",
        "CPS3 = trained_model.score(X_test, Y_test)\n",
        "T3 = runtime_train\n",
        "PT3 = runtime_pred\n",
        "print( \"Training Time was: \" + str(T3))\n",
        "print(\"Prediction Time was: \" + str(PT3))"
      ],
      "execution_count": null,
      "outputs": [
        {
          "output_type": "stream",
          "name": "stdout",
          "text": [
            "Best parameters set found on development set:\n",
            "{'C': 100, 'gamma': 1, 'kernel': 'rbf'}\n",
            "\n",
            "0.04798574853727491\n",
            "-----------------\n",
            "\n",
            "classification report: \n",
            "\n",
            "              precision    recall  f1-score   support\n",
            "\n",
            "           0       0.49      0.96      0.65       990\n",
            "           1       0.49      0.04      0.07      1010\n",
            "\n",
            "    accuracy                           0.49      2000\n",
            "   macro avg       0.49      0.50      0.36      2000\n",
            "weighted avg       0.49      0.49      0.36      2000\n",
            "\n"
          ]
        }
      ]
    },
    {
      "cell_type": "markdown",
      "metadata": {
        "id": "P9K93ONRxdNR"
      },
      "source": [
        "### Confusion Matrix"
      ]
    },
    {
      "cell_type": "code",
      "metadata": {
        "id": "atjSM1dzxeg1"
      },
      "source": [
        "from sklearn.metrics import ConfusionMatrixDisplay\n",
        "cm = confusion_matrix(Y_test, Y_pred, labels=clf.classes_)\n",
        "disp = ConfusionMatrixDisplay(confusion_matrix=cm, display_labels=clf.classes_)\n",
        "disp.plot()\n",
        "plt.show()"
      ],
      "execution_count": null,
      "outputs": []
    },
    {
      "cell_type": "markdown",
      "metadata": {
        "id": "8h2D5sNBxjOz"
      },
      "source": [
        "### Learning Curve"
      ]
    },
    {
      "cell_type": "code",
      "metadata": {
        "id": "GO7mkbIjxkiE"
      },
      "source": [
        "scoring= 'f1'\n",
        "\n",
        "ns = [10,100,200,250,300,500,1000,5000,6000,8000]\n",
        "train_sizes, train_scores, valid_scores = learning_curve(trained_model, X, Y, train_sizes=ns,\n",
        "                                                         cv=cv, scoring= scoring, n_jobs = -1)\n",
        "\n",
        "train_scores_mean =  train_scores.mean(axis = 1)\n",
        "train_scores_std = np.std(train_scores, axis=1)\n",
        "validation_scores_mean =  valid_scores.mean(axis = 1)\n",
        "validation_scores_std  = valid_scores.std(axis = 1)\n",
        "\n",
        "xlabel = 'Sample Size'\n",
        "ylabel = scoring\n",
        "plt_title = 'Learning Curve'\n",
        "\n",
        "fig = plt.figure()\n",
        "ax = fig.add_subplot(111, xlabel=xlabel, ylabel=ylabel, title=plt_title)\n",
        "ax.plot(train_sizes, train_scores_mean, label = 'Training Score')\n",
        "ax.plot(train_sizes, validation_scores_mean, label = 'Validation Score')\n",
        "\n",
        "plt.fill_between(train_sizes, train_scores_mean - train_scores_std,\n",
        "                 train_scores_mean + train_scores_std, alpha=0.2,\n",
        "                 color=\"darkblue\", lw=2)\n",
        "plt.fill_between(train_sizes, validation_scores_mean - validation_scores_std,\n",
        "                 validation_scores_mean + validation_scores_std, alpha=0.2,\n",
        "                 color=\"darkgreen\", lw=2)\n",
        "\n",
        "plt.legend()\n",
        "# plt.yscale('log')\n",
        "plt.show()\n",
        "\n",
        "print('Training scores:\\n\\n', pd.DataFrame( train_scores, columns=[f'cv{i+1}' for i in range(cv)], index=ns) )\n",
        "print('\\n', '-' * 70) # separator to make the output easy to read\n",
        "print('\\nValidation scores:\\n\\n', pd.DataFrame(valid_scores, columns=[f'cv{i+1}' for i in range(cv)], index=ns) )"
      ],
      "execution_count": null,
      "outputs": []
    },
    {
      "cell_type": "markdown",
      "metadata": {
        "id": "JUP7ITZJxun1"
      },
      "source": [
        "### Validation Curve"
      ]
    },
    {
      "cell_type": "code",
      "metadata": {
        "id": "yDDRiRqUxv_i"
      },
      "source": [
        "c_list = [1,2,3,4,5,7,15,25]\n",
        "train_scores, valid_scores = validation_curve(clf, X_train, Y_train, \n",
        "                                              param_name='p_transformer__degree',\n",
        "                                              param_range= c_list, \n",
        "                                              cv=cv, \n",
        "                                              scoring = scoring,\n",
        "                                              verbose=1, \n",
        "                                              n_jobs=-1\n",
        "                                             )\n",
        "train_scores_mean = np.mean(train_scores, axis=1)\n",
        "train_scores_std = np.std(train_scores, axis=1)\n",
        "valid_scores_mean = np.mean(valid_scores, axis=1)\n",
        "valid_scores_std = np.std(valid_scores, axis=1)\n",
        "\n",
        "xlabel = 'Polynomial Degree'\n",
        "ylabel = scoring\n",
        "plt_title = 'Validation Curve'\n",
        "\n",
        "fig = plt.figure(figsize=(7,5))\n",
        "ax = fig.add_subplot(111, xlabel=xlabel, ylabel=ylabel, title=plt_title)\n",
        "plt.plot(c_list, train_scores_mean, label=\"Training score\",\n",
        "             color=\"darkorange\", lw=2)\n",
        "plt.fill_between(c_list, train_scores_mean - train_scores_std,\n",
        "                 train_scores_mean + train_scores_std, alpha=0.2,\n",
        "                 color=\"darkorange\", lw=2)\n",
        "plt.plot(c_list, valid_scores_mean, label=\"Validation score\",\n",
        "             color=\"navy\", lw=2)\n",
        "plt.fill_between(c_list, valid_scores_mean - valid_scores_std,\n",
        "                 valid_scores_mean + valid_scores_std, alpha=0.2,\n",
        "                 color=\"navy\", lw=2)\n",
        "plt.legend(loc=\"best\")\n",
        "plt.show()\n",
        "\n",
        "print('Training scores:\\n\\n', pd.DataFrame(train_scores, columns=[f'cv{i+1}' for i in range(cv)]) )\n",
        "print('\\n', '-' * 70) # separator to make the output easy to read\n",
        "print('\\nValidation scores:\\n\\n', pd.DataFrame(valid_scores, columns=[f'cv{i+1}' for i in range(cv)]) )"
      ],
      "execution_count": null,
      "outputs": []
    },
    {
      "cell_type": "markdown",
      "metadata": {
        "id": "3MWNGdkn0bt9"
      },
      "source": [
        "# KNN"
      ]
    },
    {
      "cell_type": "code",
      "metadata": {
        "id": "ItRUYOPG0cwe"
      },
      "source": [
        "from sklearn.neighbors import KNeighborsClassifier\n",
        "classifier = KNeighborsClassifier(n_neighbors = 3, weights='uniform', \n",
        "                                  algorithm='auto', leaf_size = 30, p = 2, metric='minkowski', metric_params = None)\n",
        "#check\n",
        "%t classifier.fit(X_train , Y_train)\n",
        "\n",
        "#Testing the classification on the test sample\n",
        "Y_predict_knn = classifier.predict(X_test)\n",
        "#check\n",
        "%t Y_predict_knn = classifier.predict(X_test)"
      ],
      "execution_count": null,
      "outputs": []
    },
    {
      "cell_type": "code",
      "metadata": {
        "id": "hHSzAi3g00pP"
      },
      "source": [
        "import matplotlib.pyplot as plt\n",
        "\n",
        "fig = plt.figure(figsize=(20,10))\n",
        "ax = fig.add_subplot(121 , xlabel = '$\\delta(rc=0.8)$', ylabel='$\\delta(rc=1.2)$' , title = 'Result of the Classification')\n",
        "\n",
        "ax.scatter(*X_test[:,:2].T, c=Y_test)    \n",
        "\n",
        "ax = fig.add_subplot(122 , xlabel = '$\\delta(rc=0.8)$', ylabel='$\\delta(rc=1.2)$' , title = 'Predicitions of the Knn classifier')\n",
        "plt.scatter(*X_test[:,:2].T, c = Y_predict_knn)\n",
        "plt.show()\n",
        "\n",
        "\n",
        "plt.show()"
      ],
      "execution_count": null,
      "outputs": []
    },
    {
      "cell_type": "code",
      "metadata": {
        "id": "P6GRnLd-0-u3"
      },
      "source": [
        "from sklearn.metrics import classification_report\n",
        "clf_report = classification_report(Y_test, Y_predict_knn)\n",
        "print(clf_report)"
      ],
      "execution_count": null,
      "outputs": []
    },
    {
      "cell_type": "markdown",
      "metadata": {
        "id": "9SRmVOGm1FE6"
      },
      "source": [
        "### Validation Curve"
      ]
    },
    {
      "cell_type": "code",
      "metadata": {
        "id": "sbduuUqg1GpP"
      },
      "source": [
        "from sklearn.model_selection import validation_curve\n",
        "\n",
        "\n",
        "param_range = np.arange(1,30, 1)\n",
        "print(param_range)\n",
        "\n",
        "train_scores, test_scores = validation_curve(\n",
        "classifier, X=X, y=Y,cv=5, param_name=\"n_neighbors\", param_range=param_range,\n",
        "scoring=\"accuracy\", n_jobs=1)\n",
        "\n",
        "\n",
        "train_scores_mean = np.mean(train_scores, axis=1)\n",
        "test_scores_mean = np.mean(test_scores, axis=1)\n",
        "\n",
        "plt.plot(param_range, train_scores_mean,'r--',label = 'Training Score')\n",
        "plt.plot(param_range, test_scores_mean,'g--',label = 'Cross-validation score')\n",
        "\n",
        "plt.title('validation curve')\n",
        "plt.xlabel('# Neighbors')\n",
        "plt.ylabel('Score')\n",
        "plt.legend(loc='upper left')\n",
        "\n",
        "plt.show()"
      ],
      "execution_count": null,
      "outputs": []
    },
    {
      "cell_type": "markdown",
      "metadata": {
        "id": "794ELCS61Qtk"
      },
      "source": [
        "Optimal value of $n_{neighbor}$ = 28"
      ]
    },
    {
      "cell_type": "markdown",
      "metadata": {
        "id": "10GME4F-1Rd-"
      },
      "source": [
        "Run-Time vs. leaf-size\n"
      ]
    },
    {
      "cell_type": "code",
      "metadata": {
        "id": "bviM3RrC1URf"
      },
      "source": [
        "import time\n",
        "\n",
        "leaf_range = np.arange(1,40,1)\n",
        "\n",
        "t_time = np.array([])\n",
        "p_time = np.array([])\n",
        "\n",
        "for i in leaf_range:\n",
        "    print(i)\n",
        "    classifier = KNeighborsClassifier(n_neighbors=20 , leaf_size=i, p=2, metric='minkowski')\n",
        "    \n",
        "    start = time.time()\n",
        "    classifier.fit(X_train, Y_train)\n",
        "    stop = time.time()\n",
        "    t1 = stop - start\n",
        "    t_time = np.append(t_time , t1)\n",
        "    \n",
        "    start = time.time()\n",
        "    n = classifier.predict(X_test)\n",
        "    stop = time.time()\n",
        "    t2 = stop - start\n",
        "    p_time = np.append(p_time , t2)\n",
        "    \n",
        "plt.plot(leaf_range , t_time , 'b--' , label = 'Training time')\n",
        "plt.plot(leaf_range , p_time , 'r--' , label = 'Prediction time')\n",
        "plt.title('Leaf_size versus time')\n",
        "plt.xlabel('Leaf size')\n",
        "plt.ylabel('Time')\n",
        "plt.legend(loc='upper left')\n",
        "plt.show()"
      ],
      "execution_count": null,
      "outputs": []
    },
    {
      "cell_type": "markdown",
      "metadata": {
        "id": "ivki2DbV1ewE"
      },
      "source": [
        "### Learning Curve"
      ]
    },
    {
      "cell_type": "code",
      "metadata": {
        "id": "4Y0iyVwJ1gZZ"
      },
      "source": [
        "from sklearn.model_selection import learning_curve, validation_curve\n",
        "import pandas as pd\n",
        "train_sizes = np.arange(1000,48000,1000)\n",
        "\n",
        "print('learning started')\n",
        "ns_list, train_scores, validation_scores = learning_curve(\n",
        "                                                   estimator= classifier , X = X,\n",
        "                                                   y = Y, train_sizes = train_sizes, cv = 5, random_state = 0)\n",
        "\n",
        "print('Training scores:\\n\\n', pd.DataFrame( train_scores) )\n",
        "\n",
        "print('\\nValidation scores:\\n\\n', pd.DataFrame(validation_scores) )"
      ],
      "execution_count": null,
      "outputs": []
    },
    {
      "cell_type": "markdown",
      "metadata": {
        "id": "oKwCFu0l1mwC"
      },
      "source": [
        "Fine Tuning The Model"
      ]
    },
    {
      "cell_type": "code",
      "metadata": {
        "id": "IIXu__Ul1nPk"
      },
      "source": [
        "X_train, X_test, Y_train, Y_test  = train_test_split(X, Y, train_size = 25000 , random_state= 0)\n",
        "\n",
        "print(len(X_train))\n",
        "print(len(X_test))\n",
        "print(len(Y))"
      ],
      "execution_count": null,
      "outputs": []
    },
    {
      "cell_type": "code",
      "metadata": {
        "id": "tuKdtbLM1uUj"
      },
      "source": [
        "classifier = KNeighborsClassifier(n_neighbors=20 , leaf_size=30 , p=2, metric='minkowski')\n",
        "%t classifier.fit(X_train , Y_train)\n",
        "\n",
        "#Testing the classification on the test sample\n",
        "Y_predict_knn = classifier.predict(X_test)\n",
        "%t Y_predict_knn = classifier.predict(X_test)\n",
        "print(len(Y_test))\n",
        "print(len(Y_predict_knn[Y_predict_knn == 1]))"
      ],
      "execution_count": null,
      "outputs": []
    },
    {
      "cell_type": "code",
      "metadata": {
        "id": "hz6umQGe15Xh"
      },
      "source": [
        "from sklearn.metrics import classification_report\n",
        "clf_report = classification_report(Y_test, Y_predict_knn)\n",
        "print(clf_report)"
      ],
      "execution_count": null,
      "outputs": []
    },
    {
      "cell_type": "markdown",
      "metadata": {
        "id": "L9PRUl0r14qE"
      },
      "source": [
        "Metrics\n"
      ]
    },
    {
      "cell_type": "code",
      "metadata": {
        "id": "jkJDCtnZ1-Xx"
      },
      "source": [
        "from sklearn.metrics import confusion_matrix\n",
        "conf_matrix = confusion_matrix(Y_test , Y_predict_knn)\n",
        "print('Here is the confusion matrix for the Knn classifier: \\n'  )\n",
        "print('TP = {}'.format(conf_matrix[0][0]),'  FP = {}'.format(conf_matrix[0][1]) , '\\n')\n",
        "print('FN = {}'.format(conf_matrix[1][0]),'  TN = {}'.format(conf_matrix[1][1]) , '\\n')"
      ],
      "execution_count": null,
      "outputs": []
    },
    {
      "cell_type": "code",
      "metadata": {
        "id": "CHGoqGxt2zVn"
      },
      "source": [
        "import itertools\n",
        "\n",
        "class_names = {'IN' , 'OUT'}\n",
        "\n",
        "def plot_confusion_matrix(cm, classes,\n",
        "                          normalize=False,\n",
        "                          title='Confusion matrix',\n",
        "                          cmap=plt.cm.Blues):\n",
        "    \"\"\"\n",
        "    This function prints and plots the confusion matrix.\n",
        "    Normalization can be applied by setting `normalize=True`.\n",
        "    \"\"\"\n",
        "    plt.imshow(cm, interpolation='nearest', cmap=cmap)\n",
        "    plt.title(title)\n",
        "    plt.colorbar()\n",
        "    tick_marks = np.arange(len(classes))\n",
        "    plt.xticks(tick_marks, classes)\n",
        "    #, rotation=45)\n",
        "    plt.yticks(tick_marks, classes)\n",
        "\n",
        "    if normalize:\n",
        "        cm = cm.astype('float') / cm.sum(axis=1)[:, np.newaxis]\n",
        "        print(\"Normalized confusion matrix\")\n",
        "    else:\n",
        "        print('Confusion matrix, without normalization')\n",
        "\n",
        "    print(cm)\n",
        "\n",
        "    thresh = cm.max() / 2.\n",
        "    for i, j in itertools.product(range(cm.shape[0]), range(cm.shape[1])):\n",
        "        plt.text(j, i, round(cm[i, j],3),\n",
        "                 horizontalalignment='center',\n",
        "                 verticalalignment='center',\n",
        "                 #transform=ax.transAxes,\n",
        "                 fontsize = 13,\n",
        "                 color=\"white\" if cm[i, j] > thresh else \"black\")\n",
        "\n",
        "    plt.tight_layout()\n",
        "    plt.axis('equal')\n",
        "    plt.ylabel('True label')\n",
        "    plt.xlabel('Predicted label')\n",
        "\n",
        "# Compute confusion matrix\n",
        "# Plot non-normalized confusion matrix\n",
        "plt.figure()\n",
        "plot_confusion_matrix(conf_matrix, classes=class_names,\n",
        "                      title='Confusion matrix, without normalization')\n",
        "\n",
        "# Plot normalized confusion matrix\n",
        "plt.figure()\n",
        "plot_confusion_matrix(conf_matrix, classes=class_names, normalize=True,\n",
        "                      title='Normalized confusion matrix')\n",
        "\n",
        "plt.show()"
      ],
      "execution_count": null,
      "outputs": []
    },
    {
      "cell_type": "markdown",
      "metadata": {
        "id": "BFmoXe3G2jP6"
      },
      "source": [
        "Accuracy"
      ]
    },
    {
      "cell_type": "code",
      "metadata": {
        "id": "A8TNjwpU2k3l"
      },
      "source": [
        "acurracy = (conf_matrix[0][0]+conf_matrix[1][1])/(conf_matrix[0][0]+conf_matrix[0][1]+conf_matrix[1][0]+conf_matrix[1][1])\n",
        "print('The accuracy of the model is {}%' .format(round(acurracy*100, 3)))"
      ],
      "execution_count": null,
      "outputs": []
    },
    {
      "cell_type": "markdown",
      "metadata": {
        "id": "eJne6Fe22oaA"
      },
      "source": [
        "Recall"
      ]
    },
    {
      "cell_type": "code",
      "metadata": {
        "id": "1PlCg8OJ2pIW"
      },
      "source": [
        "from sklearn.metrics import recall_score, precision_score\n",
        "recall = recall_score(Y_test, Y_predict_knn, pos_label=0)\n",
        "precision = precision_score(Y_test, Y_predict_knn, pos_label = 0)\n",
        "print(f\"The recall for the Knn classifier: \\n {round(recall,3)}\"  )\n",
        "print(f\"The precision for Knn classifier: \\n {round(precision,3)}\"  )"
      ],
      "execution_count": null,
      "outputs": []
    },
    {
      "cell_type": "markdown",
      "metadata": {
        "id": "T0xEy-53217o"
      },
      "source": [
        "Precision - Recall curve"
      ]
    },
    {
      "cell_type": "code",
      "metadata": {
        "id": "Qxp-raPn24JT"
      },
      "source": [
        "Y_probs=classifier.predict_proba(X_test) \n",
        "print(Y_probs)\n",
        "print(Y_predict_knn)\n",
        "\n",
        "from sklearn.metrics import precision_recall_curve\n",
        "from sklearn.metrics import auc\n",
        "precision, recall, thresholds = precision_recall_curve(Y_test , Y_probs[:, 1]) \n",
        "\n",
        "#retrieve probability of being 1(in second column of Y_prob)\n",
        "pr_auc = auc(recall, precision)\n",
        "\n",
        "plt.title(\"Precision-Recall vs Threshold Chart\")\n",
        "plt.plot(thresholds, precision[: -1], \"b--\", label=\"Precision\")\n",
        "plt.plot(thresholds, recall[: -1], \"r--\", label=\"Recall\")\n",
        "plt.ylabel(\"Precision, Recall\")\n",
        "plt.xlabel(\"Threshold\")\n",
        "plt.legend(loc=\"lower left\")\n",
        "plt.ylim([0,1])\n",
        "plt.show()"
      ],
      "execution_count": null,
      "outputs": []
    },
    {
      "cell_type": "code",
      "metadata": {
        "id": "p-B20f5E3EHp"
      },
      "source": [
        "print(\"Best parameters set found on development set:\")\n",
        "print(trained_model.best_params_)\n",
        "print()\n",
        "# print(sorted(trained_model.cv_results_.keys()))\n",
        "print(trained_model.best_score_)\n",
        "# print(trained_model.cv_results_.mean_fit)\n",
        "\n",
        "print('-----------------')\n",
        "# print(Y_pred)\n",
        "print('\\nclassification report: \\n')\n",
        "from sklearn.metrics import classification_report\n",
        "print(classification_report(Y_test, Y_pred))\n",
        "\n",
        "EM4 = scoring\n",
        "mean_test_scores = trained_model.cv_results_.get('mean_test_score')\n",
        "CVS4 = mean_test_scores[trained_model.best_index_]\n",
        "CPS4 = trained_model.score(X_test, Y_test)\n",
        "T4 = runtime_train\n",
        "PT4 = runtime_pred\n",
        "print( \"Training Time was: \" + str(T4))\n",
        "print(\"Prediction Time was: \" + str(PT4))"
      ],
      "execution_count": null,
      "outputs": []
    },
    {
      "cell_type": "markdown",
      "metadata": {
        "id": "stCM-46_3cyE"
      },
      "source": [
        "# Decision Tree"
      ]
    },
    {
      "cell_type": "code",
      "metadata": {
        "id": "lMJ0xfvR3d_B"
      },
      "source": [
        "from sklearn.tree import DecisionTreeClassifier \n",
        "from sklearn import metrics\n",
        "\n",
        "clf = DecisionTreeClassifier(max_depth=20)\n",
        "\n",
        "%t clf.fit(x_train,y_train)\n",
        "\n",
        "y_pred_dt = clf.predict(x_test)\n",
        "%t y_pred_dt = clf.predict(x_test)\n",
        "\n",
        "print(metrics.accuracy_score(y_test, y_pred_dt))"
      ],
      "execution_count": null,
      "outputs": []
    },
    {
      "cell_type": "code",
      "metadata": {
        "id": "YdwLGWp23lyQ"
      },
      "source": [
        "clf = DecisionTreeClassifier(max_depth=20)\n",
        "clf = clf.fit(x_train,y_train)\n",
        "plt.scatter(x['den_contrast for 12.4'],x['den_contrast for 13.0'],c=clf.predict(x),s=15)\n",
        "plt.xlabel('$ \\delta_{12.4} $')\n",
        "plt.ylabel('$\\delta_{13.0} $')\n",
        "plt.title('Predicitions of the Decision Tree classifier')\n",
        "plt.show()"
      ],
      "execution_count": null,
      "outputs": []
    },
    {
      "cell_type": "markdown",
      "metadata": {
        "id": "Oiks4_IC3okC"
      },
      "source": [
        "### Validation Curve"
      ]
    },
    {
      "cell_type": "code",
      "metadata": {
        "id": "h6Izxp7q3sok"
      },
      "source": [
        "from sklearn.model_selection import validation_curve\n",
        "\n",
        "\n",
        "param_range = np.arange(1, 40, 1)\n",
        "\n",
        "train_scores, test_scores = validation_curve(\n",
        "    clf, X=x, y=y,cv=5, param_name=\"max_depth\", param_range=param_range,\n",
        "    scoring=\"accuracy\", n_jobs=1)\n",
        "\n",
        "\n",
        "train_scores_mean = np.mean(train_scores, axis=1)\n",
        "#train_scores_std = np.std(train_scores, axis=1)\n",
        "test_scores_mean = np.mean(test_scores, axis=1)\n",
        "#test_scores_std = np.std(test_scores, axis=1)\n",
        "\n",
        "plt.plot(param_range, train_scores_mean,'r--',label = 'Training Score')\n",
        "plt.plot(param_range, test_scores_mean,'g--',label = 'Cross-validation score')\n",
        "\n",
        "plt.title('validation curve')\n",
        "plt.xlabel('Tree max_depth')\n",
        "plt.ylabel('Score')\n",
        "plt.legend(loc='upper left')\n",
        "\n",
        "plt.show()\n"
      ],
      "execution_count": null,
      "outputs": []
    },
    {
      "cell_type": "markdown",
      "metadata": {
        "id": "VkuU1REJ30KZ"
      },
      "source": [
        "### Learning Curve"
      ]
    },
    {
      "cell_type": "code",
      "metadata": {
        "id": "t3A72t_6331s"
      },
      "source": [
        "from sklearn.model_selection import learning_curve\n",
        "\n",
        "clf = DecisionTreeClassifier(max_depth=6)\n",
        "clf.fit(x_train,y_train)\n",
        "\n",
        "train_sizes = np.arange(1000,48000,1000)\n",
        "\n",
        "#computing training score and validation score for each sample size cv times\n",
        "ns_list, train_scores, validation_scores = learning_curve(\n",
        "                                                   estimator= clf , X = x,\n",
        "                                                   y = y, train_sizes = train_sizes, cv = 5, random_state = 0)\n",
        "\n",
        "train_scores_mean = train_scores.mean(axis = 1)\n",
        "validation_scores_mean = validation_scores.mean(axis = 1)\n",
        "\n",
        "plt.title('Learning curve')\n",
        "plt.plot(ns_list[1:], train_scores_mean[1:],'r--',label = 'Training Score')\n",
        "plt.plot(ns_list[1:], validation_scores_mean[1:], 'g--', label = 'Validation Score')\n",
        "plt.xlabel('# Training samples')\n",
        "plt.ylabel('Score')\n",
        "plt.legend(loc='upper right')\n",
        "\n",
        "plt.show()"
      ],
      "execution_count": null,
      "outputs": []
    },
    {
      "cell_type": "markdown",
      "metadata": {
        "id": "lFmM5ifc366B"
      },
      "source": [
        "### Fine Tuning The Model"
      ]
    },
    {
      "cell_type": "code",
      "metadata": {
        "id": "l0rvlhra39ux"
      },
      "source": [
        "from sklearn.model_selection import train_test_split \n",
        "\n",
        "\n",
        "x = df.iloc[:,2:]\n",
        "y = df['in-halo']\n",
        "\n",
        "x_train, x_test, y_train, y_test = train_test_split(x, y, test_size=20000, random_state=1)\n",
        "\n",
        "clf = DecisionTreeClassifier(max_depth=6)\n",
        "\n",
        "%t clf.fit(x_train,y_train)\n",
        "\n",
        "y_pred_dt = clf.predict(x_test)\n",
        "%t y_pred_dt = clf.predict(x_test)\n",
        "\n",
        "print(metrics.accuracy_score(y_test, y_pred_dt))"
      ],
      "execution_count": null,
      "outputs": []
    },
    {
      "cell_type": "markdown",
      "metadata": {
        "id": "ZsGNQ0P23_z_"
      },
      "source": [
        "### Confusion Matrix"
      ]
    },
    {
      "cell_type": "code",
      "metadata": {
        "id": "jCRhXEnr4Dud"
      },
      "source": [
        "from sklearn.metrics import classification_report\n",
        "clf_report = classification_report(y_test, clf.predict(x_test))\n",
        "print(clf_report)"
      ],
      "execution_count": null,
      "outputs": []
    },
    {
      "cell_type": "code",
      "metadata": {
        "id": "7CGcQ7RH4INf"
      },
      "source": [
        "from sklearn.metrics import confusion_matrix\n",
        "print(confusion_matrix(y, clf.predict(x)))"
      ],
      "execution_count": null,
      "outputs": []
    },
    {
      "cell_type": "code",
      "metadata": {
        "id": "OXai3siF4KZb"
      },
      "source": [
        "import itertools\n",
        "\n",
        "conf=confusion_matrix(y, clf.predict(x))\n",
        "class_names = {'IN' , 'OUT'}\n",
        "\n",
        "def plot_confusion_matrix(cm, classes,\n",
        "                          normalize=False,\n",
        "                          title='Confusion matrix',\n",
        "                          cmap=plt.cm.Blues):\n",
        "    \"\"\"\n",
        "    This function prints and plots the confusion matrix.\n",
        "    Normalization can be applied by setting `normalize=True`.\n",
        "    \"\"\"\n",
        "    plt.imshow(cm, interpolation='nearest', cmap=cmap)\n",
        "    plt.title(title)\n",
        "    plt.colorbar()\n",
        "    tick_marks = np.arange(len(classes))\n",
        "    plt.xticks(tick_marks, classes)\n",
        "    #, rotation=45)\n",
        "    plt.yticks(tick_marks, classes)\n",
        "\n",
        "    if normalize:\n",
        "        cm = cm.astype('float') / cm.sum(axis=1)[:, np.newaxis]\n",
        "        print(\"Normalized confusion matrix\")\n",
        "    else:\n",
        "        print('Confusion matrix, without normalization')\n",
        "\n",
        "    print(cm)\n",
        "\n",
        "    thresh = cm.max() / 2.\n",
        "    for i, j in itertools.product(range(cm.shape[0]), range(cm.shape[1])):\n",
        "        plt.text(j, i, round(cm[i, j],3),\n",
        "                 horizontalalignment='center',\n",
        "                 verticalalignment='center',\n",
        "                 #transform=ax.transAxes,\n",
        "                 fontsize = 13,\n",
        "                 color=\"white\" if cm[i, j] > thresh else \"black\")\n",
        "\n",
        "    plt.tight_layout()\n",
        "    plt.axis('equal')\n",
        "    plt.ylabel('True label')\n",
        "    plt.xlabel('Predicted label')\n",
        "\n",
        "# Compute confusion matrix\n",
        "# Plot non-normalized confusion matrix\n",
        "plt.figure()\n",
        "plot_confusion_matrix(conf, classes=class_names,\n",
        "                      title='Confusion matrix, without normalization')\n",
        "\n",
        "# Plot normalized confusion matrix\n",
        "plt.figure()\n",
        "plot_confusion_matrix(conf, classes=class_names, normalize=True,\n",
        "                      title='Normalized confusion matrix')\n",
        "\n",
        "plt.show()"
      ],
      "execution_count": null,
      "outputs": []
    },
    {
      "cell_type": "code",
      "metadata": {
        "id": "OU2gp18n4NWd"
      },
      "source": [
        "from sklearn.metrics import recall_score, precision_score\n",
        "print(recall_score(y, clf.predict(x), pos_label=0))\n",
        "print(precision_score(y, clf.predict(x), pos_label = 0))"
      ],
      "execution_count": null,
      "outputs": []
    },
    {
      "cell_type": "markdown",
      "metadata": {
        "id": "PPTfDgVA4LRr"
      },
      "source": [
        "### Precision-Recall curve"
      ]
    },
    {
      "cell_type": "code",
      "metadata": {
        "id": "UZSYX46v4RcV"
      },
      "source": [
        "from sklearn.metrics import precision_recall_curve\n",
        "from sklearn.metrics import auc\n",
        "\n",
        "y_probs=clf.predict_proba(x_test) \n",
        "precision, recall, thresholds = precision_recall_curve(y_test , y_probs[:, 1]) \n",
        "thresholds=np.append(0,thresholds)\n",
        "\n",
        "area = auc(recall, precision)\n",
        "#print(area)\n",
        "\n",
        "plt.figure(figsize=(15, 15))\n",
        "ax1 = plt.subplot(221,xlabel='Threshold',ylabel='Precision, Recall' ,title='Precision-Recall vs Threshold')\n",
        "ax1.plot(thresholds, precision, \"b--\", label=\"Precision\")\n",
        "ax1.plot(thresholds, recall, \"r--\", label=\"Recall\")\n",
        "plt.legend(loc=\"lower left\",prop={'size': 15})\n",
        "\n",
        "ax2 = plt.subplot(222,title='Precision-Recall curve',xlabel='Recall',ylabel='Precision')\n",
        "ax2.plot( recall,precision,'g--',label='AUC={:.2f}'.format(area))\n",
        "ax2.set( ylim=(-.05, 1.05))\n",
        "plt.legend(loc=\"lower left\",prop={'size': 15})\n",
        "\n",
        "plt.show()"
      ],
      "execution_count": null,
      "outputs": []
    },
    {
      "cell_type": "code",
      "metadata": {
        "id": "UtIgXJxl4X_S"
      },
      "source": [
        "print(\"Best parameters set found on development set:\")\n",
        "print(trained_model.best_params_)\n",
        "print()\n",
        "# print(sorted(trained_model.cv_results_.keys()))\n",
        "print(trained_model.best_score_)\n",
        "# print(trained_model.cv_results_.mean_fit)\n",
        "\n",
        "print('-----------------')\n",
        "# print(Y_pred)\n",
        "print('\\nclassification report: \\n')\n",
        "from sklearn.metrics import classification_report\n",
        "print(classification_report(Y_test, Y_pred))\n",
        "\n",
        "EM5 = scoring\n",
        "mean_test_scores = trained_model.cv_results_.get('mean_test_score')\n",
        "CVS5 = mean_test_scores[trained_model.best_index_]\n",
        "CPS5 = trained_model.score(X_test, Y_test)\n",
        "T5 = runtime_train\n",
        "PT5 = runtime_pred\n",
        "print( \"Training Time was: \" + str(T5))\n",
        "print(\"Prediction Time was: \" + str(PT5))"
      ],
      "execution_count": null,
      "outputs": []
    },
    {
      "cell_type": "markdown",
      "metadata": {
        "id": "2_QYvVbZvixn"
      },
      "source": [
        "# Comparing Models"
      ]
    },
    {
      "cell_type": "markdown",
      "metadata": {
        "id": "Ybi6kJ3Uvixo"
      },
      "source": [
        "A table is created to compare the five recently-traind models above. It includes evaluation metric(s), training time and prediction time of each models. Also, we sorted models based on their performance from different aspects. "
      ]
    },
    {
      "cell_type": "code",
      "metadata": {
        "id": "HEhpPmF_vixo"
      },
      "source": [
        "table = pd.DataFrame({'Name':['Random Forest', 'SVM', 'Logestic Regression', 'KNN', 'Decision Tree'],\n",
        "                        'Evaluation Metric(s)': [EM1, EM2, EM3, EM4, EM5],\n",
        "                        'Corresponding Validation Score': [CVS1, CVS2, CVS3, CVS4, CVS5],\n",
        "                        'Corresponding Prediction Score':  [CPS1, CPS2, CPS3, CPS4, CPS5],\n",
        "                        'Training Time': [T1, T2, T3, T4, T5],\n",
        "                        'Prediction Time': [PT1, PT2, PT3, PT4, PT5],\n",
        "})\n",
        "\n",
        "print('Sort models based on their validation scores: \\n' + str(table.sort_values(by=['Corresponding Validation Score', ascending= False]).loc[:, ['Name', 'Corresponding Validation Score']))\n",
        "print('\\nSort models based on their prediction scores: \\n' + str(table.sort_values(by=['Corresponding Prediction Score', ascending= False]).loc[:, ['Name', 'Corresponding Prediction Score']))\n",
        "print('\\nSort models based on their validation scores: \\n' + str(table.sort_values(by=['Training Time', ascending= True]).loc[:, ['Name', 'Training Time']))\n",
        "print('\\nSort models based on their validation scores: \\n' + str(table.sort_values(by=['Prediction Time', ascending= True]).loc[:, ['Name', 'Prediction Time']))\n"
      ],
      "execution_count": null,
      "outputs": []
    }
  ]
}